{
 "cells": [
  {
   "cell_type": "code",
   "execution_count": null,
   "metadata": {},
   "outputs": [],
   "source": [
    "from selenium.webdriver.common.by import By\n",
    "from selenium.webdriver.support.ui import WebDriverWait \n",
    "from selenium.webdriver.support import expected_conditions as EC\n",
    "from selenium import webdriver\n",
    "from bs4 import BeautifulSoup\n",
    "import requests\n",
    "import time"
   ]
  },
  {
   "cell_type": "code",
   "execution_count": null,
   "metadata": {},
   "outputs": [],
   "source": [
    "import nltk\n",
    "from nltk import tokenize\n",
    "from nltk import word_tokenize\n",
    "from nltk import sent_tokenize"
   ]
  },
  {
   "cell_type": "code",
   "execution_count": null,
   "metadata": {},
   "outputs": [],
   "source": [
    "req = requests.get(\"https://www.lateja.cr/deportes/wilmer-lopez-va-por-el-bicampeonato-de-las-leonas/BQV6XK6E2BF23BLWYLVBFRONVE/story/\").content\n",
    "soup = BeautifulSoup(req, 'lxml')\n",
    "corpus = soup.find('div', id='article-content')\n",
    "print(corpus.text)"
   ]
  },
  {
   "cell_type": "code",
   "execution_count": null,
   "metadata": {},
   "outputs": [],
   "source": [
    "sentences = nltk.sent_tokenize(corpus.text.lower()) #lista de sentences"
   ]
  },
  {
   "cell_type": "code",
   "execution_count": null,
   "metadata": {},
   "outputs": [],
   "source": [
    "corpus = soup.find('div', id='article-content')\n",
    "print(corpus.text)\n",
    "\n",
    "#Foto: rafael pacheco\n",
    "#Lea tambien ....Luis Fernando saurez es uno de los que llama jugadores....\n",
    "\n",
    "#Lea tambien ....Luis Fernando saurez es uno de los que llama jugadores....\n",
    "cleancorpus = corpus.find_all('div', class_=\"container-fluid-recomend\") #la variables va por referencia\n",
    "\n",
    "x = 0\n",
    "for i in cleancorpus:\n",
    "    print(i)\n",
    "    i.clear()#i.div.decompose()\n",
    "    x=+1"
   ]
  },
  {
   "cell_type": "code",
   "execution_count": null,
   "metadata": {},
   "outputs": [],
   "source": [
    "tokens = nltk.word_tokenize(corpus.text)\n",
    "tokenito = nltk.sent_tokenize(corpus.text.lower())\n",
    "\n",
    "temp = \"\"\n",
    "\n",
    "corpus_tem=\"\"\n",
    "\n",
    "\n",
    "for i in tokenito:\n",
    "    \n",
    "    \n",
    "    if \"foto:\" in i: \n",
    "        text_tokens=(word_tokenize(i)[4:]) # elimina los primeros 4 tokens de la lista or \"#\" in i or........ i.#\"%,{}[]\" i.replace('')\n",
    "        \n",
    "        final_text=\"\" # realizamos un str temp \n",
    "        \n",
    "        for tk in text_tokens: \n",
    "            final_text += tk+ \" \" #unimos cada palabra de la lista a un str\n",
    "        \n",
    "        corpus_tem+=final_text #agregamos el str final a corpus\n",
    "        \n",
    "        \n",
    "        \n",
    "    else:\n",
    "        corpus_tem += i + \" \" # si no esta foto solo agrega la oracion al corpus."
   ]
  },
  {
   "cell_type": "code",
   "execution_count": null,
   "metadata": {},
   "outputs": [],
   "source": [
    "corpus_tem.strip() # \"compacta\" el texto de whitespaces a los lados"
   ]
  },
  {
   "cell_type": "markdown",
   "metadata": {},
   "source": [
    "# Crawling"
   ]
  },
  {
   "cell_type": "code",
   "execution_count": null,
   "metadata": {},
   "outputs": [],
   "source": [
    "Links:\n",
    "1.https://www.lateja.cr/deportes/video-aficionada-provoca-multitudinaria-caida-en/5RUFW6PF7JGPNF664AAPSQFJS4/story/\n",
    "2.https://www.lateja.cr/deportes/dixiana-mena-entrenadora-de-andrea-y-noelia-vargas/IP2M53FFPZGWHBPZVL32QSQJVY/story/\n",
    "3.https://www.lateja.cr/deportes/sorpresa-keylor-navas-no-esta-en-la-primera-lista/JHAARXLUI5A5NJ5SV7AKL4DF5Q/story/\n",
    "4.https://www.lateja.cr/deportes/paraguay-se-suena-a-chile-y-uruguay-manda-pa-la/PINRHGRIDVHCVMJZ5BFMHDMCOM/story/\n",
    "5.https://www.lateja.cr/deportes/saprissistas-danan-mural-en-honor-a-los-102-anos/T37ZVKCX4RAMHFKOYEBB3SWYEY/story/\n",
    "6.https://www.lateja.cr/deportes/video-delantero-manfred-ugalde-es-el-nuevo-jugador/ODPA7QNDMRAW7OWKISK7636SEM/story/\n",
    "7.https://www.lateja.cr/deportes/rodolfo-villalobos-no-voy-a-renunciar-se-lo-quiero/UM32YY6KSNHBVAN62B33UKWDKA/story/\n",
    "8.https://www.lateja.cr/deportes/horror-ortografico-en-la-chema-que-le-dieron-al/2KMVCSNPQJGWDNZ6H2QJRR3HJA/story/\n",
    "9.https://www.lateja.cr/deportes/luis-fernando-suarez-tecnico-de-la-sele-tenemos/PJY4FQSLEZBSTI4ZBTMP6CGXJA/story/\n",
    "10.https://www.lateja.cr/deportes/jossimar-pemberton-es-el-nuevo-jugador-de-saprissa/XJW5AWICIRCNZLXDYCVE55HXAE/story/\n",
    "11.https://www.lateja.cr/deportes/video-saprissa-femenino-esta-listo-para-jugar-el/T65UEOEE5FHB5I3FKGYUC6Z56A/story/\n",
    "12.https://www.lateja.cr/deportes/berny-ulloa-diego-maradona-siempre-fue-respetuoso/5J75QYS5HJAXTEWQUSU7U6EHVY/story/\n",
    "13.https://www.lateja.cr/deportes/vengo-con-mucha-ilusion-dijo-luis-fernando-suarez/ZN3HNUMTWZARVF4U6NGKIKNYR4/story/\n",
    "14.https://www.lateja.cr/deportes/torneo-de-apertura-comenzara-el-28-de-julio/DSRRVN54INB23FYYK5UAG32GUY/story/\n",
    "15.https://www.lateja.cr/deportes/david-ramirez-vuelve-al-saprissa/OUHFMGAIX5BMZCICTXND7G63CM/story/\n",
    "16.https://www.lateja.cr/deportes/messi-con-34-anos-a-saldar-una-cuenta-que-duele-en/M74FQLMHBJCNFPF5RGSM6THNTI/story/\n",
    "17.https://www.lateja.cr/deportes/llego-el-fichaje-bomba-del-saprissa-david-ramirez/ICEQ2DGP4NHXVLE2TVTAW7QV3I/story/\n",
    "18.https://www.lateja.cr/deportes/video-atleta-andrea-vargas-siempre-llevo-conmigo/IUUDICAPVBFQLCJGMPOCMHZLXE/story/\n",
    "19.https://www.lateja.cr/deportes/paraguay-se-suena-a-chile-y-uruguay-manda-pa-la/PINRHGRIDVHCVMJZ5BFMHDMCOM/story/\n",
    "20.https://www.lateja.cr/deportes/grupo-de-la-muerte-de-la-euro-francia-alemania-y/LV32SG6VOJBR7DJGKHP5ANEQGY/story/\n",
    "21.https://www.lateja.cr/deportes/alemania-es-puro-arcoiris-y-golea-a-la-uefa-en-la/27NW247WZZE35MFVJHRQJXNU4E/story/\n",
    "22.https://www.lateja.cr/deportes/la-pana-marta-cox-se-va-de-alajuelense/AT3W6ZDTSNA6BHOHLHJUSYQ6NY/story/\n",
    "23.https://www.lateja.cr/deportes/roman-torres-se-marcha-del-cartagines/RSRMGY6SABAKHETGBWSQZMNVQU/story/\n",
    "24.https://www.lateja.cr/deportes/wendy-acosta-decidio-colgar-los-tacos-al-futbol-le/J76F3PZDBJD3FJNQARO64FBKDM/story/\n",
    "25.https://www.lateja.cr/deportes/liga-llena-espacio-de-marta-cox-con-llegada-de-la/O3SO6BAGLBET5BBKDVZJ6AWCGM/story/\n",
    "26.https://www.lateja.cr/deportes/portero-hondureno-jose-mendoza-suarez-es-estricto/OKSCU6QJMFFL5DMDRYGLTJG6PY/story/\n",
    "27.https://www.lateja.cr/deportes/mariano-torres-le-trajo-a-masajista-morado-un/OXBD3HVWCZG3VGIHJMXLQWQJO4/story/\n",
    "28.https://www.lateja.cr/deportes/colombianos-han-dejado-buen-sabor-de-boca-en-el/EE42BVDXSFFL5K672PUOPBE4TI/story/\n",
    "29.https://www.lateja.cr/deportes/jugadores-de-24-a-29-anos-dominan-la-preseleccion/SMM4FRH74RFQDB5UUI2U5VGQ6Q/story/\n",
    "30.https://www.lateja.cr/deportes/fedefutbol-desmiente-plan-de-llevarse-mejenga/C76FTVSZ6FHDFBS5S55JAZ43MM/story/"
   ]
  },
  {
   "cell_type": "code",
   "execution_count": null,
   "metadata": {},
   "outputs": [],
   "source": [
    "links=[\n",
    "    \"https://www.lateja.cr/deportes/video-aficionada-provoca-multitudinaria-caida-en/5RUFW6PF7JGPNF664AAPSQFJS4/story/\",\n",
    "    \"https://www.lateja.cr/deportes/dixiana-mena-entrenadora-de-andrea-y-noelia-vargas/IP2M53FFPZGWHBPZVL32QSQJVY/story/\",\n",
    "    \"https://www.lateja.cr/deportes/sorpresa-keylor-navas-no-esta-en-la-primera-lista/JHAARXLUI5A5NJ5SV7AKL4DF5Q/story/\",\n",
    "    \"https://www.lateja.cr/deportes/paraguay-se-suena-a-chile-y-uruguay-manda-pa-la/PINRHGRIDVHCVMJZ5BFMHDMCOM/story/\",\n",
    "    \"https://www.lateja.cr/deportes/saprissistas-danan-mural-en-honor-a-los-102-anos/T37ZVKCX4RAMHFKOYEBB3SWYEY/story/\",\n",
    "    \"https://www.lateja.cr/deportes/video-delantero-manfred-ugalde-es-el-nuevo-jugador/ODPA7QNDMRAW7OWKISK7636SEM/story/\",\n",
    "    \"https://www.lateja.cr/deportes/rodolfo-villalobos-no-voy-a-renunciar-se-lo-quiero/UM32YY6KSNHBVAN62B33UKWDKA/story/\",\n",
    "    \"https://www.lateja.cr/deportes/horror-ortografico-en-la-chema-que-le-dieron-al/2KMVCSNPQJGWDNZ6H2QJRR3HJA/story/\",\n",
    "    \"https://www.lateja.cr/deportes/luis-fernando-suarez-tecnico-de-la-sele-tenemos/PJY4FQSLEZBSTI4ZBTMP6CGXJA/story/\",\n",
    "    \"https://www.lateja.cr/deportes/jossimar-pemberton-es-el-nuevo-jugador-de-saprissa/XJW5AWICIRCNZLXDYCVE55HXAE/story/\",\n",
    "    \"https://www.lateja.cr/deportes/video-saprissa-femenino-esta-listo-para-jugar-el/T65UEOEE5FHB5I3FKGYUC6Z56A/story/\",\n",
    "    \"https://www.lateja.cr/deportes/berny-ulloa-diego-maradona-siempre-fue-respetuoso/5J75QYS5HJAXTEWQUSU7U6EHVY/story/\",\n",
    "    \"https://www.lateja.cr/deportes/vengo-con-mucha-ilusion-dijo-luis-fernando-suarez/ZN3HNUMTWZARVF4U6NGKIKNYR4/story/\",\n",
    "    \"https://www.lateja.cr/deportes/torneo-de-apertura-comenzara-el-28-de-julio/DSRRVN54INB23FYYK5UAG32GUY/story/\",\n",
    "    \"https://www.lateja.cr/deportes/david-ramirez-vuelve-al-saprissa/OUHFMGAIX5BMZCICTXND7G63CM/story/\",\n",
    "    \"https://www.lateja.cr/deportes/messi-con-34-anos-a-saldar-una-cuenta-que-duele-en/M74FQLMHBJCNFPF5RGSM6THNTI/story/\",\n",
    "    \"https://www.lateja.cr/deportes/llego-el-fichaje-bomba-del-saprissa-david-ramirez/ICEQ2DGP4NHXVLE2TVTAW7QV3I/story/\",\n",
    "    \"https://www.lateja.cr/deportes/video-atleta-andrea-vargas-siempre-llevo-conmigo/IUUDICAPVBFQLCJGMPOCMHZLXE/story/\",\n",
    "    \"https://www.lateja.cr/deportes/paraguay-se-suena-a-chile-y-uruguay-manda-pa-la/PINRHGRIDVHCVMJZ5BFMHDMCOM/story/\",\n",
    "    \"https://www.lateja.cr/deportes/grupo-de-la-muerte-de-la-euro-francia-alemania-y/LV32SG6VOJBR7DJGKHP5ANEQGY/story/\",\n",
    "    \"https://www.lateja.cr/deportes/alemania-es-puro-arcoiris-y-golea-a-la-uefa-en-la/27NW247WZZE35MFVJHRQJXNU4E/story/\",\n",
    "    \"https://www.lateja.cr/deportes/la-pana-marta-cox-se-va-de-alajuelense/AT3W6ZDTSNA6BHOHLHJUSYQ6NY/story/\",\n",
    "    \"https://www.lateja.cr/deportes/roman-torres-se-marcha-del-cartagines/RSRMGY6SABAKHETGBWSQZMNVQU/story/\",\n",
    "    \"https://www.lateja.cr/deportes/wendy-acosta-decidio-colgar-los-tacos-al-futbol-le/J76F3PZDBJD3FJNQARO64FBKDM/story/\",\n",
    "    \"https://www.lateja.cr/deportes/liga-llena-espacio-de-marta-cox-con-llegada-de-la/O3SO6BAGLBET5BBKDVZJ6AWCGM/story/\",\n",
    "    \"https://www.lateja.cr/deportes/portero-hondureno-jose-mendoza-suarez-es-estricto/OKSCU6QJMFFL5DMDRYGLTJG6PY/story/\",\n",
    "    \"https://www.lateja.cr/deportes/mariano-torres-le-trajo-a-masajista-morado-un/OXBD3HVWCZG3VGIHJMXLQWQJO4/story/\"\n",
    "    \"https://www.lateja.cr/deportes/colombianos-han-dejado-buen-sabor-de-boca-en-el/EE42BVDXSFFL5K672PUOPBE4TI/story/\",\n",
    "    \"https://www.lateja.cr/deportes/jugadores-de-24-a-29-anos-dominan-la-preseleccion/SMM4FRH74RFQDB5UUI2U5VGQ6Q/story/\",\n",
    "    \"https://www.lateja.cr/deportes/fedefutbol-desmiente-plan-de-llevarse-mejenga/C76FTVSZ6FHDFBS5S55JAZ43MM/story/\"\n",
    "]"
   ]
  },
  {
   "cell_type": "code",
   "execution_count": null,
   "metadata": {},
   "outputs": [],
   "source": [
    "requests_links=[]\n",
    "for link in links:\n",
    "    requests_links.append(requests.get(link))"
   ]
  },
  {
   "cell_type": "code",
   "execution_count": null,
   "metadata": {},
   "outputs": [],
   "source": [
    "titulos = []\n",
    "articulos = []\n",
    "\n",
    "for resp in requests_links:\n",
    "    soup = BeautifulSoup(resp.text, 'lxml')\n",
    "    titulos.append(soup.find('div', class_='headline-hed-last').text)\n",
    "    cleancorpus = corpus.find_all('div', class_=\"container-fluid-recomend\")\n",
    "    for i in cleancorpus:\n",
    "        i.clear()#i.div.decompose()\n",
    "    articulos.append(corpus.text.lower().strip())"
   ]
  },
  {
   "cell_type": "code",
   "execution_count": null,
   "metadata": {},
   "outputs": [],
   "source": [
    "print(articulos[0])"
   ]
  },
  {
   "cell_type": "code",
   "execution_count": null,
   "metadata": {},
   "outputs": [],
   "source": [
    "final_texts = []\n",
    "for art in articulos:\n",
    "    clean_text = \"\"\n",
    "    sentences = sent_tokenize(art)\n",
    "    for sent in sentences:\n",
    "        if \"foto:\" in sent:\n",
    "            sent_tokens = word_tokenize(sent)[4:]\n",
    "            for token in sent_tokens:\n",
    "                clean_text += token + \" \"\n",
    "        else:\n",
    "            clean_text += sent + \" \"\n",
    "    final_texts.append(clean_text.strip())\n",
    "print(final_texts[0])"
   ]
  },
  {
   "cell_type": "markdown",
   "metadata": {},
   "source": [
    "# My spider"
   ]
  },
  {
   "cell_type": "code",
   "execution_count": null,
   "metadata": {},
   "outputs": [],
   "source": [
    "path = \"C:/Users/User/Desktop/CaamanitoProject/chromedriver.exe\"\n",
    "driver = webdriver.Chrome(executable_path = path)\n",
    "driver.get('https://www.lateja.cr/deportes/')\n",
    "time.sleep(3)\n",
    "for i in range(1,5):\n",
    "    driver.find_element_by_class_name('results__ReadMoreButton-p2qd4-0').click()\n",
    "    time.sleep(2)"
   ]
  },
  {
   "cell_type": "code",
   "execution_count": null,
   "metadata": {},
   "outputs": [],
   "source": [
    "corpus = BeautifulSoup(driver.page_source, 'lxml')\n",
    "results_sets=corpus.find_all('div', class_='results-list-container')\n",
    "links=[]\n",
    "for result_set in results_sets:\n",
    "    links+=result_set.find_all('a', href=True)\n",
    "\n",
    "print(len(links))\n",
    "count=1;\n",
    "links_article=[]\n",
    "for i in links:\n",
    "    if i.has_attr('href') and \"story\" in i['href'] and \"https://www.lateja.cr/\"+i['href'] not in links_article :\n",
    "        print(count,\"https://www.lateja.cr\"+i['href'])\n",
    "        links_article.append(\"https://www.lateja.cr/\"+i['href'])\n",
    "        count+=1"
   ]
  },
  {
   "cell_type": "markdown",
   "metadata": {},
   "source": [
    "## Accept cookies prompt"
   ]
  },
  {
   "cell_type": "code",
   "execution_count": null,
   "metadata": {},
   "outputs": [],
   "source": [
    "path = \"C:/Users/User/Desktop/CaamanitoProject/chromedriver.exe\"\n",
    "driver = webdriver.Chrome(executable_path = path)\n",
    "driver.get('https://www.sears.com/')\n",
    "time.sleep(2)\n",
    "driver.find_element_by_id('onetrust-accept-btn-handler').click()"
   ]
  },
  {
   "cell_type": "markdown",
   "metadata": {},
   "source": [
    "## Log in prompt"
   ]
  },
  {
   "cell_type": "code",
   "execution_count": null,
   "metadata": {
    "scrolled": true
   },
   "outputs": [],
   "source": [
    "path = \"C:/Users/User/Desktop/CaamanitoProject/chromedriver.exe\"\n",
    "driver = webdriver.Chrome(executable_path = path)\n",
    "wait=WebDriverWait(driver, 15)\n",
    "driver.get('https://www.lateja.cr')\n",
    "\n",
    "# registrarse button\n",
    "wait.until(EC.element_to_be_clickable((By.XPATH, \"/html/body/div/header/nav/div[1]/div[3]/div[2]/div[1]/div/button\"))).click()\n",
    "iframe = wait.until(EC.visibility_of_element_located((By.XPATH, \"/html/body/div[2]/div/iframe\"))); # can be used to find iframes with no name\n",
    "# iframe = driver.find_element_by_xpath(\"/html/body/div[2]/div/iframe\") \n",
    "driver.switch_to.frame(iframe)\n",
    "\n",
    "# pass and user inputs\n",
    "inputs = driver.find_elements_by_class_name('empty')\n",
    "driver.find_element_by_xpath('/html/body/app-main/app-widget/screen-layout/main/current-screen/div/screen-login/p[3]/input').send_keys('sergioajm29@hotmail.com')\n",
    "driver.find_element_by_xpath('/html/body/app-main/app-widget/screen-layout/main/current-screen/div/screen-login/p[4]/input').send_keys('Sergit096')\n",
    "wait.until(EC.element_to_be_clickable((By.XPATH, '/html/body/app-main/app-widget/screen-layout/main/current-screen/div/screen-login/p[6]/button'))).click()"
   ]
  },
  {
   "cell_type": "markdown",
   "metadata": {},
   "source": [
    "## TWITTER API"
   ]
  },
  {
   "cell_type": "code",
   "execution_count": null,
   "metadata": {},
   "outputs": [],
   "source": [
    "import tweepy\n",
    "\n",
    "auth = tweepy.AppAuthHandler('49W5SHoJ5lx52sW9qhmMLRzuT', '6VARdTppAn3ChhUllO1ntWokaSQ1DiTR5SBsRd2AL9aoegYjDR')\n",
    "api = tweepy.API(auth)\n",
    "for tweet in tweepy.Cursor(api.search_tweets, q='KeylorNavas').items(10):\n",
    "    print(tweet.text)"
   ]
  },
  {
   "cell_type": "code",
   "execution_count": 1,
   "metadata": {},
   "outputs": [
    {
     "name": "stdout",
     "output_type": "stream",
     "text": [
      "https://api.twitter.com/oauth/authorize?oauth_token=fvBz3gAAAAABUeaHAAABfK3Bbqg\n"
     ]
    }
   ],
   "source": [
    "import tweepy\n",
    "\n",
    "auth = tweepy.OAuthHandler('49W5SHoJ5lx52sW9qhmMLRzuT', '6VARdTppAn3ChhUllO1ntWokaSQ1DiTR5SBsRd2AL9aoegYjDR')\n",
    "auth_url = auth.get_authorization_url()\n",
    "print(auth_url)"
   ]
  },
  {
   "cell_type": "code",
   "execution_count": 2,
   "metadata": {},
   "outputs": [
    {
     "data": {
      "text/plain": [
       "('1032300061743620096-MvGVOfIHVojGKWlFN3imsbfRTwCRoD',\n",
       " 'vK5NFeCHrbLiTLY9uJNJH1hWAh82zkqxDcovFW7753laG')"
      ]
     },
     "execution_count": 2,
     "metadata": {},
     "output_type": "execute_result"
    }
   ],
   "source": [
    "auth.get_access_token('2138922') # This ID changes everytime above code is run"
   ]
  },
  {
   "cell_type": "code",
   "execution_count": 3,
   "metadata": {},
   "outputs": [
    {
     "name": "stdout",
     "output_type": "stream",
     "text": [
      "<class 'tweepy.cursor.Cursor'>\n"
     ]
    }
   ],
   "source": [
    "api = tweepy.API(auth)\n",
    "# new_status = api.update_status('Hello this is python, not sergio')\n",
    "#for tweet in tweepy.Cursor(api.user_timeline, screen_name='TeleticaTD7', exclude_replies=False).items(10):"
   ]
  },
  {
   "cell_type": "code",
   "execution_count": 5,
   "metadata": {},
   "outputs": [
    {
     "name": "stdout",
     "output_type": "stream",
     "text": [
      "<class 'tweepy.models.Status'>\n",
      "RT @oscartmoore: Un pueblo orgulloso por declarase ¨pura vida ¨ se convirtio en chorizero y corrupto. Ciudadanos perdieron el norte se deja…\n"
     ]
    }
   ],
   "source": [
    "### TESTING \n",
    "replies = []\n",
    "for tweet in tweepy.Cursor(api.search_tweets, q = 'CarlosAlvQ').items(1):\n",
    "    print(type(tweet))\n",
    "    print(tweet.text)"
   ]
  },
  {
   "cell_type": "code",
   "execution_count": null,
   "metadata": {},
   "outputs": [],
   "source": [
    "## GET COMMENTS SPECIFIC TWEET\n",
    "replies = []\n",
    "account = 'CarlosAlvQ'\n",
    "for full_tweets in tweepy.Cursor(api.user_timeline,screen_name=account).items(5):\n",
    "    for tweet in tweepy.Cursor(api.search_tweets, q = 'to:' + account + ' conversation_id:' + str(full_tweets.id)).items(10):\n",
    "        replies.append(tweet.text)\n",
    "    print(\"Tweet :\",full_tweets.text)\n",
    "    for elements in replies:\n",
    "        print(\"Replies :\",elements)\n",
    "    replies.clear() "
   ]
  },
  {
   "cell_type": "code",
   "execution_count": 25,
   "metadata": {},
   "outputs": [],
   "source": [
    "## GET TWEETS WITH A CERTAIN HASHTAG NEAR AREA or by country hashtag\n",
    "replies = []\n",
    "tweets = []\n",
    "hashtag = 'COVID19'\n",
    "country = 'Costa Rica'\n",
    "for full_tweets in tweepy.Cursor(api.search_tweets, q=f\"\"\"#{hashtag} -is:retweet since:2021-09-15\"\"\",lang = 'es', geocode = '9.972489,-84.033588,100km'): #\n",
    "    for tweet in tweepy.Cursor(api.search_tweets, q = 'to:' + full_tweets.user.screen_name + ' conversation_id:' + str(full_tweets.id)).items(10):\n",
    "        replies.append(tweet.text)\n",
    "    \n",
    "    print(\"Tweet :\",full_tweets.text)\n",
    "    print(\"TWEET INFO:\")\n",
    "    print(f\"\"\"TWEET creation time:{full_tweets.created_at }\"\"\")\n",
    "    print(f\"\"\"TWEET user:{full_tweets.user.screen_name }\"\"\") \n",
    "    for elements in replies:\n",
    "        print(\"Replies :\",elements)\n",
    "    replies.clear() "
   ]
  },
  {
   "cell_type": "code",
   "execution_count": null,
   "metadata": {},
   "outputs": [],
   "source": [
    "#"
   ]
  }
 ],
 "metadata": {
  "kernelspec": {
   "display_name": "Python 3",
   "language": "python",
   "name": "python3"
  },
  "language_info": {
   "codemirror_mode": {
    "name": "ipython",
    "version": 3
   },
   "file_extension": ".py",
   "mimetype": "text/x-python",
   "name": "python",
   "nbconvert_exporter": "python",
   "pygments_lexer": "ipython3",
   "version": "3.8.5"
  }
 },
 "nbformat": 4,
 "nbformat_minor": 4
}

{
 "cells": [
  {
   "cell_type": "code",
   "execution_count": 1,
   "metadata": {},
   "outputs": [],
   "source": [
    "import requests\n",
    "from bs4 import BeautifulSoup\n",
    "from selenium import webdriver\n",
    "import time"
   ]
  },
  {
   "cell_type": "code",
   "execution_count": 2,
   "metadata": {},
   "outputs": [],
   "source": [
    "import nltk\n",
    "from nltk import tokenize\n",
    "from nltk import word_tokenize\n",
    "from nltk import sent_tokenize"
   ]
  },
  {
   "cell_type": "code",
   "execution_count": 24,
   "metadata": {},
   "outputs": [
    {
     "ename": "AttributeError",
     "evalue": "'NoneType' object has no attribute 'text'",
     "output_type": "error",
     "traceback": [
      "\u001b[1;31m---------------------------------------------------------------------------\u001b[0m",
      "\u001b[1;31mAttributeError\u001b[0m                            Traceback (most recent call last)",
      "\u001b[1;32m<ipython-input-24-3b5a262af711>\u001b[0m in \u001b[0;36m<module>\u001b[1;34m\u001b[0m\n\u001b[0;32m      2\u001b[0m \u001b[0msoup\u001b[0m \u001b[1;33m=\u001b[0m \u001b[0mBeautifulSoup\u001b[0m\u001b[1;33m(\u001b[0m\u001b[0mreq\u001b[0m\u001b[1;33m,\u001b[0m \u001b[1;34m'lxml'\u001b[0m\u001b[1;33m)\u001b[0m\u001b[1;33m\u001b[0m\u001b[1;33m\u001b[0m\u001b[0m\n\u001b[0;32m      3\u001b[0m \u001b[0mcorpus\u001b[0m \u001b[1;33m=\u001b[0m \u001b[0msoup\u001b[0m\u001b[1;33m.\u001b[0m\u001b[0mfind\u001b[0m\u001b[1;33m(\u001b[0m\u001b[1;34m'div'\u001b[0m\u001b[1;33m,\u001b[0m \u001b[0mid\u001b[0m\u001b[1;33m=\u001b[0m\u001b[1;34m'article-content'\u001b[0m\u001b[1;33m)\u001b[0m\u001b[1;33m\u001b[0m\u001b[1;33m\u001b[0m\u001b[0m\n\u001b[1;32m----> 4\u001b[1;33m \u001b[0mprint\u001b[0m\u001b[1;33m(\u001b[0m\u001b[0mcorpus\u001b[0m\u001b[1;33m.\u001b[0m\u001b[0mtext\u001b[0m\u001b[1;33m)\u001b[0m\u001b[1;33m\u001b[0m\u001b[1;33m\u001b[0m\u001b[0m\n\u001b[0m",
      "\u001b[1;31mAttributeError\u001b[0m: 'NoneType' object has no attribute 'text'"
     ]
    }
   ],
   "source": [
    "req = requests.get(\"https://www.lateja.cr/deportes/wilmer-lopez-va-por-el-bicampeonato-de-las-leonas/BQV6XK6E2BF23BLWYLVBFRONVE/story/\").content\n",
    "soup = BeautifulSoup(req, 'lxml')\n",
    "corpus = soup.find('div', id='article-content')\n",
    "print(corpus.text)"
   ]
  },
  {
   "cell_type": "code",
   "execution_count": null,
   "metadata": {},
   "outputs": [],
   "source": [
    "sentences = nltk.sent_tokenize(corpus.text.lower()) #lista de sentences"
   ]
  },
  {
   "cell_type": "code",
   "execution_count": null,
   "metadata": {},
   "outputs": [],
   "source": [
    "corpus = soup.find('div', id='article-content')\n",
    "print(corpus.text)\n",
    "\n",
    "#Foto: rafael pacheco\n",
    "#Lea tambien ....Luis Fernando saurez es uno de los que llama jugadores....\n",
    "\n",
    "#Lea tambien ....Luis Fernando saurez es uno de los que llama jugadores....\n",
    "cleancorpus = corpus.find_all('div', class_=\"container-fluid-recomend\") #la variables va por referencia\n",
    "\n",
    "x = 0\n",
    "for i in cleancorpus:\n",
    "    print(i)\n",
    "    i.clear()#i.div.decompose()\n",
    "    x=+1"
   ]
  },
  {
   "cell_type": "code",
   "execution_count": null,
   "metadata": {},
   "outputs": [],
   "source": [
    "tokens = nltk.word_tokenize(corpus.text)\n",
    "tokenito = nltk.sent_tokenize(corpus.text.lower())\n",
    "\n",
    "temp = \"\"\n",
    "\n",
    "corpus_tem=\"\"\n",
    "\n",
    "\n",
    "for i in tokenito:\n",
    "    \n",
    "    \n",
    "    if \"foto:\" in i: \n",
    "        text_tokens=(word_tokenize(i)[4:]) # elimina los primeros 4 tokens de la lista or \"#\" in i or........ i.#\"%,{}[]\" i.replace('')\n",
    "        \n",
    "        final_text=\"\" # realizamos un str temp \n",
    "        \n",
    "        for tk in text_tokens: \n",
    "            final_text += tk+ \" \" #unimos cada palabra de la lista a un str\n",
    "        \n",
    "        corpus_tem+=final_text #agregamos el str final a corpus\n",
    "        \n",
    "        \n",
    "        \n",
    "    else:\n",
    "        corpus_tem += i + \" \" # si no esta foto solo agrega la oracion al corpus."
   ]
  },
  {
   "cell_type": "code",
   "execution_count": null,
   "metadata": {},
   "outputs": [],
   "source": [
    "corpus_tem.strip() # \"compacta\" el texto de whitespaces a los lados"
   ]
  },
  {
   "cell_type": "markdown",
   "metadata": {},
   "source": [
    "# Crawling"
   ]
  },
  {
   "cell_type": "code",
   "execution_count": null,
   "metadata": {},
   "outputs": [],
   "source": [
    "Links:\n",
    "1.https://www.lateja.cr/deportes/video-aficionada-provoca-multitudinaria-caida-en/5RUFW6PF7JGPNF664AAPSQFJS4/story/\n",
    "2.https://www.lateja.cr/deportes/dixiana-mena-entrenadora-de-andrea-y-noelia-vargas/IP2M53FFPZGWHBPZVL32QSQJVY/story/\n",
    "3.https://www.lateja.cr/deportes/sorpresa-keylor-navas-no-esta-en-la-primera-lista/JHAARXLUI5A5NJ5SV7AKL4DF5Q/story/\n",
    "4.https://www.lateja.cr/deportes/paraguay-se-suena-a-chile-y-uruguay-manda-pa-la/PINRHGRIDVHCVMJZ5BFMHDMCOM/story/\n",
    "5.https://www.lateja.cr/deportes/saprissistas-danan-mural-en-honor-a-los-102-anos/T37ZVKCX4RAMHFKOYEBB3SWYEY/story/\n",
    "6.https://www.lateja.cr/deportes/video-delantero-manfred-ugalde-es-el-nuevo-jugador/ODPA7QNDMRAW7OWKISK7636SEM/story/\n",
    "7.https://www.lateja.cr/deportes/rodolfo-villalobos-no-voy-a-renunciar-se-lo-quiero/UM32YY6KSNHBVAN62B33UKWDKA/story/\n",
    "8.https://www.lateja.cr/deportes/horror-ortografico-en-la-chema-que-le-dieron-al/2KMVCSNPQJGWDNZ6H2QJRR3HJA/story/\n",
    "9.https://www.lateja.cr/deportes/luis-fernando-suarez-tecnico-de-la-sele-tenemos/PJY4FQSLEZBSTI4ZBTMP6CGXJA/story/\n",
    "10.https://www.lateja.cr/deportes/jossimar-pemberton-es-el-nuevo-jugador-de-saprissa/XJW5AWICIRCNZLXDYCVE55HXAE/story/\n",
    "11.https://www.lateja.cr/deportes/video-saprissa-femenino-esta-listo-para-jugar-el/T65UEOEE5FHB5I3FKGYUC6Z56A/story/\n",
    "12.https://www.lateja.cr/deportes/berny-ulloa-diego-maradona-siempre-fue-respetuoso/5J75QYS5HJAXTEWQUSU7U6EHVY/story/\n",
    "13.https://www.lateja.cr/deportes/vengo-con-mucha-ilusion-dijo-luis-fernando-suarez/ZN3HNUMTWZARVF4U6NGKIKNYR4/story/\n",
    "14.https://www.lateja.cr/deportes/torneo-de-apertura-comenzara-el-28-de-julio/DSRRVN54INB23FYYK5UAG32GUY/story/\n",
    "15.https://www.lateja.cr/deportes/david-ramirez-vuelve-al-saprissa/OUHFMGAIX5BMZCICTXND7G63CM/story/\n",
    "16.https://www.lateja.cr/deportes/messi-con-34-anos-a-saldar-una-cuenta-que-duele-en/M74FQLMHBJCNFPF5RGSM6THNTI/story/\n",
    "17.https://www.lateja.cr/deportes/llego-el-fichaje-bomba-del-saprissa-david-ramirez/ICEQ2DGP4NHXVLE2TVTAW7QV3I/story/\n",
    "18.https://www.lateja.cr/deportes/video-atleta-andrea-vargas-siempre-llevo-conmigo/IUUDICAPVBFQLCJGMPOCMHZLXE/story/\n",
    "19.https://www.lateja.cr/deportes/paraguay-se-suena-a-chile-y-uruguay-manda-pa-la/PINRHGRIDVHCVMJZ5BFMHDMCOM/story/\n",
    "20.https://www.lateja.cr/deportes/grupo-de-la-muerte-de-la-euro-francia-alemania-y/LV32SG6VOJBR7DJGKHP5ANEQGY/story/\n",
    "21.https://www.lateja.cr/deportes/alemania-es-puro-arcoiris-y-golea-a-la-uefa-en-la/27NW247WZZE35MFVJHRQJXNU4E/story/\n",
    "22.https://www.lateja.cr/deportes/la-pana-marta-cox-se-va-de-alajuelense/AT3W6ZDTSNA6BHOHLHJUSYQ6NY/story/\n",
    "23.https://www.lateja.cr/deportes/roman-torres-se-marcha-del-cartagines/RSRMGY6SABAKHETGBWSQZMNVQU/story/\n",
    "24.https://www.lateja.cr/deportes/wendy-acosta-decidio-colgar-los-tacos-al-futbol-le/J76F3PZDBJD3FJNQARO64FBKDM/story/\n",
    "25.https://www.lateja.cr/deportes/liga-llena-espacio-de-marta-cox-con-llegada-de-la/O3SO6BAGLBET5BBKDVZJ6AWCGM/story/\n",
    "26.https://www.lateja.cr/deportes/portero-hondureno-jose-mendoza-suarez-es-estricto/OKSCU6QJMFFL5DMDRYGLTJG6PY/story/\n",
    "27.https://www.lateja.cr/deportes/mariano-torres-le-trajo-a-masajista-morado-un/OXBD3HVWCZG3VGIHJMXLQWQJO4/story/\n",
    "28.https://www.lateja.cr/deportes/colombianos-han-dejado-buen-sabor-de-boca-en-el/EE42BVDXSFFL5K672PUOPBE4TI/story/\n",
    "29.https://www.lateja.cr/deportes/jugadores-de-24-a-29-anos-dominan-la-preseleccion/SMM4FRH74RFQDB5UUI2U5VGQ6Q/story/\n",
    "30.https://www.lateja.cr/deportes/fedefutbol-desmiente-plan-de-llevarse-mejenga/C76FTVSZ6FHDFBS5S55JAZ43MM/story/"
   ]
  },
  {
   "cell_type": "code",
   "execution_count": null,
   "metadata": {},
   "outputs": [],
   "source": [
    "links=[\n",
    "    \"https://www.lateja.cr/deportes/video-aficionada-provoca-multitudinaria-caida-en/5RUFW6PF7JGPNF664AAPSQFJS4/story/\",\n",
    "    \"https://www.lateja.cr/deportes/dixiana-mena-entrenadora-de-andrea-y-noelia-vargas/IP2M53FFPZGWHBPZVL32QSQJVY/story/\",\n",
    "    \"https://www.lateja.cr/deportes/sorpresa-keylor-navas-no-esta-en-la-primera-lista/JHAARXLUI5A5NJ5SV7AKL4DF5Q/story/\",\n",
    "    \"https://www.lateja.cr/deportes/paraguay-se-suena-a-chile-y-uruguay-manda-pa-la/PINRHGRIDVHCVMJZ5BFMHDMCOM/story/\",\n",
    "    \"https://www.lateja.cr/deportes/saprissistas-danan-mural-en-honor-a-los-102-anos/T37ZVKCX4RAMHFKOYEBB3SWYEY/story/\",\n",
    "    \"https://www.lateja.cr/deportes/video-delantero-manfred-ugalde-es-el-nuevo-jugador/ODPA7QNDMRAW7OWKISK7636SEM/story/\",\n",
    "    \"https://www.lateja.cr/deportes/rodolfo-villalobos-no-voy-a-renunciar-se-lo-quiero/UM32YY6KSNHBVAN62B33UKWDKA/story/\",\n",
    "    \"https://www.lateja.cr/deportes/horror-ortografico-en-la-chema-que-le-dieron-al/2KMVCSNPQJGWDNZ6H2QJRR3HJA/story/\",\n",
    "    \"https://www.lateja.cr/deportes/luis-fernando-suarez-tecnico-de-la-sele-tenemos/PJY4FQSLEZBSTI4ZBTMP6CGXJA/story/\",\n",
    "    \"https://www.lateja.cr/deportes/jossimar-pemberton-es-el-nuevo-jugador-de-saprissa/XJW5AWICIRCNZLXDYCVE55HXAE/story/\",\n",
    "    \"https://www.lateja.cr/deportes/video-saprissa-femenino-esta-listo-para-jugar-el/T65UEOEE5FHB5I3FKGYUC6Z56A/story/\",\n",
    "    \"https://www.lateja.cr/deportes/berny-ulloa-diego-maradona-siempre-fue-respetuoso/5J75QYS5HJAXTEWQUSU7U6EHVY/story/\",\n",
    "    \"https://www.lateja.cr/deportes/vengo-con-mucha-ilusion-dijo-luis-fernando-suarez/ZN3HNUMTWZARVF4U6NGKIKNYR4/story/\",\n",
    "    \"https://www.lateja.cr/deportes/torneo-de-apertura-comenzara-el-28-de-julio/DSRRVN54INB23FYYK5UAG32GUY/story/\",\n",
    "    \"https://www.lateja.cr/deportes/david-ramirez-vuelve-al-saprissa/OUHFMGAIX5BMZCICTXND7G63CM/story/\",\n",
    "    \"https://www.lateja.cr/deportes/messi-con-34-anos-a-saldar-una-cuenta-que-duele-en/M74FQLMHBJCNFPF5RGSM6THNTI/story/\",\n",
    "    \"https://www.lateja.cr/deportes/llego-el-fichaje-bomba-del-saprissa-david-ramirez/ICEQ2DGP4NHXVLE2TVTAW7QV3I/story/\",\n",
    "    \"https://www.lateja.cr/deportes/video-atleta-andrea-vargas-siempre-llevo-conmigo/IUUDICAPVBFQLCJGMPOCMHZLXE/story/\",\n",
    "    \"https://www.lateja.cr/deportes/paraguay-se-suena-a-chile-y-uruguay-manda-pa-la/PINRHGRIDVHCVMJZ5BFMHDMCOM/story/\",\n",
    "    \"https://www.lateja.cr/deportes/grupo-de-la-muerte-de-la-euro-francia-alemania-y/LV32SG6VOJBR7DJGKHP5ANEQGY/story/\",\n",
    "    \"https://www.lateja.cr/deportes/alemania-es-puro-arcoiris-y-golea-a-la-uefa-en-la/27NW247WZZE35MFVJHRQJXNU4E/story/\",\n",
    "    \"https://www.lateja.cr/deportes/la-pana-marta-cox-se-va-de-alajuelense/AT3W6ZDTSNA6BHOHLHJUSYQ6NY/story/\",\n",
    "    \"https://www.lateja.cr/deportes/roman-torres-se-marcha-del-cartagines/RSRMGY6SABAKHETGBWSQZMNVQU/story/\",\n",
    "    \"https://www.lateja.cr/deportes/wendy-acosta-decidio-colgar-los-tacos-al-futbol-le/J76F3PZDBJD3FJNQARO64FBKDM/story/\",\n",
    "    \"https://www.lateja.cr/deportes/liga-llena-espacio-de-marta-cox-con-llegada-de-la/O3SO6BAGLBET5BBKDVZJ6AWCGM/story/\",\n",
    "    \"https://www.lateja.cr/deportes/portero-hondureno-jose-mendoza-suarez-es-estricto/OKSCU6QJMFFL5DMDRYGLTJG6PY/story/\",\n",
    "    \"https://www.lateja.cr/deportes/mariano-torres-le-trajo-a-masajista-morado-un/OXBD3HVWCZG3VGIHJMXLQWQJO4/story/\"\n",
    "    \"https://www.lateja.cr/deportes/colombianos-han-dejado-buen-sabor-de-boca-en-el/EE42BVDXSFFL5K672PUOPBE4TI/story/\",\n",
    "    \"https://www.lateja.cr/deportes/jugadores-de-24-a-29-anos-dominan-la-preseleccion/SMM4FRH74RFQDB5UUI2U5VGQ6Q/story/\",\n",
    "    \"https://www.lateja.cr/deportes/fedefutbol-desmiente-plan-de-llevarse-mejenga/C76FTVSZ6FHDFBS5S55JAZ43MM/story/\"\n",
    "]"
   ]
  },
  {
   "cell_type": "code",
   "execution_count": null,
   "metadata": {},
   "outputs": [],
   "source": [
    "requests_links=[]\n",
    "for link in links:\n",
    "    requests_links.append(requests.get(link))"
   ]
  },
  {
   "cell_type": "code",
   "execution_count": null,
   "metadata": {},
   "outputs": [],
   "source": [
    "titulos = []\n",
    "articulos = []\n",
    "\n",
    "for resp in requests_links:\n",
    "    soup = BeautifulSoup(resp.text, 'lxml')\n",
    "    titulos.append(soup.find('div', class_='headline-hed-last').text)\n",
    "    cleancorpus = corpus.find_all('div', class_=\"container-fluid-recomend\")\n",
    "    for i in cleancorpus:\n",
    "        i.clear()#i.div.decompose()\n",
    "    articulos.append(corpus.text.lower().strip())"
   ]
  },
  {
   "cell_type": "code",
   "execution_count": null,
   "metadata": {},
   "outputs": [],
   "source": [
    "print(articulos[0])"
   ]
  },
  {
   "cell_type": "code",
   "execution_count": null,
   "metadata": {},
   "outputs": [],
   "source": [
    "final_texts = []\n",
    "for art in articulos:\n",
    "    clean_text = \"\"\n",
    "    sentences = sent_tokenize(art)\n",
    "    for sent in sentences:\n",
    "        if \"foto:\" in sent:\n",
    "            sent_tokens = word_tokenize(sent)[4:]\n",
    "            for token in sent_tokens:\n",
    "                clean_text += token + \" \"\n",
    "        else:\n",
    "            clean_text += sent + \" \"\n",
    "    final_texts.append(clean_text.strip())\n",
    "print(final_texts[0])"
   ]
  },
  {
   "cell_type": "markdown",
   "metadata": {},
   "source": [
    "# My spider"
   ]
  },
  {
   "cell_type": "code",
   "execution_count": 3,
   "metadata": {},
   "outputs": [],
   "source": [
    "from selenium import webdriver\n",
    "from selenium.webdriver.common.keys import Keys"
   ]
  },
  {
   "cell_type": "code",
   "execution_count": 4,
   "metadata": {},
   "outputs": [],
   "source": [
    "from selenium.webdriver.common.by import By"
   ]
  },
  {
   "cell_type": "code",
   "execution_count": 5,
   "metadata": {},
   "outputs": [],
   "source": [
    "driver = webdriver.Firefox()\n",
    "driver.get('https://www.lateja.cr/deportes/')"
   ]
  },
  {
   "cell_type": "code",
   "execution_count": 6,
   "metadata": {},
   "outputs": [],
   "source": [
    "time.sleep(6)\n",
    "for i in range(5):\n",
    "    driver.find_element_by_class_name('see-more').click()\n",
    "    time.sleep(2)"
   ]
  },
  {
   "cell_type": "code",
   "execution_count": 7,
   "metadata": {},
   "outputs": [
    {
     "name": "stdout",
     "output_type": "stream",
     "text": [
      "355\n",
      "1 https://www.lateja.cr/deportes/andrey-amador-derrocho-esfuerzo-en-durisima/2ESCZFXOZBADJIGH2VGKWRYL6E/story/\n",
      "2 https://www.lateja.cr/deportes/surfista-tico-cali-munoz-corre-para-llegar-a-tokio/IBYDSBD5YRHPHEY7GTRLV3QAL4/story/\n",
      "3 https://www.lateja.cr/deportes/video-surfista-brisa-hennessy-quiere-darle-una/4DA5UDMZ7ZC7PBHGNC3QHOCQDY/story/\n",
      "4 https://www.lateja.cr/deportes/muy-bonita-la-presentacion-de-la-chema-morada-pero/LN6ZUW7OIZHHPPEL2E6MBU2Y6U/story/\n",
      "5 https://www.lateja.cr/deportes/video-rapero-snk-cumplio-un-deseo-de-nino-al/3BVX2YRNGBCF3G2YSE2OHHY7ZQ/story/\n",
      "6 https://www.lateja.cr/deportes/mama-de-gimnasta-luciana-alvarado-hay-que/W7VQQKIGWJEU7OIAI4M4XKLYQY/story/\n",
      "7 https://www.lateja.cr/deportes/jonathan-moya-espero-que-se-me-presente-una/PJHQUQNDP5HXDPXPGWUZZILFNY/story/\n",
      "8 https://www.lateja.cr/deportes/video-delegacion-tica-se-hizo-presente-en-el/IVKWFXKB35EPRFFVVY3AMDBSQI/story/\n",
      "9 https://www.lateja.cr/deportes/el-deporte-esta-de-fiesta-hoy-se-inauguraron-los/FQAXAN5S5VCGXFITBXTK7T7T3U/story/\n",
      "10 https://www.lateja.cr/deportes/monstruo-estrena-piel-asi-son-las-nuevas-chemas-de/K6JEFKIO5NCHNLKVZAYKWL2JHE/story/\n",
      "11 https://www.lateja.cr/deportes/fernan-faerron-desmiente-que-este-chiva-con-la/COXVTOZM5FBJJGQ7CXXHSL24HQ/story/\n",
      "12 https://www.lateja.cr/deportes/la-copa-bicentenario-sera-el-ultimo-fogueo-de/YS3243K3BBFILPYGY5K2RQMW4E/story/\n",
      "13 https://www.lateja.cr/deportes/jossimar-pemberton-delantero-de-saprissa-los/K4JLKW2L2NBJ7EBX2QOSY3FN2U/story/\n",
      "14 https://www.lateja.cr/deportes/video-ciclista-andrey-amador-esta-listo-para/65Y6C6IMHJBKPDNAXE36OULOTI/story/\n",
      "15 https://www.lateja.cr/deportes/herediano-tiene-en-la-mira-el-invicto-de-las/HBWDPCLUSJA2LGACMITR73NPTE/story/\n",
      "16 https://www.lateja.cr/deportes/kevin-briceno-por-llamado-a-copa-oro-fue-una/SIXQYJHG7JATHHOVHYTUNNXW64/story/\n",
      "17 https://www.lateja.cr/deportes/ausencia-de-patrick-sequeira-en-la-sele-aguevo-a/NPAHI3LBZNEY7I3KZVVLM22PTA/story/\n",
      "18 https://www.lateja.cr/deportes/video-gimnasta-luciana-alvarado-probo-los-aparatos/BXOASSEDCNFPJBLFI5FEZWWQGE/story/\n",
      "19 https://www.lateja.cr/deportes/con-trabajo-caracter-y-un-discurso-ganador-luis/SADZQLOXRZBPVDMNRDL6JY6DUA/story/\n",
      "20 https://www.lateja.cr/deportes/xinia-mejias-mama-del-portero-patrick-sequeira-nos/SJ27P7QJQNFDBDIIGL6DFY7GNI/story/\n",
      "21 https://www.lateja.cr/deportes/gimnastas-de-estados-unidos-salen-huyendo-de-villa/UDXT7EMQNVAXXPTQ3CYWS6QXZM/story/\n",
      "22 https://www.lateja.cr/deportes/judoca-ian-ignacio-sancho-competira-en-una-tierra/CWODYHVKWRHRHN7YK34FE3SB5E/story/\n",
      "23 https://www.lateja.cr/deportes/patrick-sequeira-queda-fuera-de-la-sele-y-su/W6ENR4XH25CQ7PFIEAC5SUGHTA/story/\n",
      "24 https://www.lateja.cr/deportes/video-taekwondista-tica-sustituira-a-chilena-a/ZZJ4ESJVJZECZCTV6CUMXVDVQU/story/\n",
      "25 https://www.lateja.cr/deportes/carta-de-un-morado-a-jc-rojas-nosotros-compramos/EUY7NMNH2RD27PXKRMQ5IYUFOA/story/\n",
      "26 https://www.lateja.cr/deportes/sorpresa-suecia-golea-a-estados-unidos-en-debut/S6GOSUHJOBDLHGP4JREKXS57UE/story/\n",
      "27 https://www.lateja.cr/deportes/saprissa-debutara-en-el-torneo-de-apertura-este/EZV2ZPBPL5FEZIDVFAU773RXW4/story/\n",
      "28 https://www.lateja.cr/deportes/conozca-a-los-perritos-que-se-robaron-el-corazon/VZFBRWV3HNHLZDHG2UB7AKIRGE/story/\n",
      "29 https://www.lateja.cr/deportes/beisbolista-ticoa-jake-perez-ya-conecto-sus-dos/X4M4YDNIX5AJZLUIRTBFRZDXKA/story/\n",
      "30 https://www.lateja.cr/deportes/luis-fernando-suarez-el-grupo-esta-bastante-bien/UXOPVJYWSFEPRH4OPBMMXL6W4E/story/\n",
      "31 https://www.lateja.cr/deportes/bryan-ruiz-algunos-no-entienden-que-mi-rol-es/RCHN5KNOUZHB7GMQUZKG4XHQTI/story/\n",
      "32 https://www.lateja.cr/deportes/a-patrick-sequeira-le-paso-lo-mismo-que-a-evaristo/N34HN4RPUFAORKUXMDPI3JOHPI/story/\n",
      "33 https://www.lateja.cr/deportes/portero-patrick-sequeira-no-podra-jugar-contra/FYFPNMR5EJHMXLJMCBA4JLV2EU/story/\n",
      "34 https://www.lateja.cr/deportes/periodista-de-espn-justifica-actitud-de-keylor/ZVURTMCLO5CPXAENWRCXQ2FKHQ/story/\n",
      "35 https://www.lateja.cr/deportes/por-dicha-la-sele-llega-clasificada-ante-jamaica/3OQ4UTXX6RF2PNPIKWTFSOFQDA/story/\n",
      "36 https://www.lateja.cr/deportes/luis-fernando-suarez-no-se-sorprende-del-nivel-de/BNZSTKSOLZGHNB5KKO2LSYEEGY/story/\n",
      "37 https://www.lateja.cr/deportes/guadalupe-se-frota-las-manos-por-una-posible-venta/RQJCZ7H3DJBZHAER26T4J4E4UY/story/\n",
      "38 https://www.lateja.cr/deportes/ciclista-tica-que-competira-en-las-olimpiadas-de/V2PWLLQ5PNC37AQTL6ACZ27DGU/story/\n",
      "39 https://www.lateja.cr/deportes/estados-unidos-madrugo-como-para-ir-a-vacunarse/HJ3NX7I6ZVGBXFCLJXNVAOL2LE/story/\n",
      "40 https://www.lateja.cr/deportes/nivel-que-mostraron-honduras-y-panama-asusta-a/LZQELQPXU5GHLB5AQKVQJJ544U/story/\n",
      "41 https://www.lateja.cr/deportes/los-veloces-de-la-sele-piden-campo/LJQUAMI4EJAWTMFMBZRIBNCPSI/story/\n",
      "42 https://www.lateja.cr/deportes/tokio-frente-al-temor-de-un-primer-brote-en-la/TKTBCBY4XZB4PHNKIRJCFYCAAU/story/\n",
      "43 https://www.lateja.cr/deportes/la-liga-se-dejo-el-clasico-femenino-con-una-jennie/2NQ7UTESQVDLBEJQZJ7FX2FHCM/story/\n",
      "44 https://www.lateja.cr/deportes/hice-ejercicio-y-no-quiero-volver-todo-me-duele/NYTPMGIXQBCSBJAWX2ZVW2YXCA/story/\n",
      "45 https://www.lateja.cr/deportes/diosa-barrett-y-jennie-lakip-cuentan-los-minutos/6VK4TSNG4FGVNF6Z5HI5VH5RAA/story/\n",
      "46 https://www.lateja.cr/deportes/manudos-dieron-el-visto-bueno-para-su-nueva/WPRWCX7ZAFAT3CLTHESWLZVHVY/story/\n",
      "47 https://www.lateja.cr/deportes/mama-de-francisco-calvo-le-falto-un-poco-de/LIFEPIXCYVDS5JISADMMHWVN4Q/story/\n",
      "48 https://www.lateja.cr/deportes/conozca-la-historia-de-amor-entre-un-brumoso-y-un/AI3YWS2TYFH6REQXHIDTSCDWCQ/story/\n",
      "49 https://www.lateja.cr/deportes/centroamerica-llega-a-tokio-muy-bien-representada/WGZO7DJFFREZ5KPTLYRK7H2DCY/story/\n",
      "50 https://www.lateja.cr/deportes/johan-venegas-personalmente-me-gusta-mucho-la-idea/VUXB75DYLFD2BJTZ4H6V6V6E7Q/story/\n",
      "51 https://www.lateja.cr/deportes/luis-fernando-suarez-le-dije-a-los-jugadores-que/MITIC4UWO5FPRL7767HYG3NRPY/story/\n",
      "52 https://www.lateja.cr/deportes/jamaica-sufrio-pero-le-gano-a-guadalupe-y/TJA6ZATPSBGEPANVWTMMFLFBIU/story/\n",
      "53 https://www.lateja.cr/deportes/randall-poveda-nuevo-presidente-de-la-comision-de/5GFBXZQV7REZPGDVNQ4TS2G65I/story/\n",
      "54 https://www.lateja.cr/deportes/aficionados-saprissistas-teniran-chepe-de-morado-y/I3Q2A2VQVNETXDZF2ZNZY2SHP4/story/\n",
      "55 https://www.lateja.cr/deportes/saprissa-femenino-se-juega-mucho-mas-que-tres/P37RYYMLJJE53IQAN5GG2APHYY/story/\n",
      "56 https://www.lateja.cr/deportes/familia-saprissista-esta-feliz-por-los-86-anos-del/MGYYUF4YVRBH3OSXT75FPMFIUE/story/\n",
      "57 https://www.lateja.cr/deportes/jugador-luis-diaz-se-dedico-a-construir-el-futuro/HHTQXBUWKZEIVKOHT5THPOPL5E/story/\n",
      "58 https://www.lateja.cr/deportes/saprissa-iniciara-la-preventa-de-su-nueva-chema/TIFF7CAFSRCUFOS7ANM47RFKRQ/story/\n",
      "59 https://www.lateja.cr/deportes/diputado-rodolfo-pena-esta-delicado-por-covid-19/RNK56ZPOBFGDRGY4QWRIQYDAKU/story/\n",
      "60 https://www.lateja.cr/deportes/socios-liguistas-podran-ver-en-realidad-virtual-el/EEBFJFTTPZHFJHFAGYFX6ATJMQ/story/\n",
      "61 https://www.lateja.cr/deportes/atletas-andrea-y-noelia-vargas-fueron-homenajeadas/LPEO7TD6MZC4RH5TDDFIHQA2LM/story/\n",
      "62 https://www.lateja.cr/deportes/luis-fernando-suarez-hara-cambios-tengo-que/6NK2JC6HPJC63LJJ5BBDLVTBSQ/story/\n",
      "63 https://www.lateja.cr/deportes/luis-suarez-lleva-a-la-sele-lentes-de-ultima/5SKK4Y6PVVEYHC6M6VV7MITW7Y/story/\n",
      "64 https://www.lateja.cr/deportes/leonas-buscaran-hundir-a-saprissa-en-clasico/XB3BEFMOPRHT7C5BFOD4PQQFTY/story/\n",
      "65 https://www.lateja.cr/deportes/mama-del-defensor-francisco-calvo-no-le-aguanta/DHRBT7GNBJHMDKIUACXE2FKFGM/story/\n",
      "66 https://www.lateja.cr/deportes/doblete-de-funes-mori-lleva-a-mexico-a-su-primer/7HZ6QHHUWFEAJH3VKIE5N3STUM/story/\n",
      "67 https://www.lateja.cr/deportes/sele-de-futsala-tendra-tres-fogueos-la-proxima/LSMXBJUZ4BBDFPYYFZKZ73LRKQ/story/\n",
      "68 https://www.lateja.cr/deportes/ronald-gomez-a-surinam-no-hay-que-darle-la-pelota/A6WM6GUMERA77GBWCPEFZORSWU/story/\n",
      "69 https://www.lateja.cr/deportes/video-orlando-sinclair-dice-que-la-renovacion-con/NFCFBLUJ6VACDC2UT5I4PVRWXQ/story/\n",
      "70 https://www.lateja.cr/deportes/keylor-navas-empezo-a-temblar-con-la-firma-de/ELJZY5KCE5EW7MEQGIVDQKBRTM/story/\n",
      "71 https://www.lateja.cr/deportes/roy-lassiter-al-entrenador-luis-fernando-suarez-no/ARBI5X62ZVEQPD6YLLGFG6NVJY/story/\n",
      "72 https://www.lateja.cr/deportes/al-volante-christopher-nunez-le-esta-costando/LBCLV37IKRHOVHQI3RX5A5OT2U/story/\n",
      "73 https://www.lateja.cr/deportes/exarbitro-azteca-armando-archundia-dice-que-huella/KM66WMPJSFEO5L544UXN5TMQFA/story/\n",
      "74 https://www.lateja.cr/deportes/video-atleta-arnoldo-herrera-nado-contra-corriente/SKV2NN2E2JD4FIL56P3XID4TUM/story/\n",
      "75 https://www.lateja.cr/deportes/kendall-waston-respetamos-y-sabemos-de-la-calidad/BZC7T35PQZC2LIRNY2GZMTUI4M/story/\n",
      "76 https://www.lateja.cr/deportes/luis-fernando-suarez-a-bryan-ruiz-le-falta-un-poco/CMXBBTZYEFCC3AHVDBT7KFQ35E/story/\n",
      "77 https://www.lateja.cr/deportes/costa-rica-estreno-el-var-en-la-copa-oro/L4WDUKQXWNDDREY6V3YJILC63Y/story/\n",
      "78 https://www.lateja.cr/deportes/jamaica-le-pone-un-poquito-de-reggae-a-la-copa-oro/PE2IRI7D3BAFHLVGOPTTCIGTQE/story/\n",
      "79 https://www.lateja.cr/deportes/mexico-pide-inhabilitar-al-arbitro-costarricense/2CDMVDRVDJBRNI5GAGKKZ7RNIE/story/\n",
      "80 https://www.lateja.cr/deportes/tio-sam-sufrio-mas-de-la-cuenta-para-derrotar-a/D543WGANYNBN7DDKUZMH6LL6SM/story/\n",
      "81 https://www.lateja.cr/deportes/heredianas-ganan-y-le-ponen-sabor-a-la-lucha-por/MRRUMJAHQNHJ3O7VZAX2TV2TAI/story/\n",
      "82 https://www.lateja.cr/deportes/alajuelense-regresa-doblemente-vacunado-de-sus/PYTU75VB3ZC4VE7SYUACQMHD3Q/story/\n",
      "83 https://www.lateja.cr/deportes/prensa-mexicana-esta-furiosa-con-su-seleccion-por/VZB5PMGSVZGWZH2W4PRNDKKWMM/story/\n",
      "84 https://www.lateja.cr/deportes/video-hirving-el-chucky-lozano-vera-el-resto-de-la/HRNGZESFWFBFROO7KMVJZ5TTJA/story/\n",
      "85 https://www.lateja.cr/deportes/gianluigi-donnarumma-es-el-heroe-de-la-italia/VK752IFQYNF6BD3WEVDXQWL25I/story/\n"
     ]
    }
   ],
   "source": [
    "corpus = BeautifulSoup(driver.page_source, 'lxml')\n",
    "results_sets=corpus.find_all('div', class_='results-list-container')\n",
    "links=[]\n",
    "for result_set in results_sets:\n",
    "    links+=result_set.find_all('a', href=True)\n",
    "\n",
    "print(len(links))\n",
    "count=1;\n",
    "links_article=[]\n",
    "for i in links:\n",
    "    if i.has_attr('href') and \"story\" in i['href'] and \"https://www.lateja.cr/\"+i['href'] not in links_article :\n",
    "        print(count,\"https://www.lateja.cr\"+i['href'])\n",
    "        links_article.append(\"https://www.lateja.cr/\"+i['href'])\n",
    "        count+=1"
   ]
  },
  {
   "cell_type": "code",
   "execution_count": 8,
   "metadata": {},
   "outputs": [
    {
     "name": "stdout",
     "output_type": "stream",
     "text": [
      "https://www.lateja.cr//deportes/andrey-amador-derrocho-esfuerzo-en-durisima/2ESCZFXOZBADJIGH2VGKWRYL6E/story/\n"
     ]
    }
   ],
   "source": [
    "print(links_article[0])"
   ]
  },
  {
   "cell_type": "code",
   "execution_count": 109,
   "metadata": {},
   "outputs": [],
   "source": [
    "for resps in requests_links:\n",
    "    soup = webdriver.Firefox()\n",
    "    titulo = driver.find_element_by_class_name('primary-font__PrimaryFontStyles-o56yd5-0 gXYmhO headline').text\n",
    "    body = soup.find('div', id='article-content').text\n",
    "    titulo_L.append(title)"
   ]
  },
  {
   "cell_type": "code",
   "execution_count": 16,
   "metadata": {},
   "outputs": [],
   "source": [
    "driver.get(links_article[0])"
   ]
  },
  {
   "cell_type": "code",
   "execution_count": 17,
   "metadata": {},
   "outputs": [
    {
     "data": {
      "text/plain": [
       "'Andrey Amador derrochó esfuerzo en durísima carrera de ciclismo'"
      ]
     },
     "execution_count": 17,
     "metadata": {},
     "output_type": "execute_result"
    }
   ],
   "source": [
    "titulo = driver.find_element_by_tag_name('h1').text\n",
    "titulo"
   ]
  },
  {
   "cell_type": "code",
   "execution_count": 18,
   "metadata": {},
   "outputs": [
    {
     "data": {
      "text/plain": [
       "'El costarricense Andrey Amador tuvo una destacada participación en la carrera de ciclismo de Tokio 2020 que comenzó en la noche del viernes y terminó a eso de las 2:30 a. m. del sábado, hora tica.\\nEl ciclista nacional llegó con un retraso de más de 16 minutos, sin embargo, hizo una muy buena carrera, sobre todo en su primera parte, pero le pasó factura el gran esfuerzo que hizo y poco antes de los 60 kilómetros de carrera perdió el paso. El tiempo final fue de 6:21:46 y el puesto fue el 68.\\nAndrey Amador en Tokio, Juegos Olímpicos Costa Rica está muy orgullosa con la labor del ciclista tico. CON\\nEl recorrido inició en Musashinonomori Park y finalizó en Fuji International Speedway e incluyó las subidas a Mikuni Pass y al Monte Fuji, puntos donde los escaladores intentaron sacar diferencia.\\nEcuador ganó el oro con Richard Carapaz. AFP Ecuador ganó el oro con Richard Carapaz. AFP (JEFF PACHOUD/AFP)\\nLa medalla de oro fue ganada por Richard Carapaz de Ecuador, con 6:05:26, luego entró el belga Wout van Aert con 6:06:36 y la medalla de bronce fue para Tadej Pogacar con el mismo tiempo.\\nAndrey Amador hizo una muy buena carrera. CON Andrey Amador hizo una muy buena carrera. CON'"
      ]
     },
     "execution_count": 18,
     "metadata": {},
     "output_type": "execute_result"
    }
   ],
   "source": [
    "#vamos a extraer el corpus del articulo\n",
    "cuerpo = driver.find_element_by_tag_name('article').text\n",
    "cuerpo"
   ]
  },
  {
   "cell_type": "code",
   "execution_count": null,
   "metadata": {},
   "outputs": [],
   "source": [
    "#sacar la fecha y el autor"
   ]
  }
 ],
 "metadata": {
  "kernelspec": {
   "display_name": "Python 3",
   "language": "python",
   "name": "python3"
  },
  "language_info": {
   "codemirror_mode": {
    "name": "ipython",
    "version": 3
   },
   "file_extension": ".py",
   "mimetype": "text/x-python",
   "name": "python",
   "nbconvert_exporter": "python",
   "pygments_lexer": "ipython3",
   "version": "3.8.5"
  }
 },
 "nbformat": 4,
 "nbformat_minor": 4
}

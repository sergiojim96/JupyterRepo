{
 "cells": [
  {
   "cell_type": "code",
   "execution_count": 1,
   "metadata": {},
   "outputs": [],
   "source": [
    "import requests\n",
    "from bs4 import BeautifulSoup"
   ]
  },
  {
   "cell_type": "code",
   "execution_count": 2,
   "metadata": {},
   "outputs": [],
   "source": [
    "import nltk\n",
    "from nltk import tokenize\n",
    "from nltk import word_tokenize\n",
    "from nltk import sent_tokenize"
   ]
  },
  {
   "cell_type": "code",
   "execution_count": 3,
   "metadata": {},
   "outputs": [
    {
     "name": "stdout",
     "output_type": "stream",
     "text": [
      "          Las leonas de la mano de Wílmer López llegaron al título el semestre anterior. Foto: Rafael Pacheco        Durante casi todo el torneo pasado, Wílmer López estuvo en la mira de muchos aficionados que no lo creían como el idóneo para dirigir al equipo femenino de Liga Deportiva Alajuelense.      Al final el tiempo le dio la razón al Pato, quien demostró que puede ser ídolo de distintas maneras. El exjugador alzó el título de campeón con las leonas, corona que deberán defender desde este sábado cuando las rojinegras vuelvan a la cancha ante Dimás Escazú.      Ganar el título el torneo anterior da confianza a su trabajo, la cual siempre tuvo de parte de la directiva, que lo sostuvo a pesar de las críticas, pero tiene clarísimo que el reto que le avecina ahora es más fuerte.      “Hay que exigirle a las muchachas que rindan, que cumplan, que vayan por todo y en la Liga no puede ser la excepción, más ahora que ya lo conseguimos, la gente va a estar esperando cada vez más de la institución, máxime por los refuerzos que amarramos, son cosas que nos obligan a hacerlo aún mejor en este torneo”, comentó López a La Teja.      Para este semestre las leonas se reforzaron con la portera Noelia Bermúdez, la delantera estadounidense Jennie Lakip, la volante panameña Natalia Mills y la volante tica de 17 años María Paula Arce, fichaje que se anunció este viernes.        LEA TAMBIÉN (Video) Portera Noelia Bermúdez vuelve a Alajuelense: “Nunca dejé de seguir al equipo”         “Es muy bonito tener una planilla competitiva, de buenas jugadoras, porque se la complican al entrenador, yo sé entonces que sea cual sea la que escoja, tiene calidad, el beneficio será directamente para la institución. La competencia interna es la que más exige a la jugadora para ser tomada en cuenta y rendir partido a partido”, añadió el Pato.      Tranquilidad            El Pató López le pagó con un campeonato la confianza a Fernando Ocampo. Foto: Rafael Pacheco       Wílmer dice que se enteró de que otros entrenadores mandaron su currículum al club, pensando que pronto se lo iban a volar, pero ni eso lo hizo perder la confianza. Para él su carrera como entrenador en general ha tenido cosas muy positivas.      “Si usted cree que como entrenador no lo van a criticar, se equivocó de profesión. Yo me di cuenta de colegas entrenadores que llamaron a ofrecerse al club, a decir que ellos estaban disponibles por si me despedían, diciendo que a uno le faltaba experiencia, cosas antiéticas, pero se dieron.      “En eso tengo que agradecer a la dirigencia el apoyo a mi persona, es parte de las cosas que se viven en el fútbol, ¿quién no quiere ser entrenador en Liga Deportiva Alajuelense de cualquier categoría?”.      Wílmer tiene apenas siete meses en el fútbol femenino y ya tiene un campeonato, con o sin críticas, ahí está el título.      “A mí (las críticas) no me molestaron, el aficionado solo quiere resultados positivos y no mide a veces otras cosas. Cuando dirigí el equipo masculino tenía una planilla que si clasificaba había que darle un premio, era con ciertas limitaciones y el paso mío lo aproveché para debutar jugadores que hoy lucen como protagonistas en el fútbol nacional. La gente lo que ve son resultados, nada más.      “La gente tampoco recuerda mi paso por Alajuela Junior (equipo manudo de segunda división) que era un equipo de jugadores jóvenes y el objetivo era proyectarlos, el caso de Ronald Matarrita, Juan Pablo Vargas, José Guillermo Ortíz, Francisco Rodríguez, Kevin Ruiz, Anthony López, una camada de jugadores a los que le dimos oportunidad de desarrollarse” comentó.      Desde este sábado el Pato va por otro título más, porque a como ha sido su carrera, es un león que no se sacia con nada.   \n"
     ]
    }
   ],
   "source": [
    "req = requests.get(\"https://www.lateja.cr/deportes/wilmer-lopez-va-por-el-bicampeonato-de-las-leonas/BQV6XK6E2BF23BLWYLVBFRONVE/story/\").content\n",
    "soup = BeautifulSoup(req, 'lxml')\n",
    "corpus = soup.find('div', id='article-content')\n",
    "print(corpus.text)"
   ]
  },
  {
   "cell_type": "code",
   "execution_count": 7,
   "metadata": {},
   "outputs": [],
   "source": [
    "sentences = nltk.sent_tokenize(corpus.text.lower()) #lista de sentences"
   ]
  },
  {
   "cell_type": "code",
   "execution_count": 5,
   "metadata": {},
   "outputs": [
    {
     "name": "stdout",
     "output_type": "stream",
     "text": [
      "          Las leonas de la mano de Wílmer López llegaron al título el semestre anterior. Foto: Rafael Pacheco        Durante casi todo el torneo pasado, Wílmer López estuvo en la mira de muchos aficionados que no lo creían como el idóneo para dirigir al equipo femenino de Liga Deportiva Alajuelense.      Al final el tiempo le dio la razón al Pato, quien demostró que puede ser ídolo de distintas maneras. El exjugador alzó el título de campeón con las leonas, corona que deberán defender desde este sábado cuando las rojinegras vuelvan a la cancha ante Dimás Escazú.      Ganar el título el torneo anterior da confianza a su trabajo, la cual siempre tuvo de parte de la directiva, que lo sostuvo a pesar de las críticas, pero tiene clarísimo que el reto que le avecina ahora es más fuerte.      “Hay que exigirle a las muchachas que rindan, que cumplan, que vayan por todo y en la Liga no puede ser la excepción, más ahora que ya lo conseguimos, la gente va a estar esperando cada vez más de la institución, máxime por los refuerzos que amarramos, son cosas que nos obligan a hacerlo aún mejor en este torneo”, comentó López a La Teja.      Para este semestre las leonas se reforzaron con la portera Noelia Bermúdez, la delantera estadounidense Jennie Lakip, la volante panameña Natalia Mills y la volante tica de 17 años María Paula Arce, fichaje que se anunció este viernes.        LEA TAMBIÉN (Video) Portera Noelia Bermúdez vuelve a Alajuelense: “Nunca dejé de seguir al equipo”         “Es muy bonito tener una planilla competitiva, de buenas jugadoras, porque se la complican al entrenador, yo sé entonces que sea cual sea la que escoja, tiene calidad, el beneficio será directamente para la institución. La competencia interna es la que más exige a la jugadora para ser tomada en cuenta y rendir partido a partido”, añadió el Pato.      Tranquilidad            El Pató López le pagó con un campeonato la confianza a Fernando Ocampo. Foto: Rafael Pacheco       Wílmer dice que se enteró de que otros entrenadores mandaron su currículum al club, pensando que pronto se lo iban a volar, pero ni eso lo hizo perder la confianza. Para él su carrera como entrenador en general ha tenido cosas muy positivas.      “Si usted cree que como entrenador no lo van a criticar, se equivocó de profesión. Yo me di cuenta de colegas entrenadores que llamaron a ofrecerse al club, a decir que ellos estaban disponibles por si me despedían, diciendo que a uno le faltaba experiencia, cosas antiéticas, pero se dieron.      “En eso tengo que agradecer a la dirigencia el apoyo a mi persona, es parte de las cosas que se viven en el fútbol, ¿quién no quiere ser entrenador en Liga Deportiva Alajuelense de cualquier categoría?”.      Wílmer tiene apenas siete meses en el fútbol femenino y ya tiene un campeonato, con o sin críticas, ahí está el título.      “A mí (las críticas) no me molestaron, el aficionado solo quiere resultados positivos y no mide a veces otras cosas. Cuando dirigí el equipo masculino tenía una planilla que si clasificaba había que darle un premio, era con ciertas limitaciones y el paso mío lo aproveché para debutar jugadores que hoy lucen como protagonistas en el fútbol nacional. La gente lo que ve son resultados, nada más.      “La gente tampoco recuerda mi paso por Alajuela Junior (equipo manudo de segunda división) que era un equipo de jugadores jóvenes y el objetivo era proyectarlos, el caso de Ronald Matarrita, Juan Pablo Vargas, José Guillermo Ortíz, Francisco Rodríguez, Kevin Ruiz, Anthony López, una camada de jugadores a los que le dimos oportunidad de desarrollarse” comentó.      Desde este sábado el Pato va por otro título más, porque a como ha sido su carrera, es un león que no se sacia con nada.   \n",
      "<div class=\"container-fluid-recomend\"> <div class=\"border-intersitial-top\"></div> <div class=\"col-12\"> <h3>LEA TAMBIÉN</h3> <p><a class=\"item-track\" data-action=\"interstitial\" data-category=\"click-tracking\" data-label=\"https://www.lateja.cr/deportes/portera-noelia-bermudez-vuelve-a-alajuelense/SL6JS72BGFGSPNGRBBKUTP3XGI/story/\" href=\"https://www.lateja.cr/deportes/portera-noelia-bermudez-vuelve-a-alajuelense/SL6JS72BGFGSPNGRBBKUTP3XGI/story/\">(Video) Portera Noelia Bermúdez vuelve a Alajuelense: “Nunca dejé de seguir al equipo”</a></p> <div class=\"border-intersitial-bottom\"></div> </div> </div>\n"
     ]
    }
   ],
   "source": [
    "corpus = soup.find('div', id='article-content')\n",
    "print(corpus.text)\n",
    "\n",
    "#Foto: rafael pacheco\n",
    "#Lea tambien ....Luis Fernando saurez es uno de los que llama jugadores....\n",
    "\n",
    "#Lea tambien ....Luis Fernando saurez es uno de los que llama jugadores....\n",
    "cleancorpus = corpus.find_all('div', class_=\"container-fluid-recomend\") #la variables va por referencia\n",
    "\n",
    "x = 0\n",
    "for i in cleancorpus:\n",
    "    print(i)\n",
    "    i.clear()#i.div.decompose()\n",
    "    x=+1"
   ]
  },
  {
   "cell_type": "code",
   "execution_count": 6,
   "metadata": {},
   "outputs": [],
   "source": [
    "tokens = nltk.word_tokenize(corpus.text)\n",
    "tokenito = nltk.sent_tokenize(corpus.text.lower())\n",
    "\n",
    "temp = \"\"\n",
    "\n",
    "corpus_tem=\"\"\n",
    "\n",
    "\n",
    "for i in tokenito:\n",
    "    \n",
    "    \n",
    "    if \"foto:\" in i: \n",
    "        text_tokens=(word_tokenize(i)[4:]) # elimina los primeros 4 tokens de la lista or \"#\" in i or........ i.#\"%,{}[]\" i.replace('')\n",
    "        \n",
    "        final_text=\"\" # realizamos un str temp \n",
    "        \n",
    "        for tk in text_tokens: \n",
    "            final_text += tk+ \" \" #unimos cada palabra de la lista a un str\n",
    "        \n",
    "        corpus_tem+=final_text #agregamos el str final a corpus\n",
    "        \n",
    "        \n",
    "        \n",
    "    else:\n",
    "        corpus_tem += i + \" \" # si no esta foto solo agrega la oracion al corpus."
   ]
  },
  {
   "cell_type": "code",
   "execution_count": null,
   "metadata": {},
   "outputs": [],
   "source": [
    "corpus_tem.strip() # \"compacta\" el texto de whitespaces a los lados"
   ]
  },
  {
   "cell_type": "markdown",
   "metadata": {},
   "source": [
    "# Crawling"
   ]
  },
  {
   "cell_type": "code",
   "execution_count": null,
   "metadata": {},
   "outputs": [],
   "source": [
    "Links:\n",
    "1.https://www.lateja.cr/deportes/video-aficionada-provoca-multitudinaria-caida-en/5RUFW6PF7JGPNF664AAPSQFJS4/story/\n",
    "2.https://www.lateja.cr/deportes/dixiana-mena-entrenadora-de-andrea-y-noelia-vargas/IP2M53FFPZGWHBPZVL32QSQJVY/story/\n",
    "3.https://www.lateja.cr/deportes/sorpresa-keylor-navas-no-esta-en-la-primera-lista/JHAARXLUI5A5NJ5SV7AKL4DF5Q/story/\n",
    "4.https://www.lateja.cr/deportes/paraguay-se-suena-a-chile-y-uruguay-manda-pa-la/PINRHGRIDVHCVMJZ5BFMHDMCOM/story/\n",
    "5.https://www.lateja.cr/deportes/saprissistas-danan-mural-en-honor-a-los-102-anos/T37ZVKCX4RAMHFKOYEBB3SWYEY/story/\n",
    "6.https://www.lateja.cr/deportes/video-delantero-manfred-ugalde-es-el-nuevo-jugador/ODPA7QNDMRAW7OWKISK7636SEM/story/\n",
    "7.https://www.lateja.cr/deportes/rodolfo-villalobos-no-voy-a-renunciar-se-lo-quiero/UM32YY6KSNHBVAN62B33UKWDKA/story/\n",
    "8.https://www.lateja.cr/deportes/horror-ortografico-en-la-chema-que-le-dieron-al/2KMVCSNPQJGWDNZ6H2QJRR3HJA/story/\n",
    "9.https://www.lateja.cr/deportes/luis-fernando-suarez-tecnico-de-la-sele-tenemos/PJY4FQSLEZBSTI4ZBTMP6CGXJA/story/\n",
    "10.https://www.lateja.cr/deportes/jossimar-pemberton-es-el-nuevo-jugador-de-saprissa/XJW5AWICIRCNZLXDYCVE55HXAE/story/\n",
    "11.https://www.lateja.cr/deportes/video-saprissa-femenino-esta-listo-para-jugar-el/T65UEOEE5FHB5I3FKGYUC6Z56A/story/\n",
    "12.https://www.lateja.cr/deportes/berny-ulloa-diego-maradona-siempre-fue-respetuoso/5J75QYS5HJAXTEWQUSU7U6EHVY/story/\n",
    "13.https://www.lateja.cr/deportes/vengo-con-mucha-ilusion-dijo-luis-fernando-suarez/ZN3HNUMTWZARVF4U6NGKIKNYR4/story/\n",
    "14.https://www.lateja.cr/deportes/torneo-de-apertura-comenzara-el-28-de-julio/DSRRVN54INB23FYYK5UAG32GUY/story/\n",
    "15.https://www.lateja.cr/deportes/david-ramirez-vuelve-al-saprissa/OUHFMGAIX5BMZCICTXND7G63CM/story/\n",
    "16.https://www.lateja.cr/deportes/messi-con-34-anos-a-saldar-una-cuenta-que-duele-en/M74FQLMHBJCNFPF5RGSM6THNTI/story/\n",
    "17.https://www.lateja.cr/deportes/llego-el-fichaje-bomba-del-saprissa-david-ramirez/ICEQ2DGP4NHXVLE2TVTAW7QV3I/story/\n",
    "18.https://www.lateja.cr/deportes/video-atleta-andrea-vargas-siempre-llevo-conmigo/IUUDICAPVBFQLCJGMPOCMHZLXE/story/\n",
    "19.https://www.lateja.cr/deportes/paraguay-se-suena-a-chile-y-uruguay-manda-pa-la/PINRHGRIDVHCVMJZ5BFMHDMCOM/story/\n",
    "20.https://www.lateja.cr/deportes/grupo-de-la-muerte-de-la-euro-francia-alemania-y/LV32SG6VOJBR7DJGKHP5ANEQGY/story/\n",
    "21.https://www.lateja.cr/deportes/alemania-es-puro-arcoiris-y-golea-a-la-uefa-en-la/27NW247WZZE35MFVJHRQJXNU4E/story/\n",
    "22.https://www.lateja.cr/deportes/la-pana-marta-cox-se-va-de-alajuelense/AT3W6ZDTSNA6BHOHLHJUSYQ6NY/story/\n",
    "23.https://www.lateja.cr/deportes/roman-torres-se-marcha-del-cartagines/RSRMGY6SABAKHETGBWSQZMNVQU/story/\n",
    "24.https://www.lateja.cr/deportes/wendy-acosta-decidio-colgar-los-tacos-al-futbol-le/J76F3PZDBJD3FJNQARO64FBKDM/story/\n",
    "25.https://www.lateja.cr/deportes/liga-llena-espacio-de-marta-cox-con-llegada-de-la/O3SO6BAGLBET5BBKDVZJ6AWCGM/story/\n",
    "26.https://www.lateja.cr/deportes/portero-hondureno-jose-mendoza-suarez-es-estricto/OKSCU6QJMFFL5DMDRYGLTJG6PY/story/\n",
    "27.https://www.lateja.cr/deportes/mariano-torres-le-trajo-a-masajista-morado-un/OXBD3HVWCZG3VGIHJMXLQWQJO4/story/\n",
    "28.https://www.lateja.cr/deportes/colombianos-han-dejado-buen-sabor-de-boca-en-el/EE42BVDXSFFL5K672PUOPBE4TI/story/\n",
    "29.https://www.lateja.cr/deportes/jugadores-de-24-a-29-anos-dominan-la-preseleccion/SMM4FRH74RFQDB5UUI2U5VGQ6Q/story/\n",
    "30.https://www.lateja.cr/deportes/fedefutbol-desmiente-plan-de-llevarse-mejenga/C76FTVSZ6FHDFBS5S55JAZ43MM/story/"
   ]
  },
  {
   "cell_type": "code",
   "execution_count": 10,
   "metadata": {},
   "outputs": [],
   "source": [
    "links=[\n",
    "    \"https://www.lateja.cr/deportes/video-aficionada-provoca-multitudinaria-caida-en/5RUFW6PF7JGPNF664AAPSQFJS4/story/\",\n",
    "    \"https://www.lateja.cr/deportes/dixiana-mena-entrenadora-de-andrea-y-noelia-vargas/IP2M53FFPZGWHBPZVL32QSQJVY/story/\",\n",
    "    \"https://www.lateja.cr/deportes/sorpresa-keylor-navas-no-esta-en-la-primera-lista/JHAARXLUI5A5NJ5SV7AKL4DF5Q/story/\",\n",
    "    \"https://www.lateja.cr/deportes/paraguay-se-suena-a-chile-y-uruguay-manda-pa-la/PINRHGRIDVHCVMJZ5BFMHDMCOM/story/\",\n",
    "    \"https://www.lateja.cr/deportes/saprissistas-danan-mural-en-honor-a-los-102-anos/T37ZVKCX4RAMHFKOYEBB3SWYEY/story/\",\n",
    "    \"https://www.lateja.cr/deportes/video-delantero-manfred-ugalde-es-el-nuevo-jugador/ODPA7QNDMRAW7OWKISK7636SEM/story/\",\n",
    "    \"https://www.lateja.cr/deportes/rodolfo-villalobos-no-voy-a-renunciar-se-lo-quiero/UM32YY6KSNHBVAN62B33UKWDKA/story/\",\n",
    "    \"https://www.lateja.cr/deportes/horror-ortografico-en-la-chema-que-le-dieron-al/2KMVCSNPQJGWDNZ6H2QJRR3HJA/story/\",\n",
    "    \"https://www.lateja.cr/deportes/luis-fernando-suarez-tecnico-de-la-sele-tenemos/PJY4FQSLEZBSTI4ZBTMP6CGXJA/story/\",\n",
    "    \"https://www.lateja.cr/deportes/jossimar-pemberton-es-el-nuevo-jugador-de-saprissa/XJW5AWICIRCNZLXDYCVE55HXAE/story/\",\n",
    "    \"https://www.lateja.cr/deportes/video-saprissa-femenino-esta-listo-para-jugar-el/T65UEOEE5FHB5I3FKGYUC6Z56A/story/\",\n",
    "    \"https://www.lateja.cr/deportes/berny-ulloa-diego-maradona-siempre-fue-respetuoso/5J75QYS5HJAXTEWQUSU7U6EHVY/story/\",\n",
    "    \"https://www.lateja.cr/deportes/vengo-con-mucha-ilusion-dijo-luis-fernando-suarez/ZN3HNUMTWZARVF4U6NGKIKNYR4/story/\",\n",
    "    \"https://www.lateja.cr/deportes/torneo-de-apertura-comenzara-el-28-de-julio/DSRRVN54INB23FYYK5UAG32GUY/story/\",\n",
    "    \"https://www.lateja.cr/deportes/david-ramirez-vuelve-al-saprissa/OUHFMGAIX5BMZCICTXND7G63CM/story/\",\n",
    "    \"https://www.lateja.cr/deportes/messi-con-34-anos-a-saldar-una-cuenta-que-duele-en/M74FQLMHBJCNFPF5RGSM6THNTI/story/\",\n",
    "    \"https://www.lateja.cr/deportes/llego-el-fichaje-bomba-del-saprissa-david-ramirez/ICEQ2DGP4NHXVLE2TVTAW7QV3I/story/\",\n",
    "    \"https://www.lateja.cr/deportes/video-atleta-andrea-vargas-siempre-llevo-conmigo/IUUDICAPVBFQLCJGMPOCMHZLXE/story/\",\n",
    "    \"https://www.lateja.cr/deportes/paraguay-se-suena-a-chile-y-uruguay-manda-pa-la/PINRHGRIDVHCVMJZ5BFMHDMCOM/story/\",\n",
    "    \"https://www.lateja.cr/deportes/grupo-de-la-muerte-de-la-euro-francia-alemania-y/LV32SG6VOJBR7DJGKHP5ANEQGY/story/\",\n",
    "    \"https://www.lateja.cr/deportes/alemania-es-puro-arcoiris-y-golea-a-la-uefa-en-la/27NW247WZZE35MFVJHRQJXNU4E/story/\",\n",
    "    \"https://www.lateja.cr/deportes/la-pana-marta-cox-se-va-de-alajuelense/AT3W6ZDTSNA6BHOHLHJUSYQ6NY/story/\",\n",
    "    \"https://www.lateja.cr/deportes/roman-torres-se-marcha-del-cartagines/RSRMGY6SABAKHETGBWSQZMNVQU/story/\",\n",
    "    \"https://www.lateja.cr/deportes/wendy-acosta-decidio-colgar-los-tacos-al-futbol-le/J76F3PZDBJD3FJNQARO64FBKDM/story/\",\n",
    "    \"https://www.lateja.cr/deportes/liga-llena-espacio-de-marta-cox-con-llegada-de-la/O3SO6BAGLBET5BBKDVZJ6AWCGM/story/\",\n",
    "    \"https://www.lateja.cr/deportes/portero-hondureno-jose-mendoza-suarez-es-estricto/OKSCU6QJMFFL5DMDRYGLTJG6PY/story/\",\n",
    "    \"https://www.lateja.cr/deportes/mariano-torres-le-trajo-a-masajista-morado-un/OXBD3HVWCZG3VGIHJMXLQWQJO4/story/\"\n",
    "    \"https://www.lateja.cr/deportes/colombianos-han-dejado-buen-sabor-de-boca-en-el/EE42BVDXSFFL5K672PUOPBE4TI/story/\",\n",
    "    \"https://www.lateja.cr/deportes/jugadores-de-24-a-29-anos-dominan-la-preseleccion/SMM4FRH74RFQDB5UUI2U5VGQ6Q/story/\",\n",
    "    \"https://www.lateja.cr/deportes/fedefutbol-desmiente-plan-de-llevarse-mejenga/C76FTVSZ6FHDFBS5S55JAZ43MM/story/\"\n",
    "]"
   ]
  },
  {
   "cell_type": "code",
   "execution_count": 14,
   "metadata": {},
   "outputs": [],
   "source": [
    "requests_links=[]\n",
    "for link in links:\n",
    "    requests_links.append(requests.get(link))"
   ]
  },
  {
   "cell_type": "code",
   "execution_count": 16,
   "metadata": {},
   "outputs": [],
   "source": [
    "titulos = []\n",
    "articulos = []\n",
    "\n",
    "for resp in requests_links:\n",
    "    soup = BeautifulSoup(resp.text, 'lxml')\n",
    "    titulos.append(soup.find('div', class_='headline-hed-last').text)\n",
    "    cleancorpus = corpus.find_all('div', class_=\"container-fluid-recomend\")\n",
    "    for i in cleancorpus:\n",
    "        i.clear()#i.div.decompose()\n",
    "    articulos.append(corpus.text.lower().strip())"
   ]
  },
  {
   "cell_type": "code",
   "execution_count": 17,
   "metadata": {},
   "outputs": [
    {
     "name": "stdout",
     "output_type": "stream",
     "text": [
      "las leonas de la mano de wílmer lópez llegaron al título el semestre anterior. foto: rafael pacheco        durante casi todo el torneo pasado, wílmer lópez estuvo en la mira de muchos aficionados que no lo creían como el idóneo para dirigir al equipo femenino de liga deportiva alajuelense.      al final el tiempo le dio la razón al pato, quien demostró que puede ser ídolo de distintas maneras. el exjugador alzó el título de campeón con las leonas, corona que deberán defender desde este sábado cuando las rojinegras vuelvan a la cancha ante dimás escazú.      ganar el título el torneo anterior da confianza a su trabajo, la cual siempre tuvo de parte de la directiva, que lo sostuvo a pesar de las críticas, pero tiene clarísimo que el reto que le avecina ahora es más fuerte.      “hay que exigirle a las muchachas que rindan, que cumplan, que vayan por todo y en la liga no puede ser la excepción, más ahora que ya lo conseguimos, la gente va a estar esperando cada vez más de la institución, máxime por los refuerzos que amarramos, son cosas que nos obligan a hacerlo aún mejor en este torneo”, comentó lópez a la teja.      para este semestre las leonas se reforzaron con la portera noelia bermúdez, la delantera estadounidense jennie lakip, la volante panameña natalia mills y la volante tica de 17 años maría paula arce, fichaje que se anunció este viernes.           “es muy bonito tener una planilla competitiva, de buenas jugadoras, porque se la complican al entrenador, yo sé entonces que sea cual sea la que escoja, tiene calidad, el beneficio será directamente para la institución. la competencia interna es la que más exige a la jugadora para ser tomada en cuenta y rendir partido a partido”, añadió el pato.      tranquilidad            el pató lópez le pagó con un campeonato la confianza a fernando ocampo. foto: rafael pacheco       wílmer dice que se enteró de que otros entrenadores mandaron su currículum al club, pensando que pronto se lo iban a volar, pero ni eso lo hizo perder la confianza. para él su carrera como entrenador en general ha tenido cosas muy positivas.      “si usted cree que como entrenador no lo van a criticar, se equivocó de profesión. yo me di cuenta de colegas entrenadores que llamaron a ofrecerse al club, a decir que ellos estaban disponibles por si me despedían, diciendo que a uno le faltaba experiencia, cosas antiéticas, pero se dieron.      “en eso tengo que agradecer a la dirigencia el apoyo a mi persona, es parte de las cosas que se viven en el fútbol, ¿quién no quiere ser entrenador en liga deportiva alajuelense de cualquier categoría?”.      wílmer tiene apenas siete meses en el fútbol femenino y ya tiene un campeonato, con o sin críticas, ahí está el título.      “a mí (las críticas) no me molestaron, el aficionado solo quiere resultados positivos y no mide a veces otras cosas. cuando dirigí el equipo masculino tenía una planilla que si clasificaba había que darle un premio, era con ciertas limitaciones y el paso mío lo aproveché para debutar jugadores que hoy lucen como protagonistas en el fútbol nacional. la gente lo que ve son resultados, nada más.      “la gente tampoco recuerda mi paso por alajuela junior (equipo manudo de segunda división) que era un equipo de jugadores jóvenes y el objetivo era proyectarlos, el caso de ronald matarrita, juan pablo vargas, josé guillermo ortíz, francisco rodríguez, kevin ruiz, anthony lópez, una camada de jugadores a los que le dimos oportunidad de desarrollarse” comentó.      desde este sábado el pato va por otro título más, porque a como ha sido su carrera, es un león que no se sacia con nada.\n"
     ]
    }
   ],
   "source": [
    "print(articulos[0])"
   ]
  },
  {
   "cell_type": "code",
   "execution_count": 18,
   "metadata": {},
   "outputs": [
    {
     "name": "stdout",
     "output_type": "stream",
     "text": [
      "las leonas de la mano de wílmer lópez llegaron al título el semestre anterior. durante casi todo el torneo pasado , wílmer lópez estuvo en la mira de muchos aficionados que no lo creían como el idóneo para dirigir al equipo femenino de liga deportiva alajuelense . al final el tiempo le dio la razón al pato, quien demostró que puede ser ídolo de distintas maneras. el exjugador alzó el título de campeón con las leonas, corona que deberán defender desde este sábado cuando las rojinegras vuelvan a la cancha ante dimás escazú. ganar el título el torneo anterior da confianza a su trabajo, la cual siempre tuvo de parte de la directiva, que lo sostuvo a pesar de las críticas, pero tiene clarísimo que el reto que le avecina ahora es más fuerte. “hay que exigirle a las muchachas que rindan, que cumplan, que vayan por todo y en la liga no puede ser la excepción, más ahora que ya lo conseguimos, la gente va a estar esperando cada vez más de la institución, máxime por los refuerzos que amarramos, son cosas que nos obligan a hacerlo aún mejor en este torneo”, comentó lópez a la teja. para este semestre las leonas se reforzaron con la portera noelia bermúdez, la delantera estadounidense jennie lakip, la volante panameña natalia mills y la volante tica de 17 años maría paula arce, fichaje que se anunció este viernes. “es muy bonito tener una planilla competitiva, de buenas jugadoras, porque se la complican al entrenador, yo sé entonces que sea cual sea la que escoja, tiene calidad, el beneficio será directamente para la institución. la competencia interna es la que más exige a la jugadora para ser tomada en cuenta y rendir partido a partido”, añadió el pato. tranquilidad            el pató lópez le pagó con un campeonato la confianza a fernando ocampo. wílmer dice que se enteró de que otros entrenadores mandaron su currículum al club , pensando que pronto se lo iban a volar , pero ni eso lo hizo perder la confianza . para él su carrera como entrenador en general ha tenido cosas muy positivas. “si usted cree que como entrenador no lo van a criticar, se equivocó de profesión. yo me di cuenta de colegas entrenadores que llamaron a ofrecerse al club, a decir que ellos estaban disponibles por si me despedían, diciendo que a uno le faltaba experiencia, cosas antiéticas, pero se dieron. “en eso tengo que agradecer a la dirigencia el apoyo a mi persona, es parte de las cosas que se viven en el fútbol, ¿quién no quiere ser entrenador en liga deportiva alajuelense de cualquier categoría?”. wílmer tiene apenas siete meses en el fútbol femenino y ya tiene un campeonato, con o sin críticas, ahí está el título. “a mí (las críticas) no me molestaron, el aficionado solo quiere resultados positivos y no mide a veces otras cosas. cuando dirigí el equipo masculino tenía una planilla que si clasificaba había que darle un premio, era con ciertas limitaciones y el paso mío lo aproveché para debutar jugadores que hoy lucen como protagonistas en el fútbol nacional. la gente lo que ve son resultados, nada más. “la gente tampoco recuerda mi paso por alajuela junior (equipo manudo de segunda división) que era un equipo de jugadores jóvenes y el objetivo era proyectarlos, el caso de ronald matarrita, juan pablo vargas, josé guillermo ortíz, francisco rodríguez, kevin ruiz, anthony lópez, una camada de jugadores a los que le dimos oportunidad de desarrollarse” comentó. desde este sábado el pato va por otro título más, porque a como ha sido su carrera, es un león que no se sacia con nada.\n"
     ]
    }
   ],
   "source": [
    "final_texts = []\n",
    "for art in articulos:\n",
    "    clean_text = \"\"\n",
    "    sentences = sent_tokenize(art)\n",
    "    for sent in sentences:\n",
    "        if \"foto:\" in sent:\n",
    "            sent_tokens = word_tokenize(sent)[4:]\n",
    "            for token in sent_tokens:\n",
    "                clean_text += token + \" \"\n",
    "        else:\n",
    "            clean_text += sent + \" \"\n",
    "    final_texts.append(clean_text.strip())\n",
    "print(final_texts[0])"
   ]
  }
 ],
 "metadata": {
  "kernelspec": {
   "display_name": "Python 3",
   "language": "python",
   "name": "python3"
  },
  "language_info": {
   "codemirror_mode": {
    "name": "ipython",
    "version": 3
   },
   "file_extension": ".py",
   "mimetype": "text/x-python",
   "name": "python",
   "nbconvert_exporter": "python",
   "pygments_lexer": "ipython3",
   "version": "3.8.5"
  }
 },
 "nbformat": 4,
 "nbformat_minor": 4
}

{
 "cells": [
  {
   "cell_type": "code",
   "execution_count": 2,
   "metadata": {},
   "outputs": [],
   "source": [
    "import requests\n",
    "from bs4 import BeautifulSoup\n",
    "from selenium import webdriver\n",
    "import time"
   ]
  },
  {
   "cell_type": "code",
   "execution_count": 3,
   "metadata": {},
   "outputs": [],
   "source": [
    "import nltk\n",
    "from nltk import tokenize\n",
    "from nltk import word_tokenize\n",
    "from nltk import sent_tokenize"
   ]
  },
  {
   "cell_type": "code",
   "execution_count": 4,
   "metadata": {},
   "outputs": [
    {
     "ename": "AttributeError",
     "evalue": "'NoneType' object has no attribute 'text'",
     "output_type": "error",
     "traceback": [
      "\u001b[1;31m---------------------------------------------------------------------------\u001b[0m",
      "\u001b[1;31mAttributeError\u001b[0m                            Traceback (most recent call last)",
      "\u001b[1;32m<ipython-input-4-3b5a262af711>\u001b[0m in \u001b[0;36m<module>\u001b[1;34m\u001b[0m\n\u001b[0;32m      2\u001b[0m \u001b[0msoup\u001b[0m \u001b[1;33m=\u001b[0m \u001b[0mBeautifulSoup\u001b[0m\u001b[1;33m(\u001b[0m\u001b[0mreq\u001b[0m\u001b[1;33m,\u001b[0m \u001b[1;34m'lxml'\u001b[0m\u001b[1;33m)\u001b[0m\u001b[1;33m\u001b[0m\u001b[1;33m\u001b[0m\u001b[0m\n\u001b[0;32m      3\u001b[0m \u001b[0mcorpus\u001b[0m \u001b[1;33m=\u001b[0m \u001b[0msoup\u001b[0m\u001b[1;33m.\u001b[0m\u001b[0mfind\u001b[0m\u001b[1;33m(\u001b[0m\u001b[1;34m'div'\u001b[0m\u001b[1;33m,\u001b[0m \u001b[0mid\u001b[0m\u001b[1;33m=\u001b[0m\u001b[1;34m'article-content'\u001b[0m\u001b[1;33m)\u001b[0m\u001b[1;33m\u001b[0m\u001b[1;33m\u001b[0m\u001b[0m\n\u001b[1;32m----> 4\u001b[1;33m \u001b[0mprint\u001b[0m\u001b[1;33m(\u001b[0m\u001b[0mcorpus\u001b[0m\u001b[1;33m.\u001b[0m\u001b[0mtext\u001b[0m\u001b[1;33m)\u001b[0m\u001b[1;33m\u001b[0m\u001b[1;33m\u001b[0m\u001b[0m\n\u001b[0m",
      "\u001b[1;31mAttributeError\u001b[0m: 'NoneType' object has no attribute 'text'"
     ]
    }
   ],
   "source": [
    "req = requests.get(\"https://www.lateja.cr/deportes/wilmer-lopez-va-por-el-bicampeonato-de-las-leonas/BQV6XK6E2BF23BLWYLVBFRONVE/story/\").content\n",
    "soup = BeautifulSoup(req, 'lxml')\n",
    "corpus = soup.find('div', id='article-content')\n",
    "print(corpus.text)"
   ]
  },
  {
   "cell_type": "code",
   "execution_count": null,
   "metadata": {},
   "outputs": [],
   "source": [
    "sentences = nltk.sent_tokenize(corpus.text.lower()) #lista de sentences"
   ]
  },
  {
   "cell_type": "code",
   "execution_count": null,
   "metadata": {},
   "outputs": [],
   "source": [
    "corpus = soup.find('div', id='article-content')\n",
    "print(corpus.text)\n",
    "\n",
    "#Foto: rafael pacheco\n",
    "#Lea tambien ....Luis Fernando saurez es uno de los que llama jugadores....\n",
    "\n",
    "#Lea tambien ....Luis Fernando saurez es uno de los que llama jugadores....\n",
    "cleancorpus = corpus.find_all('div', class_=\"container-fluid-recomend\") #la variables va por referencia\n",
    "\n",
    "x = 0\n",
    "for i in cleancorpus:\n",
    "    print(i)\n",
    "    i.clear()#i.div.decompose()\n",
    "    x=+1"
   ]
  },
  {
   "cell_type": "code",
   "execution_count": null,
   "metadata": {},
   "outputs": [],
   "source": [
    "tokens = nltk.word_tokenize(corpus.text)\n",
    "tokenito = nltk.sent_tokenize(corpus.text.lower())\n",
    "\n",
    "temp = \"\"\n",
    "\n",
    "corpus_tem=\"\"\n",
    "\n",
    "\n",
    "for i in tokenito:\n",
    "    \n",
    "    \n",
    "    if \"foto:\" in i: \n",
    "        text_tokens=(word_tokenize(i)[4:]) # elimina los primeros 4 tokens de la lista or \"#\" in i or........ i.#\"%,{}[]\" i.replace('')\n",
    "        \n",
    "        final_text=\"\" # realizamos un str temp \n",
    "        \n",
    "        for tk in text_tokens: \n",
    "            final_text += tk+ \" \" #unimos cada palabra de la lista a un str\n",
    "        \n",
    "        corpus_tem+=final_text #agregamos el str final a corpus\n",
    "        \n",
    "        \n",
    "        \n",
    "    else:\n",
    "        corpus_tem += i + \" \" # si no esta foto solo agrega la oracion al corpus."
   ]
  },
  {
   "cell_type": "code",
   "execution_count": null,
   "metadata": {},
   "outputs": [],
   "source": [
    "corpus_tem.strip() # \"compacta\" el texto de whitespaces a los lados"
   ]
  },
  {
   "cell_type": "markdown",
   "metadata": {},
   "source": [
    "# Crawling"
   ]
  },
  {
   "cell_type": "code",
   "execution_count": null,
   "metadata": {},
   "outputs": [],
   "source": [
    "Links:\n",
    "1.https://www.lateja.cr/deportes/video-aficionada-provoca-multitudinaria-caida-en/5RUFW6PF7JGPNF664AAPSQFJS4/story/\n",
    "2.https://www.lateja.cr/deportes/dixiana-mena-entrenadora-de-andrea-y-noelia-vargas/IP2M53FFPZGWHBPZVL32QSQJVY/story/\n",
    "3.https://www.lateja.cr/deportes/sorpresa-keylor-navas-no-esta-en-la-primera-lista/JHAARXLUI5A5NJ5SV7AKL4DF5Q/story/\n",
    "4.https://www.lateja.cr/deportes/paraguay-se-suena-a-chile-y-uruguay-manda-pa-la/PINRHGRIDVHCVMJZ5BFMHDMCOM/story/\n",
    "5.https://www.lateja.cr/deportes/saprissistas-danan-mural-en-honor-a-los-102-anos/T37ZVKCX4RAMHFKOYEBB3SWYEY/story/\n",
    "6.https://www.lateja.cr/deportes/video-delantero-manfred-ugalde-es-el-nuevo-jugador/ODPA7QNDMRAW7OWKISK7636SEM/story/\n",
    "7.https://www.lateja.cr/deportes/rodolfo-villalobos-no-voy-a-renunciar-se-lo-quiero/UM32YY6KSNHBVAN62B33UKWDKA/story/\n",
    "8.https://www.lateja.cr/deportes/horror-ortografico-en-la-chema-que-le-dieron-al/2KMVCSNPQJGWDNZ6H2QJRR3HJA/story/\n",
    "9.https://www.lateja.cr/deportes/luis-fernando-suarez-tecnico-de-la-sele-tenemos/PJY4FQSLEZBSTI4ZBTMP6CGXJA/story/\n",
    "10.https://www.lateja.cr/deportes/jossimar-pemberton-es-el-nuevo-jugador-de-saprissa/XJW5AWICIRCNZLXDYCVE55HXAE/story/\n",
    "11.https://www.lateja.cr/deportes/video-saprissa-femenino-esta-listo-para-jugar-el/T65UEOEE5FHB5I3FKGYUC6Z56A/story/\n",
    "12.https://www.lateja.cr/deportes/berny-ulloa-diego-maradona-siempre-fue-respetuoso/5J75QYS5HJAXTEWQUSU7U6EHVY/story/\n",
    "13.https://www.lateja.cr/deportes/vengo-con-mucha-ilusion-dijo-luis-fernando-suarez/ZN3HNUMTWZARVF4U6NGKIKNYR4/story/\n",
    "14.https://www.lateja.cr/deportes/torneo-de-apertura-comenzara-el-28-de-julio/DSRRVN54INB23FYYK5UAG32GUY/story/\n",
    "15.https://www.lateja.cr/deportes/david-ramirez-vuelve-al-saprissa/OUHFMGAIX5BMZCICTXND7G63CM/story/\n",
    "16.https://www.lateja.cr/deportes/messi-con-34-anos-a-saldar-una-cuenta-que-duele-en/M74FQLMHBJCNFPF5RGSM6THNTI/story/\n",
    "17.https://www.lateja.cr/deportes/llego-el-fichaje-bomba-del-saprissa-david-ramirez/ICEQ2DGP4NHXVLE2TVTAW7QV3I/story/\n",
    "18.https://www.lateja.cr/deportes/video-atleta-andrea-vargas-siempre-llevo-conmigo/IUUDICAPVBFQLCJGMPOCMHZLXE/story/\n",
    "19.https://www.lateja.cr/deportes/paraguay-se-suena-a-chile-y-uruguay-manda-pa-la/PINRHGRIDVHCVMJZ5BFMHDMCOM/story/\n",
    "20.https://www.lateja.cr/deportes/grupo-de-la-muerte-de-la-euro-francia-alemania-y/LV32SG6VOJBR7DJGKHP5ANEQGY/story/\n",
    "21.https://www.lateja.cr/deportes/alemania-es-puro-arcoiris-y-golea-a-la-uefa-en-la/27NW247WZZE35MFVJHRQJXNU4E/story/\n",
    "22.https://www.lateja.cr/deportes/la-pana-marta-cox-se-va-de-alajuelense/AT3W6ZDTSNA6BHOHLHJUSYQ6NY/story/\n",
    "23.https://www.lateja.cr/deportes/roman-torres-se-marcha-del-cartagines/RSRMGY6SABAKHETGBWSQZMNVQU/story/\n",
    "24.https://www.lateja.cr/deportes/wendy-acosta-decidio-colgar-los-tacos-al-futbol-le/J76F3PZDBJD3FJNQARO64FBKDM/story/\n",
    "25.https://www.lateja.cr/deportes/liga-llena-espacio-de-marta-cox-con-llegada-de-la/O3SO6BAGLBET5BBKDVZJ6AWCGM/story/\n",
    "26.https://www.lateja.cr/deportes/portero-hondureno-jose-mendoza-suarez-es-estricto/OKSCU6QJMFFL5DMDRYGLTJG6PY/story/\n",
    "27.https://www.lateja.cr/deportes/mariano-torres-le-trajo-a-masajista-morado-un/OXBD3HVWCZG3VGIHJMXLQWQJO4/story/\n",
    "28.https://www.lateja.cr/deportes/colombianos-han-dejado-buen-sabor-de-boca-en-el/EE42BVDXSFFL5K672PUOPBE4TI/story/\n",
    "29.https://www.lateja.cr/deportes/jugadores-de-24-a-29-anos-dominan-la-preseleccion/SMM4FRH74RFQDB5UUI2U5VGQ6Q/story/\n",
    "30.https://www.lateja.cr/deportes/fedefutbol-desmiente-plan-de-llevarse-mejenga/C76FTVSZ6FHDFBS5S55JAZ43MM/story/"
   ]
  },
  {
   "cell_type": "code",
   "execution_count": 5,
   "metadata": {},
   "outputs": [],
   "source": [
    "links=[\n",
    "    \"https://www.lateja.cr/deportes/video-aficionada-provoca-multitudinaria-caida-en/5RUFW6PF7JGPNF664AAPSQFJS4/story/\",\n",
    "    \"https://www.lateja.cr/deportes/dixiana-mena-entrenadora-de-andrea-y-noelia-vargas/IP2M53FFPZGWHBPZVL32QSQJVY/story/\",\n",
    "    \"https://www.lateja.cr/deportes/sorpresa-keylor-navas-no-esta-en-la-primera-lista/JHAARXLUI5A5NJ5SV7AKL4DF5Q/story/\",\n",
    "    \"https://www.lateja.cr/deportes/paraguay-se-suena-a-chile-y-uruguay-manda-pa-la/PINRHGRIDVHCVMJZ5BFMHDMCOM/story/\",\n",
    "    \"https://www.lateja.cr/deportes/saprissistas-danan-mural-en-honor-a-los-102-anos/T37ZVKCX4RAMHFKOYEBB3SWYEY/story/\",\n",
    "    \"https://www.lateja.cr/deportes/video-delantero-manfred-ugalde-es-el-nuevo-jugador/ODPA7QNDMRAW7OWKISK7636SEM/story/\",\n",
    "    \"https://www.lateja.cr/deportes/rodolfo-villalobos-no-voy-a-renunciar-se-lo-quiero/UM32YY6KSNHBVAN62B33UKWDKA/story/\",\n",
    "    \"https://www.lateja.cr/deportes/horror-ortografico-en-la-chema-que-le-dieron-al/2KMVCSNPQJGWDNZ6H2QJRR3HJA/story/\",\n",
    "    \"https://www.lateja.cr/deportes/luis-fernando-suarez-tecnico-de-la-sele-tenemos/PJY4FQSLEZBSTI4ZBTMP6CGXJA/story/\",\n",
    "    \"https://www.lateja.cr/deportes/jossimar-pemberton-es-el-nuevo-jugador-de-saprissa/XJW5AWICIRCNZLXDYCVE55HXAE/story/\",\n",
    "    \"https://www.lateja.cr/deportes/video-saprissa-femenino-esta-listo-para-jugar-el/T65UEOEE5FHB5I3FKGYUC6Z56A/story/\",\n",
    "    \"https://www.lateja.cr/deportes/berny-ulloa-diego-maradona-siempre-fue-respetuoso/5J75QYS5HJAXTEWQUSU7U6EHVY/story/\",\n",
    "    \"https://www.lateja.cr/deportes/vengo-con-mucha-ilusion-dijo-luis-fernando-suarez/ZN3HNUMTWZARVF4U6NGKIKNYR4/story/\",\n",
    "    \"https://www.lateja.cr/deportes/torneo-de-apertura-comenzara-el-28-de-julio/DSRRVN54INB23FYYK5UAG32GUY/story/\",\n",
    "    \"https://www.lateja.cr/deportes/david-ramirez-vuelve-al-saprissa/OUHFMGAIX5BMZCICTXND7G63CM/story/\",\n",
    "    \"https://www.lateja.cr/deportes/messi-con-34-anos-a-saldar-una-cuenta-que-duele-en/M74FQLMHBJCNFPF5RGSM6THNTI/story/\",\n",
    "    \"https://www.lateja.cr/deportes/llego-el-fichaje-bomba-del-saprissa-david-ramirez/ICEQ2DGP4NHXVLE2TVTAW7QV3I/story/\",\n",
    "    \"https://www.lateja.cr/deportes/video-atleta-andrea-vargas-siempre-llevo-conmigo/IUUDICAPVBFQLCJGMPOCMHZLXE/story/\",\n",
    "    \"https://www.lateja.cr/deportes/paraguay-se-suena-a-chile-y-uruguay-manda-pa-la/PINRHGRIDVHCVMJZ5BFMHDMCOM/story/\",\n",
    "    \"https://www.lateja.cr/deportes/grupo-de-la-muerte-de-la-euro-francia-alemania-y/LV32SG6VOJBR7DJGKHP5ANEQGY/story/\",\n",
    "    \"https://www.lateja.cr/deportes/alemania-es-puro-arcoiris-y-golea-a-la-uefa-en-la/27NW247WZZE35MFVJHRQJXNU4E/story/\",\n",
    "    \"https://www.lateja.cr/deportes/la-pana-marta-cox-se-va-de-alajuelense/AT3W6ZDTSNA6BHOHLHJUSYQ6NY/story/\",\n",
    "    \"https://www.lateja.cr/deportes/roman-torres-se-marcha-del-cartagines/RSRMGY6SABAKHETGBWSQZMNVQU/story/\",\n",
    "    \"https://www.lateja.cr/deportes/wendy-acosta-decidio-colgar-los-tacos-al-futbol-le/J76F3PZDBJD3FJNQARO64FBKDM/story/\",\n",
    "    \"https://www.lateja.cr/deportes/liga-llena-espacio-de-marta-cox-con-llegada-de-la/O3SO6BAGLBET5BBKDVZJ6AWCGM/story/\",\n",
    "    \"https://www.lateja.cr/deportes/portero-hondureno-jose-mendoza-suarez-es-estricto/OKSCU6QJMFFL5DMDRYGLTJG6PY/story/\",\n",
    "    \"https://www.lateja.cr/deportes/mariano-torres-le-trajo-a-masajista-morado-un/OXBD3HVWCZG3VGIHJMXLQWQJO4/story/\"\n",
    "    \"https://www.lateja.cr/deportes/colombianos-han-dejado-buen-sabor-de-boca-en-el/EE42BVDXSFFL5K672PUOPBE4TI/story/\",\n",
    "    \"https://www.lateja.cr/deportes/jugadores-de-24-a-29-anos-dominan-la-preseleccion/SMM4FRH74RFQDB5UUI2U5VGQ6Q/story/\",\n",
    "    \"https://www.lateja.cr/deportes/fedefutbol-desmiente-plan-de-llevarse-mejenga/C76FTVSZ6FHDFBS5S55JAZ43MM/story/\"\n",
    "]"
   ]
  },
  {
   "cell_type": "code",
   "execution_count": 30,
   "metadata": {},
   "outputs": [
    {
     "ename": "NameError",
     "evalue": "name 'links' is not defined",
     "output_type": "error",
     "traceback": [
      "\u001b[1;31m---------------------------------------------------------------------------\u001b[0m",
      "\u001b[1;31mNameError\u001b[0m                                 Traceback (most recent call last)",
      "\u001b[1;32m<ipython-input-30-5f0b2f8a6f2a>\u001b[0m in \u001b[0;36m<module>\u001b[1;34m\u001b[0m\n\u001b[0;32m      1\u001b[0m \u001b[0mrequests_links\u001b[0m\u001b[1;33m=\u001b[0m\u001b[1;33m[\u001b[0m\u001b[1;33m]\u001b[0m\u001b[1;33m\u001b[0m\u001b[1;33m\u001b[0m\u001b[0m\n\u001b[1;32m----> 2\u001b[1;33m \u001b[1;32mfor\u001b[0m \u001b[0mlink\u001b[0m \u001b[1;32min\u001b[0m \u001b[0mlinks\u001b[0m\u001b[1;33m:\u001b[0m\u001b[1;33m\u001b[0m\u001b[1;33m\u001b[0m\u001b[0m\n\u001b[0m\u001b[0;32m      3\u001b[0m     \u001b[0mrequests_links\u001b[0m\u001b[1;33m.\u001b[0m\u001b[0mappend\u001b[0m\u001b[1;33m(\u001b[0m\u001b[0mrequests\u001b[0m\u001b[1;33m.\u001b[0m\u001b[0mget\u001b[0m\u001b[1;33m(\u001b[0m\u001b[0mlink\u001b[0m\u001b[1;33m)\u001b[0m\u001b[1;33m)\u001b[0m\u001b[1;33m\u001b[0m\u001b[1;33m\u001b[0m\u001b[0m\n",
      "\u001b[1;31mNameError\u001b[0m: name 'links' is not defined"
     ]
    }
   ],
   "source": [
    "requests_links=[]\n",
    "for link in links:\n",
    "    requests_links.append(requests.get(link))"
   ]
  },
  {
   "cell_type": "code",
   "execution_count": null,
   "metadata": {},
   "outputs": [],
   "source": [
    "titulos = []\n",
    "articulos = []\n",
    "\n",
    "for resp in requests_links:\n",
    "    soup = BeautifulSoup(resp.text, 'lxml')\n",
    "    titulos.append(soup.find('div', class_='headline-hed-last').text)\n",
    "    cleancorpus = corpus.find_all('div', class_=\"container-fluid-recomend\")\n",
    "    for i in cleancorpus:\n",
    "        i.clear()#i.div.decompose()\n",
    "    articulos.append(corpus.text.lower().strip())"
   ]
  },
  {
   "cell_type": "code",
   "execution_count": null,
   "metadata": {},
   "outputs": [],
   "source": [
    "print(articulos[0])"
   ]
  },
  {
   "cell_type": "code",
   "execution_count": null,
   "metadata": {},
   "outputs": [],
   "source": [
    "final_texts = []\n",
    "for art in articulos:\n",
    "    clean_text = \"\"\n",
    "    sentences = sent_tokenize(art)\n",
    "    for sent in sentences:\n",
    "        if \"foto:\" in sent:\n",
    "            sent_tokens = word_tokenize(sent)[4:]\n",
    "            for token in sent_tokens:\n",
    "                clean_text += token + \" \"\n",
    "        else:\n",
    "            clean_text += sent + \" \"\n",
    "    final_texts.append(clean_text.strip())\n",
    "print(final_texts[0])"
   ]
  },
  {
   "cell_type": "markdown",
   "metadata": {},
   "source": [
    "# My spider"
   ]
  },
  {
   "cell_type": "code",
   "execution_count": 16,
   "metadata": {},
   "outputs": [],
   "source": [
    "path = \"C:/Users/User/Desktop/CaamanitoProject/chromedriver.exe\"\n",
    "driver = webdriver.Chrome(executable_path = path)\n",
    "driver.get('https://www.lateja.cr/deportes/')\n",
    "time.sleep(6)\n",
    "for i in range(1,5):\n",
    "    driver.find_element_by_class_name('default__ReadMoreButton-b2v9iq-2').click()\n",
    "    time.sleep(2)"
   ]
  },
  {
   "cell_type": "code",
   "execution_count": 19,
   "metadata": {},
   "outputs": [
    {
     "name": "stdout",
     "output_type": "stream",
     "text": [
      "298\n",
      "1 https://www.lateja.cr/deportes/portero-patrick-sequeira-no-podra-jugar-contra/FYFPNMR5EJHMXLJMCBA4JLV2EU/story/\n",
      "2 https://www.lateja.cr/deportes/periodista-de-espn-justifica-actitud-de-keylor/ZVURTMCLO5CPXAENWRCXQ2FKHQ/story/\n",
      "3 https://www.lateja.cr/deportes/por-dicha-la-sele-llega-clasificada-ante-jamaica/3OQ4UTXX6RF2PNPIKWTFSOFQDA/story/\n",
      "4 https://www.lateja.cr/deportes/luis-fernando-suarez-no-se-sorprende-del-nivel-de/BNZSTKSOLZGHNB5KKO2LSYEEGY/story/\n",
      "5 https://www.lateja.cr/deportes/guadalupe-se-frota-las-manos-por-una-posible-venta/RQJCZ7H3DJBZHAER26T4J4E4UY/story/\n",
      "6 https://www.lateja.cr/deportes/ciclista-tica-que-competira-en-las-olimpiadas-de/V2PWLLQ5PNC37AQTL6ACZ27DGU/story/\n",
      "7 https://www.lateja.cr/deportes/estados-unidos-madrugo-como-para-ir-a-vacunarse/HJ3NX7I6ZVGBXFCLJXNVAOL2LE/story/\n",
      "8 https://www.lateja.cr/deportes/nivel-que-mostraron-honduras-y-panama-asusta-a/LZQELQPXU5GHLB5AQKVQJJ544U/story/\n",
      "9 https://www.lateja.cr/deportes/los-veloces-de-la-sele-piden-campo/LJQUAMI4EJAWTMFMBZRIBNCPSI/story/\n",
      "10 https://www.lateja.cr/deportes/tokio-frente-al-temor-de-un-primer-brote-en-la/TKTBCBY4XZB4PHNKIRJCFYCAAU/story/\n",
      "11 https://www.lateja.cr/deportes/la-liga-se-dejo-el-clasico-femenino-con-una-jennie/2NQ7UTESQVDLBEJQZJ7FX2FHCM/story/\n",
      "12 https://www.lateja.cr/deportes/hice-ejercicio-y-no-quiero-volver-todo-me-duele/NYTPMGIXQBCSBJAWX2ZVW2YXCA/story/\n",
      "13 https://www.lateja.cr/deportes/diosa-barrett-y-jennie-lakip-cuentan-los-minutos/6VK4TSNG4FGVNF6Z5HI5VH5RAA/story/\n",
      "14 https://www.lateja.cr/deportes/manudos-dieron-el-visto-bueno-para-su-nueva/WPRWCX7ZAFAT3CLTHESWLZVHVY/story/\n",
      "15 https://www.lateja.cr/deportes/mama-de-francisco-calvo-le-falto-un-poco-de/LIFEPIXCYVDS5JISADMMHWVN4Q/story/\n",
      "16 https://www.lateja.cr/deportes/conozca-la-historia-de-amor-entre-un-brumoso-y-un/AI3YWS2TYFH6REQXHIDTSCDWCQ/story/\n",
      "17 https://www.lateja.cr/deportes/centroamerica-llega-a-tokio-muy-bien-representada/WGZO7DJFFREZ5KPTLYRK7H2DCY/story/\n",
      "18 https://www.lateja.cr/deportes/johan-venegas-personalmente-me-gusta-mucho-la-idea/VUXB75DYLFD2BJTZ4H6V6V6E7Q/story/\n",
      "19 https://www.lateja.cr/deportes/luis-fernando-suarez-le-dije-a-los-jugadores-que/MITIC4UWO5FPRL7767HYG3NRPY/story/\n",
      "20 https://www.lateja.cr/deportes/jamaica-sufrio-pero-le-gano-a-guadalupe-y/TJA6ZATPSBGEPANVWTMMFLFBIU/story/\n",
      "21 https://www.lateja.cr/deportes/randall-poveda-nuevo-presidente-de-la-comision-de/5GFBXZQV7REZPGDVNQ4TS2G65I/story/\n",
      "22 https://www.lateja.cr/deportes/aficionados-saprissistas-teniran-chepe-de-morado-y/I3Q2A2VQVNETXDZF2ZNZY2SHP4/story/\n",
      "23 https://www.lateja.cr/deportes/saprissa-femenino-se-juega-mucho-mas-que-tres/P37RYYMLJJE53IQAN5GG2APHYY/story/\n",
      "24 https://www.lateja.cr/deportes/familia-saprissista-esta-feliz-por-los-86-anos-del/MGYYUF4YVRBH3OSXT75FPMFIUE/story/\n",
      "25 https://www.lateja.cr/deportes/jugador-luis-diaz-se-dedico-a-construir-el-futuro/HHTQXBUWKZEIVKOHT5THPOPL5E/story/\n",
      "26 https://www.lateja.cr/deportes/saprissa-iniciara-la-preventa-de-su-nueva-chema/TIFF7CAFSRCUFOS7ANM47RFKRQ/story/\n",
      "27 https://www.lateja.cr/deportes/diputado-rodolfo-pena-esta-delicado-por-covid-19/RNK56ZPOBFGDRGY4QWRIQYDAKU/story/\n",
      "28 https://www.lateja.cr/deportes/socios-liguistas-podran-ver-en-realidad-virtual-el/EEBFJFTTPZHFJHFAGYFX6ATJMQ/story/\n",
      "29 https://www.lateja.cr/deportes/atletas-andrea-y-noelia-vargas-fueron-homenajeadas/LPEO7TD6MZC4RH5TDDFIHQA2LM/story/\n",
      "30 https://www.lateja.cr/deportes/luis-fernando-suarez-hara-cambios-tengo-que/6NK2JC6HPJC63LJJ5BBDLVTBSQ/story/\n",
      "31 https://www.lateja.cr/deportes/luis-suarez-lleva-a-la-sele-lentes-de-ultima/5SKK4Y6PVVEYHC6M6VV7MITW7Y/story/\n",
      "32 https://www.lateja.cr/deportes/leonas-buscaran-hundir-a-saprissa-en-clasico/XB3BEFMOPRHT7C5BFOD4PQQFTY/story/\n",
      "33 https://www.lateja.cr/deportes/mama-del-defensor-francisco-calvo-no-le-aguanta/DHRBT7GNBJHMDKIUACXE2FKFGM/story/\n",
      "34 https://www.lateja.cr/deportes/doblete-de-funes-mori-lleva-a-mexico-a-su-primer/7HZ6QHHUWFEAJH3VKIE5N3STUM/story/\n",
      "35 https://www.lateja.cr/deportes/sele-de-futsala-tendra-tres-fogueos-la-proxima/LSMXBJUZ4BBDFPYYFZKZ73LRKQ/story/\n",
      "36 https://www.lateja.cr/deportes/ronald-gomez-a-surinam-no-hay-que-darle-la-pelota/A6WM6GUMERA77GBWCPEFZORSWU/story/\n",
      "37 https://www.lateja.cr/deportes/video-orlando-sinclair-dice-que-la-renovacion-con/NFCFBLUJ6VACDC2UT5I4PVRWXQ/story/\n",
      "38 https://www.lateja.cr/deportes/keylor-navas-empezo-a-temblar-con-la-firma-de/ELJZY5KCE5EW7MEQGIVDQKBRTM/story/\n",
      "39 https://www.lateja.cr/deportes/roy-lassiter-al-entrenador-luis-fernando-suarez-no/ARBI5X62ZVEQPD6YLLGFG6NVJY/story/\n",
      "40 https://www.lateja.cr/deportes/al-volante-christopher-nunez-le-esta-costando/LBCLV37IKRHOVHQI3RX5A5OT2U/story/\n",
      "41 https://www.lateja.cr/deportes/exarbitro-azteca-armando-archundia-dice-que-huella/KM66WMPJSFEO5L544UXN5TMQFA/story/\n",
      "42 https://www.lateja.cr/deportes/video-atleta-arnoldo-herrera-nado-contra-corriente/SKV2NN2E2JD4FIL56P3XID4TUM/story/\n",
      "43 https://www.lateja.cr/deportes/kendall-waston-respetamos-y-sabemos-de-la-calidad/BZC7T35PQZC2LIRNY2GZMTUI4M/story/\n",
      "44 https://www.lateja.cr/deportes/luis-fernando-suarez-a-bryan-ruiz-le-falta-un-poco/CMXBBTZYEFCC3AHVDBT7KFQ35E/story/\n",
      "45 https://www.lateja.cr/deportes/costa-rica-estreno-el-var-en-la-copa-oro/L4WDUKQXWNDDREY6V3YJILC63Y/story/\n",
      "46 https://www.lateja.cr/deportes/jamaica-le-pone-un-poquito-de-reggae-a-la-copa-oro/PE2IRI7D3BAFHLVGOPTTCIGTQE/story/\n",
      "47 https://www.lateja.cr/deportes/mexico-pide-inhabilitar-al-arbitro-costarricense/2CDMVDRVDJBRNI5GAGKKZ7RNIE/story/\n",
      "48 https://www.lateja.cr/deportes/tio-sam-sufrio-mas-de-la-cuenta-para-derrotar-a/D543WGANYNBN7DDKUZMH6LL6SM/story/\n",
      "49 https://www.lateja.cr/deportes/heredianas-ganan-y-le-ponen-sabor-a-la-lucha-por/MRRUMJAHQNHJ3O7VZAX2TV2TAI/story/\n",
      "50 https://www.lateja.cr/deportes/alajuelense-regresa-doblemente-vacunado-de-sus/PYTU75VB3ZC4VE7SYUACQMHD3Q/story/\n",
      "51 https://www.lateja.cr/deportes/prensa-mexicana-esta-furiosa-con-su-seleccion-por/VZB5PMGSVZGWZH2W4PRNDKKWMM/story/\n",
      "52 https://www.lateja.cr/deportes/video-hirving-el-chucky-lozano-vera-el-resto-de-la/HRNGZESFWFBFROO7KMVJZ5TTJA/story/\n",
      "53 https://www.lateja.cr/deportes/gianluigi-donnarumma-es-el-heroe-de-la-italia/VK752IFQYNF6BD3WEVDXQWL25I/story/\n",
      "54 https://www.lateja.cr/deportes/luis-fernando-suarez-quiero-competir-para-ganar-la/TYZC3SSGABFVNASJUVZATGRGRE/story/\n",
      "55 https://www.lateja.cr/deportes/jennie-lakip-tiene-el-power-y-leonas-rugieron-ante/6PPZPOXXHNDJHFDJ4SHM2VOTUI/story/\n",
      "56 https://www.lateja.cr/deportes/a-messi-lo-recibieron-en-argentina-con-tremenda/3G6TICH5DJHX3IPG25WWQCPICQ/story/\n",
      "57 https://www.lateja.cr/deportes/el-millonario-richard-branson-logra-su-sueno-de/N65AROUMBBHPJNVAAM7ME5SMAY/story/\n",
      "58 https://www.lateja.cr/deportes/neymar-a-messi-mi-hermano-y-amigo-quede-triste/IPO3F2VMKVAQPMCEEXVLQ54ONU/story/\n",
      "59 https://www.lateja.cr/deportes/olvidese-de-esta-frase-si-no-sudo-no-bajo-peso/X4VLVAQ45RD2VBIGBGHDKAVIRI/story/\n",
      "60 https://www.lateja.cr/deportes/chineada-le-cumple-un-sueno-al-mecanico-que-la/T3QH2PLPYZGYJLTADKTXGCUF2U/story/\n",
      "61 https://www.lateja.cr/deportes/video-arbitro-tico-ricardo-montero-debuto-en-la/EQ54CIQ6UNC6PNRALDLHMERN2E/story/\n",
      "62 https://www.lateja.cr/deportes/argentina-consiguio-un-maracanazo-en-la-copa/SQC2CSV47FASHF2UXPSAQE25YQ/story/\n",
      "63 https://www.lateja.cr/deportes/ninguno-pudo-con-los-cachorros-del-herediano-en/22IUTKZZXNAZ3OOC4JRQFPYRJY/story/\n",
      "64 https://www.lateja.cr/deportes/covid-19-se-paseo-en-la-pretemporada-de/LBH6WAGQZRE6LP2FTCRYBMECBU/story/\n",
      "65 https://www.lateja.cr/deportes/inglaterra-italia-una-final-de-euro-imperial-en/6BQIFIDWCJCDXPV2CEZTRA47BU/story/\n",
      "66 https://www.lateja.cr/deportes/tom-cruise-ya-eligio-equipo-en-la-final-de-la/XUIPA4EYSNCHZJ72MERPHRRMYM/story/\n",
      "67 https://www.lateja.cr/deportes/mexicano-rafael-loredo-se-comera-la-bronca-de/RWYXMXRGSZHEZFB5BFO6LIBBLE/story/\n",
      "68 https://www.lateja.cr/deportes/sele-va-a-copa-oro-con-un-tecnico-con-credibilidad/EJAOSASVKBAB7I5W3JXPPNQ3LE/story/\n",
      "69 https://www.lateja.cr/deportes/moradas-pasan-del-enojo-a-la-frustracion-tras/RHV5JRGKNFENLJXC63VPK4KB2Q/story/\n",
      "70 https://www.lateja.cr/deportes/gracias-a-dos-golazos-de-luis-diaz-colombia-se/U34WSJ42QJHPDH4VNTPNV622AE/story/\n",
      "71 https://www.lateja.cr/deportes/rio-de-janeiro-aprueba-entrada-de-publico-para-la/5DJJE6IZ5ZDCHNKMKJTTP6DHVY/story/\n",
      "72 https://www.lateja.cr/deportes/fallecio-el-exjugador-limonense-allard-plummer/LJP3XNHZEZHCFKYDVJXP34BDOA/story/\n"
     ]
    }
   ],
   "source": [
    "corpus = BeautifulSoup(driver.page_source, 'lxml')\n",
    "results_sets=corpus.find_all('div', class_='results-list-container')\n",
    "links=[]\n",
    "for result_set in results_sets:\n",
    "    links+=result_set.find_all('a', href=True)\n",
    "\n",
    "print(len(links))\n",
    "count=1;\n",
    "links_article=[]\n",
    "for i in links:\n",
    "    if i.has_attr('href') and \"story\" in i['href'] and \"https://www.lateja.cr/\"+i['href'] not in links_article :\n",
    "        print(count,\"https://www.lateja.cr\"+i['href'])\n",
    "        links_article.append(\"https://www.lateja.cr/\"+i['href'])\n",
    "        count+=1"
   ]
  }
 ],
 "metadata": {
  "kernelspec": {
   "display_name": "Python 3",
   "language": "python",
   "name": "python3"
  },
  "language_info": {
   "codemirror_mode": {
    "name": "ipython",
    "version": 3
   },
   "file_extension": ".py",
   "mimetype": "text/x-python",
   "name": "python",
   "nbconvert_exporter": "python",
   "pygments_lexer": "ipython3",
   "version": "3.8.5"
  }
 },
 "nbformat": 4,
 "nbformat_minor": 4
}

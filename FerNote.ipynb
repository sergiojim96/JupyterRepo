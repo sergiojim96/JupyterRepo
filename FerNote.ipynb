{
 "cells": [
  {
   "cell_type": "code",
   "execution_count": 1,
   "metadata": {},
   "outputs": [],
   "source": [
    "import requests\n",
    "from bs4 import BeautifulSoup"
   ]
  },
  {
   "cell_type": "code",
   "execution_count": 2,
   "metadata": {},
   "outputs": [],
   "source": [
    "req = requests.get(\"https://www.lateja.cr/deportes/colombiano-luis-fernando-suarez-es-el-nuevo/NLG3T5S2PFFSBF73TH5TLXONX4/story/\").content\n",
    "soup = BeautifulSoup(req, 'lxml')\n",
    "article = soup.find('article')  ## not a real thing"
   ]
  },
  {
   "cell_type": "code",
   "execution_count": 3,
   "metadata": {},
   "outputs": [
    {
     "data": {
      "text/plain": [
       "'Colombiano Luis Fernando Suárez es el nuevo técnico de Costa Rica'"
      ]
     },
     "execution_count": 3,
     "metadata": {},
     "output_type": "execute_result"
    }
   ],
   "source": [
    "title = soup.find('div', class_='headline-hed-last').text\n",
    "title"
   ]
  },
  {
   "cell_type": "code",
   "execution_count": 4,
   "metadata": {},
   "outputs": [
    {
     "data": {
      "text/plain": [
       "' El colombiano Luis Fernando Suárez es el nuevo entrenador de la selección de Costa Rica, así lo dio a conocer la Fedefútbol este lunes.'"
      ]
     },
     "execution_count": 4,
     "metadata": {},
     "output_type": "execute_result"
    }
   ],
   "source": [
    "match = soup.find('p', class_='element element-paragraph').text\n",
    "match"
   ]
  },
  {
   "cell_type": "code",
   "execution_count": 5,
   "metadata": {},
   "outputs": [
    {
     "data": {
      "text/plain": [
       "<ul class=\"nav navbar-nav navbar-center\"> <li><a href=\"/\"><img alt=\"logo-mobile\" src=\"/pb/resources/assets/la_teja/img/LT.png\"/></a></li> </ul>"
      ]
     },
     "execution_count": 5,
     "metadata": {},
     "output_type": "execute_result"
    }
   ],
   "source": [
    "ulist = soup.find(\"ul\")\n",
    "ulist"
   ]
  },
  {
   "cell_type": "code",
   "execution_count": 6,
   "metadata": {},
   "outputs": [
    {
     "data": {
      "text/plain": [
       "<a href=\"/\"><img alt=\"logo-mobile\" src=\"/pb/resources/assets/la_teja/img/LT.png\"/></a>"
      ]
     },
     "execution_count": 6,
     "metadata": {},
     "output_type": "execute_result"
    }
   ],
   "source": [
    "items = ulist.find_all('li') and soup.find('a')\n",
    "items # donde solo hay un a dentro de un ul"
   ]
  },
  {
   "cell_type": "code",
   "execution_count": 7,
   "metadata": {},
   "outputs": [
    {
     "data": {
      "text/plain": [
       "[<a href=\"/\"><img alt=\"logo-mobile\" src=\"/pb/resources/assets/la_teja/img/LT.png\"/></a>,\n",
       " <a class=\"navbar-brand\" href=\"#menu-toggle\" id=\"menu-toggle\"> <span class=\"burger-logo-menu hidden-sm hidden-xs\">Secciones</span> </a>,\n",
       " <a href=\"/deportes\">Deportes</a>,\n",
       " <a href=\"/farandula\">Farándula</a>,\n",
       " <a href=\"/galerias/\">Galerías</a>,\n",
       " <a href=\"/internacionales\">Internacionales</a>,\n",
       " <a href=\"/nacional\">Nacional</a>,\n",
       " <a href=\"/sucesos\">Sucesos</a>,\n",
       " <a href=\"/el-novelon\">El Novelón</a>,\n",
       " <a href=\"/\"> <img alt=\"logo-desktop\" data-mast-url=\"/\" src=\"/pb/resources/assets/la_teja/img/LT.png\"/> </a>,\n",
       " <a href=\"\">No, gracias</a>,\n",
       " <a data-ssoaction=\"pre-login\" href=\"#\" style=\"padding-top: 8px;\"> <span class=\"username-nav\">Ingresar</span> </a>,\n",
       " <a class=\"btn-lnk hidden-lg hidden-md\" href=\"http://impreso.nacion.com\">Ver impreso</a>,\n",
       " <a class=\"btn-lnk hidden-lg hidden-md\" href=\"https://sso.gruponacion.biz/public/boletin\">Recibir boletines</a>,\n",
       " <a class=\"btn-lnk hidden-lg hidden-md\" href=\"/gnfactory/apps/landing/index.html\">Descargar aplicaciones</a>,\n",
       " <a aria-expanded=\"false\" class=\"dropdown-toggle\" data-toggle=\"dropdown\" href=\"#\" id=\"abierto\" style=\"padding-top: 5px;\"> <span class=\"username-nav\" data-ssoaction=\"pre-editprofile\" data-ssousername=\"true\"></span> <i class=\"glyphicon glyphicon-menu-down\"></i> </a>,\n",
       " <a class=\"suscribe-link\" href=\"\"></a>,\n",
       " <a class=\"profile\" href=\"#\" target=\"_blank\">Mis beneficios</a>,\n",
       " <a class=\"profile\" href=\"https://sso.gruponacion.biz/public/newsletter?utm_source=website&amp;utm_medium=menu&amp;utm_campaign=menu_boletines\" target=\"_blank\">Recibir boletines</a>,\n",
       " <a class=\"profile\" href=\"http://subscriber.nacion.com/custompages/GrupoNacion/GNSubscribe.aspx\" target=\"_blank\">Ver impreso</a>,\n",
       " <a class=\"profile\" href=\"/gnfactory/apps/landing/index.html\" target=\"_blank\">Descargar aplicaciones</a>,\n",
       " <a data-ssoaction=\"pre-logout\" href=\"\"> <div class=\"profile-ad\"> <p class=\"saved\"> SALIR </p> </div> </a>,\n",
       " <a aria-expanded=\"false\" class=\"dropdown-toggle\" data-toggle=\"dropdown\" href=\"#\" id=\"abierto-mobile\" style=\"padding-top: 5px;\"> <span class=\"username-nav\" data-ssoaction=\"pre-editprofile\" data-ssousername=\"true\"></span> <i class=\"glyphicon glyphicon-menu-down\"></i> </a>,\n",
       " <a class=\"suscribe-link\" href=\"\"></a>,\n",
       " <a class=\"profile\" href=\"#\" target=\"_blank\">Mis beneficios</a>,\n",
       " <a class=\"profile\" href=\"https://sso.gruponacion.biz/public/newsletter?utm_source=website&amp;utm_medium=menu&amp;utm_campaign=menu_boletines\" target=\"_blank\">Recibir boletines</a>,\n",
       " <a class=\"profile\" href=\"http://subscriber.nacion.com/custompages/GrupoNacion/GNSubscribe.aspx\" target=\"_blank\">Ver impreso</a>,\n",
       " <a class=\"profile\" href=\"/gnfactory/apps/landing/index.html\" target=\"_blank\">Descargar aplicaciones</a>,\n",
       " <a data-ssoaction=\"pre-logout\" href=\"\"> <div class=\"profile-ad\"> <p class=\"saved\"> SALIR </p> </div> </a>,\n",
       " <a href=\"/\"><span class=\"home-icon\">Inicio</span> </a>,\n",
       " <a href=\"/deportes\">Deportes</a>,\n",
       " <a href=\"/farandula\">Farándula</a>,\n",
       " <a href=\"/galerias/\">Galerías</a>,\n",
       " <a href=\"/internacionales\">Internacionales</a>,\n",
       " <a href=\"/nacional\">Nacional</a>,\n",
       " <a href=\"/sucesos\">Sucesos</a>,\n",
       " <a href=\"/el-novelon\">El Novelón</a>,\n",
       " <a aria-expanded=\"false\" class=\"dropdown-toggle menu-vertical\" data-toggle=\"collapse\" href=\"#pageSubmenuExtra-2\"> <span>Negocios</span> <span class=\"submenu-row\"><i class=\"glyphicon glyphicon-menu-down\"></i></span> </a>,\n",
       " <a href=\"https://todobusco.com/\" style=\"font-weight: normal;\" target=\"_blank\">Todo Busco</a>,\n",
       " <a href=\"http://www.elempleo.com/\" style=\"font-weight: normal;\" target=\"_blank\">El Empleo</a>,\n",
       " <a href=\"http://www.parqueviva.com/\" style=\"font-weight: normal;\" target=\"_blank\">Parque Viva</a>,\n",
       " <a href=\"http://www.yuplon.com/\" style=\"font-weight: normal;\" target=\"_blank\">Yuplón</a>,\n",
       " <a href=\"http://www.fussio.com/\" style=\"font-weight: normal;\" target=\"_blank\">Fussio</a>,\n",
       " <a href=\"http://www.printea.com/\" style=\"font-weight: normal;\" target=\"_blank\">Printea</a>,\n",
       " <a aria-expanded=\"false\" class=\"dropdown-toggle menu-vertical\" data-toggle=\"collapse\" href=\"#pageSubmenuExtra-3\"> <span>Publicaciones</span> <span class=\"submenu-row\"><i class=\"glyphicon glyphicon-menu-down\"></i></span> </a>,\n",
       " <a href=\"http://www.elfinancierocr.com\" style=\"font-weight: normal;\" target=\"_blank\">El Financiero</a>,\n",
       " <a href=\"http://www.lateja.cr\" style=\"font-weight: normal;\" target=\"_blank\">La Teja</a>,\n",
       " <a href=\"https://www.revistaperfil.com/\" style=\"font-weight: normal;\" target=\"_blank\">Perfil</a>,\n",
       " <a aria-expanded=\"false\" class=\"dropdown-toggle menu-vertical\" data-toggle=\"collapse\" href=\"#pageSubmenuExtra-4\"> <span>Productos GN</span> <span class=\"submenu-row\"><i class=\"glyphicon glyphicon-menu-down\"></i></span> </a>,\n",
       " <a href=\"https://www.nacion.com/gruponacion/\" style=\"font-weight: normal;\" target=\"_blank\">Grupo Nación</a>,\n",
       " <a href=\"https://www.nacion.com/suscripciones/oferta/33/?offerId=33&amp;utm_source=home&amp;utm_medium=button&amp;utm_campaign=suscribase_footer_menuvertical_ln\">Planes de suscripción</a>,\n",
       " <a href=\"http://gncpassword.com/mediakit.php\">Anúnciese</a>,\n",
       " <a href=\"https://www.nacion.com/gnfactory/especiales/gruponacion/estados-financieros.html\">Estados Financieros</a>,\n",
       " <a href=\"https://www.nacion.com/gnfactory/especiales/gruponacion/condiciones.html\">Condiciones de uso</a>,\n",
       " <a href=\"https://www.nacion.com/gnfactory/especiales/gruponacion/privacidad.html\">Políticas de privacidad</a>,\n",
       " <a href=\"/deportes/\">Deportes</a>,\n",
       " <a href=\"mailto:?subject=Colombiano%20Luis%20Fernando%20Su%C3%A1rez%20es%20el%20nuevo%20t%C3%A9cnico%20de%20Costa%20Rica&amp;body=https%3A%2F%2Fwww.lateja.cr%2Fdeportes%2Fcolombiano-luis-fernando-suarez-es-el-nuevo%2FNLG3T5S2PFFSBF73TH5TLXONX4%2Fstory%2F\" target=\"_blank\"> <div class=\"social-tools\"> <div class=\"tool email\"><span class=\"hideText\">Share on Email</span><span class=\"fa fa-envelope\"></span></div> </div> </a>,\n",
       " <a href=\"https://plus.google.com/share?url=https%3A%2F%2Fwww.lateja.cr%2Fdeportes%2Fcolombiano-luis-fernando-suarez-es-el-nuevo%2FNLG3T5S2PFFSBF73TH5TLXONX4%2Fstory%2F\" target=\"_blank\"> <div class=\"social-tools\"> <div class=\"tool google-plus\"><span class=\"hideText\">Share on G+</span><span class=\"fa fa-google-plus\"></span></div> </div> </a>,\n",
       " <a href=\"https://twitter.com/share?url=https%3A%2F%2Fwww.lateja.cr%2Fdeportes%2Fcolombiano-luis-fernando-suarez-es-el-nuevo%2FNLG3T5S2PFFSBF73TH5TLXONX4%2Fstory%2F&amp;text=Colombiano+Luis+Fernando+Su%C3%A1rez+es+el+nuevo+t%C3%A9cnico+de+Costa+Rica\" target=\"_blank\"> <div class=\"social-tools\"> <div class=\"tool twitter\"><span class=\"hideText\">Share on Twitter</span><span class=\"fa fa-twitter\"></span></div> </div> </a>,\n",
       " <a href=\"https://www.facebook.com/sharer/sharer.php?u=https%3A%2F%2Fwww.lateja.cr%2Fdeportes%2Fcolombiano-luis-fernando-suarez-es-el-nuevo%2FNLG3T5S2PFFSBF73TH5TLXONX4%2Fstory%2F\" target=\"_blank\"> <div class=\"social-tools\"> <div class=\"tool facebook\"><span class=\"hideText\">Share on Facebook</span><span class=\"fa fa-facebook-square\"></span></div> </div> </a>,\n",
       " <a onclick=\"window.open('https://www.facebook.com/sharer/sharer.php?u=https%3A%2F%2Fwww.lateja.cr%2Fdeportes%2Fcolombiano-luis-fernando-suarez-es-el-nuevo%2FNLG3T5S2PFFSBF73TH5TLXONX4%2Fstory%2F','share_facebook','width=658,height=354,scrollbars=no');\" tabindex=\"_tbidx_\"> <div class=\"facebook tool first\"> <span class=\"hideText\">Share on Facebook</span> <span class=\"ico-share facebook-share ga-click-tracker\" data-click-action=\"Facebook Share - top\" data-click-category=\"Sharebar\" data-click-label=\"/deportes/colombiano-luis-fernando-suarez-es-el-nuevo/NLG3T5S2PFFSBF73TH5TLXONX4/story/\"> </span> </div> </a>,\n",
       " <a onclick=\"window.open('https://twitter.com/share?url=https%3A%2F%2Fwww.lateja.cr%2Fdeportes%2Fcolombiano-luis-fernando-suarez-es-el-nuevo%2FNLG3T5S2PFFSBF73TH5TLXONX4%2Fstory%2F&amp;text=Colombiano+Luis+Fernando+Su%C3%A1rez+es+el+nuevo+t%C3%A9cnico+de+Costa+Rica','share_twitter','width=550, height=350, scrollbars=no');\" tabindex=\"_tbidx_\"> <div class=\"twitter tool\"> <span class=\"hideText\">Share on Twitter</span> <span class=\"ico-share twitter-share ga-click-tracker\" data-click-action=\"Twitter Share - top\" data-click-category=\"Sharebar\" data-click-label=\"/deportes/colombiano-luis-fernando-suarez-es-el-nuevo/NLG3T5S2PFFSBF73TH5TLXONX4/story/\"> </span> </div> </a>,\n",
       " <a onclick=\"window.location.href = 'mailto:?subject=Colombiano%20Luis%20Fernando%20Su%C3%A1rez%20es%20el%20nuevo%20t%C3%A9cnico%20de%20Costa%20Rica&amp;body=https%3A%2F%2Fwww.lateja.cr%2Fdeportes%2Fcolombiano-luis-fernando-suarez-es-el-nuevo%2FNLG3T5S2PFFSBF73TH5TLXONX4%2Fstory%2F';\" tabindex=\"_tbidx_\"> <div class=\"email tool\"> <span class=\"hideText\">Share via Email</span> <span class=\"ico-share mail-share ga-click-tracker\" data-click-action=\"Email Share - top\" data-click-category=\"Sharebar\" data-click-label=\"/deportes/colombiano-luis-fernando-suarez-es-el-nuevo/NLG3T5S2PFFSBF73TH5TLXONX4/story/\"> </span> </div> </a>,\n",
       " <a onclick=\"window.location.href = 'whatsapp://send?text=Colombiano+Luis+Fernando+Su%C3%A1rez+es+el+nuevo+t%C3%A9cnico+de+Costa+Rica+-+https%3A%2F%2Fwww.lateja.cr%2Fdeportes%2Fcolombiano-luis-fernando-suarez-es-el-nuevo%2FNLG3T5S2PFFSBF73TH5TLXONX4%2Fstory%2F';\" tabindex=\"_tbidx_\"> <div class=\"whatsapp tool last\"> <span class=\"hideText\">Share on Whatsapp</span> <span class=\"ico-share whatsapp-share ga-click-tracker\" data-click-action=\"Whatsapp Share - top\" data-click-category=\"Sharebar\" data-click-label=\"/deportes/colombiano-luis-fernando-suarez-es-el-nuevo/NLG3T5S2PFFSBF73TH5TLXONX4/story/\"> </span> </div> </a>,\n",
       " <a href=\"/autores/sergio-alvarado/\" rel=\"/autores/sergio-alvarado/\">Sergio Alvarado</a>,\n",
       " <a href=\"/etiqueta/Luis+Fernando+Suárez/\">Luis Fernando Suárez</a>,\n",
       " <a href=\"/etiqueta/Selección+Costa+Rica/\">Selección Costa Rica</a>,\n",
       " <a href=\"/etiqueta/entrenador+Costa+Rica/\">entrenador Costa Rica</a>,\n",
       " <a class=\"button_horizontal\" id=\"darwinTest\" style=\"background-color:#F48024\">Registrarse</a>,\n",
       " <a>Su correo se ha registrado correctamente.</a>,\n",
       " <a href=\"mailto:?subject=Colombiano%20Luis%20Fernando%20Su%C3%A1rez%20es%20el%20nuevo%20t%C3%A9cnico%20de%20Costa%20Rica&amp;body=https%3A%2F%2Fwww.lateja.cr%2Fdeportes%2Fcolombiano-luis-fernando-suarez-es-el-nuevo%2FNLG3T5S2PFFSBF73TH5TLXONX4%2Fstory%2F\" target=\"_blank\"> <div class=\"social-tools\"> <div class=\"tool email\"><span class=\"hideText\">Share on Email</span><span class=\"fa fa-envelope\"></span></div> </div> </a>,\n",
       " <a href=\"https://plus.google.com/share?url=https%3A%2F%2Fwww.lateja.cr%2Fdeportes%2Fcolombiano-luis-fernando-suarez-es-el-nuevo%2FNLG3T5S2PFFSBF73TH5TLXONX4%2Fstory%2F\" target=\"_blank\"> <div class=\"social-tools\"> <div class=\"tool google-plus\"><span class=\"hideText\">Share on G+</span><span class=\"fa fa-google-plus\"></span></div> </div> </a>,\n",
       " <a href=\"https://twitter.com/share?url=https%3A%2F%2Fwww.lateja.cr%2Fdeportes%2Fcolombiano-luis-fernando-suarez-es-el-nuevo%2FNLG3T5S2PFFSBF73TH5TLXONX4%2Fstory%2F&amp;text=Colombiano+Luis+Fernando+Su%C3%A1rez+es+el+nuevo+t%C3%A9cnico+de+Costa+Rica\" target=\"_blank\"> <div class=\"social-tools\"> <div class=\"tool twitter\"><span class=\"hideText\">Share on Twitter</span><span class=\"fa fa-twitter\"></span></div> </div> </a>,\n",
       " <a href=\"https://www.facebook.com/sharer/sharer.php?u=https%3A%2F%2Fwww.lateja.cr%2Fdeportes%2Fcolombiano-luis-fernando-suarez-es-el-nuevo%2FNLG3T5S2PFFSBF73TH5TLXONX4%2Fstory%2F\" target=\"_blank\"> <div class=\"social-tools\"> <div class=\"tool facebook\"><span class=\"hideText\">Share on Facebook</span><span class=\"fa fa-facebook-square\"></span></div> </div> </a>,\n",
       " <a onclick=\"window.open('https://www.facebook.com/sharer/sharer.php?u=https%3A%2F%2Fwww.lateja.cr%2Fdeportes%2Fcolombiano-luis-fernando-suarez-es-el-nuevo%2FNLG3T5S2PFFSBF73TH5TLXONX4%2Fstory%2F','share_facebook','width=658,height=354,scrollbars=no');\" tabindex=\"_tbidx_\"> <div class=\"facebook tool first\"> <span class=\"hideText\">Share on Facebook</span> <span class=\"ico-share facebook-share ga-click-tracker\" data-click-action=\"Facebook Share - bottom\" data-click-category=\"Sharebar\" data-click-label=\"/deportes/colombiano-luis-fernando-suarez-es-el-nuevo/NLG3T5S2PFFSBF73TH5TLXONX4/story/\"> </span> </div> </a>,\n",
       " <a onclick=\"window.open('https://twitter.com/share?url=https%3A%2F%2Fwww.lateja.cr%2Fdeportes%2Fcolombiano-luis-fernando-suarez-es-el-nuevo%2FNLG3T5S2PFFSBF73TH5TLXONX4%2Fstory%2F&amp;text=Colombiano+Luis+Fernando+Su%C3%A1rez+es+el+nuevo+t%C3%A9cnico+de+Costa+Rica','share_twitter','width=550, height=350, scrollbars=no');\" tabindex=\"_tbidx_\"> <div class=\"twitter tool\"> <span class=\"hideText\">Share on Twitter</span> <span class=\"ico-share twitter-share ga-click-tracker\" data-click-action=\"Twitter Share - bottom\" data-click-category=\"Sharebar\" data-click-label=\"/deportes/colombiano-luis-fernando-suarez-es-el-nuevo/NLG3T5S2PFFSBF73TH5TLXONX4/story/\"> </span> </div> </a>,\n",
       " <a onclick=\"window.location.href = 'mailto:?subject=Colombiano%20Luis%20Fernando%20Su%C3%A1rez%20es%20el%20nuevo%20t%C3%A9cnico%20de%20Costa%20Rica&amp;body=https%3A%2F%2Fwww.lateja.cr%2Fdeportes%2Fcolombiano-luis-fernando-suarez-es-el-nuevo%2FNLG3T5S2PFFSBF73TH5TLXONX4%2Fstory%2F';\" tabindex=\"_tbidx_\"> <div class=\"email tool\"> <span class=\"hideText\">Share via Email</span> <span class=\"ico-share mail-share ga-click-tracker\" data-click-action=\"Email Share - bottom\" data-click-category=\"Sharebar\" data-click-label=\"/deportes/colombiano-luis-fernando-suarez-es-el-nuevo/NLG3T5S2PFFSBF73TH5TLXONX4/story/\"> </span> </div> </a>,\n",
       " <a onclick=\"window.location.href = 'whatsapp://send?text=Colombiano+Luis+Fernando+Su%C3%A1rez+es+el+nuevo+t%C3%A9cnico+de+Costa+Rica+-+https%3A%2F%2Fwww.lateja.cr%2Fdeportes%2Fcolombiano-luis-fernando-suarez-es-el-nuevo%2FNLG3T5S2PFFSBF73TH5TLXONX4%2Fstory%2F';\" tabindex=\"_tbidx_\"> <div class=\"whatsapp tool last\"> <span class=\"hideText\">Share on Whatsapp</span> <span class=\"ico-share whatsapp-share ga-click-tracker\" data-click-action=\"Whatsapp Share - bottom\" data-click-category=\"Sharebar\" data-click-label=\"/deportes/colombiano-luis-fernando-suarez-es-el-nuevo/NLG3T5S2PFFSBF73TH5TLXONX4/story/\"> </span> </div> </a>,\n",
       " <a href=\"/autores/sergio-alvarado/\">Sergio Alvarado</a>,\n",
       " <a href=\"mailto:sergio.alvarado@lateja.cr\"><img src=\"/pb/resources/gncomun/global/author-bio/img/author_mail.svg\"/></a>,\n",
       " <a href=\"mailto:?subject=Colombiano%20Luis%20Fernando%20Su%C3%A1rez%20es%20el%20nuevo%20t%C3%A9cnico%20de%20Costa%20Rica&amp;body=https%3A%2F%2Fwww.lateja.cr%2Fdeportes%2Fcolombiano-luis-fernando-suarez-es-el-nuevo%2FNLG3T5S2PFFSBF73TH5TLXONX4%2Fstory%2F\" target=\"_blank\"> <div class=\"social-tools\"> <div class=\"tool email\"><span class=\"hideText\">Share on Email</span><span class=\"fa fa-envelope\"></span></div> </div> </a>,\n",
       " <a href=\"https://plus.google.com/share?url=https%3A%2F%2Fwww.lateja.cr%2Fdeportes%2Fcolombiano-luis-fernando-suarez-es-el-nuevo%2FNLG3T5S2PFFSBF73TH5TLXONX4%2Fstory%2F\" target=\"_blank\"> <div class=\"social-tools\"> <div class=\"tool google-plus\"><span class=\"hideText\">Share on G+</span><span class=\"fa fa-google-plus\"></span></div> </div> </a>,\n",
       " <a href=\"https://twitter.com/share?url=https%3A%2F%2Fwww.lateja.cr%2Fdeportes%2Fcolombiano-luis-fernando-suarez-es-el-nuevo%2FNLG3T5S2PFFSBF73TH5TLXONX4%2Fstory%2F&amp;text=Colombiano+Luis+Fernando+Su%C3%A1rez+es+el+nuevo+t%C3%A9cnico+de+Costa+Rica\" target=\"_blank\"> <div class=\"social-tools\"> <div class=\"tool twitter\"><span class=\"hideText\">Share on Twitter</span><span class=\"fa fa-twitter\"></span></div> </div> </a>,\n",
       " <a href=\"https://www.facebook.com/sharer/sharer.php?u=https%3A%2F%2Fwww.lateja.cr%2Fdeportes%2Fcolombiano-luis-fernando-suarez-es-el-nuevo%2FNLG3T5S2PFFSBF73TH5TLXONX4%2Fstory%2F\" target=\"_blank\"> <div class=\"social-tools\"> <div class=\"tool facebook\"><span class=\"hideText\">Share on Facebook</span><span class=\"fa fa-facebook-square\"></span></div> </div> </a>,\n",
       " <a onclick=\"window.open('https://www.facebook.com/sharer/sharer.php?u=https%3A%2F%2Fwww.lateja.cr%2Fdeportes%2Fcolombiano-luis-fernando-suarez-es-el-nuevo%2FNLG3T5S2PFFSBF73TH5TLXONX4%2Fstory%2F','share_facebook','width=658,height=354,scrollbars=no');\" tabindex=\"_tbidx_\"> <div class=\"facebook tool first\"> <span class=\"hideText\">Share on Facebook</span> <span class=\"ico-share facebook-share ga-click-tracker\" data-click-action=\"Facebook Share - sticky\" data-click-category=\"Sharebar\" data-click-label=\"/deportes/colombiano-luis-fernando-suarez-es-el-nuevo/NLG3T5S2PFFSBF73TH5TLXONX4/story/\"> </span> </div> </a>,\n",
       " <a onclick=\"window.open('https://twitter.com/share?url=https%3A%2F%2Fwww.lateja.cr%2Fdeportes%2Fcolombiano-luis-fernando-suarez-es-el-nuevo%2FNLG3T5S2PFFSBF73TH5TLXONX4%2Fstory%2F&amp;text=Colombiano+Luis+Fernando+Su%C3%A1rez+es+el+nuevo+t%C3%A9cnico+de+Costa+Rica','share_twitter','width=550, height=350, scrollbars=no');\" tabindex=\"_tbidx_\"> <div class=\"twitter tool\"> <span class=\"hideText\">Share on Twitter</span> <span class=\"ico-share twitter-share ga-click-tracker\" data-click-action=\"Twitter Share - sticky\" data-click-category=\"Sharebar\" data-click-label=\"/deportes/colombiano-luis-fernando-suarez-es-el-nuevo/NLG3T5S2PFFSBF73TH5TLXONX4/story/\"> </span> </div> </a>,\n",
       " <a onclick=\"window.location.href = 'mailto:?subject=Colombiano%20Luis%20Fernando%20Su%C3%A1rez%20es%20el%20nuevo%20t%C3%A9cnico%20de%20Costa%20Rica&amp;body=https%3A%2F%2Fwww.lateja.cr%2Fdeportes%2Fcolombiano-luis-fernando-suarez-es-el-nuevo%2FNLG3T5S2PFFSBF73TH5TLXONX4%2Fstory%2F';\" tabindex=\"_tbidx_\"> <div class=\"email tool last\"> <span class=\"hideText\">Share via Email</span> <span class=\"ico-share mail-share ga-click-tracker\" data-click-action=\"Email Share - sticky\" data-click-category=\"Sharebar\" data-click-label=\"/deportes/colombiano-luis-fernando-suarez-es-el-nuevo/NLG3T5S2PFFSBF73TH5TLXONX4/story/\"> </span> </div> </a>,\n",
       " <a class=\"standard-link\" data-pb-field=\"custom.headline_1\" data-pb-field-type=\"text\" data-pb-url-field=\"custom.headlineURL_1\" href=\"https://www.facebook.com/latejaoficial/\"><li class=\"fa social-fa fa-redsocial-facebook\"><span>Facebook</span></li></a>,\n",
       " <a class=\"standard-link\" data-pb-field=\"custom.headline_5\" data-pb-field-type=\"text\" data-pb-url-field=\"custom.headlineURL_5\" href=\"https://twitter.com/LaTejacr\"><li class=\"extra fa social-fa fa-redsocial-twitter\"><span>Twitter</span></li></a>,\n",
       " <a class=\"standard-link\" data-pb-field=\"custom.headline_3\" data-pb-field-type=\"text\" data-pb-url-field=\"custom.headlineURL_3\" href=\"https://www.instagram.com/latejacr/\"><li class=\"extra fa social-fa fa-redsocial-instagram\"><span>Instagram</span></li></a>,\n",
       " <a href=\"/el-novelon/bombero-quedo-marcado-al-encontrar-una-familia/LHSRQUOULBFSVGJUIFO4VVFEW4/story/?utm_source=website&amp;utm_medium=feature-most-read&amp;utm_campaign=metered\">Bombero quedó marcado al encontrar una familia envenenada por su propia madre</a>,\n",
       " <a href=\"/farandula/lynda-diaz-esta-enamorada-y-le-grita-al-mundo-que/XLYBYCTX4BDGHCKLI72L4G5NEA/story/?utm_source=website&amp;utm_medium=feature-most-read&amp;utm_campaign=metered\">Lynda Díaz le grita al mundo que se volverá a casar</a>,\n",
       " <a href=\"/sucesos/esto-es-lo-que-deberan-pagar-los-duenos-de-meco-y/V7XYLAAPCVHZPO5XQBTRMIVXBU/story/?utm_source=website&amp;utm_medium=feature-most-read&amp;utm_campaign=metered\">Esto es lo que deberán pagar los dueños de Meco y H. Solís para salir de la cárcel</a>,\n",
       " <a href=\"/farandula/famosos-artistas-ponen-a-la-venta-su-mansion-con/NQD76HWBIRH7RL37GUD3SCABUQ/story/?utm_source=website&amp;utm_medium=feature-most-read&amp;utm_campaign=metered\">Famosos artistas ponen a la venta su mansión con acuario y peluquería incluidos </a>,\n",
       " <a href=\"/nacional/iglesia-catolica-impartio-el-primer-curso-sobre/EXPRPSGIOZAQ3HKBKR6WUVUNHU/story/?utm_source=website&amp;utm_medium=feature-most-read&amp;utm_campaign=metered\">Iglesia católica impartió el primer curso sobre exorcismo en el país</a>,\n",
       " <a> <br/> </a>,\n",
       " <a class=\"reglamento\" href=\"\" target=\"_blank\">Ver reglamento </a>,\n",
       " <a class=\"reglamento\" href=\"https://www.nacion.com/gnfactory/especiales/gruponacion/privacidad.html\" target=\"_blank\">Ver políticas de privacidad</a>,\n",
       " <a class=\"subscribe-button\" id=\"darwinTest\">Registrarse</a>,\n",
       " <a href=\"#\"> <g class=\"heartbeat\" id=\"BOTON\"> <g> <path d=\"M246,112.5c0,11.874-9.626,21.5-21.5,21.5H98.75c-11.874,0-21.5-9.626-21.5-21.5l0,0c0-11.874,9.626-21.5,21.5-21.5H224.5 C236.374,91,246,100.626,246,112.5L246,112.5z\"></path> <g> <path d=\"M245.083,110.417c0-11.874-9.626-21.5-21.5-21.5H98.333c-11.874,0-21.5,9.626-21.5,21.5 c0,0.057,0.008,0.11,0.009,0.167h168.232C245.075,110.527,245.083,110.474,245.083,110.417z\" fill=\"#FFEA0F\"></path> <path d=\"M76.842,110.584c0.09,11.796,9.674,21.333,21.491,21.333h125.25c11.817,0,21.4-9.537,21.491-21.333 H76.842z\" fill=\"#E9D11E\"></path> </g> <g> <path d=\"M130.378,117.101c-0.555,0-0.966-0.01-1.233-0.031l-1.326,4.472c-0.493,0.123-1.182,0.185-2.066,0.185 c-0.986,0-1.788-0.113-2.405-0.339l-0.154-0.247l6.784-20.689c0.801-0.123,1.737-0.185,2.806-0.185 c1.212,0,2.179,0.072,2.898,0.216l6.66,20.72c-0.72,0.391-1.531,0.586-2.436,0.586c-1.069,0-1.819-0.185-2.251-0.555 s-0.802-1.079-1.11-2.128l-0.586-2.035c-0.268,0.021-0.668,0.031-1.203,0.031H130.378z M130.286,113.216l1.233-0.031h2.251 c0.103,0,0.282,0.006,0.54,0.016c0.257,0.011,0.447,0.016,0.57,0.016l-0.524-1.912c-0.493-1.727-1.059-3.844-1.696-6.352h-0.185 c-0.165,0.884-0.658,2.848-1.48,5.89L130.286,113.216z\"></path> <path d=\"M156,124.717l-3.145-2.744c-1.418,0-2.693-0.242-3.823-0.725c-1.131-0.483-2.092-1.192-2.883-2.128 c-0.792-0.935-1.398-2.081-1.819-3.438c-0.422-1.357-0.632-2.919-0.632-4.688c0-1.746,0.201-3.299,0.602-4.655 s0.997-2.508,1.788-3.453c0.791-0.945,1.758-1.665,2.898-2.158c1.141-0.494,2.451-0.74,3.932-0.74s2.795,0.252,3.945,0.755 c1.152,0.504,2.117,1.229,2.898,2.174c0.781,0.946,1.373,2.097,1.773,3.453c0.4,1.357,0.602,2.898,0.602,4.625 c0,1.172-0.098,2.277-0.293,3.315s-0.482,1.973-0.863,2.806c-0.381,0.832-0.844,1.537-1.387,2.112 c-0.545,0.575-1.168,0.986-1.865,1.233l0.801,0.555c1.398,0.966,2.693,1.449,3.885,1.449c-0.041,1.048-0.354,1.896-0.939,2.544 s-1.404,0.971-2.451,0.971C158.016,125.98,157.008,125.559,156,124.717z M152.918,103.78c-2.775,0-4.163,2.405-4.163,7.215 c0,4.79,1.388,7.185,4.163,7.185c2.732,0,4.1-2.395,4.1-7.185C157.018,106.186,155.65,103.78,152.918,103.78z\"></path> <path d=\"M181.962,100.45v13.29c0,2.631-0.718,4.661-2.154,6.089c-1.436,1.429-3.487,2.144-6.155,2.144 c-2.667,0-4.725-0.715-6.171-2.144c-1.446-1.428-2.169-3.458-2.169-6.089v-13.29l0.216-0.216h1.819 c1.952,0,2.929,1.049,2.929,3.146v10.422c0,1.438,0.257,2.508,0.771,3.206c0.514,0.699,1.388,1.049,2.621,1.049 s2.107-0.35,2.621-1.049c0.514-0.698,0.771-1.768,0.771-3.206V100.45c0.634-0.123,1.45-0.185,2.451-0.185 C180.491,100.266,181.309,100.327,181.962,100.45z\"></path> <path d=\"M185.075,96.781l6.907-4.224c0.411,0.329,0.817,0.848,1.218,1.557c0.401,0.709,0.621,1.403,0.663,2.081l-7.4,2.898 c-0.329-0.185-0.627-0.503-0.894-0.956C185.302,97.687,185.138,97.233,185.075,96.781z M186.433,121.51v-21.06 c0.637-0.123,1.459-0.185,2.467-0.185c1.007,0,1.839,0.062,2.497,0.185v21.06c-0.658,0.123-1.49,0.185-2.497,0.185 C187.892,121.694,187.069,121.633,186.433,121.51z\"></path> </g> </g> </g></a>,\n",
       " <a class=\"headline\" href=\"http://impreso.nacion.com/?utm_source=home&amp;utm_medium=botton&amp;utm_campaign=suscribase_sidebar_quiosco_te\" target=\"\">Ver edición impresa</a>,\n",
       " <a href=\"https://www.lateja.cr/suscripciones/?utm_source=website&amp;utm_medium=button&amp;utm_campaign=suscribase_sidebar_quioscolt\" target=\"_blank\">Suscribirme a La Teja</a>,\n",
       " <a class=\"todays-img\" href=\"http://www.lateja.cr\"> <img alt=\"nuestra portada\" class=\"img-responsive\" src=\"https://arc-anglerfish-arc2-sandbox-sandbox-lanacioncr.s3.amazonaws.com/public/CJ3U5QSPBJDKPEYJX52ARVQBQA\"/> </a>,\n",
       " <a href=\"https://www.facebook.com/latejaoficial/\" target=\"_blank\"><img src=\"/pb/resources/gncomun/utilities/custom-links/img/facebook.svg\"/></a>,\n",
       " <a href=\"https://twitter.com/LaTejacr\" target=\"_blank\"><img src=\"/pb/resources/gncomun/utilities/custom-links/img/twitter.svg\"/></a>,\n",
       " <a href=\"https://www.instagram.com/latejacr/\" target=\"_blank\"><img src=\"/pb/resources/gncomun/utilities/custom-links/img/instagram.svg\"/></a>,\n",
       " <a class=\"standard-link\" data-pb-field=\"custom.headline_1\" data-pb-field-type=\"text\" data-pb-placeholder=\"Link #1\" data-pb-url-field=\"custom.headlineURL_1\" href=\"http://gncpassword.com/mediakit.php\">Anúnciese</a>,\n",
       " <a class=\"standard-link\" data-pb-field=\"custom.headline_2\" data-pb-field-type=\"text\" data-pb-placeholder=\"Link #2\" data-pb-url-field=\"custom.headlineURL_2\" href=\"https://www.nacion.com/blogs/noticias-grupo-nacion/\">Noticias Grupo Nación</a>,\n",
       " <a class=\"standard-link\" data-pb-field=\"custom.headline_3\" data-pb-field-type=\"text\" data-pb-placeholder=\"Link #3\" data-pb-url-field=\"custom.headlineURL_3\" href=\"http://www.gruponacion.co.cr/condiciones_de_uso\">Condiciones de uso</a>,\n",
       " <a class=\"standard-link\" data-pb-field=\"custom.headline_4\" data-pb-field-type=\"text\" data-pb-placeholder=\"Link #4\" data-pb-url-field=\"custom.headlineURL_4\" href=\"http://www.gruponacion.co.cr/?q=politicas\">Políticas de privacidad</a>,\n",
       " <a class=\"standard-link\" data-pb-field=\"custom.headline_5\" data-pb-field-type=\"text\" data-pb-placeholder=\"Link #5\" data-pb-url-field=\"custom.headlineURL_5\" href=\"https://www.nacion.com/el-pais/educacion/pocos-ingenieros-acaparan-millonarios-contratos/4KEGWBRESZF5JE7TRDOFXW5LRE/story/#\">Estados financieros</a>]"
      ]
     },
     "execution_count": 7,
     "metadata": {},
     "output_type": "execute_result"
    }
   ],
   "source": [
    "items = ulist.find_all('li') and soup.find_all('a')\n",
    "items # muestra todos los a dentro de un ul de la pagina"
   ]
  },
  {
   "cell_type": "code",
   "execution_count": 14,
   "metadata": {},
   "outputs": [
    {
     "data": {
      "text/plain": [
       "[<li class=\"0\"><a href=\"/deportes\">Deportes</a></li>,\n",
       " <li class=\"0\"><a href=\"/farandula\">Farándula</a></li>,\n",
       " <li class=\"0\"><a href=\"/galerias/\">Galerías</a></li>,\n",
       " <li class=\"0\"><a href=\"/internacionales\">Internacionales</a></li>,\n",
       " <li class=\"0\"><a href=\"/nacional\">Nacional</a></li>,\n",
       " <li class=\"0\"><a href=\"/sucesos\">Sucesos</a></li>,\n",
       " <li class=\"0\"><a href=\"/el-novelon\">El Novelón</a></li>]"
      ]
     },
     "execution_count": 14,
     "metadata": {},
     "output_type": "execute_result"
    }
   ],
   "source": [
    "items = soup.find('ul', class_=\"nav navbar-nav navbar-left\").find_all('li')\n",
    "items"
   ]
  },
  {
   "cell_type": "code",
   "execution_count": 20,
   "metadata": {},
   "outputs": [
    {
     "data": {
      "text/plain": [
       "'Deportes'"
      ]
     },
     "execution_count": 20,
     "metadata": {},
     "output_type": "execute_result"
    }
   ],
   "source": [
    "items[0].text"
   ]
  },
  {
   "cell_type": "code",
   "execution_count": 24,
   "metadata": {},
   "outputs": [
    {
     "name": "stdout",
     "output_type": "stream",
     "text": [
      "Deportes\n",
      "Farándula\n",
      "Galerías\n",
      "Internacionales\n",
      "Nacional\n",
      "Sucesos\n",
      "El Novelón\n"
     ]
    }
   ],
   "source": [
    "for x in items:\n",
    "    print(x.text)"
   ]
  },
  {
   "cell_type": "code",
   "execution_count": null,
   "metadata": {},
   "outputs": [],
   "source": []
  }
 ],
 "metadata": {
  "kernelspec": {
   "display_name": "Python 3",
   "language": "python",
   "name": "python3"
  },
  "language_info": {
   "codemirror_mode": {
    "name": "ipython",
    "version": 3
   },
   "file_extension": ".py",
   "mimetype": "text/x-python",
   "name": "python",
   "nbconvert_exporter": "python",
   "pygments_lexer": "ipython3",
   "version": "3.8.5"
  }
 },
 "nbformat": 4,
 "nbformat_minor": 4
}

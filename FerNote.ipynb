{
 "cells": [
  {
   "cell_type": "code",
   "execution_count": 34,
   "metadata": {},
   "outputs": [],
   "source": [
    "import requests\n",
    "from bs4 import BeautifulSoup\n",
    "import pandas as pd"
   ]
  },
  {
   "cell_type": "code",
   "execution_count": 22,
   "metadata": {},
   "outputs": [],
   "source": [
    "req = requests.get(\"https://www.lateja.cr/deportes/colombiano-luis-fernando-suarez-es-el-nuevo/NLG3T5S2PFFSBF73TH5TLXONX4/story/\").content\n",
    "soup = BeautifulSoup(req, 'lxml')\n",
    "article = soup.find('article')  ## not a real thing"
   ]
  },
  {
   "cell_type": "markdown",
   "metadata": {},
   "source": [
    "# Titulo 1"
   ]
  },
  {
   "cell_type": "code",
   "execution_count": 5,
   "metadata": {},
   "outputs": [
    {
     "data": {
      "text/plain": [
       "'Colombiano Luis Fernando Suárez es el nuevo técnico de Costa Rica'"
      ]
     },
     "execution_count": 5,
     "metadata": {},
     "output_type": "execute_result"
    }
   ],
   "source": [
    "title = soup.find('div', class_='headline-hed-last').text\n",
    "title"
   ]
  },
  {
   "cell_type": "code",
   "execution_count": 6,
   "metadata": {},
   "outputs": [
    {
     "data": {
      "text/plain": [
       "' El colombiano Luis Fernando Suárez es el nuevo entrenador de la selección de Costa Rica, así lo dio a conocer la Fedefútbol este lunes.'"
      ]
     },
     "execution_count": 6,
     "metadata": {},
     "output_type": "execute_result"
    }
   ],
   "source": [
    "match = soup.find('p', class_='element element-paragraph').text\n",
    "match"
   ]
  },
  {
   "cell_type": "code",
   "execution_count": 7,
   "metadata": {},
   "outputs": [
    {
     "data": {
      "text/plain": [
       "<ul class=\"nav navbar-nav navbar-center\"> <li><a href=\"/\"><img alt=\"logo-mobile\" src=\"/pb/resources/assets/la_teja/img/LT.png\"/></a></li> </ul>"
      ]
     },
     "execution_count": 7,
     "metadata": {},
     "output_type": "execute_result"
    }
   ],
   "source": [
    "ulist = soup.find(\"ul\")\n",
    "ulist"
   ]
  },
  {
   "cell_type": "code",
   "execution_count": 8,
   "metadata": {},
   "outputs": [
    {
     "data": {
      "text/plain": [
       "<a href=\"/\"><img alt=\"logo-mobile\" src=\"/pb/resources/assets/la_teja/img/LT.png\"/></a>"
      ]
     },
     "execution_count": 8,
     "metadata": {},
     "output_type": "execute_result"
    }
   ],
   "source": [
    "items = ulist.find_all('li') and soup.find('a')\n",
    "items # donde solo hay un a dentro de un ul"
   ]
  },
  {
   "cell_type": "code",
   "execution_count": 12,
   "metadata": {},
   "outputs": [
    {
     "name": "stdout",
     "output_type": "stream",
     "text": [
      "\n",
      " Secciones \n",
      "Deportes\n",
      "Farándula\n",
      "Galerías\n",
      "Internacionales\n",
      "Nacional\n",
      "Sucesos\n",
      "El Novelón\n",
      "  \n",
      "No, gracias\n",
      " Ingresar \n",
      "Ver impreso\n",
      "Recibir boletines\n",
      "Descargar aplicaciones\n",
      "   \n",
      "\n",
      "Mis beneficios\n",
      "Recibir boletines\n",
      "Ver impreso\n",
      "Descargar aplicaciones\n",
      "   SALIR   \n",
      "   \n",
      "\n",
      "Mis beneficios\n",
      "Recibir boletines\n",
      "Ver impreso\n",
      "Descargar aplicaciones\n",
      "   SALIR   \n",
      "Inicio \n",
      "Deportes\n",
      "Farándula\n",
      "Galerías\n",
      "Internacionales\n",
      "Nacional\n",
      "Sucesos\n",
      "El Novelón\n",
      " Negocios  \n",
      "Todo Busco\n",
      "El Empleo\n",
      "Parque Viva\n",
      "Yuplón\n",
      "Fussio\n",
      "Printea\n",
      " Publicaciones  \n",
      "El Financiero\n",
      "La Teja\n",
      "Perfil\n",
      " Productos GN  \n",
      "Grupo Nación\n",
      "Planes de suscripción\n",
      "Anúnciese\n",
      "Estados Financieros\n",
      "Condiciones de uso\n",
      "Políticas de privacidad\n",
      "Deportes\n",
      "  Share on Email  \n",
      "  Share on G+  \n",
      "  Share on Twitter  \n",
      "  Share on Facebook  \n",
      "  Share on Facebook    \n",
      "  Share on Twitter    \n",
      "  Share via Email    \n",
      "  Share on Whatsapp    \n",
      "Sergio Alvarado\n",
      "Luis Fernando Suárez\n",
      "Selección Costa Rica\n",
      "entrenador Costa Rica\n",
      "Registrarse\n",
      "Su correo se ha registrado correctamente.\n",
      "  Share on Email  \n",
      "  Share on G+  \n",
      "  Share on Twitter  \n",
      "  Share on Facebook  \n",
      "  Share on Facebook    \n",
      "  Share on Twitter    \n",
      "  Share via Email    \n",
      "  Share on Whatsapp    \n",
      "Sergio Alvarado\n",
      "\n",
      "  Share on Email  \n",
      "  Share on G+  \n",
      "  Share on Twitter  \n",
      "  Share on Facebook  \n",
      "  Share on Facebook    \n",
      "  Share on Twitter    \n",
      "  Share via Email    \n",
      "Facebook\n",
      "Twitter\n",
      "Instagram\n",
      "Bombero quedó marcado al encontrar una familia envenenada por su propia madre\n",
      "Lynda Díaz le grita al mundo que se volverá a casar\n",
      "Iglesia católica impartió el primer curso sobre exorcismo en el país\n",
      "El cantante Gimario siente que está cerca de que una de sus piezas pegue internacionalmente\n",
      "Chanchita escapó de camión que la llevaba al matadero\n",
      "  \n",
      "Ver reglamento \n",
      "Ver políticas de privacidad\n",
      "Registrarse\n",
      "               \n",
      "Ver edición impresa\n",
      "Suscribirme a La Teja\n",
      "  \n",
      "\n",
      "\n",
      "\n",
      "Anúnciese\n",
      "Noticias Grupo Nación\n",
      "Condiciones de uso\n",
      "Políticas de privacidad\n",
      "Estados financieros\n"
     ]
    }
   ],
   "source": [
    "items = ulist.find_all('li') and soup.find_all('a')\n",
    "for x in items:\n",
    "    print(x.text)# muestra todos los a dentro de un ul de la pagina"
   ]
  },
  {
   "cell_type": "code",
   "execution_count": 16,
   "metadata": {},
   "outputs": [
    {
     "data": {
      "text/plain": [
       "[<li class=\"0\"><a href=\"/deportes\">Deportes</a></li>,\n",
       " <li class=\"0\"><a href=\"/farandula\">Farándula</a></li>,\n",
       " <li class=\"0\"><a href=\"/galerias/\">Galerías</a></li>,\n",
       " <li class=\"0\"><a href=\"/internacionales\">Internacionales</a></li>,\n",
       " <li class=\"0\"><a href=\"/nacional\">Nacional</a></li>,\n",
       " <li class=\"0\"><a href=\"/sucesos\">Sucesos</a></li>,\n",
       " <li class=\"0\"><a href=\"/el-novelon\">El Novelón</a></li>]"
      ]
     },
     "execution_count": 16,
     "metadata": {},
     "output_type": "execute_result"
    }
   ],
   "source": [
    "items = soup.find('ul', class_=\"nav navbar-nav navbar-left\").find_all('li')\n",
    "items"
   ]
  },
  {
   "cell_type": "code",
   "execution_count": 17,
   "metadata": {},
   "outputs": [
    {
     "data": {
      "text/plain": [
       "'Deportes'"
      ]
     },
     "execution_count": 17,
     "metadata": {},
     "output_type": "execute_result"
    }
   ],
   "source": [
    "items[0].text"
   ]
  },
  {
   "cell_type": "code",
   "execution_count": 18,
   "metadata": {},
   "outputs": [
    {
     "name": "stdout",
     "output_type": "stream",
     "text": [
      "Deportes\n",
      "Farándula\n",
      "Galerías\n",
      "Internacionales\n",
      "Nacional\n",
      "Sucesos\n",
      "El Novelón\n"
     ]
    }
   ],
   "source": [
    "for x in items:\n",
    "    print(x.text)"
   ]
  }
 ],
 "metadata": {
  "kernelspec": {
   "display_name": "Python 3",
   "language": "python",
   "name": "python3"
  },
  "language_info": {
   "codemirror_mode": {
    "name": "ipython",
    "version": 3
   },
   "file_extension": ".py",
   "mimetype": "text/x-python",
   "name": "python",
   "nbconvert_exporter": "python",
   "pygments_lexer": "ipython3",
   "version": "3.8.8"
  }
 },
 "nbformat": 4,
 "nbformat_minor": 4
}

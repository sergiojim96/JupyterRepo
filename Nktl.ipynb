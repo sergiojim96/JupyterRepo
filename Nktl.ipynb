{
 "cells": [
  {
   "cell_type": "code",
   "execution_count": 29,
   "metadata": {},
   "outputs": [],
   "source": [
    "import requests\n",
    "from bs4 import BeautifulSoup"
   ]
  },
  {
   "cell_type": "code",
   "execution_count": 2,
   "metadata": {
    "scrolled": true
   },
   "outputs": [],
   "source": [
    "import nltk\n",
    "from nltk import tokenize\n",
    "from nltk import word_tokenize\n",
    "from nltk import sent_tokenize\n",
    "\n",
    "#Corpus = soup <div id=\"article-content\">\n",
    "#tok_corp = word_tokenize(Corpus)\n",
    "#tok_corp"
   ]
  },
  {
   "cell_type": "code",
   "execution_count": 3,
   "metadata": {},
   "outputs": [],
   "source": [
    "req = requests.get(\"https://www.lateja.cr/deportes/dos-tecnicos-campeones-con-saprissa-son-las/7XWKEDMBVZH3PLSXAFHKPTN3GQ/story/\").content\n",
    "soup = BeautifulSoup(req, 'lxml')\n",
    "article = soup.find('article')  ## not a real thing"
   ]
  },
  {
   "cell_type": "code",
   "execution_count": 4,
   "metadata": {},
   "outputs": [
    {
     "data": {
      "text/plain": [
       "'Dos técnicos campeones con Saprissa son las opciones para ser el asistente de Suárez'"
      ]
     },
     "execution_count": 4,
     "metadata": {},
     "output_type": "execute_result"
    }
   ],
   "source": [
    "soup = BeautifulSoup(req, 'lxml')\n",
    "title = soup.find('div', class_='headline-hed-last').text\n",
    "title"
   ]
  },
  {
   "cell_type": "markdown",
   "metadata": {
    "tags": []
   },
   "source": [
    "author = soup.find('span', class_='author').text\n",
    "author"
   ]
  },
  {
   "cell_type": "code",
   "execution_count": 5,
   "metadata": {
    "collapsed": true
   },
   "outputs": [
    {
     "name": "stdout",
     "output_type": "stream",
     "text": [
      "          Wálter Centeno o Vladimir Quesada podrían aparecerse este jueves como técnico de Luis Fernando Suárez. Foto: Rafael Pacheco        Este jueves el cuerpo técnico de la selección nacional, el cual encabeza ahora el colombiano Luis Fernando Suárez, estará completo cuando se dé a conocer por parte de la Fedefútbol su conformación.      Junto al cafetero se oficializará la llegada de sus compatriotas John Jairo Bodmen como asistente técnico e Iván Niño como preparador físico, pero en esta lista aún hay un nombre que no se conoce.      Suárez tendrá otro asistente que será tico, uno de los encargados de ambientar a su jefe y darle información sobre los jugadores costarricenses, tarea de bastante importancia.      La Teja sabe que los que suenan con más fuerza son dos técnicos con experiencia y que hasta fueron campeones con el Saprissa, hablamos de Wálter Centeno y Vladimir Quesada. Con ambos Suárez ya se reunió.      También están entre los candidatos Harold Wallace, técnico de la selección sub-17, al ser empleado de la Fedefútbol y otros medios señalan a Gilberto “Tuma” Martínez, extécnico del Municipal Grecia.      La lista de los candidatos la montó la Fedefútbol y se la dio al entrenador para que haga su elección.      “Hemos elaborado una lista con nombres que consideramos pueden ser tomados en cuenta como asistentes. Esa lista el profesor la tiene en sus manos y se reunirá con ellos, para ver el perfil de compatibilidad, sistema de juego e inmediatez que tengan, pero será él quien tomará la decisión. En este proceso será asistido por Carlos Watson”, dijo Rodolfo Villalobos el viernes pasado.        LEA TAMBIÉN Luis Fernando Suárez es de los que llama a jugadores sin tener minutos con sus clubes         El perfil      Los perfiles que más gustan son el de Paté y el de Vla, porque además de contar con experiencia, manejan procesos con jugadores jóvenes para un recambio generacional.      También calzan con la descripción que hizo Suárez en la conferencia del viernes pasado sobre las características que debe contar su asistente.      “Lo primero que le digo a mis asistentes es que espero que cada vez que yo diga un concepto táctico, estratégico, cada vez que yo tome una decisión, no me diga que sí a todo”      “Si me dice sí a todo, no me convence. Si tiene argumentos para decir: ‘Profe, por ahí no es, creo que es por este otro lado’ y tiene los argumentos necesarios para poder convencerme a mí, pues mucho mejor”, describió.            Luis Fernando Suárez tendrá su equipo completo de trabajo este jueves. foto: Alonso Tenorio       Es decir, Suárez no quiere esos asistentes que acomodan conos, reparten chalecos y se quedan solo con los que les dicen que demuestren que son un técnico a su altura.      “Si hay un perfil de asistente para mí es que lógicamente sepa de fútbol, de metodologías nuevas, que trabaje en grupo, que sea leal; pero lo más importante es que tenga los conceptos tan claros que me pueda convencer de que estoy equivocado”, comentó.        LEA TAMBIÉN Mayron George queda fuera de la Sele debido al covid-19         Aportes      Para Róger Flores, exjugador y técnico nacional, la visión de un asistente en una selección tiene que ir muy de la mano con la del técnico y encaminando a un proceso a futuro      Il Capitano fue asistente del colombiano Francisco Maturana cuando dirigió a la Sele en 1999 y tiene claro que a pesar de dar un aporte o confrontar al técnico, la palabra final siempre es del entrenador.      “Yo a Maturana le decía un montón de cosas, lo confrontaba a veces, incluso, y lo que él me decía es que yo tenía que cambiar la mentalidad del jugador, pero él no conocía el medio. Una vez le metieron una patada descarada y fuerte a Paulo Wanchope y yo le dije que se parara fuerte de una.      “Me decía que no fomentara eso, que eso no era fútbol y fue unas de las cosas que luego hablamos, le expliqué que acá el fútbol no lo ven como en Sudamérica. Al final el que toma la determinación de todo siempre es el técnico”, recordó de su experiencia.      Por la experiencia con selecciones menores, Flores se iría con Vladimir como asistente, pues no está tan seguro que Centeno se adapte a ser el segundo al mando y no la cabeza del grupo.      “Tal vez Vladimir, que le gusta más el tema de la formación y ese estilo, sería idóneo, Wálter ya estuvo en primera división y tiene otra mentalidad, quiere proyectos para él y desarrollarlos. No sé si pasar de ser un técnico campeón a ser asistente le sonará bien”, comentó Flores.   \n",
      "<div class=\"container-fluid-recomend\"> <div class=\"border-intersitial-top\"></div> <div class=\"col-12\"> <h3>LEA TAMBIÉN</h3> <p><a class=\"item-track\" data-action=\"interstitial\" data-category=\"click-tracking\" data-label=\"https://www.lateja.cr/deportes/luis-fernando-suarez-tecnico-de-la-sele-tenemos/PJY4FQSLEZBSTI4ZBTMP6CGXJA/story/\" href=\"https://www.lateja.cr/deportes/luis-fernando-suarez-tecnico-de-la-sele-tenemos/PJY4FQSLEZBSTI4ZBTMP6CGXJA/story/\">Luis Fernando Suárez es de los que llama a jugadores sin tener minutos con sus clubes</a></p> <div class=\"border-intersitial-bottom\"></div> </div> </div>\n",
      "<div class=\"container-fluid-recomend\"> <div class=\"border-intersitial-top\"></div> <div class=\"col-12\"> <h3>LEA TAMBIÉN</h3> <p><a class=\"item-track\" data-action=\"interstitial\" data-category=\"click-tracking\" data-label=\"https://www.lateja.cr/deportes/mayron-george-queda-fuera-de-la-sele-debido-al/QJD4XMMSQRCSJJLZJPQYWTR7CQ/story/\" href=\"https://www.lateja.cr/deportes/mayron-george-queda-fuera-de-la-sele-debido-al/QJD4XMMSQRCSJJLZJPQYWTR7CQ/story/\">Mayron George queda fuera de la Sele debido al covid-19</a></p> <div class=\"border-intersitial-bottom\"></div> </div> </div>\n"
     ]
    }
   ],
   "source": [
    "corpus = soup.find('div', id='article-content')\n",
    "print(corpus.text)\n",
    "\n",
    "#Foto: rafael pacheco\n",
    "#Lea tambien ....Luis Fernando saurez es uno de los que llama jugadores....\n",
    "\n",
    "#Lea tambien ....Luis Fernando saurez es uno de los que llama jugadores....\n",
    "cleancorpus = corpus.find_all('div', class_=\"container-fluid-recomend\")\n",
    "\n",
    "x = 0\n",
    "for i in cleancorpus:\n",
    "    print(i)\n",
    "    i.clear()#i.div.decompose()\n",
    "    x=+1"
   ]
  },
  {
   "cell_type": "code",
   "execution_count": 6,
   "metadata": {},
   "outputs": [],
   "source": [
    "tokens = nltk.word_tokenize(corpus.text)"
   ]
  },
  {
   "cell_type": "code",
   "execution_count": 7,
   "metadata": {},
   "outputs": [],
   "source": [
    "tokenito = nltk.sent_tokenize(corpus.text.lower())\n",
    "\n",
    "temp = \"\"\n",
    "\n",
    "corpus_tem=\"\"\n",
    "\n",
    "\n",
    "for i in tokenito:\n",
    "    \n",
    "    \n",
    "    if \"foto:\" in i: \n",
    "        text_tokens=(word_tokenize(i)[4:]) # elimina los primeros 4 tokens de la lista or \"#\" in i or........ i.#\"%,{}[]\" i.replace('')\n",
    "        \n",
    "        final_text=\"\" # realizamos un str temp \n",
    "        \n",
    "        for tk in text_tokens: \n",
    "            final_text += tk+ \" \" #unimos cada palabra de la lista a un str\n",
    "        \n",
    "        corpus_tem+=final_text #agregamos el str final a corpus\n",
    "        \n",
    "        \n",
    "        \n",
    "    else:\n",
    "        corpus_tem += i + \" \" # si no esta foto solo agrega la oracion al corpus."
   ]
  },
  {
   "cell_type": "code",
   "execution_count": 8,
   "metadata": {
    "collapsed": true
   },
   "outputs": [
    {
     "data": {
      "text/plain": [
       "'wálter centeno o vladimir quesada podrían aparecerse este jueves como técnico de luis fernando suárez. este jueves el cuerpo técnico de la selección nacional , el cual encabeza ahora el colombiano luis fernando suárez , estará completo cuando se dé a conocer por parte de la fedefútbol su conformación . junto al cafetero se oficializará la llegada de sus compatriotas john jairo bodmen como asistente técnico e iván niño como preparador físico, pero en esta lista aún hay un nombre que no se conoce. suárez tendrá otro asistente que será tico, uno de los encargados de ambientar a su jefe y darle información sobre los jugadores costarricenses, tarea de bastante importancia. la teja sabe que los que suenan con más fuerza son dos técnicos con experiencia y que hasta fueron campeones con el saprissa, hablamos de wálter centeno y vladimir quesada. con ambos suárez ya se reunió. también están entre los candidatos harold wallace, técnico de la selección sub-17, al ser empleado de la fedefútbol y otros medios señalan a gilberto “tuma” martínez, extécnico del municipal grecia. la lista de los candidatos la montó la fedefútbol y se la dio al entrenador para que haga su elección. “hemos elaborado una lista con nombres que consideramos pueden ser tomados en cuenta como asistentes. esa lista el profesor la tiene en sus manos y se reunirá con ellos, para ver el perfil de compatibilidad, sistema de juego e inmediatez que tengan, pero será él quien tomará la decisión. en este proceso será asistido por carlos watson”, dijo rodolfo villalobos el viernes pasado. el perfil      los perfiles que más gustan son el de paté y el de vla, porque además de contar con experiencia, manejan procesos con jugadores jóvenes para un recambio generacional. también calzan con la descripción que hizo suárez en la conferencia del viernes pasado sobre las características que debe contar su asistente. “lo primero que le digo a mis asistentes es que espero que cada vez que yo diga un concepto táctico, estratégico, cada vez que yo tome una decisión, no me diga que sí a todo”      “si me dice sí a todo, no me convence. si tiene argumentos para decir: ‘profe, por ahí no es, creo que es por este otro lado’ y tiene los argumentos necesarios para poder convencerme a mí, pues mucho mejor”, describió. luis fernando suárez tendrá su equipo completo de trabajo este jueves. es decir , suárez no quiere esos asistentes que acomodan conos , reparten chalecos y se quedan solo con los que les dicen que demuestren que son un técnico a su altura . “si hay un perfil de asistente para mí es que lógicamente sepa de fútbol, de metodologías nuevas, que trabaje en grupo, que sea leal; pero lo más importante es que tenga los conceptos tan claros que me pueda convencer de que estoy equivocado”, comentó. aportes      para róger flores, exjugador y técnico nacional, la visión de un asistente en una selección tiene que ir muy de la mano con la del técnico y encaminando a un proceso a futuro      il capitano fue asistente del colombiano francisco maturana cuando dirigió a la sele en 1999 y tiene claro que a pesar de dar un aporte o confrontar al técnico, la palabra final siempre es del entrenador. “yo a maturana le decía un montón de cosas, lo confrontaba a veces, incluso, y lo que él me decía es que yo tenía que cambiar la mentalidad del jugador, pero él no conocía el medio. una vez le metieron una patada descarada y fuerte a paulo wanchope y yo le dije que se parara fuerte de una. “me decía que no fomentara eso, que eso no era fútbol y fue unas de las cosas que luego hablamos, le expliqué que acá el fútbol no lo ven como en sudamérica. al final el que toma la determinación de todo siempre es el técnico”, recordó de su experiencia. por la experiencia con selecciones menores, flores se iría con vladimir como asistente, pues no está tan seguro que centeno se adapte a ser el segundo al mando y no la cabeza del grupo. “tal vez vladimir, que le gusta más el tema de la formación y ese estilo, sería idóneo, wálter ya estuvo en primera división y tiene otra mentalidad, quiere proyectos para él y desarrollarlos. no sé si pasar de ser un técnico campeón a ser asistente le sonará bien”, comentó flores.'"
      ]
     },
     "execution_count": 8,
     "metadata": {},
     "output_type": "execute_result"
    }
   ],
   "source": [
    "corpus_tem.strip()"
   ]
  },
  {
   "cell_type": "code",
   "execution_count": 9,
   "metadata": {
    "collapsed": true
   },
   "outputs": [
    {
     "data": {
      "text/plain": [
       "'                                     Dos técnicos campeones con Saprissa son las opciones para ser el asistente de Suárez - La Teja                      \\n\\n                       Secciones   Toggle navigation \\xa0     Deportes Farándula Galerías Internacionales Nacional Sucesos El Novelón                          Reciba notificaciones de La Nación ¿Desea activar las notificaciones en el escritorio?     Si No, gracias      Ingresar     Ver impreso Recibir boletines Descargar aplicaciones            \\xa0 MI CUENTA        Mis beneficios   Recibir boletines     Ver impreso   Descargar aplicaciones               SALIR                    \\xa0 MI CUENTA        Mis beneficios   Recibir boletines     Ver impreso   Descargar aplicaciones               SALIR                               Inicio     Deportes   Farándula   Galerías   Internacionales   Nacional   Sucesos   El Novelón    Negocios      Todo Busco   El Empleo   Parque Viva   Yuplón   Fussio   Printea        Publicaciones      El Financiero   La Teja   Perfil        Productos GN      Grupo Nación       Planes de suscripción   Anúnciese   Estados Financieros   Condiciones de uso   Políticas de privacidad                                                                    Deportes Dos técnicos campeones con Saprissa son las opciones para ser el asistente de Suárez Wálter Cénteno y Vladimir Quesada suenan fuerte                       Share on Email       Share on G+       Share on Twitter       Share on Facebook             Share on Facebook      Share on Twitter      Share via Email      Share on Whatsapp            Sergio Alvarado.30 junio            Wálter Centeno o Vladimir Quesada podrían aparecerse este jueves como técnico de Luis Fernando Suárez. Foto: Rafael Pacheco        Este jueves el cuerpo técnico de la selección nacional, el cual encabeza ahora el colombiano Luis Fernando Suárez, estará completo cuando se dé a conocer por parte de la Fedefútbol su conformación.      Junto al cafetero se oficializará la llegada de sus compatriotas John Jairo Bodmen como asistente técnico e Iván Niño como preparador físico, pero en esta lista aún hay un nombre que no se conoce.      Suárez tendrá otro asistente que será tico, uno de los encargados de ambientar a su jefe y darle información sobre los jugadores costarricenses, tarea de bastante importancia.      La Teja sabe que los que suenan con más fuerza son dos técnicos con experiencia y que hasta fueron campeones con el Saprissa, hablamos de Wálter Centeno y Vladimir Quesada. Con ambos Suárez ya se reunió.      También están entre los candidatos Harold Wallace, técnico de la selección sub-17, al ser empleado de la Fedefútbol y otros medios señalan a Gilberto “Tuma” Martínez, extécnico del Municipal Grecia.      La lista de los candidatos la montó la Fedefútbol y se la dio al entrenador para que haga su elección.      “Hemos elaborado una lista con nombres que consideramos pueden ser tomados en cuenta como asistentes. Esa lista el profesor la tiene en sus manos y se reunirá con ellos, para ver el perfil de compatibilidad, sistema de juego e inmediatez que tengan, pero será él quien tomará la decisión. En este proceso será asistido por Carlos Watson”, dijo Rodolfo Villalobos el viernes pasado.           El perfil      Los perfiles que más gustan son el de Paté y el de Vla, porque además de contar con experiencia, manejan procesos con jugadores jóvenes para un recambio generacional.      También calzan con la descripción que hizo Suárez en la conferencia del viernes pasado sobre las características que debe contar su asistente.      “Lo primero que le digo a mis asistentes es que espero que cada vez que yo diga un concepto táctico, estratégico, cada vez que yo tome una decisión, no me diga que sí a todo”      “Si me dice sí a todo, no me convence. Si tiene argumentos para decir: ‘Profe, por ahí no es, creo que es por este otro lado’ y tiene los argumentos necesarios para poder convencerme a mí, pues mucho mejor”, describió.            Luis Fernando Suárez tendrá su equipo completo de trabajo este jueves. foto: Alonso Tenorio       Es decir, Suárez no quiere esos asistentes que acomodan conos, reparten chalecos y se quedan solo con los que les dicen que demuestren que son un técnico a su altura.      “Si hay un perfil de asistente para mí es que lógicamente sepa de fútbol, de metodologías nuevas, que trabaje en grupo, que sea leal; pero lo más importante es que tenga los conceptos tan claros que me pueda convencer de que estoy equivocado”, comentó.           Aportes      Para Róger Flores, exjugador y técnico nacional, la visión de un asistente en una selección tiene que ir muy de la mano con la del técnico y encaminando a un proceso a futuro      Il Capitano fue asistente del colombiano Francisco Maturana cuando dirigió a la Sele en 1999 y tiene claro que a pesar de dar un aporte o confrontar al técnico, la palabra final siempre es del entrenador.      “Yo a Maturana le decía un montón de cosas, lo confrontaba a veces, incluso, y lo que él me decía es que yo tenía que cambiar la mentalidad del jugador, pero él no conocía el medio. Una vez le metieron una patada descarada y fuerte a Paulo Wanchope y yo le dije que se parara fuerte de una.      “Me decía que no fomentara eso, que eso no era fútbol y fue unas de las cosas que luego hablamos, le expliqué que acá el fútbol no lo ven como en Sudamérica. Al final el que toma la determinación de todo siempre es el técnico”, recordó de su experiencia.      Por la experiencia con selecciones menores, Flores se iría con Vladimir como asistente, pues no está tan seguro que Centeno se adapte a ser el segundo al mando y no la cabeza del grupo.      “Tal vez Vladimir, que le gusta más el tema de la formación y ese estilo, sería idóneo, Wálter ya estuvo en primera división y tiene otra mentalidad, quiere proyectos para él y desarrollarlos. No sé si pasar de ser un técnico campeón a ser asistente le sonará bien”, comentó Flores.     \\xa0 Luis Fernando Suárez, Wálter Centeno, Vladimir Quesada, Selección Costa Rica, Asistente técnico, Saprissa        Reciba el boletín:  El nerdo del fútbol Noticias de última hora, en tiempo real     Registrarse   Deseo recibir comunicaciones             ¡Gracias!   Su correo se ha registrado correctamente.          Error               Share on Email       Share on G+       Share on Twitter       Share on Facebook             Share on Facebook      Share on Twitter      Share via Email      Share on Whatsapp                    Sergio Alvarado     Periodista de La Teja, especializado en deportes. Graduado de la Universidad Internacional de las Américas.   \\xa0          LE RECOMENDAMOS                            Share on Email       Share on G+       Share on Twitter       Share on Facebook             Share on Facebook      Share on Twitter      Share via Email                                SÍGANOS AQUÍ        Facebook   Twitter   Instagram        LO MÁS LEÍDO        1 (Video) Árbitro tico Ricardo Montero debutó en la Copa Oro con tremendo papelón     2 Profesora que sobrevivió de milagro a un choque busca testigos del accidente     3 Charro Henry Jiménez se “metió a la cama” con Melissa Mora     4 (Video) Cebollín se encarga de romper la rutina en Casa Presidencial     5 Chineada le cumple un sueño al mecánico que la tiene como nueva         Completa estos pasos y quedaras participando:   1.Completa la trivia Cuál es el personaje de La Teja?   Armando Broncas  Chespirito  Superman    2.Registra los datos   Tico  Extranjero    Cédula:        Teléfono :        Código de la portada:        3.Reglamento.  Ver reglamento  Ver políticas de privacidad    He leído y aceptado(El reglamento y las políticas)   Registrar      × Activación su código       Cerrar             Reciba el boletín:       Registrarse    Deseo recibir comunicaciones          ¡Gracias! Su correo se ha registrado correctamente.      Error                                                                                                                                Ver edición impresa   Suscribirme a La Teja                     © Todos los derechos reservados, cualquier uso requiere autorización expresa y por escrito de Grupo Nación GN S.A.         Anúnciese   Noticias Grupo Nación   Condiciones de uso   Políticas de privacidad   Estados financieros                                                                                    Close                 '"
      ]
     },
     "execution_count": 9,
     "metadata": {},
     "output_type": "execute_result"
    }
   ],
   "source": [
    "soup.text"
   ]
  },
  {
   "cell_type": "code",
   "execution_count": 10,
   "metadata": {
    "collapsed": true
   },
   "outputs": [
    {
     "ename": "ModuleNotFoundError",
     "evalue": "No module named 'textblob'",
     "output_type": "error",
     "traceback": [
      "\u001b[0;31m---------------------------------------------------------------------------\u001b[0m",
      "\u001b[0;31mModuleNotFoundError\u001b[0m                       Traceback (most recent call last)",
      "\u001b[0;32m<ipython-input-10-287a8df9b77b>\u001b[0m in \u001b[0;36m<module>\u001b[0;34m\u001b[0m\n\u001b[1;32m      2\u001b[0m \u001b[0;32mimport\u001b[0m \u001b[0mpickle\u001b[0m \u001b[0;31m#Importante\u001b[0m\u001b[0;34m\u001b[0m\u001b[0;34m\u001b[0m\u001b[0m\n\u001b[1;32m      3\u001b[0m \u001b[0;32mimport\u001b[0m \u001b[0mpandas\u001b[0m \u001b[0;32mas\u001b[0m \u001b[0mpd\u001b[0m \u001b[0;31m#Importante\u001b[0m\u001b[0;34m\u001b[0m\u001b[0;34m\u001b[0m\u001b[0m\n\u001b[0;32m----> 4\u001b[0;31m \u001b[0;32mfrom\u001b[0m \u001b[0mtextblob\u001b[0m \u001b[0;32mimport\u001b[0m \u001b[0mTextBlob\u001b[0m \u001b[0;31m#Importante lo vemos luego\u001b[0m\u001b[0;34m\u001b[0m\u001b[0;34m\u001b[0m\u001b[0m\n\u001b[0m\u001b[1;32m      5\u001b[0m \u001b[0;32mimport\u001b[0m \u001b[0mgensim\u001b[0m \u001b[0;31m#Importante lo vemos luego\u001b[0m\u001b[0;34m\u001b[0m\u001b[0;34m\u001b[0m\u001b[0m\n\u001b[1;32m      6\u001b[0m \u001b[0;32mimport\u001b[0m \u001b[0mnltk\u001b[0m \u001b[0;31m#basicas\u001b[0m\u001b[0;34m\u001b[0m\u001b[0;34m\u001b[0m\u001b[0m\n",
      "\u001b[0;31mModuleNotFoundError\u001b[0m: No module named 'textblob'"
     ]
    }
   ],
   "source": [
    "from nltk.tokenize import sent_tokenize, word_tokenize #basicas\n",
    "import pickle #Importante\n",
    "import pandas as pd #Importante\n",
    "from textblob import TextBlob #Importante lo vemos luego\n",
    "import gensim #Importante lo vemos luego\n",
    "import nltk #basicas\n",
    "import re #basicas\n",
    "import string #basicas\n",
    "\n",
    "#Otras\n",
    "from sqlalchemy import create_engine\n",
    "from collections import OrderedDict \n",
    "from spellchecker import SpellChecker\n",
    "from autocorrect import Speller\n",
    "import pixiedust\n",
    "\n",
    "#Las bibliotecas \"ModuleNotFoundError\" hay que instalarlas."
   ]
  },
  {
   "cell_type": "code",
   "execution_count": 11,
   "metadata": {
    "scrolled": true
   },
   "outputs": [
    {
     "name": "stderr",
     "output_type": "stream",
     "text": [
      "[nltk_data] Downloading package stopwords to\n",
      "[nltk_data]     /Users/sebastianvegar/nltk_data...\n",
      "[nltk_data]   Package stopwords is already up-to-date!\n"
     ]
    },
    {
     "data": {
      "text/plain": [
       "True"
      ]
     },
     "execution_count": 11,
     "metadata": {},
     "output_type": "execute_result"
    }
   ],
   "source": [
    "from nltk.corpus import stopwords \n",
    "nltk.download('stopwords') "
   ]
  },
  {
   "cell_type": "code",
   "execution_count": 12,
   "metadata": {},
   "outputs": [],
   "source": [
    "#analisis visual, se le agregan probailidad de inutil sea la informacion... un analisis mas rapido.... dependiendo de las considencia aunmenta\n",
    "        \n"
   ]
  },
  {
   "cell_type": "markdown",
   "metadata": {},
   "source": [
    "## Crawling"
   ]
  },
  {
   "cell_type": "markdown",
   "metadata": {},
   "source": [
    "Links:\n",
    "\n",
    "1.https://www.lateja.cr/deportes/dos-tecnicos-campeones-con-saprissa-son-las/7XWKEDMBVZH3PLSXAFHKPTN3GQ/story/\n",
    "2.https://www.lateja.cr/deportes/wilmer-lopez-va-por-el-bicampeonato-de-las-leonas/BQV6XK6E2BF23BLWYLVBFRONVE/story/\n",
    "3.https://www.lateja.cr/deportes/sale-ronald-la-bala-gomez-y-entra-gilberto-tuma/2KI2W5KY2BGSRLGZMXBRQWUO5A/story/\n",
    "4.https://www.lateja.cr/deportes/portero-patrick-pemberton-ataja-los-anos-y-todavia/GE747TW6WNHXNOCDFONIYSBGGU/story/\n",
    "5.https://www.lateja.cr/deportes/saprissa-fogueara-15-chamacos-en-torneo-de-segunda/DHOEF6K5O5AH5M4DRCLFIN57W4/story/\n",
    "6.https://www.lateja.cr/deportes/ronald-la-bala-gomez-sera-el-asistente-tecnico-de/IKYEDRQVGVF5PGZNE7UJNHVZ6I/story/\n",
    "7.https://www.lateja.cr/deportes/tecnicos-de-la-sele-sobre-ronald-gomez-tiene-mucho/JIV5PINWRRCN7F42T7VEHKISYU/story/\n",
    "8.https://www.lateja.cr/deportes/jugadores-espueludos-fueron-los-llamados-a-la-copa/QH27QL7HFRFCFFEEEGWTIRKGZM/story/\n",
    "9.https://www.lateja.cr/deportes/opinion-del-brumoso-hoy-cumple-anos-el-club-al-que/7KMNZIMSSFH5JEQKFN4HOUUHWA/story/\n",
    "10.https://www.lateja.cr/deportes/portera-noelia-bermudez-vuelve-a-alajuelense/SL6JS72BGFGSPNGRBBKUTP3XGI/story/"
   ]
  },
  {
   "cell_type": "code",
   "execution_count": 13,
   "metadata": {},
   "outputs": [],
   "source": [
    "links = [\n",
    "\"https://www.lateja.cr/deportes/dos-tecnicos-campeones-con-saprissa-son-las/7XWKEDMBVZH3PLSXAFHKPTN3GQ/story/\", \n",
    "\"https://www.lateja.cr/deportes/wilmer-lopez-va-por-el-bicampeonato-de-las-leonas/BQV6XK6E2BF23BLWYLVBFRONVE/story/\",\n",
    "\"https://www.lateja.cr/deportes/sale-ronald-la-bala-gomez-y-entra-gilberto-tuma/2KI2W5KY2BGSRLGZMXBRQWUO5A/story/\",\n",
    "\"https://www.lateja.cr/deportes/portero-patrick-pemberton-ataja-los-anos-y-todavia/GE747TW6WNHXNOCDFONIYSBGGU/story/\",\n",
    "\"https://www.lateja.cr/deportes/saprissa-fogueara-15-chamacos-en-torneo-de-segunda/DHOEF6K5O5AH5M4DRCLFIN57W4/story/\",\n",
    "\"https://www.lateja.cr/deportes/ronald-la-bala-gomez-sera-el-asistente-tecnico-de/IKYEDRQVGVF5PGZNE7UJNHVZ6I/story/\",\n",
    "\"https://www.lateja.cr/deportes/tecnicos-de-la-sele-sobre-ronald-gomez-tiene-mucho/JIV5PINWRRCN7F42T7VEHKISYU/story/\",\n",
    "\"https://www.lateja.cr/deportes/jugadores-espueludos-fueron-los-llamados-a-la-copa/QH27QL7HFRFCFFEEEGWTIRKGZM/story/\",\n",
    "\"https://www.lateja.cr/deportes/opinion-del-brumoso-hoy-cumple-anos-el-club-al-que/7KMNZIMSSFH5JEQKFN4HOUUHWA/story/\",\n",
    "\"https://www.lateja.cr/deportes/portera-noelia-bermudez-vuelve-a-alajuelense/SL6JS72BGFGSPNGRBBKUTP3XGI/story/\",\n",
    "]"
   ]
  },
  {
   "cell_type": "code",
   "execution_count": 14,
   "metadata": {},
   "outputs": [],
   "source": [
    "requests_links=[]\n",
    "\n",
    "for lnk in links:\n",
    "    requests_links.append(requests.get(lnk))"
   ]
  },
  {
   "cell_type": "code",
   "execution_count": 15,
   "metadata": {},
   "outputs": [
    {
     "data": {
      "text/plain": [
       "[<Response [200]>,\n",
       " <Response [200]>,\n",
       " <Response [200]>,\n",
       " <Response [200]>,\n",
       " <Response [200]>,\n",
       " <Response [200]>,\n",
       " <Response [200]>,\n",
       " <Response [200]>,\n",
       " <Response [200]>,\n",
       " <Response [200]>]"
      ]
     },
     "execution_count": 15,
     "metadata": {},
     "output_type": "execute_result"
    }
   ],
   "source": [
    "requests_links #objeto response, 1.tenemos la informacion, 2.la informacion obtenida ha sido bloqueda"
   ]
  },
  {
   "cell_type": "code",
   "execution_count": 16,
   "metadata": {},
   "outputs": [],
   "source": [
    "titulos_L=[]\n",
    "articulo_L=[]"
   ]
  },
  {
   "cell_type": "code",
   "execution_count": 142,
   "metadata": {},
   "outputs": [],
   "source": [
    "titulos_L=[]\n",
    "articulo_L=[]\n",
    "\n",
    "for resps in requests_links:\n",
    "    soup = BeautifulSoup(resps.text, 'lxml')\n",
    "    title = soup.find('div', class_='headline-hed-last').text\n",
    "    titulos_L.append(title)\n",
    "    \n",
    "    corpus = soup.find('div', id='article-content') \n",
    "    cleancorpus = corpus.find_all('div', class_=\"container-fluid-recomend\")\n",
    "    x = 0\n",
    "    for i in cleancorpus:\n",
    "        i.clear()#i.div.decompose()\n",
    "        x=+1\n",
    "    articulo_L.append(corpus.text)"
   ]
  },
  {
   "cell_type": "code",
   "execution_count": 18,
   "metadata": {
    "collapsed": true
   },
   "outputs": [
    {
     "data": {
      "text/plain": [
       "['Dos técnicos campeones con Saprissa son las opciones para ser el asistente de Suárez',\n",
       " 'Wílmer López va por el bicampeonato de las leonas con la confianza renovada',\n",
       " 'Sale Ronald “la Bala” Gómez y entra Gilberto “Tuma” Martínez en Barrio México ',\n",
       " 'Portero Patrick Pemberton ataja los años y todavía no piensa en el retiro',\n",
       " 'Saprissa fogueará 15 chamacos en torneo de segunda con Uruguay de Coronado',\n",
       " 'Rónald “la Bala” Gómez será el asistente técnico de Luis Fernando Suárez',\n",
       " 'Técnico de la Sele sobre Rónald Gómez: “Tiene mucho para darle al país”',\n",
       " 'Jugadores espueludos fueron los llamados a la Copa Oro',\n",
       " 'Opinión del brumoso: Hoy cumple años el club al que no le hacen falta títulos para ser grande',\n",
       " '(Video) Portera Noelia Bermúdez vuelve a Alajuelense: “Nunca dejé de seguir al equipo”']"
      ]
     },
     "execution_count": 18,
     "metadata": {},
     "output_type": "execute_result"
    }
   ],
   "source": [
    "titulos_L"
   ]
  },
  {
   "cell_type": "code",
   "execution_count": 19,
   "metadata": {
    "collapsed": true
   },
   "outputs": [
    {
     "name": "stdout",
     "output_type": "stream",
     "text": [
      "wálter centeno o vladimir quesada podrían aparecerse este jueves como técnico de luis fernando suárez. foto: rafael pacheco        este jueves el cuerpo técnico de la selección nacional, el cual encabeza ahora el colombiano luis fernando suárez, estará completo cuando se dé a conocer por parte de la fedefútbol su conformación.      junto al cafetero se oficializará la llegada de sus compatriotas john jairo bodmen como asistente técnico e iván niño como preparador físico, pero en esta lista aún hay un nombre que no se conoce.      suárez tendrá otro asistente que será tico, uno de los encargados de ambientar a su jefe y darle información sobre los jugadores costarricenses, tarea de bastante importancia.      la teja sabe que los que suenan con más fuerza son dos técnicos con experiencia y que hasta fueron campeones con el saprissa, hablamos de wálter centeno y vladimir quesada. con ambos suárez ya se reunió.      también están entre los candidatos harold wallace, técnico de la selección sub-17, al ser empleado de la fedefútbol y otros medios señalan a gilberto “tuma” martínez, extécnico del municipal grecia.      la lista de los candidatos la montó la fedefútbol y se la dio al entrenador para que haga su elección.      “hemos elaborado una lista con nombres que consideramos pueden ser tomados en cuenta como asistentes. esa lista el profesor la tiene en sus manos y se reunirá con ellos, para ver el perfil de compatibilidad, sistema de juego e inmediatez que tengan, pero será él quien tomará la decisión. en este proceso será asistido por carlos watson”, dijo rodolfo villalobos el viernes pasado.           el perfil      los perfiles que más gustan son el de paté y el de vla, porque además de contar con experiencia, manejan procesos con jugadores jóvenes para un recambio generacional.      también calzan con la descripción que hizo suárez en la conferencia del viernes pasado sobre las características que debe contar su asistente.      “lo primero que le digo a mis asistentes es que espero que cada vez que yo diga un concepto táctico, estratégico, cada vez que yo tome una decisión, no me diga que sí a todo”      “si me dice sí a todo, no me convence. si tiene argumentos para decir: ‘profe, por ahí no es, creo que es por este otro lado’ y tiene los argumentos necesarios para poder convencerme a mí, pues mucho mejor”, describió.            luis fernando suárez tendrá su equipo completo de trabajo este jueves. foto: alonso tenorio       es decir, suárez no quiere esos asistentes que acomodan conos, reparten chalecos y se quedan solo con los que les dicen que demuestren que son un técnico a su altura.      “si hay un perfil de asistente para mí es que lógicamente sepa de fútbol, de metodologías nuevas, que trabaje en grupo, que sea leal; pero lo más importante es que tenga los conceptos tan claros que me pueda convencer de que estoy equivocado”, comentó.           aportes      para róger flores, exjugador y técnico nacional, la visión de un asistente en una selección tiene que ir muy de la mano con la del técnico y encaminando a un proceso a futuro      il capitano fue asistente del colombiano francisco maturana cuando dirigió a la sele en 1999 y tiene claro que a pesar de dar un aporte o confrontar al técnico, la palabra final siempre es del entrenador.      “yo a maturana le decía un montón de cosas, lo confrontaba a veces, incluso, y lo que él me decía es que yo tenía que cambiar la mentalidad del jugador, pero él no conocía el medio. una vez le metieron una patada descarada y fuerte a paulo wanchope y yo le dije que se parara fuerte de una.      “me decía que no fomentara eso, que eso no era fútbol y fue unas de las cosas que luego hablamos, le expliqué que acá el fútbol no lo ven como en sudamérica. al final el que toma la determinación de todo siempre es el técnico”, recordó de su experiencia.      por la experiencia con selecciones menores, flores se iría con vladimir como asistente, pues no está tan seguro que centeno se adapte a ser el segundo al mando y no la cabeza del grupo.      “tal vez vladimir, que le gusta más el tema de la formación y ese estilo, sería idóneo, wálter ya estuvo en primera división y tiene otra mentalidad, quiere proyectos para él y desarrollarlos. no sé si pasar de ser un técnico campeón a ser asistente le sonará bien”, comentó flores.\n",
      "las leonas de la mano de wílmer lópez llegaron al título el semestre anterior. foto: rafael pacheco        durante casi todo el torneo pasado, wílmer lópez estuvo en la mira de muchos aficionados que no lo creían como el idóneo para dirigir al equipo femenino de liga deportiva alajuelense.      al final el tiempo le dio la razón al pato, quien demostró que puede ser ídolo de distintas maneras. el exjugador alzó el título de campeón con las leonas, corona que deberán defender desde este sábado cuando las rojinegras vuelvan a la cancha ante dimás escazú.      ganar el título el torneo anterior da confianza a su trabajo, la cual siempre tuvo de parte de la directiva, que lo sostuvo a pesar de las críticas, pero tiene clarísimo que el reto que le avecina ahora es más fuerte.      “hay que exigirle a las muchachas que rindan, que cumplan, que vayan por todo y en la liga no puede ser la excepción, más ahora que ya lo conseguimos, la gente va a estar esperando cada vez más de la institución, máxime por los refuerzos que amarramos, son cosas que nos obligan a hacerlo aún mejor en este torneo”, comentó lópez a la teja.      para este semestre las leonas se reforzaron con la portera noelia bermúdez, la delantera estadounidense jennie lakip, la volante panameña natalia mills y la volante tica de 17 años maría paula arce, fichaje que se anunció este viernes.           “es muy bonito tener una planilla competitiva, de buenas jugadoras, porque se la complican al entrenador, yo sé entonces que sea cual sea la que escoja, tiene calidad, el beneficio será directamente para la institución. la competencia interna es la que más exige a la jugadora para ser tomada en cuenta y rendir partido a partido”, añadió el pato.      tranquilidad            el pató lópez le pagó con un campeonato la confianza a fernando ocampo. foto: rafael pacheco       wílmer dice que se enteró de que otros entrenadores mandaron su currículum al club, pensando que pronto se lo iban a volar, pero ni eso lo hizo perder la confianza. para él su carrera como entrenador en general ha tenido cosas muy positivas.      “si usted cree que como entrenador no lo van a criticar, se equivocó de profesión. yo me di cuenta de colegas entrenadores que llamaron a ofrecerse al club, a decir que ellos estaban disponibles por si me despedían, diciendo que a uno le faltaba experiencia, cosas antiéticas, pero se dieron.      “en eso tengo que agradecer a la dirigencia el apoyo a mi persona, es parte de las cosas que se viven en el fútbol, ¿quién no quiere ser entrenador en liga deportiva alajuelense de cualquier categoría?”.      wílmer tiene apenas siete meses en el fútbol femenino y ya tiene un campeonato, con o sin críticas, ahí está el título.      “a mí (las críticas) no me molestaron, el aficionado solo quiere resultados positivos y no mide a veces otras cosas. cuando dirigí el equipo masculino tenía una planilla que si clasificaba había que darle un premio, era con ciertas limitaciones y el paso mío lo aproveché para debutar jugadores que hoy lucen como protagonistas en el fútbol nacional. la gente lo que ve son resultados, nada más.      “la gente tampoco recuerda mi paso por alajuela junior (equipo manudo de segunda división) que era un equipo de jugadores jóvenes y el objetivo era proyectarlos, el caso de ronald matarrita, juan pablo vargas, josé guillermo ortíz, francisco rodríguez, kevin ruiz, anthony lópez, una camada de jugadores a los que le dimos oportunidad de desarrollarse” comentó.      desde este sábado el pato va por otro título más, porque a como ha sido su carrera, es un león que no se sacia con nada.\n",
      "martínez está feliz por llegar a un club donde acatan sus indicaciones. prensa barrio méxico.       gilberto martínez es el nuevo técnico de barrio méxico, luego del paso fugaz de ronald “la bala” gómez por el club josefino.      la bala había asumido el puesto, que ahora le quedó al tuma, el 2 de junio de este año, pero ronald fue elegido por luis fernando suárez, el pasado jueves, para ser asistente en la selección nacional.      martínez, por su parte, regresa a un banquillo luego de haber renunciado al municipal grecia, de la primera división, el 24 de marzo de este año.       el tuma dice estar contento por liderar un equipo con un proyecto serio y que piensa en grande.      “es gente que sabe de fútbol y lo más importante, es un grupo fantástico, con mucho calor humano, los jugadores, la dirigencia. hoy (viernes) comenzamos los entrenamientos y ya conocía a algunos jugadores, como el portero bryan morales, que es una gran persona y el resto también, es un grupo muy lindo”, manifestó el tuma.      el exdefensa dijo que hasta después del próximo lunes puede decir por cuánto tiempo se vinculó al club, pero sí afirmó que el exjugador carlos hernández será su asistente, geonnathan fernández el preparador físico y mike goñi el entrenador de porteros.           experiencia      el exjugador del brescia italiano destacó que la responsabilidad en barrio méxico es la misma que la de dirigir a un equipo de primera.      “hay objetivos muy claros que alcanzar y en este caso la institución te brinda las condiciones para lograr el ascenso.      “me encontré con un grupo que respeta las decisiones del entrenador, ninguno se cree titular y que quieren luchar por la titularidad. siento un grupo sano, que es lo ideal, eso lo viví como jugador y primero dios y me vaya bien”.      el torneo de la segunda división inicia el 8 de agosto.\n",
      "el lunes anterior, patrick se incorporó de lleno a los entrenamientos. facebook.       el experimentado portero patrick pemberton decidió que aún no es tiempo de colgar los guantes, ya que defenderá la portería de carmelita en el próximo torneo de la liga de ascenso      el guardameta, de 39 años, regresa al cuadro de la barriada alajuelense (estuvo en el 2004-05) como uno de los principales refuerzos del equipo en su objetivo de regresar a la primera división.      él dice que está con toda la pata, por lo que la palabra retiro no le pasa por la mente.      “me retiraría a los 41 años, esperando en dios finalizar mi contrato en primera división. creo que el fútbol ha cambiado demasiado y es más dinámico, por lo que se cuentan con ciertas facilidades que en otros momentos los jugadores profesionales no tenían.           “ahora se puede complementar el trabajo en la cancha con gimnasio, consumo de proteínas y el descanso, factores que ayudan a alargar nuestro rendimiento y el tiempo que permanezcamos en el fútbol”, manifestó.      patrick jugará con carmelita durante dos años y guarda un especial cariño por el club alajuelense, pues allí comenzó a dar sus primeros pasos como guardameta. contó que las negociaciones para volver al club se dieron en términos muy amigables y sin mucho mate.      “la negociación fue muy rápida, muy clara, no hubo muchos rodeos, tuve la dicha de conversar con la junta directiva y me presentaron el proyecto y obviamente no lo dudé, es un proyecto interesante y también hubo buena voluntad de parte de consultants.            el arquero llegó al club verdolaga por dos años. facebook.       “me siento pleno, contento, agradecido con dios, con la vida y con el fútbol por la oportunidad y de saber que sigo formando parte de proyectos importantes y eso es muestra de que el torneo que hice en consultants sirvió para que otros clubes se volvieran a fijar en mí”, comentó.      además de su brete, pemberton es entrenador de porteros del centro de alto rendimiento twelve, de joel campbell y de la academia fútbol consultants edson soto.           ruda misión      pemberton llegó al club carmelo en compañía de otros jugadores colmilludos como christian lagos, rafa núñez y kevin vega con una clara misión: llevar al equipo al ascenso, luego de quedarse en el camino en el torneo anterior ante puntarenas fc.      “llego a aportar seguridad, confianza en la portería, liderazgo. somos varios compañeros que fuimos líderes en otros clubes y llevamos esa voz de mando, que en todo equipo se necesita, no será fácil, pero todos estamos en la misma sintonía.      “ya pude conversar con los compañeros que estuvieron el semestre anterior y ellos me dijeron que hubo detalles que no supieron manejar y para eso está este servidor y los demás compañeros, para ayudar a solucionar esos detalles”, expresó.      “me siento pleno, contento, agradecido con dios, con la vida y con el fútbol por la oportunidad, de saber que sigo formando parte de proyectos importantes”. patrick pemberton, portero.      el arquero se ha acoplado muy bien a los primeros entrenamientos, dirigidos por el entrenador colombiano gonzalo soto.      “estamos en pretemporada, haciendo una mezcla de trabajo físico-táctico y poco a poco viendo lo que el cuerpo técnico quiere, preparando la metodología para el inicio del torneo.      “la verdad es que llego a un club que reúne condiciones similares a equipos de primera división, tiene un complejo, su propia cancha (el estadio rafael bolaños), uniformes de calidad y un sinfín de cosas que los jugadores necesitan. sabemos que conforme avance el torneo, el recorrido será más difícil, pero los jugadores estamos en la misma sintonía, vamos a hacer un gran equipo, una gran familia”, destacó.               view this post on instagram            a post shared by パトリックペンバートンバーナード (@ppemberton01)\n",
      "el equipo lechero no está en venta. cortesía.       el deportivo saprissa asumirá la administración deportiva del uruguay de coronado.      una fuente allegada a la teja informó que los morados se acercaron al club lechero hace seis meses, para firmar un convenio deportivo y dejó claro que el equipo no está en venta.      “esta es una alianza deportiva que beneficiará a ambas partes, saprissa aportará al cuerpo técnico y jugadores y el resto lo asumirá uruguay.      “esta alianza tiene feliz a los socios y a la comunidad en general, porque la pandemia afectó a los equipos y con el descenso, el equipo también ha tenido problemas económicos y este convenio le quitará un peso de encima al equipo”, manifestó.           saprissa aportará al cuerpo técnico, encabezado por cristian salomón y 15 jugadores de las divisiones menores y algunos de ellos hasta ya sumaron minutos en el torneo anterior, como atim rooper, jeiner ballestero, samuel maroto y keymark davis.      “hace un mes convocaron a los socios para explicarles el proyecto, pero aún no estaba firmado el convenio. hoy (ayer viernes) hay asamblea de socios donde se les presentará el detalle del proyecto”, afirmó la fuente, quien pidió el anonimato.\n",
      "rónald gómez será el asistente número dos del técnico de la selección nacional, luis fernando suárez.            rónald gómez será el asistente. fotografía: nuestro diario.       según supo la teja, gómez será confirmado este mediodía en la conferencia de prensa donde también se dará a conocer la lista definitiva de 23 futbolistas que jugarán la copa de oro.      días antes se especulaba sobre la posibilidad de que figuras como wálter centeno, vladimir quesada o gilberto martínez asumieran ese puesto, pero la bala les ganó a todos.\n",
      "suárez ya trabaja con su cuerpo técnico de cara a la copa oro. alonso tenorio.       luis fernando suárez, técnico de la selección nacional, completó el equipo de trabajo que lo ayudará en la copa oro y en las eliminatorias mundialistas con la incorporación de rónald, “la bala” gómez como uno de sus asistentes.      además de gómez, las otras personas de confianza del técnico serán el colombiano john jairo bodmer (asistente) y el preparador físico, iván niño.      suárez explicó que con gómez bastaron unas cuantas palabras para darse cuenta de que era el mejor candidato.      “por esa conducta, forma de ser, me mostró de su capacidad como entrenador, de lo que sabe; lo que más me llamó la atención fue el sentido de pertenencia que tiene con el país.           rónald gómez fue presentado como asistente técnico de la sele       “cuando uno está fuera del país, ama el país, rónald tiene mucho para darle al país, tiene ganas y optamos por estar con él”, explicó el dt.      por otro lado, rónald no cabía de la contentera de que fuera escogido para trabajar con el colombiano.      “para mí es un gusto estar trabajando para mi país, agradecer al cuerpo técnico que ha confiado en mi persona y desde el primer día me di cuenta de que tenemos un gran profesional, que nos va a llevar a grandes éxitos”, expresó la bala.       luis fernando suárez, costa rica, selección, rónald gómez\n",
      "estos son tres de los rostros para ejemplificar a los espueludos. john durán       el técnico de la selección nacional, luis fernando suárez, presentó la lista de jugadores que irán a la copa oro, que se disputará del 12 de julio al 1 de agosto.      la lista es una herencia que le dejó carlos watson, director de selecciones nacionales, con 60 jugadores que quedaron inscritos en concacaf y de la que tenía que sacar los 23 futbolistas para el torneo.      desde el lunes suárez estaba trabajando con un grupo del que quedaron fuera alexis gamboa, de alajuelense; randall leal, del nashville de la mls; keyner brown y jefferson brenes de herediano y mayron george, del pau fc de francia, este último por covid-19.      “llevó un equipo de estos porque ustedes saben, yo no conozco totalmente el medio, estoy haciendo un curso acelerado y en esta semana he tenido mucho conocimiento de los jugadores.      “creo que la copa es el momento preciso para saber de ellos, no hay posibilidad después de esto en el que tengamos la oportunidad de juntarnos casi un mes, de ninguna manera es peligroso. la eliminatoria arranca en setiembre, creo que hay tiempo necesario como para ver el grupo. además que los jugadores vean que es lo que nos gusta jugar a nosotros”, explicó suárez.      la copa de oro será de hecho el único momento que tendrá el técnico antes del arranque de la eliminatoria para catar 2022 cuando se viaje el 1 de setiembre a panamá.      porteros: leonel moreira, esteban alvarado y patrick sequeira.      defensores: keysher fuller, yael lópez, giancarlo gonzález, kendall waston, francisco calvo, óscar duarte, ronald matarrita y bryan oviedo.      volantes: david guzmán, yeltsin tejeda, allan cruz, celso borges, alonso martínez, bryan ruiz, johan venegas, jimmy marín y ariel lassiter.      delanteros: joel campbell, josé guillermo ortiz y ariel rodríguez.            esta es la lista de jugadores convocados a la copa oro. twitter. fedefútbol.\n",
      "hoy es un día especial, hoy está cumpliendo años el decano del fútbol, el equipo de mis amores, el glorioso club sport cartaginés.      esperé este jueves con ansias, como si fuera mi cumpleaños, les voy a contar porqué.      el lunes el club a la venta un kit conmemorativo, hizo solo 115, no porque creyera que no se iban a vender, sino porque son los años que cumple el equipo. querían hacer algo exclusivo y vaya que lo lograron.      sin duda yo tenía que ser uno de esos 115 y apenas los pusieron a la venta, aparté el mío, y solo me tocaba esperar a que fuera 1 de julio.      el miércoles me acosté tan emocionado como cuando estaba chiquitillo y mi mamá me decía que al día siguiente íbamos para el parque diversiones.      el kit lo empezaban a repartir a las 9 a. m. y para disimular un toque mi emoción fui a las 10.      y es que no solo iba a ir por mi kit, de paso iba a darle una vueltica al fello meza, mi segundo hogar, ese lugar tan hermoso al que no entro desde febrero del 2020 por culpa del maldito coronavirus.      del kit solo les puedo decir una cosa: ¡es precioso!            solo vean que hermosura, hasta duele sacarlo de la caja.        mis expectativas se quedaron cortas, cuidaron cada detalle, desde la caja en el que viene es de colección. el banderín es hermoso, las medias son tan lindas que las usaré solo el 1 de julio de cada año. claramente escribí esto con las medias puestas.      además, viene una carta de agradecimiento del presidente del club, don leonardo vargas. ¡un detallazo! como respuesta solo puedo decirle que aquí estaremos siempre, en las buenas, en las malas y en las peores, un brumoso nunca arruga.            la carta además autentifica los productos.        ahora sí, hablemos de la chema. como todas las del cartaginés, es simplemente hermosa. tenemos la dicha de tener un color elegante, todo lo azul es bonito.      sí, en la manga dice 95 como el año que ganamos la concacaf, pero qué me importa a mí cuál es el año correcto, si es 94 (año al que corresponde el torneo) o 95 (año en el que lo ganamos), la cuestión es que tenemos ese título que nos mete entre los más grandes de la región.      durante toda la semana pensé en escribir una columna que describiera por qué soy cartaginés, inicié varias, pero ninguna describía el orgullo que siento de apoyar a mi equipo.      por eso decidí narrar cómo fue mi mañana del 1 de julio del 2021. esto es el cartaginés, un equipo que sin necesidad de tantos títulos es grande, que me llena de alegría y me convierte en un niño.      ¡felicidades, querido equipo!            hasta la cajita es de colección.             este detalle me sorprendió, cuidado y no fue lo que más me gustó. la chema trae una calcomanía que es tan bonita que todavía no sé dónde pegarla.\n",
      "la portera jugó con las actuales campeonas en el 2019. prensa alajuelense.       la portera noelia bermúdez volvió a alajuelense luego de su paso por españa. este jueves el club informó que la guardameta jugará con las campeonas nacionales por los próximos tres años.      bermúdez se vistió por primera vez de rojinegra en el 2019, luego de estar en el saprissa.      el año pasado, el deportivo abanca de españa anunció que la tica jugaría con ellos durante un año, con opción a extender su contrato, sin embargo, no renovaron su ligamen.           un jueves muy feliz      la sancarleña manifestó que este jueves fue un día muy especial para ella.      “desde que me desperté venía visualizando a lo que venía, lo que quería disfrutar al volver. ya pude entrenar con el grupo y estoy muy feliz.      “nunca dejé de seguir al equipo, los horarios de los juegos eran complicados, a veces eran a las tres de la mañana de españa y pude ver las dificultares que sufrieron y todo lo que se logró con el campeonato. esto nos tiene que servir de motivación para lograr el bicampeonato”, añadió.      la portera dijo que su paso por el país ibérico la hizo ser mejor persona y profesional.           (video) noelia bermúdez vuelve a alajuelense       “de la primera vez volví siendo otra completamente, como portera, como persona, competir a un alto nivel te abre la mente de muchas maneras y el roce internacional que le genera a una, semana a semana es enorme. la liga ha cambiado mucho y en españa es a lo que nos tenemos que fijar acá, más cuando la temporada que viene es cien por ciento profesional”, afirmó.       noelia bermúdez, alajuelense\n"
     ]
    }
   ],
   "source": [
    "for a in articulo_L:\n",
    "    print(a.lower().strip())"
   ]
  },
  {
   "cell_type": "code",
   "execution_count": 20,
   "metadata": {
    "collapsed": true
   },
   "outputs": [
    {
     "ename": "SyntaxError",
     "evalue": "invalid syntax (<ipython-input-20-e6ce55caebcd>, line 1)",
     "output_type": "error",
     "traceback": [
      "\u001b[0;36m  File \u001b[0;32m\"<ipython-input-20-e6ce55caebcd>\"\u001b[0;36m, line \u001b[0;32m1\u001b[0m\n\u001b[0;31m    1.tokeniza_sent, se pasa a un string.strip()+\" \".\u001b[0m\n\u001b[0m      ^\u001b[0m\n\u001b[0;31mSyntaxError\u001b[0m\u001b[0;31m:\u001b[0m invalid syntax\n"
     ]
    }
   ],
   "source": [
    "1.tokeniza_sent, se pasa a un string.strip()+\" \"."
   ]
  },
  {
   "cell_type": "code",
   "execution_count": 26,
   "metadata": {},
   "outputs": [
    {
     "name": "stdout",
     "output_type": "stream",
     "text": [
      "['Dos técnicos campeones con Saprissa son las opciones para ser el asistente de Suárez', 'Wílmer López va por el bicampeonato de las leonas con la confianza renovada', 'Sale Ronald “la Bala” Gómez y entra Gilberto “Tuma” Martínez en Barrio México ', 'Portero Patrick Pemberton ataja los años y todavía no piensa en el retiro', 'Saprissa fogueará 15 chamacos en torneo de segunda con Uruguay de Coronado', 'Rónald “la Bala” Gómez será el asistente técnico de Luis Fernando Suárez', 'Técnico de la Sele sobre Rónald Gómez: “Tiene mucho para darle al país”', 'Jugadores espueludos fueron los llamados a la Copa Oro', 'Opinión del brumoso: Hoy cumple años el club al que no le hacen falta títulos para ser grande', '(Video) Portera Noelia Bermúdez vuelve a Alajuelense: “Nunca dejé de seguir al equipo”']\n"
     ]
    }
   ],
   "source": [
    "import string\n",
    "print(titulos_L)"
   ]
  },
  {
   "cell_type": "markdown",
   "metadata": {},
   "source": [
    "## Make Spider"
   ]
  },
  {
   "cell_type": "code",
   "execution_count": 137,
   "metadata": {},
   "outputs": [],
   "source": [
    "req = requests.get(\"https://www.lateja.cr/deportes/\")\n",
    "corpus = BeautifulSoup(req.text, 'lxml')"
   ]
  },
  {
   "cell_type": "markdown",
   "metadata": {},
   "source": [
    "#### How to post a Scroll_Down and get the resutl to beautiful soup?/ Dessarrollo"
   ]
  },
  {
   "cell_type": "code",
   "execution_count": 138,
   "metadata": {},
   "outputs": [],
   "source": [
    "results_sets=corpus.find_all('div', class_='result-listing')"
   ]
  },
  {
   "cell_type": "code",
   "execution_count": 153,
   "metadata": {},
   "outputs": [],
   "source": [
    "links=[]\n",
    "\n",
    "for result_set in results_sets:\n",
    "    links+=result_set.find_all('a', href=True)\n"
   ]
  },
  {
   "cell_type": "code",
   "execution_count": 155,
   "metadata": {},
   "outputs": [
    {
     "name": "stdout",
     "output_type": "stream",
     "text": [
      "1 https://www.lateja.cr/deportes/chineada-le-cumple-un-sueno-al-mecanico-que-la/T3QH2PLPYZGYJLTADKTXGCUF2U/story/\n",
      "2 https://www.lateja.cr/deportes/video-arbitro-tico-ricardo-montero-debuto-en-la/EQ54CIQ6UNC6PNRALDLHMERN2E/story/\n",
      "3 https://www.lateja.cr/deportes/argentina-consiguio-un-maracanazo-en-la-copa/SQC2CSV47FASHF2UXPSAQE25YQ/story/\n",
      "4 https://www.lateja.cr/deportes/ninguno-pudo-con-los-cachorros-del-herediano-en/22IUTKZZXNAZ3OOC4JRQFPYRJY/story/\n",
      "5 https://www.lateja.cr/deportes/covid-19-se-paseo-en-la-pretemporada-de/LBH6WAGQZRE6LP2FTCRYBMECBU/story/\n",
      "6 https://www.lateja.cr/deportes/inglaterra-italia-una-final-de-euro-imperial-en/6BQIFIDWCJCDXPV2CEZTRA47BU/story/\n",
      "7 https://www.lateja.cr/deportes/tom-cruise-ya-eligio-equipo-en-la-final-de-la/XUIPA4EYSNCHZJ72MERPHRRMYM/story/\n",
      "8 https://www.lateja.cr/deportes/mexicano-rafael-loredo-se-comera-la-bronca-de/RWYXMXRGSZHEZFB5BFO6LIBBLE/story/\n",
      "9 https://www.lateja.cr/deportes/sele-va-a-copa-oro-con-un-tecnico-con-credibilidad/EJAOSASVKBAB7I5W3JXPPNQ3LE/story/\n",
      "10 https://www.lateja.cr/deportes/moradas-pasan-del-enojo-a-la-frustracion-tras/RHV5JRGKNFENLJXC63VPK4KB2Q/story/\n"
     ]
    }
   ],
   "source": [
    "count=1;\n",
    "links_article=[]\n",
    "for i in links:\n",
    "    if i.has_attr('href') and \"story\" in i['href'] and \"https://www.lateja.cr/\"+i['href'] not in links_article :\n",
    "        print(count,\"https://www.lateja.cr\"+i['href'])\n",
    "        links_article.append(\"https://www.lateja.cr/\"+i['href'])\n",
    "        count+=1"
   ]
  },
  {
   "cell_type": "code",
   "execution_count": 154,
   "metadata": {},
   "outputs": [
    {
     "name": "stdout",
     "output_type": "stream",
     "text": [
      "/deportes/chineada-le-cumple-un-sueno-al-mecanico-que-la/T3QH2PLPYZGYJLTADKTXGCUF2U/story/\n",
      "/deportes/chineada-le-cumple-un-sueno-al-mecanico-que-la/T3QH2PLPYZGYJLTADKTXGCUF2U/story/\n",
      "/autores/franklin-arroyo/\n",
      "/deportes/video-arbitro-tico-ricardo-montero-debuto-en-la/EQ54CIQ6UNC6PNRALDLHMERN2E/story/\n",
      "/deportes/video-arbitro-tico-ricardo-montero-debuto-en-la/EQ54CIQ6UNC6PNRALDLHMERN2E/story/\n",
      "/autores/redaccion-lt/\n",
      "/deportes/argentina-consiguio-un-maracanazo-en-la-copa/SQC2CSV47FASHF2UXPSAQE25YQ/story/\n",
      "/deportes/argentina-consiguio-un-maracanazo-en-la-copa/SQC2CSV47FASHF2UXPSAQE25YQ/story/\n",
      "/autores/afp/\n",
      "/deportes/ninguno-pudo-con-los-cachorros-del-herediano-en/22IUTKZZXNAZ3OOC4JRQFPYRJY/story/\n",
      "/deportes/ninguno-pudo-con-los-cachorros-del-herediano-en/22IUTKZZXNAZ3OOC4JRQFPYRJY/story/\n",
      "/deportes/covid-19-se-paseo-en-la-pretemporada-de/LBH6WAGQZRE6LP2FTCRYBMECBU/story/\n",
      "/deportes/covid-19-se-paseo-en-la-pretemporada-de/LBH6WAGQZRE6LP2FTCRYBMECBU/story/\n",
      "/deportes/inglaterra-italia-una-final-de-euro-imperial-en/6BQIFIDWCJCDXPV2CEZTRA47BU/story/\n",
      "/deportes/inglaterra-italia-una-final-de-euro-imperial-en/6BQIFIDWCJCDXPV2CEZTRA47BU/story/\n",
      "/autores/afp/\n",
      "/deportes/tom-cruise-ya-eligio-equipo-en-la-final-de-la/XUIPA4EYSNCHZJ72MERPHRRMYM/story/\n",
      "/deportes/tom-cruise-ya-eligio-equipo-en-la-final-de-la/XUIPA4EYSNCHZJ72MERPHRRMYM/story/\n",
      "/autores/afp/\n",
      "/deportes/mexicano-rafael-loredo-se-comera-la-bronca-de/RWYXMXRGSZHEZFB5BFO6LIBBLE/story/\n",
      "/deportes/mexicano-rafael-loredo-se-comera-la-bronca-de/RWYXMXRGSZHEZFB5BFO6LIBBLE/story/\n",
      "/autores/gda/\n",
      "/deportes/sele-va-a-copa-oro-con-un-tecnico-con-credibilidad/EJAOSASVKBAB7I5W3JXPPNQ3LE/story/\n",
      "/deportes/sele-va-a-copa-oro-con-un-tecnico-con-credibilidad/EJAOSASVKBAB7I5W3JXPPNQ3LE/story/\n",
      "/autores/franklin-arroyo/\n",
      "/deportes/moradas-pasan-del-enojo-a-la-frustracion-tras/RHV5JRGKNFENLJXC63VPK4KB2Q/story/\n",
      "/deportes/moradas-pasan-del-enojo-a-la-frustracion-tras/RHV5JRGKNFENLJXC63VPK4KB2Q/story/\n",
      "/autores/sergio-alvarado/\n"
     ]
    }
   ],
   "source": [
    "count=1;\n",
    "links_article=[]\n",
    "for i in links:\n",
    "    if i.has_attr('href'):\n",
    "        print(i['href'])"
   ]
  },
  {
   "cell_type": "code",
   "execution_count": 156,
   "metadata": {},
   "outputs": [],
   "source": [
    "requests_links=[]\n",
    "for lnk in links_article:\n",
    "    requests_links.append(requests.get(lnk))"
   ]
  },
  {
   "cell_type": "code",
   "execution_count": 144,
   "metadata": {},
   "outputs": [],
   "source": [
    "titulos_L=[]\n",
    "articulo_L=[]\n",
    "\n",
    "for resps in requests_links:\n",
    "    soup = BeautifulSoup(resps.text, 'lxml')\n",
    "    title = soup.find('div', class_='headline-hed-last').text\n",
    "    titulos_L.append(title)\n",
    "    \n",
    "    corpus = soup.find('div', id='article-content') \n",
    "    cleancorpus = corpus.find_all('div', class_=\"container-fluid-recomend\")\n",
    "    x = 0\n",
    "    for i in cleancorpus:\n",
    "        i.clear()#i.div.decompose()\n",
    "        x=+1\n",
    "    articulo_L.append(corpus.text)"
   ]
  },
  {
   "cell_type": "code",
   "execution_count": 147,
   "metadata": {},
   "outputs": [
    {
     "data": {
      "text/plain": [
       "['Chineada le cumple un sueño al mecánico que la tiene como nueva',\n",
       " '(Video) Árbitro tico Ricardo Montero debutó en la Copa Oro con tremendo papelón',\n",
       " 'Argentina consiguió un Maracanazo en la Copa América',\n",
       " 'Ninguno pudo con los cachorros del Herediano en gira por México',\n",
       " 'Covid-19 se paseó en la pretemporada de Alajuelense',\n",
       " 'Inglaterra-Italia, una final de Euro imperial en Wembley',\n",
       " 'Tom Cruise ya eligió equipo en la final de la Eurocopa',\n",
       " 'Mexicano Rafael Loredo se comerá la bronca de dirigir a Guatemala en la Copa Oro',\n",
       " 'Sele jaló a Copa Oro con un técnico con credibilidad, pero con jugadores que siguen debiendo',\n",
       " 'Moradas pasan del enojo a la frustración tras perder contra Dimas']"
      ]
     },
     "execution_count": 147,
     "metadata": {},
     "output_type": "execute_result"
    }
   ],
   "source": [
    "titulos_L"
   ]
  },
  {
   "cell_type": "code",
   "execution_count": 2,
   "metadata": {},
   "outputs": [],
   "source": [
    "# Los avances de dessarollo\n",
    "# pandas como usar pandas."
   ]
  },
  {
   "cell_type": "markdown",
   "metadata": {},
   "source": [
    "## Selenium"
   ]
  },
  {
   "cell_type": "code",
   "execution_count": 1,
   "metadata": {},
   "outputs": [],
   "source": [
    "from selenium import webdriver\n",
    "from selenium.webdriver.common.keys import Keys\n",
    "from bs4 import BeautifulSoup\n",
    "import requests\n",
    "import time\n",
    "import pandas as pd\n",
    "import pickle"
   ]
  },
  {
   "cell_type": "markdown",
   "metadata": {},
   "source": [
    "### Exception - Selenium"
   ]
  },
  {
   "cell_type": "code",
   "execution_count": 2,
   "metadata": {},
   "outputs": [],
   "source": [
    "import contextlib\n",
    "from selenium import webdriver\n",
    "from selenium.webdriver import DesiredCapabilities\n",
    "from selenium.common.exceptions import NoSuchElementException, TimeoutException, WebDriverException\n",
    "import argparse\n",
    "import traceback\n",
    "import time"
   ]
  },
  {
   "cell_type": "code",
   "execution_count": 3,
   "metadata": {},
   "outputs": [],
   "source": [
    "driver = webdriver.Safari()\n",
    "driver.get(\"https://www.lateja.cr/deportes/\")"
   ]
  },
  {
   "cell_type": "code",
   "execution_count": 104,
   "metadata": {},
   "outputs": [
    {
     "name": "stdout",
     "output_type": "stream",
     "text": [
      "Retries left 9, Continuing on Traceback (most recent call last):\n",
      "  File \"<ipython-input-104-2b0538ed9ec6>\", line 6, in <module>\n",
      "    elem = driver.find_element_by_class_name('see-more').click()\n",
      "  File \"/Users/sebastianvegar/opt/anaconda3/lib/python3.8/site-packages/selenium/webdriver/remote/webdriver.py\", line 564, in find_element_by_class_name\n",
      "    return self.find_element(by=By.CLASS_NAME, value=name)\n",
      "  File \"/Users/sebastianvegar/opt/anaconda3/lib/python3.8/site-packages/selenium/webdriver/remote/webdriver.py\", line 976, in find_element\n",
      "    return self.execute(Command.FIND_ELEMENT, {\n",
      "  File \"/Users/sebastianvegar/opt/anaconda3/lib/python3.8/site-packages/selenium/webdriver/remote/webdriver.py\", line 321, in execute\n",
      "    self.error_handler.check_response(response)\n",
      "  File \"/Users/sebastianvegar/opt/anaconda3/lib/python3.8/site-packages/selenium/webdriver/remote/errorhandler.py\", line 242, in check_response\n",
      "    raise exception_class(message, screen, stacktrace)\n",
      "selenium.common.exceptions.WebDriverException: Message: \n",
      "\n",
      "\n",
      "Retries left 8, Continuing on Traceback (most recent call last):\n",
      "  File \"<ipython-input-104-2b0538ed9ec6>\", line 6, in <module>\n",
      "    elem = driver.find_element_by_class_name('see-more').click()\n",
      "  File \"/Users/sebastianvegar/opt/anaconda3/lib/python3.8/site-packages/selenium/webdriver/remote/webdriver.py\", line 564, in find_element_by_class_name\n",
      "    return self.find_element(by=By.CLASS_NAME, value=name)\n",
      "  File \"/Users/sebastianvegar/opt/anaconda3/lib/python3.8/site-packages/selenium/webdriver/remote/webdriver.py\", line 976, in find_element\n",
      "    return self.execute(Command.FIND_ELEMENT, {\n",
      "  File \"/Users/sebastianvegar/opt/anaconda3/lib/python3.8/site-packages/selenium/webdriver/remote/webdriver.py\", line 321, in execute\n",
      "    self.error_handler.check_response(response)\n",
      "  File \"/Users/sebastianvegar/opt/anaconda3/lib/python3.8/site-packages/selenium/webdriver/remote/errorhandler.py\", line 242, in check_response\n",
      "    raise exception_class(message, screen, stacktrace)\n",
      "selenium.common.exceptions.InvalidSessionIdException: Message: \n",
      "\n",
      "\n",
      "Retries left 7, Continuing on Traceback (most recent call last):\n",
      "  File \"<ipython-input-104-2b0538ed9ec6>\", line 6, in <module>\n",
      "    elem = driver.find_element_by_class_name('see-more').click()\n",
      "  File \"/Users/sebastianvegar/opt/anaconda3/lib/python3.8/site-packages/selenium/webdriver/remote/webdriver.py\", line 564, in find_element_by_class_name\n",
      "    return self.find_element(by=By.CLASS_NAME, value=name)\n",
      "  File \"/Users/sebastianvegar/opt/anaconda3/lib/python3.8/site-packages/selenium/webdriver/remote/webdriver.py\", line 976, in find_element\n",
      "    return self.execute(Command.FIND_ELEMENT, {\n",
      "  File \"/Users/sebastianvegar/opt/anaconda3/lib/python3.8/site-packages/selenium/webdriver/remote/webdriver.py\", line 321, in execute\n",
      "    self.error_handler.check_response(response)\n",
      "  File \"/Users/sebastianvegar/opt/anaconda3/lib/python3.8/site-packages/selenium/webdriver/remote/errorhandler.py\", line 242, in check_response\n",
      "    raise exception_class(message, screen, stacktrace)\n",
      "selenium.common.exceptions.InvalidSessionIdException: Message: \n",
      "\n",
      "\n",
      "Retries left 6, Continuing on Traceback (most recent call last):\n",
      "  File \"<ipython-input-104-2b0538ed9ec6>\", line 6, in <module>\n",
      "    elem = driver.find_element_by_class_name('see-more').click()\n",
      "  File \"/Users/sebastianvegar/opt/anaconda3/lib/python3.8/site-packages/selenium/webdriver/remote/webdriver.py\", line 564, in find_element_by_class_name\n",
      "    return self.find_element(by=By.CLASS_NAME, value=name)\n",
      "  File \"/Users/sebastianvegar/opt/anaconda3/lib/python3.8/site-packages/selenium/webdriver/remote/webdriver.py\", line 976, in find_element\n",
      "    return self.execute(Command.FIND_ELEMENT, {\n",
      "  File \"/Users/sebastianvegar/opt/anaconda3/lib/python3.8/site-packages/selenium/webdriver/remote/webdriver.py\", line 321, in execute\n",
      "    self.error_handler.check_response(response)\n",
      "  File \"/Users/sebastianvegar/opt/anaconda3/lib/python3.8/site-packages/selenium/webdriver/remote/errorhandler.py\", line 242, in check_response\n",
      "    raise exception_class(message, screen, stacktrace)\n",
      "selenium.common.exceptions.InvalidSessionIdException: Message: \n",
      "\n",
      "\n",
      "Retries left 5, Continuing on Traceback (most recent call last):\n",
      "  File \"<ipython-input-104-2b0538ed9ec6>\", line 6, in <module>\n",
      "    elem = driver.find_element_by_class_name('see-more').click()\n",
      "  File \"/Users/sebastianvegar/opt/anaconda3/lib/python3.8/site-packages/selenium/webdriver/remote/webdriver.py\", line 564, in find_element_by_class_name\n",
      "    return self.find_element(by=By.CLASS_NAME, value=name)\n",
      "  File \"/Users/sebastianvegar/opt/anaconda3/lib/python3.8/site-packages/selenium/webdriver/remote/webdriver.py\", line 976, in find_element\n",
      "    return self.execute(Command.FIND_ELEMENT, {\n",
      "  File \"/Users/sebastianvegar/opt/anaconda3/lib/python3.8/site-packages/selenium/webdriver/remote/webdriver.py\", line 321, in execute\n",
      "    self.error_handler.check_response(response)\n",
      "  File \"/Users/sebastianvegar/opt/anaconda3/lib/python3.8/site-packages/selenium/webdriver/remote/errorhandler.py\", line 242, in check_response\n",
      "    raise exception_class(message, screen, stacktrace)\n",
      "selenium.common.exceptions.InvalidSessionIdException: Message: \n",
      "\n",
      "\n",
      "Retries left 4, Continuing on Traceback (most recent call last):\n",
      "  File \"<ipython-input-104-2b0538ed9ec6>\", line 6, in <module>\n",
      "    elem = driver.find_element_by_class_name('see-more').click()\n",
      "  File \"/Users/sebastianvegar/opt/anaconda3/lib/python3.8/site-packages/selenium/webdriver/remote/webdriver.py\", line 564, in find_element_by_class_name\n",
      "    return self.find_element(by=By.CLASS_NAME, value=name)\n",
      "  File \"/Users/sebastianvegar/opt/anaconda3/lib/python3.8/site-packages/selenium/webdriver/remote/webdriver.py\", line 976, in find_element\n",
      "    return self.execute(Command.FIND_ELEMENT, {\n",
      "  File \"/Users/sebastianvegar/opt/anaconda3/lib/python3.8/site-packages/selenium/webdriver/remote/webdriver.py\", line 321, in execute\n",
      "    self.error_handler.check_response(response)\n",
      "  File \"/Users/sebastianvegar/opt/anaconda3/lib/python3.8/site-packages/selenium/webdriver/remote/errorhandler.py\", line 242, in check_response\n",
      "    raise exception_class(message, screen, stacktrace)\n",
      "selenium.common.exceptions.InvalidSessionIdException: Message: \n",
      "\n",
      "\n",
      "Retries left 3, Continuing on Traceback (most recent call last):\n",
      "  File \"<ipython-input-104-2b0538ed9ec6>\", line 6, in <module>\n",
      "    elem = driver.find_element_by_class_name('see-more').click()\n",
      "  File \"/Users/sebastianvegar/opt/anaconda3/lib/python3.8/site-packages/selenium/webdriver/remote/webdriver.py\", line 564, in find_element_by_class_name\n",
      "    return self.find_element(by=By.CLASS_NAME, value=name)\n",
      "  File \"/Users/sebastianvegar/opt/anaconda3/lib/python3.8/site-packages/selenium/webdriver/remote/webdriver.py\", line 976, in find_element\n",
      "    return self.execute(Command.FIND_ELEMENT, {\n",
      "  File \"/Users/sebastianvegar/opt/anaconda3/lib/python3.8/site-packages/selenium/webdriver/remote/webdriver.py\", line 321, in execute\n",
      "    self.error_handler.check_response(response)\n",
      "  File \"/Users/sebastianvegar/opt/anaconda3/lib/python3.8/site-packages/selenium/webdriver/remote/errorhandler.py\", line 242, in check_response\n",
      "    raise exception_class(message, screen, stacktrace)\n",
      "selenium.common.exceptions.InvalidSessionIdException: Message: \n",
      "\n",
      "\n",
      "Retries left 2, Continuing on Traceback (most recent call last):\n",
      "  File \"<ipython-input-104-2b0538ed9ec6>\", line 6, in <module>\n",
      "    elem = driver.find_element_by_class_name('see-more').click()\n",
      "  File \"/Users/sebastianvegar/opt/anaconda3/lib/python3.8/site-packages/selenium/webdriver/remote/webdriver.py\", line 564, in find_element_by_class_name\n",
      "    return self.find_element(by=By.CLASS_NAME, value=name)\n",
      "  File \"/Users/sebastianvegar/opt/anaconda3/lib/python3.8/site-packages/selenium/webdriver/remote/webdriver.py\", line 976, in find_element\n",
      "    return self.execute(Command.FIND_ELEMENT, {\n",
      "  File \"/Users/sebastianvegar/opt/anaconda3/lib/python3.8/site-packages/selenium/webdriver/remote/webdriver.py\", line 321, in execute\n",
      "    self.error_handler.check_response(response)\n",
      "  File \"/Users/sebastianvegar/opt/anaconda3/lib/python3.8/site-packages/selenium/webdriver/remote/errorhandler.py\", line 242, in check_response\n",
      "    raise exception_class(message, screen, stacktrace)\n",
      "selenium.common.exceptions.InvalidSessionIdException: Message: \n",
      "\n",
      "\n"
     ]
    },
    {
     "name": "stdout",
     "output_type": "stream",
     "text": [
      "Retries left 1, Continuing on Traceback (most recent call last):\n",
      "  File \"<ipython-input-104-2b0538ed9ec6>\", line 6, in <module>\n",
      "    elem = driver.find_element_by_class_name('see-more').click()\n",
      "  File \"/Users/sebastianvegar/opt/anaconda3/lib/python3.8/site-packages/selenium/webdriver/remote/webdriver.py\", line 564, in find_element_by_class_name\n",
      "    return self.find_element(by=By.CLASS_NAME, value=name)\n",
      "  File \"/Users/sebastianvegar/opt/anaconda3/lib/python3.8/site-packages/selenium/webdriver/remote/webdriver.py\", line 976, in find_element\n",
      "    return self.execute(Command.FIND_ELEMENT, {\n",
      "  File \"/Users/sebastianvegar/opt/anaconda3/lib/python3.8/site-packages/selenium/webdriver/remote/webdriver.py\", line 321, in execute\n",
      "    self.error_handler.check_response(response)\n",
      "  File \"/Users/sebastianvegar/opt/anaconda3/lib/python3.8/site-packages/selenium/webdriver/remote/errorhandler.py\", line 242, in check_response\n",
      "    raise exception_class(message, screen, stacktrace)\n",
      "selenium.common.exceptions.InvalidSessionIdException: Message: \n",
      "\n",
      "\n",
      "Retries left 0, Continuing on Traceback (most recent call last):\n",
      "  File \"<ipython-input-104-2b0538ed9ec6>\", line 6, in <module>\n",
      "    elem = driver.find_element_by_class_name('see-more').click()\n",
      "  File \"/Users/sebastianvegar/opt/anaconda3/lib/python3.8/site-packages/selenium/webdriver/remote/webdriver.py\", line 564, in find_element_by_class_name\n",
      "    return self.find_element(by=By.CLASS_NAME, value=name)\n",
      "  File \"/Users/sebastianvegar/opt/anaconda3/lib/python3.8/site-packages/selenium/webdriver/remote/webdriver.py\", line 976, in find_element\n",
      "    return self.execute(Command.FIND_ELEMENT, {\n",
      "  File \"/Users/sebastianvegar/opt/anaconda3/lib/python3.8/site-packages/selenium/webdriver/remote/webdriver.py\", line 321, in execute\n",
      "    self.error_handler.check_response(response)\n",
      "  File \"/Users/sebastianvegar/opt/anaconda3/lib/python3.8/site-packages/selenium/webdriver/remote/errorhandler.py\", line 242, in check_response\n",
      "    raise exception_class(message, screen, stacktrace)\n",
      "selenium.common.exceptions.InvalidSessionIdException: Message: \n",
      "\n",
      "\n"
     ]
    }
   ],
   "source": [
    "retries = 10\n",
    "elem = driver.find_element_by_class_name('see-more').click()\n",
    "while retries > 0:\n",
    "    try:\n",
    "        time.sleep(5)\n",
    "        elem = driver.find_element_by_class_name('see-more').click()\n",
    "    except (NoSuchElementException, TimeoutException, WebDriverException) as e:\n",
    "        if retries > 0:\n",
    "            retries -= 1\n",
    "            print(\"Retries left {}, Continuing on {}\".format(retries, traceback.format_exc()))\n",
    "            time.sleep(5)\n",
    "        else:\n",
    "            raise e"
   ]
  },
  {
   "cell_type": "code",
   "execution_count": 4,
   "metadata": {
    "scrolled": true
   },
   "outputs": [
    {
     "name": "stdout",
     "output_type": "stream",
     "text": [
      "1\n",
      "2\n",
      "3\n",
      "4\n",
      "5\n",
      "6\n",
      "7\n",
      "8\n",
      "9\n",
      "10\n",
      "11\n",
      "12\n",
      "13\n",
      "14\n",
      "15\n",
      "16\n",
      "17\n",
      "18\n",
      "19\n",
      "20\n",
      "21\n",
      "22\n",
      "23\n",
      "24\n",
      "25\n",
      "26\n",
      "27\n",
      "28\n",
      "29\n",
      "30\n",
      "31\n",
      "32\n",
      "33\n",
      "34\n",
      "35\n",
      "36\n",
      "37\n",
      "38\n",
      "39\n",
      "40\n",
      "41\n",
      "42\n",
      "43\n",
      "44\n",
      "45\n",
      "46\n",
      "47\n",
      "48\n",
      "49\n",
      "50\n",
      "51\n",
      "52\n",
      "53\n",
      "54\n",
      "55\n",
      "56\n",
      "57\n",
      "58\n",
      "59\n",
      "60\n",
      "61\n",
      "62\n",
      "63\n",
      "64\n",
      "65\n",
      "66\n",
      "67\n",
      "68\n",
      "69\n",
      "70\n",
      "71\n",
      "72\n",
      "73\n",
      "74\n",
      "75\n",
      "76\n",
      "77\n",
      "78\n",
      "79\n",
      "80\n",
      "81\n",
      "82\n",
      "83\n",
      "84\n",
      "85\n",
      "86\n",
      "87\n",
      "88\n",
      "89\n",
      "90\n",
      "91\n",
      "92\n",
      "93\n",
      "94\n",
      "95\n",
      "96\n",
      "97\n",
      "98\n",
      "99\n",
      "100\n"
     ]
    }
   ],
   "source": [
    "working=0\n",
    "elem = driver.find_element_by_class_name('see-more').click()\n",
    "while(working<100):\n",
    "    try:\n",
    "        time.sleep(5)\n",
    "        elem = driver.find_element_by_class_name('see-more').click()\n",
    "        working+=1\n",
    "        print(working)\n",
    "    except:\n",
    "        working = 100\n"
   ]
  },
  {
   "cell_type": "code",
   "execution_count": 5,
   "metadata": {},
   "outputs": [],
   "source": [
    "page_source = driver.page_source\n",
    "soup = BeautifulSoup(page_source, 'lxml')"
   ]
  },
  {
   "cell_type": "code",
   "execution_count": 6,
   "metadata": {},
   "outputs": [],
   "source": [
    "results_sets=soup.find_all('div', class_='list-item')\n",
    "links=[]\n",
    "for result_set in results_sets:\n",
    "    links+=result_set.find_all('a', href=True)"
   ]
  },
  {
   "cell_type": "code",
   "execution_count": 7,
   "metadata": {},
   "outputs": [
    {
     "name": "stdout",
     "output_type": "stream",
     "text": [
      "1 https://www.lateja.cr/deportes/andrey-amador-derrocho-esfuerzo-en-durisima/2ESCZFXOZBADJIGH2VGKWRYL6E/story/\n",
      "2 https://www.lateja.cr/deportes/surfista-tico-cali-munoz-corre-para-llegar-a-tokio/IBYDSBD5YRHPHEY7GTRLV3QAL4/story/\n",
      "3 https://www.lateja.cr/deportes/video-surfista-brisa-hennessy-quiere-darle-una/4DA5UDMZ7ZC7PBHGNC3QHOCQDY/story/\n",
      "4 https://www.lateja.cr/deportes/muy-bonita-la-presentacion-de-la-chema-morada-pero/LN6ZUW7OIZHHPPEL2E6MBU2Y6U/story/\n",
      "5 https://www.lateja.cr/deportes/video-rapero-snk-cumplio-un-deseo-de-nino-al/3BVX2YRNGBCF3G2YSE2OHHY7ZQ/story/\n",
      "6 https://www.lateja.cr/deportes/mama-de-gimnasta-luciana-alvarado-hay-que/W7VQQKIGWJEU7OIAI4M4XKLYQY/story/\n",
      "7 https://www.lateja.cr/deportes/jonathan-moya-espero-que-se-me-presente-una/PJHQUQNDP5HXDPXPGWUZZILFNY/story/\n",
      "8 https://www.lateja.cr/deportes/video-delegacion-tica-se-hizo-presente-en-el/IVKWFXKB35EPRFFVVY3AMDBSQI/story/\n",
      "9 https://www.lateja.cr/deportes/el-deporte-esta-de-fiesta-hoy-se-inauguraron-los/FQAXAN5S5VCGXFITBXTK7T7T3U/story/\n",
      "10 https://www.lateja.cr/deportes/monstruo-estrena-piel-asi-son-las-nuevas-chemas-de/K6JEFKIO5NCHNLKVZAYKWL2JHE/story/\n",
      "11 https://www.lateja.cr/deportes/fernan-faerron-desmiente-que-este-chiva-con-la/COXVTOZM5FBJJGQ7CXXHSL24HQ/story/\n",
      "12 https://www.lateja.cr/deportes/la-copa-bicentenario-sera-el-ultimo-fogueo-de/YS3243K3BBFILPYGY5K2RQMW4E/story/\n",
      "13 https://www.lateja.cr/deportes/jossimar-pemberton-delantero-de-saprissa-los/K4JLKW2L2NBJ7EBX2QOSY3FN2U/story/\n",
      "14 https://www.lateja.cr/deportes/video-ciclista-andrey-amador-esta-listo-para/65Y6C6IMHJBKPDNAXE36OULOTI/story/\n",
      "15 https://www.lateja.cr/deportes/herediano-tiene-en-la-mira-el-invicto-de-las/HBWDPCLUSJA2LGACMITR73NPTE/story/\n",
      "16 https://www.lateja.cr/deportes/kevin-briceno-por-llamado-a-copa-oro-fue-una/SIXQYJHG7JATHHOVHYTUNNXW64/story/\n",
      "17 https://www.lateja.cr/deportes/ausencia-de-patrick-sequeira-en-la-sele-aguevo-a/NPAHI3LBZNEY7I3KZVVLM22PTA/story/\n",
      "18 https://www.lateja.cr/deportes/video-gimnasta-luciana-alvarado-probo-los-aparatos/BXOASSEDCNFPJBLFI5FEZWWQGE/story/\n",
      "19 https://www.lateja.cr/deportes/con-trabajo-caracter-y-un-discurso-ganador-luis/SADZQLOXRZBPVDMNRDL6JY6DUA/story/\n",
      "20 https://www.lateja.cr/deportes/xinia-mejias-mama-del-portero-patrick-sequeira-nos/SJ27P7QJQNFDBDIIGL6DFY7GNI/story/\n",
      "21 https://www.lateja.cr/deportes/gimnastas-de-estados-unidos-salen-huyendo-de-villa/UDXT7EMQNVAXXPTQ3CYWS6QXZM/story/\n",
      "22 https://www.lateja.cr/deportes/judoca-ian-ignacio-sancho-competira-en-una-tierra/CWODYHVKWRHRHN7YK34FE3SB5E/story/\n",
      "23 https://www.lateja.cr/deportes/patrick-sequeira-queda-fuera-de-la-sele-y-su/W6ENR4XH25CQ7PFIEAC5SUGHTA/story/\n",
      "24 https://www.lateja.cr/deportes/video-taekwondista-tica-sustituira-a-chilena-a/ZZJ4ESJVJZECZCTV6CUMXVDVQU/story/\n",
      "25 https://www.lateja.cr/deportes/carta-de-un-morado-a-jc-rojas-nosotros-compramos/EUY7NMNH2RD27PXKRMQ5IYUFOA/story/\n",
      "26 https://www.lateja.cr/deportes/sorpresa-suecia-golea-a-estados-unidos-en-debut/S6GOSUHJOBDLHGP4JREKXS57UE/story/\n",
      "27 https://www.lateja.cr/deportes/saprissa-debutara-en-el-torneo-de-apertura-este/EZV2ZPBPL5FEZIDVFAU773RXW4/story/\n",
      "28 https://www.lateja.cr/deportes/conozca-a-los-perritos-que-se-robaron-el-corazon/VZFBRWV3HNHLZDHG2UB7AKIRGE/story/\n",
      "29 https://www.lateja.cr/deportes/beisbolista-ticoa-jake-perez-ya-conecto-sus-dos/X4M4YDNIX5AJZLUIRTBFRZDXKA/story/\n",
      "30 https://www.lateja.cr/deportes/luis-fernando-suarez-el-grupo-esta-bastante-bien/UXOPVJYWSFEPRH4OPBMMXL6W4E/story/\n",
      "31 https://www.lateja.cr/deportes/bryan-ruiz-algunos-no-entienden-que-mi-rol-es/RCHN5KNOUZHB7GMQUZKG4XHQTI/story/\n",
      "32 https://www.lateja.cr/deportes/a-patrick-sequeira-le-paso-lo-mismo-que-a-evaristo/N34HN4RPUFAORKUXMDPI3JOHPI/story/\n",
      "33 https://www.lateja.cr/deportes/portero-patrick-sequeira-no-podra-jugar-contra/FYFPNMR5EJHMXLJMCBA4JLV2EU/story/\n",
      "34 https://www.lateja.cr/deportes/periodista-de-espn-justifica-actitud-de-keylor/ZVURTMCLO5CPXAENWRCXQ2FKHQ/story/\n",
      "35 https://www.lateja.cr/deportes/por-dicha-la-sele-llega-clasificada-ante-jamaica/3OQ4UTXX6RF2PNPIKWTFSOFQDA/story/\n",
      "36 https://www.lateja.cr/deportes/luis-fernando-suarez-no-se-sorprende-del-nivel-de/BNZSTKSOLZGHNB5KKO2LSYEEGY/story/\n",
      "37 https://www.lateja.cr/deportes/guadalupe-se-frota-las-manos-por-una-posible-venta/RQJCZ7H3DJBZHAER26T4J4E4UY/story/\n",
      "38 https://www.lateja.cr/deportes/ciclista-tica-que-competira-en-las-olimpiadas-de/V2PWLLQ5PNC37AQTL6ACZ27DGU/story/\n",
      "39 https://www.lateja.cr/deportes/estados-unidos-madrugo-como-para-ir-a-vacunarse/HJ3NX7I6ZVGBXFCLJXNVAOL2LE/story/\n",
      "40 https://www.lateja.cr/deportes/nivel-que-mostraron-honduras-y-panama-asusta-a/LZQELQPXU5GHLB5AQKVQJJ544U/story/\n",
      "41 https://www.lateja.cr/deportes/los-veloces-de-la-sele-piden-campo/LJQUAMI4EJAWTMFMBZRIBNCPSI/story/\n",
      "42 https://www.lateja.cr/deportes/tokio-frente-al-temor-de-un-primer-brote-en-la/TKTBCBY4XZB4PHNKIRJCFYCAAU/story/\n",
      "43 https://www.lateja.cr/deportes/la-liga-se-dejo-el-clasico-femenino-con-una-jennie/2NQ7UTESQVDLBEJQZJ7FX2FHCM/story/\n",
      "44 https://www.lateja.cr/deportes/hice-ejercicio-y-no-quiero-volver-todo-me-duele/NYTPMGIXQBCSBJAWX2ZVW2YXCA/story/\n",
      "45 https://www.lateja.cr/deportes/diosa-barrett-y-jennie-lakip-cuentan-los-minutos/6VK4TSNG4FGVNF6Z5HI5VH5RAA/story/\n",
      "46 https://www.lateja.cr/deportes/manudos-dieron-el-visto-bueno-para-su-nueva/WPRWCX7ZAFAT3CLTHESWLZVHVY/story/\n",
      "47 https://www.lateja.cr/deportes/mama-de-francisco-calvo-le-falto-un-poco-de/LIFEPIXCYVDS5JISADMMHWVN4Q/story/\n",
      "48 https://www.lateja.cr/deportes/conozca-la-historia-de-amor-entre-un-brumoso-y-un/AI3YWS2TYFH6REQXHIDTSCDWCQ/story/\n",
      "49 https://www.lateja.cr/deportes/centroamerica-llega-a-tokio-muy-bien-representada/WGZO7DJFFREZ5KPTLYRK7H2DCY/story/\n",
      "50 https://www.lateja.cr/deportes/johan-venegas-personalmente-me-gusta-mucho-la-idea/VUXB75DYLFD2BJTZ4H6V6V6E7Q/story/\n",
      "51 https://www.lateja.cr/deportes/luis-fernando-suarez-le-dije-a-los-jugadores-que/MITIC4UWO5FPRL7767HYG3NRPY/story/\n",
      "52 https://www.lateja.cr/deportes/jamaica-sufrio-pero-le-gano-a-guadalupe-y/TJA6ZATPSBGEPANVWTMMFLFBIU/story/\n",
      "53 https://www.lateja.cr/deportes/randall-poveda-nuevo-presidente-de-la-comision-de/5GFBXZQV7REZPGDVNQ4TS2G65I/story/\n",
      "54 https://www.lateja.cr/deportes/aficionados-saprissistas-teniran-chepe-de-morado-y/I3Q2A2VQVNETXDZF2ZNZY2SHP4/story/\n",
      "55 https://www.lateja.cr/deportes/saprissa-femenino-se-juega-mucho-mas-que-tres/P37RYYMLJJE53IQAN5GG2APHYY/story/\n",
      "56 https://www.lateja.cr/deportes/familia-saprissista-esta-feliz-por-los-86-anos-del/MGYYUF4YVRBH3OSXT75FPMFIUE/story/\n",
      "57 https://www.lateja.cr/deportes/jugador-luis-diaz-se-dedico-a-construir-el-futuro/HHTQXBUWKZEIVKOHT5THPOPL5E/story/\n",
      "58 https://www.lateja.cr/deportes/saprissa-iniciara-la-preventa-de-su-nueva-chema/TIFF7CAFSRCUFOS7ANM47RFKRQ/story/\n",
      "59 https://www.lateja.cr/deportes/diputado-rodolfo-pena-esta-delicado-por-covid-19/RNK56ZPOBFGDRGY4QWRIQYDAKU/story/\n",
      "60 https://www.lateja.cr/deportes/socios-liguistas-podran-ver-en-realidad-virtual-el/EEBFJFTTPZHFJHFAGYFX6ATJMQ/story/\n",
      "61 https://www.lateja.cr/deportes/atletas-andrea-y-noelia-vargas-fueron-homenajeadas/LPEO7TD6MZC4RH5TDDFIHQA2LM/story/\n",
      "62 https://www.lateja.cr/deportes/luis-fernando-suarez-hara-cambios-tengo-que/6NK2JC6HPJC63LJJ5BBDLVTBSQ/story/\n",
      "63 https://www.lateja.cr/deportes/luis-suarez-lleva-a-la-sele-lentes-de-ultima/5SKK4Y6PVVEYHC6M6VV7MITW7Y/story/\n",
      "64 https://www.lateja.cr/deportes/leonas-buscaran-hundir-a-saprissa-en-clasico/XB3BEFMOPRHT7C5BFOD4PQQFTY/story/\n",
      "65 https://www.lateja.cr/deportes/mama-del-defensor-francisco-calvo-no-le-aguanta/DHRBT7GNBJHMDKIUACXE2FKFGM/story/\n",
      "66 https://www.lateja.cr/deportes/doblete-de-funes-mori-lleva-a-mexico-a-su-primer/7HZ6QHHUWFEAJH3VKIE5N3STUM/story/\n",
      "67 https://www.lateja.cr/deportes/sele-de-futsala-tendra-tres-fogueos-la-proxima/LSMXBJUZ4BBDFPYYFZKZ73LRKQ/story/\n",
      "68 https://www.lateja.cr/deportes/ronald-gomez-a-surinam-no-hay-que-darle-la-pelota/A6WM6GUMERA77GBWCPEFZORSWU/story/\n",
      "69 https://www.lateja.cr/deportes/video-orlando-sinclair-dice-que-la-renovacion-con/NFCFBLUJ6VACDC2UT5I4PVRWXQ/story/\n",
      "70 https://www.lateja.cr/deportes/keylor-navas-empezo-a-temblar-con-la-firma-de/ELJZY5KCE5EW7MEQGIVDQKBRTM/story/\n",
      "71 https://www.lateja.cr/deportes/roy-lassiter-al-entrenador-luis-fernando-suarez-no/ARBI5X62ZVEQPD6YLLGFG6NVJY/story/\n",
      "72 https://www.lateja.cr/deportes/al-volante-christopher-nunez-le-esta-costando/LBCLV37IKRHOVHQI3RX5A5OT2U/story/\n",
      "73 https://www.lateja.cr/deportes/exarbitro-azteca-armando-archundia-dice-que-huella/KM66WMPJSFEO5L544UXN5TMQFA/story/\n",
      "74 https://www.lateja.cr/deportes/video-atleta-arnoldo-herrera-nado-contra-corriente/SKV2NN2E2JD4FIL56P3XID4TUM/story/\n",
      "75 https://www.lateja.cr/deportes/kendall-waston-respetamos-y-sabemos-de-la-calidad/BZC7T35PQZC2LIRNY2GZMTUI4M/story/\n",
      "76 https://www.lateja.cr/deportes/luis-fernando-suarez-a-bryan-ruiz-le-falta-un-poco/CMXBBTZYEFCC3AHVDBT7KFQ35E/story/\n",
      "77 https://www.lateja.cr/deportes/costa-rica-estreno-el-var-en-la-copa-oro/L4WDUKQXWNDDREY6V3YJILC63Y/story/\n",
      "78 https://www.lateja.cr/deportes/jamaica-le-pone-un-poquito-de-reggae-a-la-copa-oro/PE2IRI7D3BAFHLVGOPTTCIGTQE/story/\n",
      "79 https://www.lateja.cr/deportes/mexico-pide-inhabilitar-al-arbitro-costarricense/2CDMVDRVDJBRNI5GAGKKZ7RNIE/story/\n",
      "80 https://www.lateja.cr/deportes/tio-sam-sufrio-mas-de-la-cuenta-para-derrotar-a/D543WGANYNBN7DDKUZMH6LL6SM/story/\n",
      "81 https://www.lateja.cr/deportes/heredianas-ganan-y-le-ponen-sabor-a-la-lucha-por/MRRUMJAHQNHJ3O7VZAX2TV2TAI/story/\n",
      "82 https://www.lateja.cr/deportes/alajuelense-regresa-doblemente-vacunado-de-sus/PYTU75VB3ZC4VE7SYUACQMHD3Q/story/\n",
      "83 https://www.lateja.cr/deportes/prensa-mexicana-esta-furiosa-con-su-seleccion-por/VZB5PMGSVZGWZH2W4PRNDKKWMM/story/\n",
      "84 https://www.lateja.cr/deportes/video-hirving-el-chucky-lozano-vera-el-resto-de-la/HRNGZESFWFBFROO7KMVJZ5TTJA/story/\n",
      "85 https://www.lateja.cr/deportes/gianluigi-donnarumma-es-el-heroe-de-la-italia/VK752IFQYNF6BD3WEVDXQWL25I/story/\n",
      "86 https://www.lateja.cr/deportes/luis-fernando-suarez-quiero-competir-para-ganar-la/TYZC3SSGABFVNASJUVZATGRGRE/story/\n",
      "87 https://www.lateja.cr/deportes/jennie-lakip-tiene-el-power-y-leonas-rugieron-ante/6PPZPOXXHNDJHFDJ4SHM2VOTUI/story/\n",
      "88 https://www.lateja.cr/deportes/a-messi-lo-recibieron-en-argentina-con-tremenda/3G6TICH5DJHX3IPG25WWQCPICQ/story/\n",
      "89 https://www.lateja.cr/deportes/el-millonario-richard-branson-logra-su-sueno-de/N65AROUMBBHPJNVAAM7ME5SMAY/story/\n",
      "90 https://www.lateja.cr/deportes/neymar-a-messi-mi-hermano-y-amigo-quede-triste/IPO3F2VMKVAQPMCEEXVLQ54ONU/story/\n",
      "91 https://www.lateja.cr/deportes/olvidese-de-esta-frase-si-no-sudo-no-bajo-peso/X4VLVAQ45RD2VBIGBGHDKAVIRI/story/\n",
      "92 https://www.lateja.cr/deportes/chineada-le-cumple-un-sueno-al-mecanico-que-la/T3QH2PLPYZGYJLTADKTXGCUF2U/story/\n",
      "93 https://www.lateja.cr/deportes/video-arbitro-tico-ricardo-montero-debuto-en-la/EQ54CIQ6UNC6PNRALDLHMERN2E/story/\n",
      "94 https://www.lateja.cr/deportes/argentina-consiguio-un-maracanazo-en-la-copa/SQC2CSV47FASHF2UXPSAQE25YQ/story/\n",
      "95 https://www.lateja.cr/deportes/ninguno-pudo-con-los-cachorros-del-herediano-en/22IUTKZZXNAZ3OOC4JRQFPYRJY/story/\n",
      "96 https://www.lateja.cr/deportes/covid-19-se-paseo-en-la-pretemporada-de/LBH6WAGQZRE6LP2FTCRYBMECBU/story/\n",
      "97 https://www.lateja.cr/deportes/inglaterra-italia-una-final-de-euro-imperial-en/6BQIFIDWCJCDXPV2CEZTRA47BU/story/\n",
      "98 https://www.lateja.cr/deportes/tom-cruise-ya-eligio-equipo-en-la-final-de-la/XUIPA4EYSNCHZJ72MERPHRRMYM/story/\n",
      "99 https://www.lateja.cr/deportes/mexicano-rafael-loredo-se-comera-la-bronca-de/RWYXMXRGSZHEZFB5BFO6LIBBLE/story/\n",
      "100 https://www.lateja.cr/deportes/sele-va-a-copa-oro-con-un-tecnico-con-credibilidad/EJAOSASVKBAB7I5W3JXPPNQ3LE/story/\n",
      "101 https://www.lateja.cr/deportes/moradas-pasan-del-enojo-a-la-frustracion-tras/RHV5JRGKNFENLJXC63VPK4KB2Q/story/\n",
      "102 https://www.lateja.cr/deportes/gracias-a-dos-golazos-de-luis-diaz-colombia-se/U34WSJ42QJHPDH4VNTPNV622AE/story/\n",
      "103 https://www.lateja.cr/deportes/rio-de-janeiro-aprueba-entrada-de-publico-para-la/5DJJE6IZ5ZDCHNKMKJTTP6DHVY/story/\n",
      "104 https://www.lateja.cr/deportes/fallecio-el-exjugador-limonense-allard-plummer/LJP3XNHZEZHCFKYDVJXP34BDOA/story/\n",
      "105 https://www.lateja.cr/deportes/guatemala-se-mete-por-la-ventana-a-la-copa-oro-y/7I4SV6DGBRGPHIECZT76BY456A/story/\n",
      "106 https://www.lateja.cr/deportes/mexico-y-el-tata-martino-con-una-obligacion-eterna/W44NBI6TKZDIRG3MVFY4PKK4AU/story/\n",
      "107 https://www.lateja.cr/deportes/curazao-dejaria-la-copa-oro-a-un-dia-del-debut-por/5IOTOXJJZJHSPHFYII6XKJJOJY/story/\n",
      "108 https://www.lateja.cr/deportes/keylor-navas-gana-25-millones-de-colones-por-dia/DN6QQN6FJFFIHBIXEZE2YK54JE/story/\n",
      "109 https://www.lateja.cr/deportes/fedefutbol-rechaza-la-apelacion-de-limon-fc-y/XDKXA3SYK5D7FI2J2JJPCNYWU4/story/\n",
      "110 https://www.lateja.cr/deportes/futbol-caribeno-sera-la-primera-prueba-de-fuego/NYYQMIPMNBEPZDUZSJNY2WLO5Y/story/\n",
      "111 https://www.lateja.cr/deportes/ni-la-antorcha-olimpica-calienta-el-inicio-de/3O5VWLZK7NCTRAQUE3L2PREQ7Y/story/\n",
      "112 https://www.lateja.cr/deportes/alajuelense-es-el-primer-equipo-de-la-primera/O25LILIST5CDLG6RCJ3KZ2FZAQ/story/\n",
      "113 https://www.lateja.cr/deportes/tica-de-13-anos-becada-para-jugar-basquet-en/QB4GLOQ3BJGJLE2XOHE6UFZRLI/story/\n",
      "114 https://www.lateja.cr/deportes/mauricio-montero-analiza-a-los-cachorros-manudos/PIVPMVZXZZCWLJNEYOVAKSMYYE/story/\n",
      "115 https://www.lateja.cr/deportes/opinion-blindaje-sicologico-para-los-seleccionados/ZPOQDW6EBVHPDGWSPJM6TA7IFE/story/\n",
      "116 https://www.lateja.cr/deportes/sergio-ramos-el-nino-al-que-le-tenian-prohibido/SQEBQUKZLNCXTHAA5YHMV5ASZU/story/\n",
      "117 https://www.lateja.cr/deportes/el-mundo-llega-a-4-millones-muertos-por-el-covid/HMF2FDPIDNEVLN6ISFLQYJRO6Y/story/\n",
      "118 https://www.lateja.cr/deportes/america-definira-un-rey-entre-messi-y-neymar/I4XFR6KSMRCSNAEFVY3HKXYROQ/story/\n",
      "119 https://www.lateja.cr/deportes/ante-tanto-desmadre-presidente-de-la-comision/YLIFMLNLZRAJHMDHH2MJGCSMXI/story/\n",
      "120 https://www.lateja.cr/cables/sergio-ramos-el-nino-descarado-y-vivaracho-que-se/QE3WTKL75ZCXDDU3TFDLCAW2MA/story/\n",
      "121 https://www.lateja.cr/deportes/cachorros-manudos-cayeron-en-el-primer-partido-de/65X6HY5OEJBMPBMUPJC76HWT5Q/story/\n",
      "122 https://www.lateja.cr/deportes/se-necesitaron-24-penales-para-definir-al-primer/Q4ZQ5QNP6BFQDCFTBUQ6C6HDSA/story/\n",
      "123 https://www.lateja.cr/deportes/seleccionados-sufren-cuando-ponen-en-duda-su-falta/4LVIXIOSFNHGPC27PVDQOWT27M/story/\n",
      "124 https://www.lateja.cr/deportes/joel-campbell-suma-un-nuevo-equipo-en-su-carrera/FLQRP2ZXZNADZJOXXIQEWDIQAA/story/\n",
      "125 https://www.lateja.cr/deportes/inglaterra-llega-a-la-final-porque-el-var-se-trago/MR22I5QLNBAA7PQCR5EB5HQJC4/story/\n",
      "126 https://www.lateja.cr/deportes/psg-anuncia-a-sergio-ramos-y-luego-borra/VJ6JZ4QC7VALZBDRTFR7RH54GA/story/\n",
      "127 https://www.lateja.cr/deportes/video-oscar-duarte-y-ariel-rodriguez-no-entrenaron/FAYCX5X3P5GNNJNRMJ44ENNIHA/story/\n",
      "128 https://www.lateja.cr/deportes/joel-campbell-es-confirmado-como-nueva-figura-del/MSAOVM6TC5AZROENWEGRONDTEY/story/\n",
      "129 https://www.lateja.cr/deportes/marcel-hernandez-se-quedo-solo-en-el-car/QAJPY3R7RNCZTAXNF4QENAB6DA/story/\n",
      "130 https://www.lateja.cr/deportes/guadalupe-sera-el-primer-rival-de-costa-rica-en-la/C7G57LYTJRAGXIEJ27O7HQB2VI/story/\n",
      "131 https://www.lateja.cr/deportes/mujer-de-77-anos-penso-que-se-habia-pegado-250-mil/PQJUJBRG4NE7NBV2CXEX5XPYG4/story/\n",
      "132 https://www.lateja.cr/deportes/marco-herrera-no-nos-podemos-dar-el-lujo-de-tener/LUU57WHLIVDBVBJBQVS5TGEWTQ/story/\n",
      "133 https://www.lateja.cr/deportes/comite-olimpico-y-asociacion-de-boxeo-ocultaron-a/AYBMYRIQQ5EY7EBAPLVGNO3ZOU/story/\n",
      "134 https://www.lateja.cr/deportes/profesor-de-educacion-fisica-arraso-en-el-beisbol/NINWBAQWRBHC7BGJY4VRCYRUTU/story/\n",
      "135 https://www.lateja.cr/deportes/dos-jugadores-del-barcelona-enojaron-a/J5JSJAUUHJDWDLX6RGJRFK4N3M/story/\n",
      "136 https://www.lateja.cr/deportes/lo-que-diga-keylor-navas-es-santa-palabra-para-la/5HWTAZ42UBCB5GN3GQS6LPXBIQ/story/\n",
      "137 https://www.lateja.cr/deportes/alajuelense-viajo-a-estados-unidos-con-un-equipo/ROJA2HEHDFGHHECNJEEVGNAWK4/story/\n",
      "138 https://www.lateja.cr/deportes/argentina-y-messi-quieren-amargarle-el-yodo-a-los/CTEQCZLJBVGNRPGAAWHR64SNMQ/story/\n",
      "139 https://www.lateja.cr/deportes/de-tassotti-a-la-roma-las-cuentas-pendientes-de/S3OHSZW5QRCQZAUICPP4FJNNAM/story/\n",
      "140 https://www.lateja.cr/deportes/becan-a-joven-tica-para-jugar-baloncesto-en/KO3QBDFYWZFZJM7WRPBGYGCGO4/story/\n",
      "141 https://www.lateja.cr/deportes/fedefutbol-desmiente-plan-de-llevarse-mejenga/C76FTVSZ6FHDFBS5S55JAZ43MM/story/\n",
      "142 https://www.lateja.cr/deportes/y-la-lesion-keylor-navas-ya-esta-entrenando-como/CC346OKM25EB7BIUFXEUQKWJ5Q/story/\n",
      "143 https://www.lateja.cr/deportes/yeltsin-tejeda-se-lesiono-y-queda-fuera-de-la-copa/HFJFS4J3KRA53C67QZOAW2YWLQ/story/\n",
      "144 https://www.lateja.cr/deportes/video-tico-que-dejo-las-drogas-gana-carrera-de-514/CEETCMWHXNH2DGFP4BPHEFPTVM/story/\n",
      "145 https://www.lateja.cr/deportes/de-vender-embutidos-en-una-carniceria-en-cartago-a/UWIGGEO4NFC7NOITBKOAI4HYV4/story/\n",
      "146 https://www.lateja.cr/deportes/herediano-quiere-huirle-al-karma-por-lo-que-le/J2BBLUBAARDQBFEYM5FQLP5XZM/story/\n",
      "147 https://www.lateja.cr/deportes/gerald-drummond-cumplira-en-las-olimpiadas-de/BWXYYKCLFVDWNASRQ2BQTTAAQA/story/\n",
      "148 https://www.lateja.cr/deportes/audio-radio-novela-del-team-fue-nominada-a-premios/T2JSL6RB55F6HOC3WIJQJTDYYM/story/\n",
      "149 https://www.lateja.cr/deportes/moradas-del-coleron-saprissa-femenino-regala/4JXYGEVBI5EKTGJNHL6JVWQF2E/story/\n",
      "150 https://www.lateja.cr/deportes/futbol-carreras-de-galgos-y-rock-la-loca-historia/XMCFVPVAD5DILN3IQEHUHLC2ZA/story/\n",
      "151 https://www.lateja.cr/deportes/gemelos-y-rivales-debutan-como-tecnicos-con/VQVR4YP2ZZFWHKDMVROQM75X6I/story/\n",
      "152 https://www.lateja.cr/deportes/presidente-de-cartagines-lamenta-no-cesar-a-tiempo/5FWQRMG5YJBKVE7S65W4CIFJWM/story/\n",
      "153 https://www.lateja.cr/deportes/david-ospina-fue-el-heroe-ante-uruguay-y-le-dio-el/5EV7HQWYSRFCZKMYLFBJAFHLPY/story/\n",
      "154 https://www.lateja.cr/deportes/leonas-demostraron-ante-dimas-porque-son-las/NOIINFVBVZBNZDBK26BKPKXTYU/story/\n",
      "155 https://www.lateja.cr/deportes/jicaral-jala-a-mexico-a-jugar-contra-el-monterrey/VB7LC2YMLZEWXEUIF7EPVKT3IQ/story/\n",
      "156 https://www.lateja.cr/deportes/tecnico-luis-fernando-suarez-busca-fumigar-la/3TI576S6YNDSVKR3IGJV6A6WQU/story/\n",
      "157 https://www.lateja.cr/deportes/wilmer-lopez-va-por-el-bicampeonato-de-las-leonas/BQV6XK6E2BF23BLWYLVBFRONVE/story/\n",
      "158 https://www.lateja.cr/deportes/sale-ronald-la-bala-gomez-y-entra-gilberto-tuma/2KI2W5KY2BGSRLGZMXBRQWUO5A/story/\n",
      "159 https://www.lateja.cr/deportes/portero-patrick-pemberton-ataja-los-anos-y-todavia/GE747TW6WNHXNOCDFONIYSBGGU/story/\n",
      "160 https://www.lateja.cr/deportes/saprissa-fogueara-15-chamacos-en-torneo-de-segunda/DHOEF6K5O5AH5M4DRCLFIN57W4/story/\n",
      "161 https://www.lateja.cr/deportes/limon-sigue-la-pelea-presenta-apelacion-ante-la/ERAMO42J3NEA7PZMOLNQ7P7CHA/story/\n",
      "162 https://www.lateja.cr/deportes/luis-fernando-suarez-eligio-a-ronald-gomez-como-su/5IYDIMU4TJHM3CRGR66S4DRLNA/story/\n",
      "163 https://www.lateja.cr/deportes/equipo-femenino-del-herediano-contrato-a-una/KDLHEQDKXFCJNOG4X5X4POLOIU/story/\n",
      "164 https://www.lateja.cr/deportes/periodistas-guatemaltecos-ven-con-buenos-ojos-la/Z7TDOLMGEJGHBDMEX6HR7DXM4Y/story/\n",
      "165 https://www.lateja.cr/deportes/luis-fernando-suarez-hay-un-jugador-de-17-anos-que/IXSEIH5D2FC3ZGZONYYBTI6BNA/story/\n",
      "166 https://www.lateja.cr/deportes/presidente-santos-de-guapiles-ronald-gomez-es-un/Y5FRRHJEMNGYBPUKCWTOZ5G24Q/story/\n",
      "167 https://www.lateja.cr/deportes/opinion-del-brumoso-hoy-cumple-anos-el-club-al-que/7KMNZIMSSFH5JEQKFN4HOUUHWA/story/\n",
      "168 https://www.lateja.cr/deportes/jugadores-espueludos-fueron-los-llamados-a-la-copa/QH27QL7HFRFCFFEEEGWTIRKGZM/story/\n",
      "169 https://www.lateja.cr/deportes/tecnicos-de-la-sele-sobre-ronald-gomez-tiene-mucho/JIV5PINWRRCN7F42T7VEHKISYU/story/\n",
      "170 https://www.lateja.cr/deportes/ronald-la-bala-gomez-sera-el-asistente-tecnico-de/IKYEDRQVGVF5PGZNE7UJNHVZ6I/story/\n",
      "171 https://www.lateja.cr/deportes/portera-noelia-bermudez-vuelve-a-alajuelense/SL6JS72BGFGSPNGRBBKUTP3XGI/story/\n",
      "172 https://www.lateja.cr/deportes/arsenal-amarra-a-tico-y-blog-de-noticias-sobre-el/YZV6ODPDY5GRLHDN7NOUDPEZ5I/story/\n",
      "173 https://www.lateja.cr/deportes/dos-tecnicos-campeones-con-saprissa-son-las/7XWKEDMBVZH3PLSXAFHKPTN3GQ/story/\n",
      "174 https://www.lateja.cr/deportes/jossimar-pemberton-era-un-sueno-pertenecer-al/EX2HYNPXNZFYNJQWIE7YLWKOQQ/story/\n",
      "175 https://www.lateja.cr/deportes/video-atleta-andrea-vargas-sera-la-abanderada-tica/KJMDUO2VJNG6FPMA6S5YD7K2VU/story/\n",
      "176 https://www.lateja.cr/deportes/mayron-george-queda-fuera-de-la-sele-debido-al/QJD4XMMSQRCSJJLZJPQYWTR7CQ/story/\n",
      "177 https://www.lateja.cr/deportes/detenida-mujer-que-provoco-caida-multiple-en-el/MANDD2AJMVFNVHOX4R6HO3677E/story/\n",
      "178 https://www.lateja.cr/deportes/primer-clasico-del-apertura-marca-la-esperanza-del/MUDKKVDNVRAXHAW4H5CZWN3D4M/story/\n",
      "179 https://www.lateja.cr/deportes/periodistas-le-tiran-con-todo-a-francisco-calvo/RRR42PJLEFEOBGETYDVPFZ2K5M/story/\n",
      "180 https://www.lateja.cr/deportes/covid-19-le-genero-neumonia-y-problema-cardiaco-a/24QDS43CIRHEZCFWZB4LMITHOY/story/\n",
      "181 https://www.lateja.cr/deportes/cartagines-comete-error-en-chema-para-celebrar-los/T6KCZUU2BNBX7FMETVWZY62XIY/story/\n",
      "182 https://www.lateja.cr/deportes/jose-rodriguez-es-el-nuevo-tecnico-de-saprissa/KKILYCZ2E5HCNFUCRPMOHTIZEQ/story/\n",
      "183 https://www.lateja.cr/deportes/inglaterra-pego-otro-sorpreson-en-la-euro/2BEOLRTYWZDVJABOTURT7HIDWU/story/\n",
      "184 https://www.lateja.cr/deportes/esposo-de-la-modelo-marcela-negrini-jugara-en/4CMCA2SLKJF6NNONWSR27VWLKA/story/\n",
      "185 https://www.lateja.cr/deportes/argentina-golea-a-bolivia-en-una-noche-magica-de/Z4JDSCNQYBC2HHDFSUCHW56UUE/story/\n",
      "186 https://www.lateja.cr/deportes/saprissa-le-da-la-bienvenida-a-jossimar-pemberton/EMOYTOPNPVGONKEKBZTB3KQ62A/story/\n",
      "187 https://www.lateja.cr/deportes/agustin-lleida-sobre-la-sele-hay-jugadores-de-la/BGCFJUHJPVGEXKN67DLSQTI7JE/story/\n",
      "188 https://www.lateja.cr/deportes/saprissa-confirma-que-jossimar-pemberton-llega-en/2I7ULZJF2FC2TIYIQKJEC3HCPU/story/\n",
      "189 https://www.lateja.cr/deportes/horacio-esquivel-es-el-nuevo-tecnico-de-puntarenas/VWBI774KNJEXFCYAS5H27B6DVI/story/\n",
      "190 https://www.lateja.cr/deportes/francisco-calvo-vamos-a-ir-a-ganar-la-copa-oro/B6CM2EDUYNDNPK2DLJ7AWS27MI/story/\n",
      "191 https://www.lateja.cr/deportes/agustin-lleida-hablo-del-juicio-de-marcel/EE63VO7655FBTMRTCV5B4F72ME/story/\n",
      "192 https://www.lateja.cr/deportes/espana-saco-la-furia-en-tiempos-extra-para/3I6FSM4XNFFVFEWGSKYLHSCIYI/story/\n",
      "193 https://www.lateja.cr/deportes/jugadora-manuda-marilenis-oporta-lleva-en-la-piel/I6DD5AYI7NHBBFZHKQFAWEEVGU/story/\n",
      "194 https://www.lateja.cr/deportes/video-andrea-vargas-gano-en-el-centroamericano-de/PEAOWGSBP5DS3BTGRQJCEXQJ5A/story/\n",
      "195 https://www.lateja.cr/deportes/video-marchista-noelia-vargas-han-sido-dias-muy/7XDM5EBJONDYTNZKX4SSS7AY5Q/story/\n",
      "196 https://www.lateja.cr/deportes/tome-un-cafecito-antes-de-entrenar/HB4NZQ2RQ5D6ZN7W4ZLPO3DO7A/story/\n",
      "197 https://www.lateja.cr/deportes/municipal-liberia-un-equipo-de-segunda-con/RDKXCT5N7FGCHPRD34K5Z5GITQ/story/\n",
      "198 https://www.lateja.cr/deportes/video-un-renacido-se-pasea-por-las-calles-del/FEQ4CFGLSRDN3IEEYQLWKZYLCU/story/\n",
      "199 https://www.lateja.cr/deportes/video-aficionada-provoca-multitudinaria-caida-en/5RUFW6PF7JGPNF664AAPSQFJS4/story/\n",
      "200 https://www.lateja.cr/deportes/dixiana-mena-entrenadora-de-andrea-y-noelia-vargas/IP2M53FFPZGWHBPZVL32QSQJVY/story/\n",
      "201 https://www.lateja.cr/deportes/sorpresa-keylor-navas-no-esta-en-la-primera-lista/JHAARXLUI5A5NJ5SV7AKL4DF5Q/story/\n",
      "202 https://www.lateja.cr/deportes/video-saprissa-femenino-esta-listo-para-jugar-el/T65UEOEE5FHB5I3FKGYUC6Z56A/story/\n",
      "203 https://www.lateja.cr/deportes/jossimar-pemberton-es-el-nuevo-jugador-de-saprissa/XJW5AWICIRCNZLXDYCVE55HXAE/story/\n",
      "204 https://www.lateja.cr/deportes/horror-ortografico-en-la-chema-que-le-dieron-al/2KMVCSNPQJGWDNZ6H2QJRR3HJA/story/\n",
      "205 https://www.lateja.cr/deportes/luis-fernando-suarez-tecnico-de-la-sele-tenemos/PJY4FQSLEZBSTI4ZBTMP6CGXJA/story/\n",
      "206 https://www.lateja.cr/deportes/rodolfo-villalobos-no-voy-a-renunciar-se-lo-quiero/UM32YY6KSNHBVAN62B33UKWDKA/story/\n",
      "207 https://www.lateja.cr/deportes/video-delantero-manfred-ugalde-es-el-nuevo-jugador/ODPA7QNDMRAW7OWKISK7636SEM/story/\n",
      "208 https://www.lateja.cr/deportes/saprissistas-danan-mural-en-honor-a-los-102-anos/T37ZVKCX4RAMHFKOYEBB3SWYEY/story/\n",
      "209 https://www.lateja.cr/deportes/paraguay-se-suena-a-chile-y-uruguay-manda-pa-la/PINRHGRIDVHCVMJZ5BFMHDMCOM/story/\n",
      "210 https://www.lateja.cr/deportes/video-atleta-andrea-vargas-siempre-llevo-conmigo/IUUDICAPVBFQLCJGMPOCMHZLXE/story/\n",
      "211 https://www.lateja.cr/deportes/llego-el-fichaje-bomba-del-saprissa-david-ramirez/ICEQ2DGP4NHXVLE2TVTAW7QV3I/story/\n",
      "212 https://www.lateja.cr/deportes/messi-con-34-anos-a-saldar-una-cuenta-que-duele-en/M74FQLMHBJCNFPF5RGSM6THNTI/story/\n",
      "213 https://www.lateja.cr/deportes/david-ramirez-vuelve-al-saprissa/OUHFMGAIX5BMZCICTXND7G63CM/story/\n",
      "214 https://www.lateja.cr/deportes/torneo-de-apertura-comenzara-el-28-de-julio/DSRRVN54INB23FYYK5UAG32GUY/story/\n",
      "215 https://www.lateja.cr/deportes/vengo-con-mucha-ilusion-dijo-luis-fernando-suarez/ZN3HNUMTWZARVF4U6NGKIKNYR4/story/\n",
      "216 https://www.lateja.cr/deportes/berny-ulloa-diego-maradona-siempre-fue-respetuoso/5J75QYS5HJAXTEWQUSU7U6EHVY/story/\n",
      "217 https://www.lateja.cr/deportes/portero-hondureno-jose-mendoza-suarez-es-estricto/OKSCU6QJMFFL5DMDRYGLTJG6PY/story/\n",
      "218 https://www.lateja.cr/deportes/liga-llena-espacio-de-marta-cox-con-llegada-de-la/O3SO6BAGLBET5BBKDVZJ6AWCGM/story/\n",
      "219 https://www.lateja.cr/deportes/wendy-acosta-decidio-colgar-los-tacos-al-futbol-le/J76F3PZDBJD3FJNQARO64FBKDM/story/\n",
      "220 https://www.lateja.cr/deportes/roman-torres-se-marcha-del-cartagines/RSRMGY6SABAKHETGBWSQZMNVQU/story/\n",
      "221 https://www.lateja.cr/deportes/la-pana-marta-cox-se-va-de-alajuelense/AT3W6ZDTSNA6BHOHLHJUSYQ6NY/story/\n",
      "222 https://www.lateja.cr/deportes/alemania-es-puro-arcoiris-y-golea-a-la-uefa-en-la/27NW247WZZE35MFVJHRQJXNU4E/story/\n",
      "223 https://www.lateja.cr/deportes/grupo-de-la-muerte-de-la-euro-francia-alemania-y/LV32SG6VOJBR7DJGKHP5ANEQGY/story/\n",
      "224 https://www.lateja.cr/deportes/jugadores-de-24-a-29-anos-dominan-la-preseleccion/SMM4FRH74RFQDB5UUI2U5VGQ6Q/story/\n",
      "225 https://www.lateja.cr/deportes/colombianos-han-dejado-buen-sabor-de-boca-en-el/EE42BVDXSFFL5K672PUOPBE4TI/story/\n",
      "226 https://www.lateja.cr/deportes/mariano-torres-le-trajo-a-masajista-morado-un/OXBD3HVWCZG3VGIHJMXLQWQJO4/story/\n",
      "227 https://www.lateja.cr/deportes/luis-fernando-suarez-los-objetivos-se-tienen-que/KMFCCSMD7JAWJAX65YCJJ6BECI/story/\n",
      "228 https://www.lateja.cr/deportes/priscilla-chinchilla-brilla-en-escocia/K4MBNIPQSRDSJGPBWHEAK6NLH4/story/\n",
      "229 https://www.lateja.cr/deportes/argentinos-celebran-aniversario-del-famoso-gol-que/CBXQQ76JABHATJ5WXMOSIEBRLE/story/\n",
      "230 https://www.lateja.cr/deportes/alajuelense-ficho-a-jennie-lakip-la-bombardera-de/BLEMNAYT5RA5TC6LY7S3QI56LM/story/\n",
      "231 https://www.lateja.cr/deportes/chile-y-argentina-aseguran-su-destino-en-la-otra/OJEDMHD4YVESHPXEBPIKLPHXSU/story/\n",
      "232 https://www.lateja.cr/deportes/nuevo-tecnico-de-la-tricolor-es-conciliador/VROAILNXXFG7PIOBB6WDA6552M/story/\n",
      "233 https://www.lateja.cr/deportes/luis-fernando-suarez-podria-meterse-a-un-exclusivo/ON7DPGFUYJE3VB7IRW3SXLPHBU/story/\n",
      "234 https://www.lateja.cr/deportes/luis-fernando-suarez-llega-con-dos-asistentes/ISICPCU2MZCIDL5BF7DNFU7WZA/story/\n",
      "235 https://www.lateja.cr/deportes/luis-fernando-suarez-el-tecnico-que-viene-a-calmar/TBIIXCMAWZBA3K6NDKBFUMLB3Q/story/\n",
      "236 https://www.lateja.cr/deportes/saprissa-regresa-de-vacaciones-y-protegera-a-sus/3T32P3HWARG63JOYXI5LRSHSVI/story/\n",
      "237 https://www.lateja.cr/deportes/que-le-cobraron-a-alexandre-guimaraes-para-que-no/37FYJVEP6JEXNCWGWHMBHG7WA4/story/\n",
      "238 https://www.lateja.cr/deportes/colombiano-luis-fernando-suarez-es-el-nuevo/NLG3T5S2PFFSBF73TH5TLXONX4/story/\n",
      "239 https://www.lateja.cr/deportes/actores-de-documental-del-team-son-abuelo-y-nieta/4VZCOEB6KRE4TPE2PVDXELT7AA/story/\n",
      "240 https://www.lateja.cr/deportes/video-herediano-hallo-a-julio-gomez-42-anos/VZ225DQ2NRG3XD22R3DTWW4QAI/story/\n",
      "241 https://www.lateja.cr/deportes/david-medallita-jimenez-volveria-a-subirse-al-ring/MJSBGBZGTNH2JI5G32BW7N3RJY/story/\n",
      "242 https://www.lateja.cr/deportes/el-desayuno-magico-de-cristiano-ronaldo-es/KCSVGD5KJ5ECVMBPQB3EC5UALQ/story/\n",
      "243 https://www.lateja.cr/deportes/ya-es-oficial-orlando-sinclair-seguira-con/TOYMQ2B6RVHNFIW55JATNDLMSM/story/\n",
      "244 https://www.lateja.cr/deportes/gianluigi-donnarumma-celebro-nuevo-contrato-con-el/EK35AKGKTZD3HL2CCZ7O6VYXWI/story/\n",
      "245 https://www.lateja.cr/deportes/luca-es-el-regalo-mas-esperado-del-futbolista/TRTFVPVT4JGSJAAA4RW4FFR5DA/story/\n",
      "246 https://www.lateja.cr/deportes/david-medallita-jimenez-hace-historia-y-se/QUS7S724XJDSHC3KYRCLLXJAZM/story/\n",
      "247 https://www.lateja.cr/deportes/ciclismo-en-costa-rica-se-reactivara-de-la-mano-de/VXTECVM6ZZAOVAZY5MCDKSJIH4/story/\n",
      "248 https://www.lateja.cr/deportes/desamparadena-apunta-a-ser-la-siguiente-gran/Y4O23A7J3VAMFNWSIDCF4HBLQY/story/\n",
      "249 https://www.lateja.cr/deportes/costa-rica-esta-a-una-firma-de-tener-a-otro/5XOUDTSKFRHRXCFACHD2ZXWJ5M/story/\n",
      "250 https://www.lateja.cr/deportes/un-datsun-traslado-la-pasion-por-los-motores-a/PYY2IREK2ZF2DP5DHNXXANT2TQ/story/\n",
      "251 https://www.lateja.cr/deportes/deportista-que-se-hizo-famoso-en-rio-2016-podria/ONY7DCE7DRGBLNRQIL2CXDHOGM/story/\n",
      "252 https://www.lateja.cr/deportes/javon-east-a-lo-messi-delantero-sorprendio-con-su/T76EGWM63ZF4HG66IBD7GY6YRQ/story/\n",
      "253 https://www.lateja.cr/deportes/escandalo-en-el-futbol-de-nicaragua-fuertes/TE3VGZKSSRD6ZG6GM5ZH6F66SA/story/\n",
      "254 https://www.lateja.cr/deportes/el-danes-christian-eriksen-abandono-el-hospital/ZRPYR4PYWBFNZB4M7X5YBS4CQU/story/\n",
      "255 https://www.lateja.cr/deportes/60-jugadores-en-lista-previa-para-copa-de-oro/RQQDZK677BGO7A7B7EDTZWVYTM/story/\n",
      "256 https://www.lateja.cr/deportes/manudos-estrenan-cancha-en-cumpleanos-numero-102/SS7M6OGJJZARHMCE4IVPXMVLTA/story/\n",
      "257 https://www.lateja.cr/deportes/fifa-por-fin-castiga-a-mexico-por-gritos/52YIUJSWQVEKNGUZJPA3W5LMJE/story/\n",
      "258 https://www.lateja.cr/deportes/funko-de-keylor-navas-abre-debate-vendra-completo/IVAFHN77RRCOBJRWCYPCD32PWY/story/\n",
      "259 https://www.lateja.cr/deportes/gilberto-el-tuma-martinez-quedo-como-loco-cuando/G3KGXLIJOFFVVOSPZNRL63GY4M/story/\n",
      "260 https://www.lateja.cr/deportes/unafut-premio-a-las-estrellas-del-futbol-tico/NAP4F46ZDREX3L55W4S7DV2UUI/story/\n",
      "261 https://www.lateja.cr/deportes/carlos-watson-se-salvo-de-la-guillotina-y-todavia/FMCG2QZBMZA5NOOAQ6ZJKDXWWA/story/\n",
      "262 https://www.lateja.cr/deportes/retador-mexicano-advierte-a-david-medallita/VT5QQYKLXZDZRMFSBJ6EZCC4MU/story/\n",
      "263 https://www.lateja.cr/deportes/esteban-alvarado-regresa-al-herediano/KA5F5ZTQ3JABPB63TYBNIMDIJA/story/\n",
      "264 https://www.lateja.cr/deportes/sergio-ramos-se-despide-entre-lagrimas-y-frases/K3F6QDVBQ5B53KEI2LYFBGOHXA/story/\n",
      "265 https://www.lateja.cr/deportes/team-presento-a-su-nuevo-tecnico/UDVBUEGL2BANDFGMDMRWMPQOIY/story/\n",
      "266 https://www.lateja.cr/deportes/aztecazo-es-muy-recordado-aun-en-mexico-como-una/OW3NSD5CBZET7KAHKB56RWZYE4/story/\n",
      "267 https://www.lateja.cr/deportes/video-esposa-del-boxeador-david-medallita-jimenez/D4EJTN6GZNBDDA3AB3DMW4Q2VA/story/\n",
      "268 https://www.lateja.cr/deportes/paul-pogba-copia-a-cristiano-ronaldo-que-pasaria/KQKOQFTX7NBIRLY3EPDAF7QRY4/story/\n",
      "269 https://www.lateja.cr/deportes/clubes-ticos-evadieron-a-los-rivales-mas-pesados/EYRBJPLS75C6XLANGLVH2XOXWA/story/\n",
      "270 https://www.lateja.cr/deportes/opinion-cero-estres-con-el-tecnico-de-la-sele-y-la/EDUMDS3EJFGYJKRCMPRQBH66DI/story/\n",
      "271 https://www.lateja.cr/deportes/celebracion-de-la-36-le-salio-cara-al-saprissa/Q7SOL2V6ZFGH5HPZECGZIK2WWY/story/\n",
      "272 https://www.lateja.cr/deportes/victor-mambo-nunez-es-el-nuevo-tecnico-del/LQ4I6YYLVJATPIWEPS5EVWRNCA/story/\n",
      "273 https://www.lateja.cr/deportes/se-vuelan-a-la-comision-de-arbitraje-en-pleno/BORDCUQWGFHSLLCYBRZW7ZNMNQ/story/\n",
      "274 https://www.lateja.cr/deportes/real-madrid-anuncia-la-salida-de-su-capitan-sergio/VADEYSDHKRC3TPCKKZCVTF6W5E/story/\n",
      "275 https://www.lateja.cr/deportes/saprissa-se-volo-al-coordinador-de-ligas-menores-y/6KSVNAECVNBM3EMQKCDQUTWVDA/story/\n",
      "276 https://www.lateja.cr/deportes/un-motivado-panama-sera-la-primera-prueba-de-la/SG5CVNCTO5HIJIJO6UIE4SV3A4/story/\n",
      "277 https://www.lateja.cr/deportes/cristiano-ronaldo-le-bajo-el-gas-a-la-coca-cola/MAWTLMF7XBAJDHXXVYNLCW2SEA/story/\n",
      "278 https://www.lateja.cr/deportes/video-escuche-al-cantante-de-rock-que-sera-tecnico/VXAL7NJX7VF3LM52UKVVEEX7SU/story/\n",
      "279 https://www.lateja.cr/deportes/a-keylor-navas-se-le-complica-la-vida-en-el-psg-y/YKSD6AZPNRBNDMVL3PJOIRKBRY/story/\n",
      "280 https://www.lateja.cr/deportes/mauricio-wright-esperamos-que-el-trabajo-sea-el/FP2TOKYWPZEKDNG4PLVMBGPBZY/story/\n",
      "281 https://www.lateja.cr/deportes/orlando-sinclair-seguira-vestido-de-morado-por-dos/GXGL6WZWDJHDVJ2JDRPI2INS6I/story/\n",
      "282 https://www.lateja.cr/deportes/periodista-josue-quesada-se-olvido-de-la-modestia/G4225TA2HNFENFM4IST36RZP5A/story/\n",
      "283 https://www.lateja.cr/deportes/costa-rica-ya-va-perdiendo-ante-rivales-de-la/H4QIPHKTX5CBRKBPHEHY3BG674/story/\n",
      "284 https://www.lateja.cr/deportes/panama-o-curazao-este-martes-se-cocina-la/DJFD7O6JOVEVZJQL23E5PNGZGQ/story/\n",
      "285 https://www.lateja.cr/deportes/unafut-tiro-abajo-alegatos-de-limon-fc-por/H7DCKEQ6CJF6XNVF2FAHKQZA2M/story/\n",
      "286 https://www.lateja.cr/deportes/se-vuelan-a-douglas-sequeira-y-a-mauricio-solis-de/AVJX6YNJ6RBXXE3AE6CBFPFNRA/story/\n",
      "287 https://www.lateja.cr/deportes/randall-azofeifa-es-la-nueva-ficha-del-sporting/5IJDVMJHRBE2NEOMEAWKFIB7WA/story/\n",
      "288 https://www.lateja.cr/deportes/me-recetan-ejercicio-pero-ni-idea-de-como-empezar/OSX7HZJEVBDY3KVWX62IGE4R4Y/story/\n",
      "289 https://www.lateja.cr/deportes/demografo-cree-que-aficionados-podrian-volver-a/QLBJ7K425NDNRBZTJA3YLUZJKY/story/\n",
      "290 https://www.lateja.cr/deportes/rodolfo-villalobos-creemos-que-15-dias-nos-van-a/KTCTX3GCEBG4LJ5YPVBL24SU5I/story/\n",
      "291 https://www.lateja.cr/deportes/opinion-lamentable-festejo-del-centenario-de-la/QWJ27CNGRFGMHAV7BJNG5OMBCY/story/\n",
      "292 https://www.lateja.cr/deportes/sele-femenina-derrocho-buen-futbol-en-la-joya/ZOCJ2RIYS5CGZANBQJKD5UUGHA/story/\n",
      "293 https://www.lateja.cr/deportes/doctor-de-la-seleccion-de-dinamarca-sobre-ericksen/I3KDECIBZ5AQZCHHPL2QMC2OQ4/story/\n",
      "294 https://www.lateja.cr/deportes/amelia-valverde-decidio-hacerle-el-pique-al/O3ZQQIZR2ZEZXM3A535SV3ECB4/story/\n",
      "295 https://www.lateja.cr/deportes/suerte-se-tine-de-rojiamarillo-este-domingo/OIHKGFFCZZHP5LACS5RC6Y6V5U/story/\n",
      "296 https://www.lateja.cr/deportes/video-atleta-florense-recorrio-100-kilometros-para/QXWDYY23R5AILM2FIPV2MIXZBE/story/\n",
      "297 https://www.lateja.cr/deportes/doctor-logro-revivir-un-jeep-willys-que-hoy-es-su/ZLMEIB3NGJDXRJTXRJN347V3DQ/story/\n",
      "298 https://www.lateja.cr/deportes/video-christian-eriksen-se-desploma-en-el-campo-en/HFWW2K3I6VEGRN5VMDEU6E5XWE/story/\n",
      "299 https://www.lateja.cr/deportes/patrocinadores-de-la-sele-huyen-por-los-pesimos/5VLSPDN2QJDFJDBENVAMUZXNYE/story/\n",
      "300 https://www.lateja.cr/deportes/kevin-chamorro-es-el-nuevo-portero-de-saprissa/2TJ7WFN5VVCXJHZWTI4UDA5DSM/story/\n",
      "301 https://www.lateja.cr/deportes/unafut-atiborrada-de-papeles-reprograma-resolucion/YOV2KIO5ZZGWRPT3ZLPHRUCMJI/story/\n",
      "302 https://www.lateja.cr/deportes/tres-ticos-pulsearan-clasificar-a-tokio-este/M2IC7TDDFZDGNFK7UJRYQSZPK4/story/\n",
      "303 https://www.lateja.cr/deportes/brasil-busca-sumar-el-decimo-trofeo-en-su/CY5OASAHLZAABNGMMAGOPRJ7AA/story/\n",
      "304 https://www.lateja.cr/deportes/de-patada-larga-herediano-festejara-centenario/BHHRWG2T5ZDPPNIO247T43LAK4/story/\n",
      "305 https://www.lateja.cr/deportes/keylor-navas-cura-su-lesion-paseando-cancun-es-su/4MC5KAPNVVAQVLF6PDUEDKWATA/story/\n",
      "306 https://www.lateja.cr/deportes/fedefutbol-crea-comision-para-escoger-al-tecnico/7V7WIPNDHZGEFGUJETUYF7L3FQ/story/\n",
      "307 https://www.lateja.cr/deportes/emociones-de-la-eurocopa-comienzan-este-viernes/JFACGPHWN5CV5KFRUPIHXKU4EY/story/\n",
      "308 https://www.lateja.cr/deportes/la-filita-india-que-deberia-ir-detras-de-ronald/TZVQ4YF2CJHY3KBZ5G4FCY5A4Y/story/\n",
      "309 https://www.lateja.cr/deportes/medios-de-america-y-europa-hicieron-eco-del/DVXDFE6AUBDUJOFVOFDYEULT6I/story/\n",
      "310 https://www.lateja.cr/deportes/el-salvador-y-panama-seguiran-pulseando-ir-a-catar/SAKIV2M6J5EJ7AXJEXRHMXCBPU/story/\n",
      "311 https://www.lateja.cr/deportes/saprissa-oficializo-la-contratacion-del-tecnico/MEWXBTLZMFGPNC46DCYLD5Z73U/story/\n",
      "312 https://www.lateja.cr/deportes/opinion-la-primera-tarea-del-nuevo-cura-exorcista/DGANOINMYNEPLOQC4ONNPH7PRA/story/\n",
      "313 https://www.lateja.cr/deportes/griezmann-y-benzema-guardaditos-previos-al-inicio/KZT2E3TNFRBIXK5YCJKF7AJRLU/story/\n",
      "314 https://www.lateja.cr/deportes/video-gimnasta-clasificada-a-olimpiadas-espero-que/TI4DKOL43RETTPYFX5Y63I3ECU/story/\n",
      "315 https://www.lateja.cr/deportes/leyendas-del-herediano-reviven-gracias-a-una/UMQQLO3YY5GPTGEFLI64PTCK3U/story/\n",
      "316 https://www.lateja.cr/deportes/horrible-record-ronald-gonzalez-solo-gano-una/DVEFT4EW65GPBIX6242ZJFCFGE/story/\n",
      "317 https://www.lateja.cr/deportes/estados-unidos-no-hizo-el-favor-ronald-gonzalez/VLI4CSOGZZEW7AW74YC6TM7LTI/story/\n",
      "318 https://www.lateja.cr/deportes/francisco-calvo-no-todo-fue-malo/U5DW4YZRDBEJHA5ZQ4Q3YJQNFE/story/\n",
      "319 https://www.lateja.cr/deportes/keylor-navas-se-acostumbro-a-venir-a-costa-rica/5BHS5GIASJF7DBQKH2PPKL5YMI/story/\n",
      "320 https://www.lateja.cr/deportes/basta-de-verguenzas-costa-rica-rica-se-hunde-de-la/DCORUIURGZAEHDOEL4KUKLD4EY/story/\n",
      "321 https://www.lateja.cr/deportes/mauricio-wright-seguira-como-tecnico-de-saprissa/6K3WJ4WPNNDLXDLJRDPRNCIKPU/story/\n",
      "322 https://www.lateja.cr/deportes/comite-de-competicion-de-la-unafut-rechazo-recurso/6F25NI7JXBB3DJZHHV65CGESKI/story/\n",
      "323 https://www.lateja.cr/deportes/futbolista-michael-barrantes-seguira-con-saprissa/AOQ7FYK4XVB4PABTB7PLJB3FMM/story/\n",
      "324 https://www.lateja.cr/deportes/mejenga-ante-estados-unidos-podria-ser-la-ultima/KMDWXIOZGNFLTH2W2F6GNECZRE/story/\n",
      "325 https://www.lateja.cr/deportes/argentina-dejo-ir-la-victoria-y-le-da-vida-a/FTLZVQA5HRFJJHKAOJG5GZVRPM/story/\n",
      "326 https://www.lateja.cr/deportes/deberia-saprissa-dejar-en-el-banquillo-a-mauricio/2RSMYA5LOJGE5D2PII6LHG3NOI/story/\n",
      "327 https://www.lateja.cr/deportes/portero-de-22-anos-seria-el-mayor-rival-de-navas/P7VJ5I44DVAMHNZ4W3M2UXDTTQ/story/\n",
      "328 https://www.lateja.cr/deportes/opinion-goodbye-ronital-ojala-eeuu-nos-haga-el/NGPVP7RHFBHCREIXPOVDIKI5XA/story/\n",
      "329 https://www.lateja.cr/deportes/nicaragua-se-despidio-del-sueno-de-catar-2022/D4L6IYCW3JGRVJGWGJ4X5TU6XY/story/\n",
      "330 https://www.lateja.cr/deportes/melissa-herrera-da-salto-al-cambiar-de-equipo-y/22X2RUIFXVHXXPKJ5DFAVGM5RY/story/\n",
      "331 https://www.lateja.cr/deportes/coach-deportivo-mayoria-de-liguistas-estan-pasando/Y5XS7P5KRBCN7JPDZK6A36UOEA/story/\n",
      "332 https://www.lateja.cr/deportes/ismael-chucky-gomez-recordo-los-primeros-colores/KRM4BTFKP5ENLBSTI454PDCXOE/story/\n",
      "333 https://www.lateja.cr/deportes/ronald-gonzalez-se-quedo-sin-defensa-y-su-puesto/JPPKMA62CVGSBDQDIHJA4QXTHU/story/\n",
      "334 https://www.lateja.cr/deportes/cartagines-se-reforzo-con-el-defensor-y-goleador/BGC7H66BMNAZLCCPQLM4T3FGTM/story/\n",
      "335 https://www.lateja.cr/deportes/limon-va-en-serio-ya-presento-recurso-de-nulidad/GS43SXDNYNBRTJWPQ5P6BGNMNI/story/\n",
      "336 https://www.lateja.cr/deportes/randall-azofeifa-se-despide-de-la-gente-del/FOUS52H5KZDE7BAOB3TVJZW5FU/story/\n",
      "337 https://www.lateja.cr/deportes/kevin-espinoza-sobre-su-llegada-a-saprissa-se-la/2ZYX2YF3UBANZFBXSY3S6DKMHU/story/\n",
      "338 https://www.lateja.cr/deportes/yalitza-sanchez-heroina-en-el-titulo-manudo-mis/LCFBCCHV4VGTBJY53KWGYPNQWA/story/\n",
      "339 https://www.lateja.cr/deportes/celso-borges-esto-no-es-lo-que-queriamos/5VWN7OZ2ZVH6XG7GFAOV6PGMDE/story/\n",
      "340 https://www.lateja.cr/deportes/ronald-gonzalez-de-dos-partidos-hicimos-dos-puntos/FR4CPTERI5F5PIAOYJHQGMYNYA/story/\n",
      "341 https://www.lateja.cr/deportes/sele-sigue-en-caida-libre-en-la-sufrida-era-de/XUUEC4GRVFG7TCYJTUIWWEGYKI/story/\n",
      "342 https://www.lateja.cr/deportes/ngolo-kante-soy-solo-alguien-normal/MQ2AFHNGVJCKBCRSM4S7NUC5CE/story/\n",
      "343 https://www.lateja.cr/deportes/isla-chira-vibro-con-el-debut-en-la-sele-de-su/AU2ZCIUYTFCNLFN4TDL67NCSIY/story/\n",
      "344 https://www.lateja.cr/deportes/tecnico-de-honduras-sobre-partido-ante-la-sele-es/AYSTKLJPTJF4ZB3XD6A5DONDWY/story/\n",
      "345 https://www.lateja.cr/deportes/guima-deja-de-ser-el-tecnico-del-atletico-nacional/ZAZ5HA4U4REU7CERIX7XYKMAPI/story/\n",
      "346 https://www.lateja.cr/deportes/ronald-gonzalez-esperamos-que-suceda-ganar-pero-si/CNFR3CBXMFBPNAVYIIQOKP5AII/story/\n",
      "347 https://www.lateja.cr/deportes/vocho-brumoso-de-1972-nunca-reporta-fallas-en/QOOP7QOT6FHDXHZVV4LMOW73L4/story/\n",
      "348 https://www.lateja.cr/deportes/ricardo-blanco-se-sincera-nos-reunimos-y-nos/36IJFXZAHRB6PK3WMQJBD4BKOQ/story/\n",
      "349 https://www.lateja.cr/deportes/jovenes-demostraron-que-la-chema-de-la-sele-les/SN4273JIE5DRDLQQCEK443PKUI/story/\n",
      "350 https://www.lateja.cr/deportes/herediano-esta-listo-para-aguarle-la-fiesta-a/OEP6IMK2VRDQPMRIALP5EREYUU/story/\n",
      "351 https://www.lateja.cr/deportes/mercedes-salas-yo-soy-la-agustin-lleida-de-las/Q3HLSVQKABHFZKWQAYXQ4F3QOA/story/\n",
      "352 https://www.lateja.cr/deportes/caso-de-marcel-hernandez-se-eleva-a-juicio/VONAHQYI5BEL3FWSZ2BP2EJOPI/story/\n",
      "353 https://www.lateja.cr/deportes/exjugadores-brumosos-buscan-ayuda-para-familia-de/G34K5MB5QVE3VN3QL2AQFAPBEE/story/\n",
      "354 https://www.lateja.cr/deportes/fallecio-el-exportero-rodolfo-bobby-alvarez/Q45CGGPS75GYXCXVQ3XEMG7S2Q/story/\n",
      "355 https://www.lateja.cr/deportes/marcel-hernandez-reconocio-que-el-covid-y-una/GQR7KFGS6BGUZAXDNTRRTKLY2Q/story/\n",
      "356 https://www.lateja.cr/deportes/argentina-y-messi-no-pasaron-de-un-amargo-empate/3AVFVIDA6JF5DHVAHJFDHC5RH4/story/\n",
      "357 https://www.lateja.cr/deportes/cartagines-firmo-al-portero-kevin-briceno-por-dos/XJJFX7XSVNGVJGLIBM2S75UAJI/story/\n",
      "358 https://www.lateja.cr/deportes/tecnico-de-honduras-tras-caer-ante-estados-unidos/NVEK76KYJFENPLR5NUYMIZUILQ/story/\n",
      "359 https://www.lateja.cr/deportes/un-estados-unidos-lleno-de-estrellas-sufrio-para/2KNUQ2MVVJEG3H64V72XKYXN4Q/story/\n",
      "360 https://www.lateja.cr/deportes/keylor-navas-le-deseo-suerte-a-la-sele-y-la/6G7CJTQHPFG4JKSNWGLPTXXGCU/story/\n",
      "361 https://www.lateja.cr/deportes/el-canal-del-zanate-transmitira-las-mejengas-de-la/U6YPLO73ZFG4PA5NU566X7KXN4/story/\n",
      "362 https://www.lateja.cr/deportes/selecciones-centroamericanas-se-juegan-la-vida-en/CQM2NU7KCFH4HDBSVGNYFA4I6A/story/\n",
      "363 https://www.lateja.cr/deportes/sele-vive-una-pandemia-que-le-ataca-por-todos-los/JQ6DHUTTVVE4DHEJ4LON7ZO44A/story/\n",
      "364 https://www.lateja.cr/deportes/presidente-del-cartagines-aun-no-confirma-si/AYWTOOUXXRGOTCQHTJRBTAPPPA/story/\n",
      "365 https://www.lateja.cr/deportes/tata-martino-fue-humildito-aspiro-a-que-mexico-sea/GVQWXZWIERGTZBPD6XS4E3IZGA/story/\n",
      "366 https://www.lateja.cr/deportes/ronald-gonzalez-suena-con-una-noche-perfecta-para/WIL727V5TJGHJNGGXV3BRGLVPM/story/\n",
      "367 https://www.lateja.cr/deportes/marcel-hernandez-volvio-a-los-tribunales-por/7MHDP4C6QJGMLDAAUJRRMKNJSY/story/\n",
      "368 https://www.lateja.cr/deportes/regresan-eliminatorias-sudamericanas-luego-de/EXH4EST2OFDCJEIDN4J7XXTEKY/story/\n",
      "369 https://www.lateja.cr/deportes/exportero-del-saprissa-bobby-alvarez-esta-delicado/2JXBFFP5HBC7JDLPADWCNWUPWU/story/\n",
      "370 https://www.lateja.cr/deportes/con-muy-poco-la-sele-enfrentara-a-un-mexico-y/KNKDJN2MIZC2FJG6FDTOP7OMW4/story/\n",
      "371 https://www.lateja.cr/deportes/llegara-kevin-chamorro-a-saprissa/TKJWFLZQHZA5VIJUUKUL3HXE3U/story/\n",
      "372 https://www.lateja.cr/deportes/el-nica-enfrenta-su-carrera-mas-importante-en-la/B5VWMMS77ZAJZIT2MSFW3FAMYQ/story/\n",
      "373 https://www.lateja.cr/deportes/este-seria-el-equipo-que-ascenderia-de-segunda-si/M6KJUL5GWVCMRNYM5G6MS2CVAA/story/\n",
      "374 https://www.lateja.cr/deportes/abren-pasantias-pagadas-para-estudiantes-de-ultimo/LXWIVJWLL5DH3CYWSMZV55Z5T4/story/\n",
      "375 https://www.lateja.cr/deportes/solo-los-rios-no-se-devuelven-carlo-ancelotti/Q4ZAD5YWBBGO5H7NQITKDHE6WU/story/\n",
      "376 https://www.lateja.cr/deportes/sele-de-futsal-ya-tiene-rivales-para-el-mundial/LD4JB5ICRVBD3CQ2IWDCWT6BS4/story/\n",
      "377 https://www.lateja.cr/deportes/video-gerente-espanol-del-saprissa-anuncia-su/TLJUEPVKN5HPTKTANWAVKZFT2E/story/\n",
      "378 https://www.lateja.cr/deportes/giancarlo-pipo-gonzalez-mexico-sabe-que-les/R3IC2TQQTNDOBIHQLXYPC4TWHU/story/\n",
      "379 https://www.lateja.cr/deportes/el-azul-revive-en-todo-el-mundo-menos-en/VOTWLPMPB5DGRO5BOEHCDUPZNU/story/\n",
      "380 https://www.lateja.cr/deportes/leonel-moreira-jugara-en-alajuelense-hasta-el-2024/55ELXF4BNVDBNKELVOPBIZTQHM/story/\n",
      "381 https://www.lateja.cr/deportes/amelia-valverde-explica-su-gestion-de-seis-anos/RV57S2HXIZF5NA3HTTWXIFM6MA/story/\n",
      "382 https://www.lateja.cr/deportes/limon-esta-decidido-a-solicitar-la-nulidad-del/Y6K5TH3PGRFTLH4GKHNMIVLH6E/story/\n",
      "383 https://www.lateja.cr/deportes/formador-de-walter-centeno-y-alejandro-y-douglas/CMKW6DYNUJA5THZX7BZCXUZ36A/story/\n",
      "384 https://www.lateja.cr/deportes/video-medico-dara-bolados-y-lo-acompanara-para/ZKJKR7XDYZAV5HKYQD7SITVZFQ/story/\n",
      "385 https://www.lateja.cr/deportes/morados-que-dudaron-del-monstruo-se-montaron-en-la/HIBNT7YFL5H5XGSQDGA4GWADXU/story/\n",
      "386 https://www.lateja.cr/deportes/covid-19-sigue-variando-la-lista-de-la-sele-para/FPKTNA4GMFERFFTQ4IARSEN4XA/story/\n",
      "387 https://www.lateja.cr/deportes/alajuelense-logro-una-de-sus-prioridades-pero/ZFBWGKHA3VC2HA3X3VMTW3GJD4/story/\n",
      "388 https://www.lateja.cr/deportes/hija-de-mauricio-wright-confirma-que-entrenador-se/UVLPQVA6LBAY5IX6QS7XN7NOGE/story/\n",
      "389 https://www.lateja.cr/deportes/hemos-hecho-una-temporada-excelente-el-consuelo-de/Y2FVT2EXVVGWTJBCGQKTTXKROA/story/\n",
      "390 https://www.lateja.cr/deportes/el-increible-kante-el-heroe-en-el-exito-del/UBMI6NK4IFGNJGQYEJZNRVUXZM/story/\n",
      "391 https://www.lateja.cr/deportes/video-chuzo-les-llego-a-la-casa-un-dia-de-la-madre/MDILHBL3BNDBFATIFB4LAZO2BM/story/\n",
      "392 https://www.lateja.cr/deportes/extecnico-de-keylor-navas-en-el-psg-acabo-riendo/USY4NII2KZDJXCWVF25E7KI4ZI/story/\n",
      "393 https://www.lateja.cr/deportes/el-chelsea-rompe-los-pronosticos-y-deja-sin/NYZ6BO4UJBFB3NOC5ESZ2ADEWM/story/\n",
      "394 https://www.lateja.cr/deportes/noelia-vargas-consigue-record-nacional-en-los-10/23RNMNSYBZAVJK7QJDW4OKCSAM/story/\n",
      "395 https://www.lateja.cr/deportes/manudo-trabajo-dos-anos-al-lado-del-manchester/HOGWUBYO4BCEPPHHBUAJRQFBWY/story/\n",
      "396 https://www.lateja.cr/deportes/minor-diaz-deje-pasar-oportunidades-con-equipos-de/UXJZ4ZEHIFEEJNNTGWLZHG6RDY/story/\n",
      "397 https://www.lateja.cr/deportes/tecnico-mauricio-wright-esta-hospitalizado-por/NC2NG3NZCZGGZLLOHMBSH5YAD4/story/\n",
      "398 https://www.lateja.cr/deportes/manchester-city-y-chelsea-apuntan-a-tocar-la/FLATTW5WYRF25FV6DH7Z6EVXSI/story/\n",
      "399 https://www.lateja.cr/deportes/opinion-jackeline-alvarez-y-douglas-sanchez/HDOH4S72K5BV7JXARUEGAI76Z4/story/\n",
      "400 https://www.lateja.cr/deportes/alajuelense-compro-ficha-de-alexis-gamboa-y-lo/OZ4WA36MCFHFRH3T3LPJCTEEFI/story/\n",
      "401 https://www.lateja.cr/deportes/christian-lagos-no-seguira-con-sporting/OU5JTQVW5JBHBIQ5TRSR42VKTE/story/\n",
      "402 https://www.lateja.cr/deportes/saprissa-les-dice-gracias-por-todo-a-cuatro-de-sus/Z4FICDTCSVFQRIFZ5KANYALD4M/story/\n",
      "403 https://www.lateja.cr/deportes/luis-marin-deja-de-ser-el-tecnico-de-herediano/J7667CJW4RGZTIP4PEFP6TM46I/story/\n",
      "404 https://www.lateja.cr/deportes/saprissa-se-pellizca-al-confirmarse-que-aaron-cruz/XJVDX2QMJJDK5BTTABK7PTKP5Y/story/\n",
      "405 https://www.lateja.cr/deportes/suerte-o-trabajo-el-samurai-habla-sobre-su-racha/ZEGKGJOUDFCADOKJODY6LZ6EFM/story/\n",
      "406 https://www.lateja.cr/deportes/herediano-fracasa-al-quedar-sin-jugar-la-liga/5SGVQ3V7O5A4LNPCMF6AY45MZI/story/\n",
      "407 https://www.lateja.cr/deportes/lola-wright-habla-de-su-papa-estaba-muy-segura-de/M4TEYKPU2ZHT7KQM5ZEBCCWEOE/story/\n",
      "408 https://www.lateja.cr/deportes/ronald-gonzalez-no-tengo-el-criterio-para-dudar-de/ZLFNGVXGQVEANEVSQZ4B6WY5RE/story/\n",
      "409 https://www.lateja.cr/deportes/leo-moreira-sera-titular-contra-mexico-en-semis-de/PVCYUUHSJFDSTI4BIV2MJXJKLI/story/\n",
      "410 https://www.lateja.cr/deportes/el-team-le-da-la-bienvenida-a-kennedy-rocha/MPOYYIBY7VFE3JZN7MODLLIYI4/story/\n",
      "411 https://www.lateja.cr/deportes/aaron-cruz-queda-fuera-de-la-sele-debido-al-covid/7SYGOIYIMRDJJKJKQH2NSW2MHY/story/\n",
      "412 https://www.lateja.cr/deportes/lo-que-mal-empieza-mal-termina-una-realidad-que/TMCTQETX7ZDBPFFNQJHN54VXEM/story/\n",
      "413 https://www.lateja.cr/deportes/jose-giacone-en-el-futbol-todo-es-posible/HHDUVRAW2NCUXBHBFDCWHTMKMA/story/\n",
      "414 https://www.lateja.cr/deportes/aaron-cruz-nos-dieron-por-muertos-y-al-saprissa-no/4ETCVVKHGVHEBAO5EISIHGQEKI/story/\n",
      "415 https://www.lateja.cr/deportes/david-guzman-para-ganar-titulos-hay-que-luchar-en/LGMQ2IMLEBCOTENBPMJJJBOSKA/story/\n",
      "416 https://www.lateja.cr/deportes/ariel-rodriguez-tras-ganar-la-36-espero-retirarme/OXTDZVRVWFC4BD6P5232DB7PQM/story/\n",
      "417 https://www.lateja.cr/deportes/jafet-soto-me-hubiera-gustado-levantar-la-copa/XE7UIKB2WVEO5K6N6TDOPOKIHQ/story/\n",
      "418 https://www.lateja.cr/deportes/atletico-nacional-de-alexandre-guimaraes-se/XFZIXYZPW5A2BKG3OXPDUDQNFQ/story/\n",
      "419 https://www.lateja.cr/deportes/heredianas-montaron-un-baile-en-la-cueva/P7XW6HP2ZJD7NECK3U4TMN3HEE/story/\n",
      "420 https://www.lateja.cr/deportes/zinedine-zidane-estaria-cerca-de-dejar-el-real/RCPM43WBZNBKNLF7QXUORW3NRI/story/\n",
      "421 https://www.lateja.cr/deportes/minor-diaz-entrenador-de-guanacasteca-termino-la/4RTYX7AJJBHSDP6TNEU7IQSVP4/story/\n",
      "422 https://www.lateja.cr/deportes/melissa-herrera-jala-del-stade-de-reims/TQ22CZTMXVBQVLFYIAJFOUUTKQ/story/\n",
      "423 https://www.lateja.cr/deportes/opinion-celso-gamboa-prometio-el-titulo-y-mas-bien/HUUKOGRJ6JDTREZP6XE5ZV7S6M/story/\n",
      "424 https://www.lateja.cr/deportes/manudo-tiene-un-palco-de-lujo-para-ver-la-final/2IFNX7TEKJAKZEO4N4NPLLPED4/story/\n",
      "425 https://www.lateja.cr/deportes/leonas-si-lograron-remontar-y-clasificaron-a-la/JKWFBAEE6FFBHDCAGYTE7YWU54/story/\n",
      "426 https://www.lateja.cr/deportes/mauricio-wright-este-es-el-juego-mas-importante/4IQ5XHKT25E4RECBM77J2QT2SY/story/\n",
      "427 https://www.lateja.cr/deportes/conozca-la-historia-detras-del-rosario-de-luis/F3G26ULQPBEJLLJXMCFE2XTUPQ/story/\n",
      "428 https://www.lateja.cr/deportes/perdedor-de-final-del-clausura-2021-se-quedara-sin/ZBXVOAZIRZHXZPILYDS7OQXLUY/story/\n",
      "429 https://www.lateja.cr/deportes/lista-de-la-sele-aaron-cruz-en-vez-de-keylor-navas/OZAWXASXUZEUHAFOQRLFLW7JLU/story/\n",
      "430 https://www.lateja.cr/deportes/campeon-del-clausura-2021-sera-el-monarca-con-peor/ATC3FC4LHRCUJNV7K54RVHJDCQ/story/\n",
      "431 https://www.lateja.cr/deportes/futbol-femenino-definira-finalistas-este-miercoles/WHLRBJMNSBA4PA2L7Y3NIHJOKM/story/\n",
      "432 https://www.lateja.cr/deportes/minor-alvarez-paso-de-disputar-la-final-de-segunda/3FZOB6U6OZCPVJW7WUNSHRI3S4/story/\n",
      "433 https://www.lateja.cr/deportes/ultimo-chance-de-la-tromba-del-caribe-para-seguir/YWRYN4Y5MBCTDM5ACVV5HCFW3I/story/\n",
      "434 https://www.lateja.cr/deportes/mariano-torres-se-consolido-como-el-hombre-de-mas/R3NCTQO2GVGZRAM5BXUCJCQIVQ/story/\n",
      "435 https://www.lateja.cr/deportes/christian-pulisic-encabeza-equipazo-de-eeuu-para/PHYOXHTL5NCWHF7ZZQVU5GEDJM/story/\n",
      "436 https://www.lateja.cr/deportes/video-un-pitufo-admirado-por-los-amantes-de-los/2ZSBLA57U5F2NFZBJGR4FILGG4/story/\n",
      "437 https://www.lateja.cr/deportes/oscar-esteban-granados-el-primer-lugar-debe-tener/2JDAGZXVGFEHBE2X3WFQBVI2RQ/story/\n",
      "438 https://www.lateja.cr/deportes/orlando-moreira-ni-a-saprissa-ni-a-heredia-nos/EAQYCP6GI5EGHB5UUU6WGIKLEI/story/\n",
      "439 https://www.lateja.cr/deportes/cristian-gamboa-a-la-bundesliga/PCJ74BFH55FYXIFYYVPKV24PUY/story/\n",
      "440 https://www.lateja.cr/deportes/el-psg-de-keylor-navas-fracasa-en-retener-el/Q5FZLYLPBFB4PP7RSDT557EODU/story/\n",
      "441 https://www.lateja.cr/deportes/aficionados-morados-invadieron-la-cueva-con/OOVFBHWOUJAI7IJZKZRFEASLQU/story/\n",
      "442 https://www.lateja.cr/deportes/defensor-erick-cabalceta-esta-estudiando-y-estrena/VU5HVZB3WVB3JMBMIM4VIVE7JQ/story/\n",
      "443 https://www.lateja.cr/deportes/luis-fernando-fallas-es-probable-que-conmigo-limon/XDUA73J4URHQVG6AERKWDIQ6XE/story/\n",
      "444 https://www.lateja.cr/deportes/fofo-madrigal-vera-la-final-solito-y-pablo/XDGBXN37EFFIVI7MOL63DE32O4/story/\n",
      "445 https://www.lateja.cr/deportes/asi-vivio-marco-herrera-asistente-de-saprissa-el/CJ7CLZQX7ZHCPII4JN3GC7U3MA/story/\n",
      "446 https://www.lateja.cr/deportes/luis-marin-le-pide-un-solo-favor-a-los-arbitros/ZG65HVYH3NBCTOZMVSADIB6444/story/\n",
      "447 https://www.lateja.cr/deportes/christian-lagos-no-piensa-en-el-retiro-ahora/W2Z2MES5PRB2HCKJ3P4FN4F3D4/story/\n",
      "448 https://www.lateja.cr/deportes/el-atletico-se-aduena-de-la-liga-en-una-jornada-de/NOPPVMLLCBDOXJQAPGCZDMIPOY/story/\n",
      "449 https://www.lateja.cr/deportes/junior-diaz-jala-de-la-liga-y-se-despide-con/DTB7VGGZXRFIXAIE6PR5H7TPTA/story/\n",
      "450 https://www.lateja.cr/deportes/saprissa-y-herediano-jugaran-la-final-de-los-menos/6MOIG2PHSVHZBBCHCTEYJ22VZE/story/\n",
      "451 https://www.lateja.cr/deportes/leonas-pierden-ventaja-de-dos-goles-y-caen-ante/CAGR6UELK5BHJKB6OZNH2652CM/story/\n",
      "452 https://www.lateja.cr/deportes/jugador-pablo-arboine-me-siento-muy-avergonzado/KCVOAB7YUVG6RNNQPDWUN76WIE/story/\n",
      "453 https://www.lateja.cr/deportes/jugadora-morada-maria-jose-brenes-vamos-a/L5K7GZ2YP5BG5OKNWJ6A3NB4AM/story/\n",
      "454 https://www.lateja.cr/deportes/costa-rica-le-dice-adios-al-mundial-de-futbol/ED4GURUH7ZDCBJ4PO4TOQCPZBA/story/\n",
      "455 https://www.lateja.cr/deportes/luis-marin-herediano-tiene-casta-de-campeon/HHSJE3W77JDGFFJVHZBZ423LYY/story/\n",
      "456 https://www.lateja.cr/deportes/mauricio-wright-nos-quedamos-con-ese-saprissa-que/LHCRNXHLPFHE7OHKNBH46RBYXE/story/\n",
      "457 https://www.lateja.cr/deportes/keylor-navas-mejor-portero-de-la-temporada-en/DNM2EO4Q7NCIXPHIHFTBIYXJXE/story/\n",
      "458 https://www.lateja.cr/deportes/berny-ulloa-le-recomienda-a-henry-bejarano-que-se/WBLCZDDM5FBH7EUYVAXNPK2VTE/story/\n",
      "459 https://www.lateja.cr/deportes/luis-marin-si-fueramos-justos-alajuela-fue-el/ADOM6HN465E6FOZZVED3AKPD2M/story/\n",
      "460 https://www.lateja.cr/deportes/carlos-diaz-portero-de-puntarenas-con-lo-que-aaron/PPDCB3I3MBAURD7HE5U5VB4JZQ/story/\n",
      "461 https://www.lateja.cr/deportes/saprissa-se-trajo-un-angel-de-espana-para-que-los/CXJ2DXPK7NHNVDOS7JANWFU2ZU/story/\n",
      "462 https://www.lateja.cr/deportes/la-carta-de-agustin-lleida-para-el-liguismo-luego/UHMU7DOXTJERTKOMAGMO5WFZ5Q/story/\n",
      "463 https://www.lateja.cr/deportes/andrey-amador-aclara-que-no-le-tiro-a-johan/ATESPB6PAFEKRHKQVV2NPJB4JA/story/\n",
      "464 https://www.lateja.cr/deportes/equipo-de-alexandre-guimaraes-recibe-baldazo-de/7BB4QDAOPBDODH7XCXY5LXA33M/story/\n",
      "465 https://www.lateja.cr/deportes/este-no-fue-el-primer-trancazo-del-monstruo-al/DUCM3VATWVCVNGILVOQJ7GIIE4/story/\n",
      "466 https://www.lateja.cr/deportes/cartagines-se-deshizo-de-david-ramirez-y-kenner/6KS6UIRQCRCG3L43TGMMMZ4QQY/story/\n",
      "467 https://www.lateja.cr/deportes/aprenda-ingles-facil-desde-la-casa-y-gratis/I2WU537OTNEC5BNK5QBYC73MXU/story/\n",
      "468 https://www.lateja.cr/deportes/video-experto-de-la-nba-analiza-al-basquetbolista/YVZR673G2JANJM6E7QHKPFNLMU/story/\n",
      "469 https://www.lateja.cr/deportes/opinion-limon-debe-permanecer-en-la-primera/C4SL4KFQXFD5FEXGMX3SBZI6EQ/story/\n",
      "470 https://www.lateja.cr/deportes/opinion-del-brumoso-la-liga-no-necesitaba-a-marcel/7ZIN7UPG35C5ZMRVJ2IJPIBOGM/story/\n",
      "471 https://www.lateja.cr/deportes/andres-carevic-los-jugadores-no-fallaron-son/GK7RSKOHXZEVDIECEJJPZDP2GI/story/\n",
      "472 https://www.lateja.cr/deportes/mauricio-wright-avanzo-el-que-mejor-hizo-las-cosas/MHJSS4I6SFANTIJAJ3XLNORHW4/story/\n",
      "473 https://www.lateja.cr/deportes/aaron-cruz-quedo-demostrada-la-grandeza-del/D3VTW4MIZVCGXKPIJ36FQSNAIM/story/\n",
      "474 https://www.lateja.cr/deportes/bryan-ruiz-tomo-mucha-de-la-responsabilidad-de-lo/B6TTS45HOJFN7PMEVB5EGVLCOQ/story/\n",
      "475 https://www.lateja.cr/deportes/exarbitro-ramon-luis-mendez-lo-de-la-liga-era-gol/DHZCNT7U4RGR5OD5B53J6OKDCM/story/\n",
      "476 https://www.lateja.cr/deportes/saprissa-presentara-este-jueves-a-gerente/3COTHCVAXRFEJPOJPY6O53XTME/story/\n",
      "477 https://www.lateja.cr/deportes/river-gano-con-un-jugador-de-campo-atajando-y-sin/XV4C24EX6BBM5AK4YANUFNPB6Q/story/\n",
      "478 https://www.lateja.cr/deportes/santos-apela-a-la-experiencia-de-sus-jugadores/B3RCSDVDYZBXJPGQTTHMNMP3VA/story/\n",
      "479 https://www.lateja.cr/deportes/luis-marin-espera-la-version-mas-endiablada-del/PIQM3ISNYFAKHIENOHDIUIGO2Y/story/\n",
      "480 https://www.lateja.cr/deportes/futbolista-melissa-herrera-disfruta-las-mieles-del/JVZK2VVKENGFVJH6HTYNOI3HDI/story/\n",
      "481 https://www.lateja.cr/deportes/final-de-segunda-ya-tiene-fecha/HPDUN7LCAJGBXJOHLUXZFWBQAI/story/\n",
      "482 https://www.lateja.cr/deportes/costa-rica-clasifica-invicta-y-lider-de-su-grupo/V2CASY33LBHTHFLMYU3ZYQRXEY/story/\n",
      "483 https://www.lateja.cr/deportes/canton-de-limon-preocupado-por-golpe-al-turismo-y/2RAJ25DA7VGTHC3VFZ2JRRX7TU/story/\n",
      "484 https://www.lateja.cr/deportes/keylor-navas-sumo-su-titulo-13-en-europa-al-ganar/5FZB4V2SCZF5NHYPCMWYRNS2ZA/story/\n",
      "485 https://www.lateja.cr/deportes/alex-mazon-sigo-sosteniendo-que-la-liga-sera/YQG6MNWV65ASHEPHGXNAJ36LDI/story/\n",
      "486 https://www.lateja.cr/deportes/un-nuevo-defensor-se-acerca-al-saprissa/AFJI2PBLCVDUDIVVB2WOIRWTXQ/story/\n",
      "487 https://www.lateja.cr/deportes/premian-con-el-clasico-al-arbitro-que-fue/6ZCCRRD5BJCDNOEOXGQDFS5FAU/story/\n",
      "488 https://www.lateja.cr/deportes/mauricio-wright-me-parece-bastante-grosero-el-tema/27DN5AL53BFV3DNT2QQIUDL3IQ/story/\n",
      "489 https://www.lateja.cr/deportes/video-gerald-drummond-sobre-el-clasico-son/55CHHEZW5BGL3LTVJTVU7ST3E4/story/\n",
      "490 https://www.lateja.cr/deportes/sele-de-futbol-playa-comio-jamon-y-clasifico-a/SDNYYI32FBD6BEDQQ2335ANB6E/story/\n",
      "491 https://www.lateja.cr/deportes/jafet-soto-busca-distraer-a-alajuelense-y-eso-que/3PDXX2MAS5FHRPR2KM6JFCCP5I/story/\n",
      "492 https://www.lateja.cr/deportes/yokasta-quito-publicacion-en-la-cual-le-tiraba-a/M2EOWHXSXBFCJIJD7K2ANWPI34/story/\n",
      "493 https://www.lateja.cr/deportes/a-kendall-waston-le-salio-cara-la-patada-a-johan/3OGGAHZZRFG6HNM2LMPKXWCXEY/story/\n",
      "494 https://www.lateja.cr/deportes/rey-mysterio-y-dominik-primera-dupla-de-padre-e/BV2D2SRWBZFABBCX4V3XZ6XCZE/story/\n",
      "495 https://www.lateja.cr/deportes/michael-barrantes-andrey-amador-y-yokasta-valle-le/REOBLZM2TJGYFPYBPNK4DPPWN4/story/\n",
      "496 https://www.lateja.cr/deportes/en-donde-estan-los-goles-de-marcel-hernandez/H2ESX6OYWVHL5HDZ4SZAPUCVTU/story/\n",
      "497 https://www.lateja.cr/deportes/novato-en-series-de-ida-y-vuelta-enfrentara-a/P6JESBPUUJBCBOTI53XV57BCBI/story/\n",
      "498 https://www.lateja.cr/deportes/veteranos-fueron-los-heroes-y-villanos-en-el-loco/JPSDJXQ7TRDKJJ4SFWAHJQNCAQ/story/\n",
      "499 https://www.lateja.cr/deportes/aaron-cruz-paciencia-y-dios-clave-en-los-penales/7QYQM6OGURCUVGBI4W6SL7XU3I/story/\n",
      "500 https://www.lateja.cr/deportes/nota-cien-para-las-aficiones-de-saprissa-y-la-liga/D4P2WL4NDVD5HLPD5MEVNDZNXY/story/\n",
      "501 https://www.lateja.cr/deportes/erick-rodriguez-no-tenemos-por-que-cambiar/3EPIKRJGIVDFPAZT22QJRYXKRE/story/\n",
      "502 https://www.lateja.cr/deportes/luis-marin-se-enfrentara-a-un-rival-que-conoce-a/EWPV7IZOXRDOFBDH6L3ORGGLYI/story/\n",
      "503 https://www.lateja.cr/deportes/aun-no-se-aclaran-los-nublados-del-dia-nadie-sabe/KISML3CX4BHCJL5WKIUWAVDIZQ/story/\n",
      "504 https://www.lateja.cr/deportes/robo-de-la-computadora-de-ronald-gonzalez-podria/VCWUTPBTVJFGJGNJTEWN2BQGTI/story/\n",
      "505 https://www.lateja.cr/deportes/fallecio-el-primer-jugador-santista-en-anotar-un/7JH75V6YQBEA3P2N7MSDOO36BI/story/\n",
      "506 https://www.lateja.cr/deportes/keylor-navas-cruza-los-dedos-para-dejarse-el/JQEGSLZEX5FBHAQOWCS2ZKLFJQ/story/\n",
      "507 https://www.lateja.cr/deportes/opinion-don-randall-vargas-pregunte-a-sus-colegas/64FOJ4TB25HDNLIQUU6DKQFT44/story/\n",
      "508 https://www.lateja.cr/deportes/la-consentida-es-toda-una-artista/FAFDNURQNZHYHDN5YLW5GOPO64/story/\n",
      "509 https://www.lateja.cr/deportes/pescan-a-alcalde-de-puntarenas-manejando-tapis-y/BZFKWL4RXVATXK6KD75PUYSBJA/story/\n",
      "510 https://www.lateja.cr/deportes/aficion-se-encargo-de-suspender-final-entre/QWRERZNXCBH3TMTWQA7JXQPE24/story/\n",
      "511 https://www.lateja.cr/deportes/alajuelense-tambien-compite-contra-la-mala-vibra-y/4A2QMQ4YY5AHZBEOM5UUINYDYA/story/\n",
      "512 https://www.lateja.cr/deportes/kobe-bryant-entro-al-salon-de-la-fama-del/Q6GWGSUJU5A2BDIPJU7KNTDN4M/story/\n",
      "513 https://www.lateja.cr/deportes/alajuelense-gano-la-primera-fase-del-torneo-de/Q5KJ67PT7VFWZDL4VEFMFGXROA/story/\n",
      "514 https://www.lateja.cr/deportes/atletico-y-real-madrid-mantienen-pique-por-dejarse/AAXMAMORLBGSHF6X2EYXTUMOPQ/story/\n",
      "515 https://www.lateja.cr/deportes/los-morados-que-deben-sacar-pecho-son-los-que-se/FSRXDQYHOZDQFFO7Y7744OUZGU/story/\n",
      "516 https://www.lateja.cr/deportes/carlos-diaz-hoy-cumple-47-anos-y-quiere-celebrarlo/I5AYQ2FQZVC4ZPMNTDWHOAUSIA/story/\n",
      "517 https://www.lateja.cr/deportes/unafut-quiso-hacer-una-gracia-y-le-falto-el/Z5EOHBGTYVFG5N3AFCEXVPY5WA/story/\n",
      "518 https://www.lateja.cr/deportes/video-roban-compu-en-la-que-ronald-gonzalez-tenia/4CZLKZEHP5HBLCJZQWZYAT4PLM/story/\n",
      "519 https://www.lateja.cr/deportes/fantasma-que-atemorizaba-a-los-manudos-promete/XQZPTCBP5NCTBKJWK5IZS44ZCQ/story/\n",
      "520 https://www.lateja.cr/deportes/liga-por-otra-racha-ganar-por-primera-vez-en-la/AVIYWGTN4FFGPGEAO3HFWQMQ5U/story/\n",
      "521 https://www.lateja.cr/deportes/saprissa-aclara-que-mauricio-wright-nunca-se-peleo/IC3KPQLAWVCHLHP7EIHKGXQBIY/story/\n",
      "522 https://www.lateja.cr/deportes/periodista-de-espn-dice-que-tecnico-de-mazatlan/DSRG2BUSZ5BHBJFTLY3OCV5AF4/story/\n",
      "523 https://www.lateja.cr/deportes/andres-carevic-el-partido-mas-importante-es-el/SFDHD3FD75AOHFYWVNQ5EBGFK4/story/\n",
      "524 https://www.lateja.cr/deportes/lagos-y-su-teja-de-goles-en-primera-se-los-dedico/VZQOCWPKBJDXNLP2URDONUTJUQ/story/\n",
      "525 https://www.lateja.cr/deportes/esteban-alvarado-nadie-se-esta-quitando-el-tiro/BXOSWX5KLVDOFNBLNTLTDSX624/story/\n",
      "526 https://www.lateja.cr/deportes/luis-marin-el-equipo-tiene-con-que-pelear-el/F5UES3CP5BAPHLVLC4NJZHS3H4/story/\n",
      "527 https://www.lateja.cr/deportes/jose-giacone-se-inspira-en-el-titulo-que-gano-con/CU4GG7IUD5AS7J2BCTMHFDCD5Y/story/\n",
      "528 https://www.lateja.cr/deportes/herediano-sufrio-un-ratico-pero-clasifico-y/PXVJUGF5R5BKHPPUXMJVSIJXFY/story/\n",
      "529 https://www.lateja.cr/deportes/alajuelense-acabo-invicto-la-primera-ronda-y/4IXEDSRQTZAT3A2VANMXH6H2HE/story/\n",
      "530 https://www.lateja.cr/deportes/mauricio-wright-no-me-doy-por-vencido-saprissa-me/34IEDRJOP5DITJMOF74AS444OM/story/\n",
      "531 https://www.lateja.cr/deportes/que-salado-saprissa-clasifico-y-va-contra-la-liga/3PAYNOTI4RHLVLWFWRGUZ4K67Y/story/\n",
      "532 https://www.lateja.cr/deportes/ticos-muestran-buena-malicia-indigena-para-ver/J45C4LEUZVH2NETXWXNFHLY5KQ/story/\n",
      "533 https://www.lateja.cr/deportes/un-estadounidense-y-un-suizo-son-los-primeros/6CRPPMJUENDVLEOF65JFD5JFYU/story/\n",
      "534 https://www.lateja.cr/deportes/agustin-lleida-reconoce-que-carevic-si-tiene/3CDXDGEDUFDLHJE654MAR36UQE/story/\n",
      "535 https://www.lateja.cr/deportes/saprissa-enfrentara-el-partido-mas-importante-del/3U7SKORHARG7RK63UFAXCUZGKA/story/\n",
      "536 https://www.lateja.cr/deportes/periodista-mexicano-afirma-que-andres-carevic-es/D3Z6NL7XSRFPPI3JAYDFPNADAQ/story/\n",
      "537 https://www.lateja.cr/deportes/un-jueves-de-locos-con-muchos-escenarios-cierra-la/Q2OSJET24BB5ZD3RSAUVUPBGOI/story/\n",
      "538 https://www.lateja.cr/deportes/herediano-da-detalles-de-su-pachanga-por-el/5ZVUXZJK45ALPGCL3AHBH6B4UY/story/\n",
      "539 https://www.lateja.cr/deportes/yeltsin-tejeda-con-sentimientos-encontrados-ante/AQJL6JI4PBALDBUN4YRWL3IRWM/story/\n",
      "540 https://www.lateja.cr/deportes/ultima-fecha-del-futbol-femenino-definira-cual/D3WABSFNXRDGXNPMHPW5P7JGYQ/story/\n",
      "541 https://www.lateja.cr/deportes/conor-mcgregor-se-sopapeo-a-lionel-messi-como-el/ADDS4XCMTRCZDAPT4M2ASVYRV4/story/\n",
      "542 https://www.lateja.cr/deportes/la-ultima-jornada-vera-el-regreso-del-futbol/COLGYLABC5HWHF43NLNK5WCZXM/story/\n",
      "543 https://www.lateja.cr/deportes/fiebrazo-del-team-comenzo-fiesta-del-centenario-el/2KN5GURHDBAL3IOSZUNK57MMTY/story/\n",
      "544 https://www.lateja.cr/deportes/andres-imperiale-el-nombre-de-saprissa-es/5S5VRY243FGEPE7N3WPCNMZ6WU/story/\n",
      "545 https://www.lateja.cr/deportes/renovacion-de-andres-carevic-es-como-un-torneo/7C3423JSNFHJRP7PEH4N7ZY3YQ/story/\n",
      "546 https://www.lateja.cr/deportes/alajuelense-ya-le-tumbo-a-herediano-un-record-de/M3RA7YSNXFBFJGRVNX24ARMZ5I/story/\n",
      "547 https://www.lateja.cr/deportes/club-marineros-que-dirigira-mauricio-montero-es/DPVMW5UORFDK5HEPZLGZOWBELY/story/\n",
      "548 https://www.lateja.cr/deportes/opinion-seleccion-de-futsal-un-gran-espejo-en-el/5FCRFD4T4FFXVCNK3JGH3CAXM4/story/\n",
      "549 https://www.lateja.cr/deportes/le-rompieron-el-corazon-a-los-morados-pedro/SW67TAPAENBMZBAZKHF7WGKJTQ/story/\n",
      "550 https://www.lateja.cr/deportes/milinton-tijerino-diez-de-la-sele-de-futsal-es-el/VJKOBZZXPFGKBET3VIBY223J74/story/\n",
      "551 https://www.lateja.cr/cables/los-comicos-apodos-una-tradicion-de-los-jugadores/R4TKKSSABBBS5HR3GM3SJFMLKU/story/\n",
      "552 https://www.lateja.cr/deportes/navas-venegas-y-ruiz-en-la-lista-provisional-de-la/QBXMH555BFFFHP4HGY44ZY3UDY/story/\n",
      "553 https://www.lateja.cr/deportes/david-medallita-jimenez-hara-vibrar-a-cartago-con/B4KLPG64D5D3BIM2JRYSCFOMXE/story/\n",
      "554 https://www.lateja.cr/deportes/sporting-desaprovecho-el-primer-tiempo-de-ventaja/QSMWCEWM3NECJBL5SDIX5Y6TRA/story/\n",
      "555 https://www.lateja.cr/deportes/tigres-de-mexico-se-despide-del-tuca-ferreti-tras/Q5NKIM7ZAJDQJODDOD5L5RZEHU/story/\n",
      "556 https://www.lateja.cr/deportes/alajuelense-tiene-todo-que-perder-en-la-fase-final/DZWNDUBDGJEVZG3RPA54SALW3Q/story/\n",
      "557 https://www.lateja.cr/deportes/brillante-camino-de-la-seleccion-de-futsal-hacia/N6DYV5ZULZD3ZL56QXM3UB4ZRE/story/\n",
      "558 https://www.lateja.cr/deportes/puntarenas-y-guanacasteca-dejaron-lo-mejor-para-el/KS5JFDOAINGUPBD24V6WLHNZTI/story/\n",
      "559 https://www.lateja.cr/deportes/el-real-madrid-desaprovecha-la-oportunidad-de/LC5TPY33RBBUDIGUZ6TVGFMSQ4/story/\n",
      "560 https://www.lateja.cr/deportes/73-mil-personas-en-un-estadio-vieron-la-pelea-del/3KQPAJMY4JA4LIIUZKG7GRYZQE/story/\n",
      "561 https://www.lateja.cr/deportes/liga-es-lider-invicto-y-unico-equipo-sin/JHECBQOKOZD27JXF2HUXWRTHAY/story/\n",
      "562 https://www.lateja.cr/deportes/en-el-mundial-tenemos-que-pasar-de-primeros-o-de/GH2O63GTAZAP7H2C5L5CB7D4C4/story/\n",
      "563 https://www.lateja.cr/deportes/la-sele-va-por-el-tricampeonato-de-concacaf-en/FNK5WVVUKJFMZE76ULTYVLC5K4/story/\n",
      "564 https://www.lateja.cr/deportes/jicaral-jugara-la-ultima-fecha-del-torneo-pese-a/55DA4SJCARFYTG7VZYQAI2VXIA/story/\n",
      "565 https://www.lateja.cr/deportes/vecino-de-san-pablo-de-heredia-roba-miradas-con/KEIBVXWWVRC25JS4V6HZSJJKT4/story/\n",
      "566 https://www.lateja.cr/deportes/roberto-wong-sobre-el-ascenso-seria-un-desahogo-de/757VKNEJWBADBAQLS3I23PPEZM/story/\n",
      "567 https://www.lateja.cr/deportes/neymar-un-rey-del-futbol-aun-sin-corona/J7ZR4X7RUJDV3DOJ4QIRQCZ55I/story/\n",
      "568 https://www.lateja.cr/deportes/katherine-alvarado-tuvo-covid-19-me-asuste-sabia/6JSW3O7UURD6NBK5FENHFGPVTU/story/\n",
      "569 https://www.lateja.cr/deportes/sele-de-futsal-golea-a-surinam-y-clasifica-al/X7DYXUISQJECTMWFBFC7IA6KFU/story/\n",
      "570 https://www.lateja.cr/deportes/iker-casillas-denuncia-acoso-por-parte-de-varios/XUW26GXR55DMJBNLQPPBBE52ME/story/\n",
      "571 https://www.lateja.cr/deportes/oscar-el-machillo-ramirez-descarta-volver-al/KRV7HCKSR5HX5EUVZO5UC7MTYY/story/\n",
      "572 https://www.lateja.cr/deportes/jugador-de-puntarenas-fc-habla-sobre-la-final-es/3MOZMWPWTZFALAW4AM7Q2G7ZY4/story/\n",
      "573 https://www.lateja.cr/deportes/bryan-ruiz-le-gano-pleito-al-santos-y-el-club/OE3MLTQYONCRRKBULSPYZENYMI/story/\n",
      "574 https://www.lateja.cr/deportes/nuevo-capitulo-en-el-juicio-del-siglo-apelacion/Y372DY2N4RHSPLG5HUCCDICBQY/story/\n",
      "575 https://www.lateja.cr/deportes/periodista-mexicano-dice-que-grupo-pachuca-tiene/D6OYZQF6WVGUTILY225GAXC3FI/story/\n",
      "576 https://www.lateja.cr/deportes/equipo-de-alexandre-guimaraes-sufrio-su-primer/4XFS6OMAHRBALLLDS5LU33QKLQ/story/\n",
      "577 https://www.lateja.cr/deportes/por-estas-razones-renovo-la-liga-su-contrato-con/PWLWYO7WENBA7DJHMDZLDKCT2I/story/\n",
      "578 https://www.lateja.cr/deportes/sele-de-futsala-va-por-el-boleto-al-mundial-de/DE3BDQUEUNEEFKXYAETA6JZIXQ/story/\n",
      "579 https://www.lateja.cr/deportes/estas-son-las-caracteristicas-que-busca-saprissa/AYLE6VAGVRCM3LT6HGRXVNJ7O4/story/\n",
      "580 https://www.lateja.cr/deportes/mauricio-wright-lo-mas-importante-ha-sido-la/URRJKTRMXVAIZJQMXJBCOBWEAI/story/\n",
      "581 https://www.lateja.cr/deportes/jicaral-reporta-a-ocho-jugadores-con-covid-19/6IXPQVEM5NCYXKGXAAWSN5OAYA/story/\n",
      "582 https://www.lateja.cr/deportes/costa-rica-golea-a-canada-y-se-jugara-el-pase-al/ZXT6GXJORFFCFKGDF66MVC44CA/story/\n",
      "583 https://www.lateja.cr/deportes/mambo-nunez-olvido-que-la-liga-nunca-ha-perdido-en/4K7IYP3JJNDLLESAB7HMLAHVYI/story/\n",
      "584 https://www.lateja.cr/deportes/error-de-procedimiento-se-trajo-abajo-proyecto-de/LR2KZMSWJ5A7XE4HNTN3D47NXU/story/\n",
      "585 https://www.lateja.cr/deportes/agustin-lleida-seguira-construyendo-la-liga-del/FVSY6T52PFDJZMVEN2WIH6ZTLU/story/\n",
      "586 https://www.lateja.cr/deportes/dos-futbolistas-del-equipo-de-rio-banano-de-limon/VR3AQ2F6JRFI7A6E6GJP4YSLK4/story/\n",
      "587 https://www.lateja.cr/deportes/si-keyor-navas-no-llega-a-la-final-el-real-madrid/REBMGRXIZFG4JGENVCZFW4URQ4/story/\n",
      "588 https://www.lateja.cr/deportes/iker-casillas-reaparecio-luego-de-ser/WMGYXWYCCRCJDH3TTAGQ2ITUVA/story/\n",
      "589 https://www.lateja.cr/deportes/liga-contra-sporting-se-jugara-el-lunes-y-la/LB3IE5N2ZNDUHDZ2Z62A5UUVEU/story/\n",
      "590 https://www.lateja.cr/deportes/judoca-tico-ian-ignacio-sancho-cerca-del-sueno/2VPRE4GO6FE2VDXWI2TU6TN3NI/story/\n",
      "591 https://www.lateja.cr/deportes/sele-utilizara-las-tres-fechas-fifa-de-junio/PHWVESGYDRA2ZEARTYM7AQXRMM/story/\n",
      "592 https://www.lateja.cr/deportes/tricolor-y-canada-definiran-hoy-el-primer-lugar-de/FFDSYUZHWBFSJB43WHBNUKWDKE/story/\n",
      "593 https://www.lateja.cr/deportes/kendall-waston-yo-nunca-voy-a-estar-satisfecho/D3PJQBMHJZERPA252QJGFDKOAY/story/\n",
      "594 https://www.lateja.cr/deportes/video-noelia-vargas-vuelve-a-la-accion-para/4VYGYDMDNVHWNMXBMFMO3REQLQ/story/\n",
      "595 https://www.lateja.cr/deportes/no-hay-humo-blanco-ultima-jornada-del-torneo-de/IQBL7MMKERFZZNBQR2O4W44X7Q/story/\n",
      "596 https://www.lateja.cr/deportes/tecnico-de-dimas-llego-a-300-juegos-con-un-equipo/J2XQQX5PLVCK7PKG2YEVBPH2IY/story/\n",
      "597 https://www.lateja.cr/deportes/jicaral-solo-metio-dos-goles-desde-que-no-esta/BR67MTTNERG27MNFI6BUOV7E5U/story/\n",
      "598 https://www.lateja.cr/deportes/zinedine-zidane-hay-que-quitarse-el-sombrero-ante/D5FH6LSXXNENPEGMTFC5CEPQZM/story/\n",
      "599 https://www.lateja.cr/deportes/keylor-navas-se-quedo-sin-el-chance-de-jugar-su/2OSS52IAUJFPVAI5ZP5MPQLPY4/story/\n",
      "600 https://www.lateja.cr/deportes/acusan-al-jugador-edder-nelson-de-golpear-con-una/K3HP2X6HHJGWLBXI573WN7F25Q/story/\n",
      "601 https://www.lateja.cr/deportes/tanta-bulla-de-los-pequenos-para-que-al-final/5VJQZWJIGBFU3AQ3AAVFP5CLEQ/story/\n",
      "602 https://www.lateja.cr/deportes/limon-recurre-nuevamente-a-ricardo-allen-para/SHLPDQRBQ5GURK3Y252CJVKYFE/story/\n",
      "603 https://www.lateja.cr/deportes/arbitra-trans-hace-historia-al-dirigir-un-partido/TJJNGO36IRECTEA536FK6XYZGI/story/\n",
      "604 https://www.lateja.cr/deportes/leyenda-del-barcelona-sobre-keylor-ha-sido-un/ROWTZMS5YNDYRHFGJNSQNR43DE/story/\n",
      "605 https://www.lateja.cr/deportes/unafut-aclara-que-la-ultima-jornada-del-torneo/SANTGWPWMRHCXNIIBWXF2RGV4I/story/\n",
      "606 https://www.lateja.cr/deportes/torneo-de-apertura-femenino-suspendido-por-unos/VLO5SLTUWFHDTGB2YW4SU373BQ/story/\n",
      "607 https://www.lateja.cr/deportes/suspenden-el-partido-liga-sporting-y-la-ultima/OSKPTTYAKBHQNH3EDHN77DRKB4/story/\n",
      "608 https://www.lateja.cr/deportes/respiren-morados-lo-de-mariano-torres-fue-solo-un/Z6ZYUIWZSNENRKRK57LUU7JL64/story/\n",
      "609 https://www.lateja.cr/deportes/mbappe-tocado-entra-en-la-lista-del-psg-para/23ZHZLZPG5A55JRBBD6VXBEVUY/story/\n",
      "610 https://www.lateja.cr/deportes/cartagines-san-carlos-y-limon-necesitan-de-un/ZFVPD6YXLVBILD57GVT6BHXUQ4/story/\n",
      "611 https://www.lateja.cr/deportes/listas-las-clasificadas-a-la-fiesta-grande-en-el/RNWZNAUVJJEGPH77DJLCSMG3CE/story/\n",
      "612 https://www.lateja.cr/deportes/jimmy-marin-aqui-lo-importante-es-el-equipo/2U22MMTXHRCPFACYWCKSGOGITE/story/\n",
      "613 https://www.lateja.cr/deportes/mauricio-wright-hemos-visto-una-mejora-en-la-tabla/6CNCWAOD7VFHTEXK7Y7DIEHCLI/story/\n",
      "614 https://www.lateja.cr/deportes/un-saprissa-de-dos-caras-logra-la-clasificacion-a/SVNPGTYIV5F6LLSM7RPOICTN2A/story/\n",
      "615 https://www.lateja.cr/deportes/erick-rodriguez-entramos-perdidos-en-el-primer/EKPZVGX6I5HPNO4TMAOYVLPD6M/story/\n",
      "616 https://www.lateja.cr/deportes/cholo-sequeira-se-vistio-de-heroe-guanacasteco/LUIHJMRYZJGQ5NZUGH7NIKOJWA/story/\n",
      "617 https://www.lateja.cr/deportes/aficionados-del-manchester-united-hicieron-loco-en/TGX7AL4MORCRFER52Y5DSIJTRU/story/\n",
      "618 https://www.lateja.cr/deportes/daniel-casas-queda-fuera-de-limon-fc/LCFZ7ABWA5BJTK5S2E6IKLMW74/story/\n",
      "619 https://www.lateja.cr/deportes/extaxista-sobre-su-carro-un-miembro-de-la-familia/CACSVOD23VGONAFZPZ3DOEMXCY/story/\n",
      "620 https://www.lateja.cr/deportes/luis-marin-la-liga-es-el-mejor-equipo-de-lejos/NRQF3QFZ7JAKXPS7QL6JWB57OQ/story/\n",
      "621 https://www.lateja.cr/deportes/con-paliza-y-remontada-puntarenas-clasifico-a-la/Y7DV6E6HTBANROSF2G7TAYH5II/story/\n",
      "622 https://www.lateja.cr/deportes/daniel-casas-limon-se-va-a-salvar/CT5YAXNBM5D3ZOCT6NZATV2HAY/story/\n",
      "623 https://www.lateja.cr/deportes/san-carlos-se-vistio-de-monstruo-para-golear-a/APBGNMFTRVAMZMHB2MDCCQ22DY/story/\n",
      "624 https://www.lateja.cr/deportes/atleta-tica-supero-grave-enfermedad-para-ganar/H2P2I3ZRKBGTPCGQML3S74CDGI/story/\n",
      "625 https://www.lateja.cr/deportes/orlando-sinclair-esta-a-punto-de-volver-en-medio/KEBLMOZP3BARFPILGYZ72KTJMA/story/\n",
      "626 https://www.lateja.cr/deportes/tecnico-de-carmelita-sobre-las-semis-del-ascenso/N25KHBR3HFCDXBRDW7FUPTWPOA/story/\n",
      "627 https://www.lateja.cr/deportes/exasistentes-de-jorge-luis-pinto-se-enfrentaran-en/S6UOAZSGEVGPRAPBYZEUFJCM3Q/story/\n",
      "628 https://www.lateja.cr/deportes/saprissa-femenino-reporta-un-aumento-de-casos-de/RUZ4H7DQOJG4LLUI37RYNJSHFU/story/\n",
      "629 https://www.lateja.cr/deportes/santos-buscara-seguir-el-ejemplo-de-alajuelense-y/LEKX56VEJNBCPFRAWJZCVA7HO4/story/\n",
      "630 https://www.lateja.cr/deportes/tecnico-santista-revela-el-secreto-del-exito-del/2VOPHYDJJVDPXF5ZHSG3PHDTX4/story/\n",
      "631 https://www.lateja.cr/deportes/puntarenas-sigue-en-guerra-asesinan-a-un-hombre-de/WY5V6FIUKRGJVOJI4WG4VZ27DU/story/\n",
      "632 https://www.lateja.cr/deportes/kendall-waston-sigue-sin-estar-a-la-altura-para/MKXVPZPJPZAUJNPEZKDZZISE2E/story/\n",
      "633 https://www.lateja.cr/deportes/sera-uruguay-de-coronado-el-equipo-de-saprissa-en/FCG6Y4EBKRA2BN2JYEXNPHJPII/story/\n",
      "634 https://www.lateja.cr/deportes/tormenta-sigue-para-keylor-navas-luego-de-la/4VFISWWUIBEBFFM6XWXXITZVFY/story/\n",
      "635 https://www.lateja.cr/deportes/miles-de-aficionados-hondurenos-le-dan-el-ultimo/7RYO3P5VVZAE5GUOHNVW3SG3O4/story/\n",
      "636 https://www.lateja.cr/deportes/mauricio-chunche-montero-y-josef-miso-ficharon-con/SB2NPD7APVARPNQI4L3I5DIAZU/story/\n",
      "637 https://www.lateja.cr/deportes/unafut-solicito-realizar-pruebas-de-covid-19-a/5UOHTFBL7NACPFHMV4Y4I3NYJA/story/\n",
      "638 https://www.lateja.cr/deportes/periodista-le-mando-una-chinita-a-su-colega-josue/654PSS4Z4RHJZDGB3JSMBP2PHM/story/\n",
      "639 https://www.lateja.cr/deportes/david-ramirez-no-llora-pero-se-acuerda-de-saprissa/HWUE4MGE3FHLTMQ6SBN5E2JIJ4/story/\n",
      "640 https://www.lateja.cr/deportes/centroamerica-perdio-157-rutas-aereas-por-culpa-de/CXXZAGBRPBF6TNCNY3TMCBUSOA/story/\n",
      "641 https://www.lateja.cr/deportes/paulo-wanchope-resucita-a-perez-zeledon-y-su/KSQYUHBHTBGRXFV4A5G5Q47FZ4/story/\n",
      "642 https://www.lateja.cr/deportes/video-fiesta-de-goles-equipo-de-guimaraes-empata-4/PHZQLAMV3ZEX7LCCNJFSIWLOHQ/story/\n",
      "643 https://www.lateja.cr/deportes/conozca-a-la-futbolista-de-la-seleccion-de/OV7U4S6GTRAEDLQVC6ZMO2I62Y/story/\n",
      "644 https://www.lateja.cr/deportes/jugadores-de-saprissa-y-el-team-deben-pensar/4HCKBLH2J5GELFDRFECSMHYYNM/story/\n",
      "645 https://www.lateja.cr/deportes/david-guzman-es-el-primer-castigado-dos-veces-por/WPIB3NHZZFE5JINLCHSTXXDTX4/story/\n",
      "646 https://www.lateja.cr/deportes/mario-kempes-sobre-el-gol-del-city-a-keylor-navas/WLARMGQLHBBBFJSWR265EH7MMQ/story/\n",
      "647 https://www.lateja.cr/deportes/limon-fc-reporta-un-caso-de-covid-19-dentro-de-su/NO23YRBTEZGZ3AB7H5H675JEEA/story/\n",
      "648 https://www.lateja.cr/deportes/erick-rodriguez-tecnico-de-santos-ahora-el/SGDV7MASBZH2HAAW5XYC6PTIWA/story/\n",
      "649 https://www.lateja.cr/deportes/periodista-pablo-guzman-se-desahogo-en-redes/E7PFHHRD25ADTIHU55LDGTDXBI/story/\n",
      "650 https://www.lateja.cr/deportes/saprissa-anuncia-casos-de-covid-19-en-equipos/ENDJCGTOVVADBELOOD7PQRL3M4/story/\n",
      "651 https://www.lateja.cr/deportes/unafut-reprogramo-juego-entre-sporting-y/CQVMZIYTWNAXJDCJKPM65XPGFY/story/\n",
      "652 https://www.lateja.cr/deportes/keylor-navas-pulseara-llegar-a-su-quinta-final-de/NJ7ECBUHGRDLLASWEI42OEX6KQ/story/\n",
      "653 https://www.lateja.cr/deportes/basquetbolista-tico-dio-un-importante-paso-en-su/MN3GANLVB5EIRBYCUEKMKM5MLE/story/\n",
      "654 https://www.lateja.cr/deportes/real-madrid-apenas-pudo-empatar-en-casa-con-el/MO6D3YRYQFCIDHK75DU3XBSLFQ/story/\n",
      "655 https://www.lateja.cr/deportes/alajuelense-pedira-la-reprogramacion-del-duelo/MRNR2GBSFFBLJA35YELIUSLVKE/story/\n",
      "656 https://www.lateja.cr/deportes/starling-armo-un-verdadero-enredo-entre-los/WCILU3UK4BBOJFIIFFAFOA2VK4/story/\n",
      "657 https://www.lateja.cr/deportes/liga-confirma-que-seis-de-sus-jugadores-tienen/MTRHZHYJUZFNROVWONW2HMR6WQ/story/\n",
      "658 https://www.lateja.cr/deportes/agustin-lleida-nuestros-fichajes-bomba-son-que-leo/YSJ2URPK5FHB3JAZQRL2SS7AEQ/story/\n",
      "659 https://www.lateja.cr/deportes/todo-pinta-a-que-santos-clasificaria-al-proximo/2QHKJDB4EFAYVNGK7QQAFBQZAE/story/\n",
      "660 https://www.lateja.cr/deportes/unafut-niega-que-esteban-alvarado-este-enfermo/AYDTCGYKIBABJD6VA2XIZXOM6M/story/\n",
      "661 https://www.lateja.cr/deportes/keylor-navas-renovo-con-el-psg-y-el-club-le-hizo/KGXUMA4E4NEMHKNIBEPVETZBFM/story/\n",
      "662 https://www.lateja.cr/deportes/katherine-alvarado-se-jalo-un-triplete-y-envio-al/G3GFDJUH6ZAZVC5U6VXDMZKQX4/story/\n",
      "663 https://www.lateja.cr/deportes/mauricio-montero-jala-de-la-liga-no-me-queria-ir/UVOKTXJGBRCGTHX5RXYZI5JI6Y/story/\n",
      "664 https://www.lateja.cr/deportes/wright-estoy-un-poco-molesto-por-recibir-un-gol/32LEJAHATZGR5JLA3CSYBRA34A/story/\n",
      "665 https://www.lateja.cr/deportes/saprihora-le-salva-el-invicto-a-mauricio-wright/CX6YBXTSJJHL3GHIAFTYKIT2VI/story/\n",
      "666 https://www.lateja.cr/deportes/luis-marin-herediano-va-a-clasificar-y-va-a-ser/EU56VNG4ZFC4NJLW23IQ7FZOA4/story/\n",
      "667 https://www.lateja.cr/deportes/christian-bolanos-han-pasado-muchas-cosas-al-final/TDLSMNNY4JAYNNJNXU2BXG47DY/story/\n",
      "668 https://www.lateja.cr/deportes/video-peleador-de-ufc-se-partio-la-espinilla/R3GQZMFEINHT7CU47IELXAPNL4/story/\n",
      "669 https://www.lateja.cr/deportes/barrio-mexico-golpeo-primero-en-la-semifinal-de-la/QQJRNIT73JAK3IVHSHVX57OSZ4/story/\n",
      "670 https://www.lateja.cr/deportes/video-joven-lateral-tico-brilla-en-el-arsenal/AX437PSMHRGQJP6F3KYOJI72JA/story/\n",
      "671 https://www.lateja.cr/deportes/oh-my-god-gringa-marco-doblete-en-goleada-de-dimas/5BXVDXCUIZHPZPY4BGWCR6X7KM/story/\n",
      "672 https://www.lateja.cr/deportes/temporada-de-juan-diego-castro-en-estados-unidos/IHNTL5GJCZBJJA5PHKXXGPW45I/story/\n",
      "673 https://www.lateja.cr/deportes/un-viejito-muy-chineado-roba-miradas-en-oreamuno/65ZSI6J3WJHG3IOOIIDQWNJBHI/story/\n",
      "674 https://www.lateja.cr/deportes/jonathan-mcdonald-tiene-siete-meses-sin-anotar/ZZBQZRPJ4JGVBP66IGXEMUN4VI/story/\n",
      "675 https://www.lateja.cr/deportes/moradas-motivadas-por-posibilidad-de-quitarle-el/E7AP4LIXGZDMJCZU2EUGESZCV4/story/\n",
      "676 https://www.lateja.cr/deportes/manudos-evitan-pensar-en-la-llegada-de-geiner/DUZZRSNAVBDY3AGIGTKE7EY64A/story/\n",
      "677 https://www.lateja.cr/deportes/geiner-segura-en-la-liga-aprendi-mucho-de-todos/S7WLKXUUCFATPE6WJCDSUTDFQE/story/\n",
      "678 https://www.lateja.cr/deportes/el-covid-19-es-el-rival-mas-temido-de-los/ZPYEJMRHDRG3HKENM3NSPJ45FA/story/\n",
      "679 https://www.lateja.cr/deportes/quien-quiere-ser-billonario-vea-lo-que-les-falta-a/PODBE2BQS5EB7K5AOMT7Y7CYHM/story/\n",
      "680 https://www.lateja.cr/deportes/mauricio-wright-tengo-mi-linea-forma-de-ser-no-soy/UEG3HSHT4RGRNBBHGYNU2GVGME/story/\n",
      "681 https://www.lateja.cr/deportes/alajuelense-reporta-cuatro-cosas-de-covid-19-en-su/UMZ5UZADVRB2XPGKFVYLI6NVPM/story/\n",
      "682 https://www.lateja.cr/deportes/clasificacion-a-la-liga-concacaf-tambien-le-mete/UHGKXXDHFFFHDGWKSMMPNAOSAA/story/\n",
      "683 https://www.lateja.cr/deportes/sporting-choco-con-pared-y-debera-pelear-el/G6AM6IF6WZBLTFAJBM6BH7ATNA/story/\n",
      "684 https://www.lateja.cr/deportes/ibrahimovic-renueva-con-el-milan-y-cumplira-los-40/AZLN4PS7LNEY5PYZ4BGX4CJOWE/story/\n",
      "685 https://www.lateja.cr/deportes/aficionados-podran-entretenerse-con-album-de-la/KHD4XNLQQ5DK7BVJDVTABG7WGU/story/\n",
      "686 https://www.lateja.cr/deportes/anthony-lopez-salio-rascando-debido-al-error-que/IZWGJTRFYJBGDPQZJ3NG3IYNYY/story/\n",
      "687 https://www.lateja.cr/deportes/andres-carevic-geiner-segura-conoce-detalles/YRA35RDRKZEMZCYMC5NZJD7LEM/story/\n",
      "688 https://www.lateja.cr/deportes/presi-de-la-liga-prefirio-ir-a-apoyar-al-equipo/3ABZT6CUAJA4PJU545I52VYLBY/story/\n",
      "689 https://www.lateja.cr/deportes/autogol-aleja-a-perez-zeledon-de-los-ultimos/JOBNPC6NWJAO5GMF3DEPTMJCDM/story/\n",
      "690 https://www.lateja.cr/deportes/historicos-tacos-de-lionel-messi-seran-subastados/OX7H6QPPF5DHFN3DGAF4EVRSGU/story/\n",
      "691 https://www.lateja.cr/deportes/julian-solano-el-futuro-del-futbol-nacional-se/5EFFORZWJFGEVKEGLQM5AUMHOA/story/\n",
      "692 https://www.lateja.cr/deportes/superliga-europea-paso-a-superclasico-solo-quedan/LA3JY7HYQFH37GZFINEPJ226VE/story/\n",
      "693 https://www.lateja.cr/deportes/marco-herrera-a-muchos-no-les-sirve-que-saprissa/54ZONASY2NCM3N2A7EKM2VC7C4/story/\n",
      "694 https://www.lateja.cr/deportes/saprissa-reacciono-luego-de-que-el-moradito-puso/2W7YEBVNLRBXPDGYA4VD4ERG6I/story/\n",
      "695 https://www.lateja.cr/deportes/esteban-alvarado-no-tengo-nada-arreglado-con/26S4D6NG7ZE2NMKAOJHCLVX6RQ/story/\n",
      "696 https://www.lateja.cr/deportes/limon-fc-firma-acuerdo-para-administrar-el-juan/AOSLBADLANHJ3FVTKCFHNKHR4Y/story/\n",
      "697 https://www.lateja.cr/deportes/unafut-pulsea-llevar-aficionados-a-los-estadios/7H2R2GB7IRBJHI2R4UDFSIJO4I/story/\n",
      "698 https://www.lateja.cr/deportes/la-teja-hablo-con-pedro-troglio-nunca-me-llamo/XONRNLCQJBFK3NON6MRTPTTZAA/story/\n",
      "699 https://www.lateja.cr/deportes/hanna-gabriels-va-por-mas-tengo-claro-que-me/PI5DNEE3Q5DXXKRGCUF3WSXDZ4/story/\n",
      "700 https://www.lateja.cr/deportes/saprissa-a-lo-cantinflas-mauricio-wright-si-llega/BYZSCECDSFFAVCRJ7WPE3NLTIY/story/\n",
      "701 https://www.lateja.cr/deportes/opinion-un-clasico-nunca-deberia-morir-pero-ya/A4KZP6BWYJHIHP7P5FSWGSJ2WQ/story/\n",
      "702 https://www.lateja.cr/deportes/los-clubes-ingleses-se-salen-de-la-superliga-ante/D7THIXKEVFHQBHJ5BWUR5MPILE/story/\n",
      "703 https://www.lateja.cr/deportes/nuevo-zafis-del-sapri-anuncia-a-mauricio-wright/E5DYGZ2OTNCANIC5T5BYP4SHWM/story/\n",
      "704 https://www.lateja.cr/deportes/geiner-segura-la-liga-es-un-gran-equipo-e-iremos-a/XRE646MMAZEY7ILMPLGMFTAKSE/story/\n",
      "705 https://www.lateja.cr/deportes/crisis-morada-recuerda-el-periodo-de-vacas-flacas/ITFZ4IMHBJAINKX6QAT23DUPCY/story/\n",
      "706 https://www.lateja.cr/deportes/colombia-supera-por-primera-vez-los-400-muertos-en/YEZPAR6FIFDE7A4LWJSM5TLHAQ/story/\n",
      "707 https://www.lateja.cr/deportes/pelea-por-clasificar-a-semifinales-esta-mas-ruda/JTXI6PIAWFGGZHTKVOERUVWOKI/story/\n",
      "708 https://www.lateja.cr/deportes/solo-andres-carevic-pudo-mantenerse-en-el/7E42HMHXNBHDVPZXJURNCJMPFQ/story/\n",
      "709 https://www.lateja.cr/deportes/socio-de-saprissa-los-aficionados-estamos-cansados/FXY3QOM325E4DKV6TNEY6TGR6Q/story/\n",
      "710 https://www.lateja.cr/deportes/futbolistas-que-esten-en-la-superliga-de-europa-no/S4DNO25QVBAOHDIWLOXHYVJLUA/story/\n",
      "711 https://www.lateja.cr/deportes/psg-campeon-chelsea-y-real-madrid-deben-ser/7MEF4H4VMRDSXG625C5TOUJ5FY/story/\n",
      "712 https://www.lateja.cr/deportes/uefa-aprueba-nuevo-formato-de-champions-luego-del/6NUYETFB6ZA3HEMFLJEPTH3XIU/story/\n",
      "713 https://www.lateja.cr/deportes/futbolistas-y-exjugadores-acusan-a-la-superliga-de/KCF5LWQRPBEMHJF26JMTOMVJRY/story/\n",
      "714 https://www.lateja.cr/deportes/johan-venegas-tuvo-un-dulce-regreso-a-la-cueva/LI6RQYHR7VHXDBUMKI34CMF4II/story/\n",
      "715 https://www.lateja.cr/deportes/roy-myers-es-el-segundo-tecnico-morado-que-despide/365ANVDBLRDP5NY65764M6X3MU/story/\n",
      "716 https://www.lateja.cr/deportes/toros-le-echan-mas-sal-a-la-herida-del-monstruo/JQUZZ4BFYFD6TO2WNH52JJOVYE/story/\n",
      "717 https://www.lateja.cr/deportes/saprissa-vapuleado-fuera-de-zona-de-clasificacion/ARKS4VM3EZFFNPUDQGPUZ7OQG4/story/\n",
      "718 https://www.lateja.cr/deportes/los-cinco-mejores-memes-de-saprissa-mentiras-son/AYUUZPRWUJD23EPWYCHI3BEKYA/story/\n",
      "719 https://www.lateja.cr/deportes/jicaral-saca-al-saprissa-de-zona-de-clasificacion/76Z6EI2BDFAWNLUPNHXHEIA3QI/story/\n",
      "720 https://www.lateja.cr/deportes/doce-clubes-europeos-lanzan-una-superliga-y-fifa/LNE2ZP4N6BGL3N5PDMXAALITSU/story/\n",
      "721 https://www.lateja.cr/deportes/barrio-mexico-tambien-se-metio-a-semifinales-de/G5AD7VTRJJHTTPW5B5YX5XDSUY/story/\n",
      "722 https://www.lateja.cr/deportes/alajuelense-consiguio-la-ultima-humillacion-para/NUFOSABUNRGKVOP6BTGOEUB5KY/story/\n",
      "723 https://www.lateja.cr/deportes/opinion-titular-desafortunado-disculpas-a-la/IX27MJSDLRH5NPXLPBBMYAASEQ/story/\n",
      "724 https://www.lateja.cr/deportes/agustin-lleida-ando-detras-de-eso-renovacion-de/KU2HLNGQZRA7LJZCU4GW3PW7M4/story/\n",
      "725 https://www.lateja.cr/deportes/marcel-hernandez-la-pesadilla-morada-sera-baja-en/4UCRNSXMHZDC5H2L44FKB2QYFE/story/\n",
      "726 https://www.lateja.cr/deportes/hannah-gabriels-comio-jamon-ante-mexicana-que-ni/2YLXPBIUIZDVTHZQGCOIJXXIPQ/story/\n",
      "727 https://www.lateja.cr/deportes/ya-se-ve-la-mano-de-la-ausencia-de-medford-en-el/QFQAW2SVCJBXTF66VT2P2WLHRU/story/\n",
      "728 https://www.lateja.cr/deportes/video-randall-leal-se-lucio-con-un-pepino-en/6TRP63X5ANEN7C25NTFSAEBIE4/story/\n",
      "729 https://www.lateja.cr/deportes/leonas-ganan-el-primer-clasico-del-fin-de-semana-e/67UNNRAMIFC77P3ESS7KOF6DKU/story/\n",
      "730 https://www.lateja.cr/deportes/guadalupe-le-metio-un-fuerte-manazo-a-sporting-al/UR6RQAVBLJCPNNLG62HXFPLQUQ/story/\n",
      "731 https://www.lateja.cr/deportes/guanacasteca-clasifica-sobrado-a-semifinales-con/73VAJEUK5JDNBK52DC4E2HXI3U/story/\n",
      "732 https://www.lateja.cr/deportes/lionel-messi-encabezo-goleada-ante-el-bilbao-y-una/E4CYCDW2NBBOFLK2M6UKF3XHNQ/story/\n",
      "733 https://www.lateja.cr/deportes/costa-rica-tambien-gano-por-goleada-en-la-final-de/Z6CTBG3W6BF3RN4ANT6NGR6RRI/story/\n"
     ]
    }
   ],
   "source": [
    "count=1;\n",
    "links_article=[]\n",
    "for i in links:\n",
    "    if i.has_attr('href') and \"story\" in i['href'] and \"https://www.lateja.cr/\"+i['href'] not in links_article :\n",
    "        print(count,\"https://www.lateja.cr\"+i['href'])\n",
    "        links_article.append(\"https://www.lateja.cr/\"+i['href'])\n",
    "        count+=1"
   ]
  },
  {
   "cell_type": "code",
   "execution_count": 8,
   "metadata": {},
   "outputs": [],
   "source": [
    "df = pd.DataFrame(links_article, columns= ['Links'])"
   ]
  },
  {
   "cell_type": "code",
   "execution_count": 9,
   "metadata": {},
   "outputs": [],
   "source": [
    "pickle.dump(df, open(\"Links\", 'wb'))"
   ]
  },
  {
   "cell_type": "markdown",
   "metadata": {},
   "source": [
    "## Load Pickle Machine State"
   ]
  },
  {
   "cell_type": "code",
   "execution_count": 52,
   "metadata": {},
   "outputs": [],
   "source": [
    "import pandas as pd\n",
    "import pickle\n",
    "df = pickle.load(open(\"Links\", 'rb'))"
   ]
  },
  {
   "cell_type": "markdown",
   "metadata": {},
   "source": [
    "### Spider - Scrapping"
   ]
  },
  {
   "cell_type": "code",
   "execution_count": 69,
   "metadata": {},
   "outputs": [],
   "source": [
    "from nltk import tokenize, word_tokenize, sent_tokenize\n",
    "from bs4 import BeautifulSoup\n",
    "import requests\n",
    "import nltk\n",
    "import time"
   ]
  },
  {
   "cell_type": "code",
   "execution_count": 65,
   "metadata": {},
   "outputs": [
    {
     "data": {
      "text/plain": [
       "'https://www.lateja.cr//deportes/monstruo-estrena-piel-asi-son-las-nuevas-chemas-de/K6JEFKIO5NCHNLKVZAYKWL2JHE/story/'"
      ]
     },
     "execution_count": 65,
     "metadata": {},
     "output_type": "execute_result"
    }
   ],
   "source": [
    "df[\"Links\"][0]"
   ]
  },
  {
   "cell_type": "code",
   "execution_count": 61,
   "metadata": {},
   "outputs": [],
   "source": [
    "req = requests.get(df[\"Links\"][0])\n",
    "soup = BeautifulSoup(req.text, 'lxml')"
   ]
  },
  {
   "cell_type": "code",
   "execution_count": 68,
   "metadata": {},
   "outputs": [
    {
     "data": {
      "text/plain": [
       "'¡Monstruo estrena piel! Así son las nuevas chemas de Saprissa'"
      ]
     },
     "execution_count": 68,
     "metadata": {},
     "output_type": "execute_result"
    }
   ],
   "source": [
    "title = soup.h1\n",
    "title.text"
   ]
  },
  {
   "cell_type": "code",
   "execution_count": 84,
   "metadata": {},
   "outputs": [],
   "source": [
    "responds_source=[]\n",
    "for i in df[\"Links\"]:\n",
    "    req = requests.get(i)\n",
    "    responds_source.append(req)\n",
    "    time.sleep(5)"
   ]
  },
  {
   "cell_type": "code",
   "execution_count": 85,
   "metadata": {},
   "outputs": [
    {
     "data": {
      "text/plain": [
       "5"
      ]
     },
     "execution_count": 85,
     "metadata": {},
     "output_type": "execute_result"
    }
   ],
   "source": [
    "len(responds_source)"
   ]
  },
  {
   "cell_type": "code",
   "execution_count": 86,
   "metadata": {},
   "outputs": [],
   "source": [
    "titles=[]\n",
    "articulo_L=[]\n",
    "for i in responds_source:\n",
    "    soup = BeautifulSoup(i.text, 'lxml')\n",
    "    titles.append(soup.h1.text)\n",
    "    corpus = soup.article\n",
    "    articulo_L.append(corpus.text)"
   ]
  },
  {
   "cell_type": "code",
   "execution_count": 89,
   "metadata": {},
   "outputs": [
    {
     "data": {
      "text/plain": [
       "'Los jugadores modelaron la nueva piel del Monstruo. Foto: Cortesía Saprissa. Los jugadores modelaron la nueva piel del Monstruo. Foto: Cortesía Saprissa. Cosa linda, cosa hermosa, cosa bien hecha... Eso fue lo que seguramente pensaron muchos morados al ver la nueva camisa del Deportivo Saprissa, para la temporada 2021-2022, la cual fue presentada este jueves y cuyo diseño se inspira en las nuevas tendencias a nivel mundial.El equipo dijo lo siguiente sobre la chema: “Logra entrelazar texturas y colores alineados con un estilo de vida, en una prenda diseñada para el uso diario de la afición y que añade elementos nunca antes vistos en la indumentaria de juego”.Esta es la chema de casa, es el morado tradicional pero con una degradación a un tono más oscuro en la parte de abajo. Foto: Cortesía Saprissa Esta es la chema de casa, es el morado tradicional pero con una degradación a un tono más oscuro en la parte de abajo. Foto: Cortesía Saprissa Este uniforme lo usará el equipo masculino y femenino. La indumentaria de casa es una prenda con el morado tradicional de Saprissa y con un degradado hacia un color más oscuro que se extiende a la pantaloneta y las medias, incluyendo un patrón formado de pequeñas líneas horizontales en un tono azul.Y en cuanto al uniforme de visita, por primera vez el Monstruo tendrá una camisa diferente, siempre teniendo el color blanco como base, pero con una textura formada con los colores morado, azul y tonos grises.La de visita sigue siendo blanca, pero tiene un diseño más original. Foto: Cortesía Saprissa. La de visita sigue siendo blanca, pero tiene un diseño más original. Foto: Cortesía Saprissa. Otros detallesLa camisa tendrá logos y frases con transferencias de color, las estrellas alusivas a los 3 campeonatos de Concacaf.Además, las mangas tienen un detalle y un borde inferior con doble tejido, trae la bandera de Costa Rica, los valores de la “S” y su escudo tiene un parche de alta definición.Las nuevas chemas son tanto para el equipo masculino como para el femenino. Foto: Cortesía Saprissa. Las nuevas chemas son tanto para el equipo masculino como para el femenino. Foto: Cortesía Saprissa. La prenda se puede comprar en las tiendas Saprissa en Lincoln Plaza, Multicentro de Desamparados y Multiplaza Escazú, también en PLS o en la página https://shop.lineuprewards.com/collections/saprissa.El valor de la nueva camisa de Saprissa será de ¢36.990 para hombres y mujeres, y ¢32.990 para niño.'"
      ]
     },
     "execution_count": 89,
     "metadata": {},
     "output_type": "execute_result"
    }
   ],
   "source": [
    "articulo_L[0]"
   ]
  },
  {
   "cell_type": "code",
   "execution_count": null,
   "metadata": {},
   "outputs": [],
   "source": []
  }
 ],
 "metadata": {
  "kernelspec": {
   "display_name": "Python 3",
   "language": "python",
   "name": "python3"
  },
  "language_info": {
   "codemirror_mode": {
    "name": "ipython",
    "version": 3
   },
   "file_extension": ".py",
   "mimetype": "text/x-python",
   "name": "python",
   "nbconvert_exporter": "python",
   "pygments_lexer": "ipython3",
   "version": "3.8.5"
  }
 },
 "nbformat": 4,
 "nbformat_minor": 4
}

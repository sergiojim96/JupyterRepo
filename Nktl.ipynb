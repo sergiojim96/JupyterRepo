{
 "cells": [
  {
   "cell_type": "code",
   "execution_count": 138,
   "metadata": {},
   "outputs": [],
   "source": [
    "import requests\n",
    "from bs4 import BeautifulSoup"
   ]
  },
  {
   "cell_type": "code",
   "execution_count": 157,
   "metadata": {
    "scrolled": true
   },
   "outputs": [],
   "source": [
    "import nltk\n",
    "from nltk import tokenize\n",
    "from nltk import word_tokenize\n",
    "from nltk import sent_tokenize\n",
    "\n",
    "#Corpus = soup <div id=\"article-content\">\n",
    "#tok_corp = word_tokenize(Corpus)\n",
    "#tok_corp"
   ]
  },
  {
   "cell_type": "code",
   "execution_count": 158,
   "metadata": {},
   "outputs": [],
   "source": [
    "req = requests.get(\"https://www.lateja.cr/deportes/dos-tecnicos-campeones-con-saprissa-son-las/7XWKEDMBVZH3PLSXAFHKPTN3GQ/story/\").content\n",
    "soup = BeautifulSoup(req, 'lxml')\n",
    "article = soup.find('article')  ## not a real thing"
   ]
  },
  {
   "cell_type": "code",
   "execution_count": 159,
   "metadata": {},
   "outputs": [
    {
     "data": {
      "text/plain": [
       "'Dos técnicos campeones con Saprissa son las opciones para ser el asistente de Suárez'"
      ]
     },
     "execution_count": 159,
     "metadata": {},
     "output_type": "execute_result"
    }
   ],
   "source": [
    "title = soup.find('div', class_='headline-hed-last').text\n",
    "title"
   ]
  },
  {
   "cell_type": "markdown",
   "metadata": {
    "tags": []
   },
   "source": [
    "author = soup.find('span', class_='author').text\n",
    "author"
   ]
  },
  {
   "cell_type": "code",
   "execution_count": 160,
   "metadata": {
    "scrolled": true
   },
   "outputs": [
    {
     "name": "stdout",
     "output_type": "stream",
     "text": [
      "          Wálter Centeno o Vladimir Quesada podrían aparecerse este jueves como técnico de Luis Fernando Suárez. Foto: Rafael Pacheco        Este jueves el cuerpo técnico de la selección nacional, el cual encabeza ahora el colombiano Luis Fernando Suárez, estará completo cuando se dé a conocer por parte de la Fedefútbol su conformación.      Junto al cafetero se oficializará la llegada de sus compatriotas John Jairo Bodmen como asistente técnico e Iván Niño como preparador físico, pero en esta lista aún hay un nombre que no se conoce.      Suárez tendrá otro asistente que será tico, uno de los encargados de ambientar a su jefe y darle información sobre los jugadores costarricenses, tarea de bastante importancia.      La Teja sabe que los que suenan con más fuerza son dos técnicos con experiencia y que hasta fueron campeones con el Saprissa, hablamos de Wálter Centeno y Vladimir Quesada. Con ambos Suárez ya se reunió.      También están entre los candidatos Harold Wallace, técnico de la selección sub-17, al ser empleado de la Fedefútbol y otros medios señalan a Gilberto “Tuma” Martínez, extécnico del Municipal Grecia.      La lista de los candidatos la montó la Fedefútbol y se la dio al entrenador para que haga su elección.      “Hemos elaborado una lista con nombres que consideramos pueden ser tomados en cuenta como asistentes. Esa lista el profesor la tiene en sus manos y se reunirá con ellos, para ver el perfil de compatibilidad, sistema de juego e inmediatez que tengan, pero será él quien tomará la decisión. En este proceso será asistido por Carlos Watson”, dijo Rodolfo Villalobos el viernes pasado.        LEA TAMBIÉN Luis Fernando Suárez es de los que llama a jugadores sin tener minutos con sus clubes         El perfil      Los perfiles que más gustan son el de Paté y el de Vla, porque además de contar con experiencia, manejan procesos con jugadores jóvenes para un recambio generacional.      También calzan con la descripción que hizo Suárez en la conferencia del viernes pasado sobre las características que debe contar su asistente.      “Lo primero que le digo a mis asistentes es que espero que cada vez que yo diga un concepto táctico, estratégico, cada vez que yo tome una decisión, no me diga que sí a todo”      “Si me dice sí a todo, no me convence. Si tiene argumentos para decir: ‘Profe, por ahí no es, creo que es por este otro lado’ y tiene los argumentos necesarios para poder convencerme a mí, pues mucho mejor”, describió.            Luis Fernando Suárez tendrá su equipo completo de trabajo este jueves. foto: Alonso Tenorio       Es decir, Suárez no quiere esos asistentes que acomodan conos, reparten chalecos y se quedan solo con los que les dicen que demuestren que son un técnico a su altura.      “Si hay un perfil de asistente para mí es que lógicamente sepa de fútbol, de metodologías nuevas, que trabaje en grupo, que sea leal; pero lo más importante es que tenga los conceptos tan claros que me pueda convencer de que estoy equivocado”, comentó.        LEA TAMBIÉN Mayron George queda fuera de la Sele debido al covid-19         Aportes      Para Róger Flores, exjugador y técnico nacional, la visión de un asistente en una selección tiene que ir muy de la mano con la del técnico y encaminando a un proceso a futuro      Il Capitano fue asistente del colombiano Francisco Maturana cuando dirigió a la Sele en 1999 y tiene claro que a pesar de dar un aporte o confrontar al técnico, la palabra final siempre es del entrenador.      “Yo a Maturana le decía un montón de cosas, lo confrontaba a veces, incluso, y lo que él me decía es que yo tenía que cambiar la mentalidad del jugador, pero él no conocía el medio. Una vez le metieron una patada descarada y fuerte a Paulo Wanchope y yo le dije que se parara fuerte de una.      “Me decía que no fomentara eso, que eso no era fútbol y fue unas de las cosas que luego hablamos, le expliqué que acá el fútbol no lo ven como en Sudamérica. Al final el que toma la determinación de todo siempre es el técnico”, recordó de su experiencia.      Por la experiencia con selecciones menores, Flores se iría con Vladimir como asistente, pues no está tan seguro que Centeno se adapte a ser el segundo al mando y no la cabeza del grupo.      “Tal vez Vladimir, que le gusta más el tema de la formación y ese estilo, sería idóneo, Wálter ya estuvo en primera división y tiene otra mentalidad, quiere proyectos para él y desarrollarlos. No sé si pasar de ser un técnico campeón a ser asistente le sonará bien”, comentó Flores.   \n",
      "<div class=\"container-fluid-recomend\"> <div class=\"border-intersitial-top\"></div> <div class=\"col-12\"> <h3>LEA TAMBIÉN</h3> <p><a class=\"item-track\" data-action=\"interstitial\" data-category=\"click-tracking\" data-label=\"https://www.lateja.cr/deportes/luis-fernando-suarez-tecnico-de-la-sele-tenemos/PJY4FQSLEZBSTI4ZBTMP6CGXJA/story/\" href=\"https://www.lateja.cr/deportes/luis-fernando-suarez-tecnico-de-la-sele-tenemos/PJY4FQSLEZBSTI4ZBTMP6CGXJA/story/\">Luis Fernando Suárez es de los que llama a jugadores sin tener minutos con sus clubes</a></p> <div class=\"border-intersitial-bottom\"></div> </div> </div>\n",
      "<div class=\"container-fluid-recomend\"> <div class=\"border-intersitial-top\"></div> <div class=\"col-12\"> <h3>LEA TAMBIÉN</h3> <p><a class=\"item-track\" data-action=\"interstitial\" data-category=\"click-tracking\" data-label=\"https://www.lateja.cr/deportes/mayron-george-queda-fuera-de-la-sele-debido-al/QJD4XMMSQRCSJJLZJPQYWTR7CQ/story/\" href=\"https://www.lateja.cr/deportes/mayron-george-queda-fuera-de-la-sele-debido-al/QJD4XMMSQRCSJJLZJPQYWTR7CQ/story/\">Mayron George queda fuera de la Sele debido al covid-19</a></p> <div class=\"border-intersitial-bottom\"></div> </div> </div>\n"
     ]
    }
   ],
   "source": [
    "corpus = soup.find('div', id='article-content')\n",
    "print(corpus.text)\n",
    "\n",
    "#Foto: rafael pacheco\n",
    "#Lea tambien ....Luis Fernando saurez es uno de los que llama jugadores....\n",
    "\n",
    "#Lea tambien ....Luis Fernando saurez es uno de los que llama jugadores....\n",
    "cleancorpus = corpus.find_all('div', class_=\"container-fluid-recomend\")\n",
    "x = 0\n",
    "for i in cleancorpus:\n",
    "    print(i)\n",
    "    i.clear()\n",
    "    x=+1"
   ]
  },
  {
   "cell_type": "code",
   "execution_count": 161,
   "metadata": {},
   "outputs": [],
   "source": [
    "tokens = nltk.word_tokenize(corpus.text)"
   ]
  },
  {
   "cell_type": "code",
   "execution_count": 188,
   "metadata": {},
   "outputs": [],
   "source": [
    "tokenito = nltk.sent_tokenize(corpus.text.lower())\n",
    "\n",
    "temp = \"\"\n",
    "\n",
    "corpus_tem=\"\"\n",
    "\n",
    "\n",
    "for i in tokenito:\n",
    "    \n",
    "    \n",
    "    if \"foto:\" in i:\n",
    "        text_tokens=(word_tokenize(i)[4:]) # elimina los primeros 4 tokens de la lista\n",
    "        \n",
    "        final_text=\"\" # realizamos un str temp \n",
    "        \n",
    "        for tk in text_tokens: \n",
    "            final_text += tk+ \" \" #unimos cada palabra de la lista a un str\n",
    "        \n",
    "        corpus_tem+=final_text #agregamos el str final a corpus\n",
    "        \n",
    "        \n",
    "        \n",
    "    else:\n",
    "        corpus_tem += i + \" \" # si no esta foto solo agrega la oracion al corpus."
   ]
  },
  {
   "cell_type": "code",
   "execution_count": 190,
   "metadata": {},
   "outputs": [
    {
     "data": {
      "text/plain": [
       "'          wálter centeno o vladimir quesada podrían aparecerse este jueves como técnico de luis fernando suárez. este jueves el cuerpo técnico de la selección nacional , el cual encabeza ahora el colombiano luis fernando suárez , estará completo cuando se dé a conocer por parte de la fedefútbol su conformación . junto al cafetero se oficializará la llegada de sus compatriotas john jairo bodmen como asistente técnico e iván niño como preparador físico, pero en esta lista aún hay un nombre que no se conoce. suárez tendrá otro asistente que será tico, uno de los encargados de ambientar a su jefe y darle información sobre los jugadores costarricenses, tarea de bastante importancia. la teja sabe que los que suenan con más fuerza son dos técnicos con experiencia y que hasta fueron campeones con el saprissa, hablamos de wálter centeno y vladimir quesada. con ambos suárez ya se reunió. también están entre los candidatos harold wallace, técnico de la selección sub-17, al ser empleado de la fedefútbol y otros medios señalan a gilberto “tuma” martínez, extécnico del municipal grecia. la lista de los candidatos la montó la fedefútbol y se la dio al entrenador para que haga su elección. “hemos elaborado una lista con nombres que consideramos pueden ser tomados en cuenta como asistentes. esa lista el profesor la tiene en sus manos y se reunirá con ellos, para ver el perfil de compatibilidad, sistema de juego e inmediatez que tengan, pero será él quien tomará la decisión. en este proceso será asistido por carlos watson”, dijo rodolfo villalobos el viernes pasado. el perfil      los perfiles que más gustan son el de paté y el de vla, porque además de contar con experiencia, manejan procesos con jugadores jóvenes para un recambio generacional. también calzan con la descripción que hizo suárez en la conferencia del viernes pasado sobre las características que debe contar su asistente. “lo primero que le digo a mis asistentes es que espero que cada vez que yo diga un concepto táctico, estratégico, cada vez que yo tome una decisión, no me diga que sí a todo”      “si me dice sí a todo, no me convence. si tiene argumentos para decir: ‘profe, por ahí no es, creo que es por este otro lado’ y tiene los argumentos necesarios para poder convencerme a mí, pues mucho mejor”, describió. luis fernando suárez tendrá su equipo completo de trabajo este jueves. es decir , suárez no quiere esos asistentes que acomodan conos , reparten chalecos y se quedan solo con los que les dicen que demuestren que son un técnico a su altura . “si hay un perfil de asistente para mí es que lógicamente sepa de fútbol, de metodologías nuevas, que trabaje en grupo, que sea leal; pero lo más importante es que tenga los conceptos tan claros que me pueda convencer de que estoy equivocado”, comentó. aportes      para róger flores, exjugador y técnico nacional, la visión de un asistente en una selección tiene que ir muy de la mano con la del técnico y encaminando a un proceso a futuro      il capitano fue asistente del colombiano francisco maturana cuando dirigió a la sele en 1999 y tiene claro que a pesar de dar un aporte o confrontar al técnico, la palabra final siempre es del entrenador. “yo a maturana le decía un montón de cosas, lo confrontaba a veces, incluso, y lo que él me decía es que yo tenía que cambiar la mentalidad del jugador, pero él no conocía el medio. una vez le metieron una patada descarada y fuerte a paulo wanchope y yo le dije que se parara fuerte de una. “me decía que no fomentara eso, que eso no era fútbol y fue unas de las cosas que luego hablamos, le expliqué que acá el fútbol no lo ven como en sudamérica. al final el que toma la determinación de todo siempre es el técnico”, recordó de su experiencia. por la experiencia con selecciones menores, flores se iría con vladimir como asistente, pues no está tan seguro que centeno se adapte a ser el segundo al mando y no la cabeza del grupo. “tal vez vladimir, que le gusta más el tema de la formación y ese estilo, sería idóneo, wálter ya estuvo en primera división y tiene otra mentalidad, quiere proyectos para él y desarrollarlos. no sé si pasar de ser un técnico campeón a ser asistente le sonará bien”, comentó flores. '"
      ]
     },
     "execution_count": 190,
     "metadata": {},
     "output_type": "execute_result"
    }
   ],
   "source": [
    "corpus_tem"
   ]
  },
  {
   "cell_type": "code",
   "execution_count": null,
   "metadata": {},
   "outputs": [],
   "source": []
  },
  {
   "cell_type": "code",
   "execution_count": 147,
   "metadata": {},
   "outputs": [
    {
     "ename": "ModuleNotFoundError",
     "evalue": "No module named 'textblob'",
     "output_type": "error",
     "traceback": [
      "\u001b[0;31m---------------------------------------------------------------------------\u001b[0m",
      "\u001b[0;31mModuleNotFoundError\u001b[0m                       Traceback (most recent call last)",
      "\u001b[0;32m<ipython-input-147-287a8df9b77b>\u001b[0m in \u001b[0;36m<module>\u001b[0;34m\u001b[0m\n\u001b[1;32m      2\u001b[0m \u001b[0;32mimport\u001b[0m \u001b[0mpickle\u001b[0m \u001b[0;31m#Importante\u001b[0m\u001b[0;34m\u001b[0m\u001b[0;34m\u001b[0m\u001b[0m\n\u001b[1;32m      3\u001b[0m \u001b[0;32mimport\u001b[0m \u001b[0mpandas\u001b[0m \u001b[0;32mas\u001b[0m \u001b[0mpd\u001b[0m \u001b[0;31m#Importante\u001b[0m\u001b[0;34m\u001b[0m\u001b[0;34m\u001b[0m\u001b[0m\n\u001b[0;32m----> 4\u001b[0;31m \u001b[0;32mfrom\u001b[0m \u001b[0mtextblob\u001b[0m \u001b[0;32mimport\u001b[0m \u001b[0mTextBlob\u001b[0m \u001b[0;31m#Importante lo vemos luego\u001b[0m\u001b[0;34m\u001b[0m\u001b[0;34m\u001b[0m\u001b[0m\n\u001b[0m\u001b[1;32m      5\u001b[0m \u001b[0;32mimport\u001b[0m \u001b[0mgensim\u001b[0m \u001b[0;31m#Importante lo vemos luego\u001b[0m\u001b[0;34m\u001b[0m\u001b[0;34m\u001b[0m\u001b[0m\n\u001b[1;32m      6\u001b[0m \u001b[0;32mimport\u001b[0m \u001b[0mnltk\u001b[0m \u001b[0;31m#basicas\u001b[0m\u001b[0;34m\u001b[0m\u001b[0;34m\u001b[0m\u001b[0m\n",
      "\u001b[0;31mModuleNotFoundError\u001b[0m: No module named 'textblob'"
     ]
    }
   ],
   "source": [
    "from nltk.tokenize import sent_tokenize, word_tokenize #basicas\n",
    "import pickle #Importante\n",
    "import pandas as pd #Importante\n",
    "from textblob import TextBlob #Importante lo vemos luego\n",
    "import gensim #Importante lo vemos luego\n",
    "import nltk #basicas\n",
    "import re #basicas\n",
    "import string #basicas\n",
    "\n",
    "#Otras\n",
    "from sqlalchemy import create_engine\n",
    "from collections import OrderedDict \n",
    "from spellchecker import SpellChecker\n",
    "from autocorrect import Speller\n",
    "import pixiedust\n",
    "\n",
    "#Las bibliotecas \"ModuleNotFoundError\" hay que instalarlas."
   ]
  },
  {
   "cell_type": "code",
   "execution_count": null,
   "metadata": {
    "scrolled": true
   },
   "outputs": [],
   "source": [
    "from nltk.corpus import stopwords\n",
    "nltk.download('stopwords') "
   ]
  },
  {
   "cell_type": "code",
   "execution_count": 189,
   "metadata": {},
   "outputs": [],
   "source": [
    "\n",
    "        \n"
   ]
  },
  {
   "cell_type": "code",
   "execution_count": null,
   "metadata": {},
   "outputs": [],
   "source": []
  },
  {
   "cell_type": "code",
   "execution_count": null,
   "metadata": {},
   "outputs": [],
   "source": []
  }
 ],
 "metadata": {
  "kernelspec": {
   "display_name": "Python 3",
   "language": "python",
   "name": "python3"
  },
  "language_info": {
   "codemirror_mode": {
    "name": "ipython",
    "version": 3
   },
   "file_extension": ".py",
   "mimetype": "text/x-python",
   "name": "python",
   "nbconvert_exporter": "python",
   "pygments_lexer": "ipython3",
   "version": "3.8.8"
  }
 },
 "nbformat": 4,
 "nbformat_minor": 4
}

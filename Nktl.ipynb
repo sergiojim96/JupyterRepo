{
 "cells": [
  {
   "cell_type": "code",
   "execution_count": 30,
   "metadata": {},
   "outputs": [],
   "source": [
    "import requests\n",
    "from bs4 import BeautifulSoup"
   ]
  },
  {
   "cell_type": "code",
   "execution_count": 31,
   "metadata": {},
   "outputs": [],
   "source": [
    "req = requests.get(\"https://www.lateja.cr/deportes/dos-tecnicos-campeones-con-saprissa-son-las/7XWKEDMBVZH3PLSXAFHKPTN3GQ/story/\").content\n",
    "soup = BeautifulSoup(req, 'lxml')\n",
    "article = soup.find('article')  ## not a real thing"
   ]
  },
  {
   "cell_type": "code",
   "execution_count": 32,
   "metadata": {},
   "outputs": [
    {
     "data": {
      "text/plain": [
       "'Dos técnicos campeones con Saprissa son las opciones para ser el asistente de Suárez'"
      ]
     },
     "execution_count": 32,
     "metadata": {},
     "output_type": "execute_result"
    }
   ],
   "source": [
    "title = soup.find('div', class_='headline-hed-last').text\n",
    "title"
   ]
  },
  {
   "cell_type": "markdown",
   "metadata": {
    "tags": []
   },
   "source": [
    "author = soup.find('span', class_='author').text\n",
    "author"
   ]
  },
  {
   "cell_type": "code",
   "execution_count": 54,
   "metadata": {
    "scrolled": true
   },
   "outputs": [
    {
     "name": "stderr",
     "output_type": "stream",
     "text": [
      "[nltk_data] Downloading package punkt to\n",
      "[nltk_data]     C:\\Users\\ferca\\AppData\\Roaming\\nltk_data...\n",
      "[nltk_data]   Unzipping tokenizers\\punkt.zip.\n"
     ]
    },
    {
     "data": {
      "text/plain": [
       "True"
      ]
     },
     "execution_count": 54,
     "metadata": {},
     "output_type": "execute_result"
    }
   ],
   "source": [
    "import nltk\n",
    "from nltk import tokenize\n",
    "from nltk import word_tokenize\n",
    "from nltk import sent_tokenize\n",
    "\n",
    "\n",
    "nltk.download('punkt')\n",
    "\n",
    "#Corpus = soup <div id=\"article-content\">\n",
    "#tok_corp = word_tokenize(Corpus)\n",
    "#tok_corp"
   ]
  },
  {
   "cell_type": "code",
   "execution_count": null,
   "metadata": {},
   "outputs": [],
   "source": [
    "from nltk.tokenize import sent_tokenize, word_tokenize #basicas\n",
    "import pickle #Importante\n",
    "import pandas as pd #Importante\n",
    "from textblob import TextBlob #Importante lo vemos luego\n",
    "import gensim #Importante lo vemos luego\n",
    "import nltk #basicas\n",
    "import re #basicas\n",
    "import string #basicas\n",
    "\n",
    "#Otras\n",
    "from sqlalchemy import create_engine\n",
    "from collections import OrderedDict \n",
    "from spellchecker import SpellChecker\n",
    "from autocorrect import Speller\n",
    "import pixiedust\n",
    "\n",
    "#Las bibliotecas \"ModuleNotFoundError\" hay que instalarlas."
   ]
  },
  {
   "cell_type": "code",
   "execution_count": 44,
   "metadata": {},
   "outputs": [
    {
     "name": "stdout",
     "output_type": "stream",
     "text": [
      "          Wálter Centeno o Vladimir Quesada podrían aparecerse este jueves como técnico de Luis Fernando Suárez. Foto: Rafael Pacheco        Este jueves el cuerpo técnico de la selección nacional, el cual encabeza ahora el colombiano Luis Fernando Suárez, estará completo cuando se dé a conocer por parte de la Fedefútbol su conformación.      Junto al cafetero se oficializará la llegada de sus compatriotas John Jairo Bodmen como asistente técnico e Iván Niño como preparador físico, pero en esta lista aún hay un nombre que no se conoce.      Suárez tendrá otro asistente que será tico, uno de los encargados de ambientar a su jefe y darle información sobre los jugadores costarricenses, tarea de bastante importancia.      La Teja sabe que los que suenan con más fuerza son dos técnicos con experiencia y que hasta fueron campeones con el Saprissa, hablamos de Wálter Centeno y Vladimir Quesada. Con ambos Suárez ya se reunió.      También están entre los candidatos Harold Wallace, técnico de la selección sub-17, al ser empleado de la Fedefútbol y otros medios señalan a Gilberto “Tuma” Martínez, extécnico del Municipal Grecia.      La lista de los candidatos la montó la Fedefútbol y se la dio al entrenador para que haga su elección.      “Hemos elaborado una lista con nombres que consideramos pueden ser tomados en cuenta como asistentes. Esa lista el profesor la tiene en sus manos y se reunirá con ellos, para ver el perfil de compatibilidad, sistema de juego e inmediatez que tengan, pero será él quien tomará la decisión. En este proceso será asistido por Carlos Watson”, dijo Rodolfo Villalobos el viernes pasado.           El perfil      Los perfiles que más gustan son el de Paté y el de Vla, porque además de contar con experiencia, manejan procesos con jugadores jóvenes para un recambio generacional.      También calzan con la descripción que hizo Suárez en la conferencia del viernes pasado sobre las características que debe contar su asistente.      “Lo primero que le digo a mis asistentes es que espero que cada vez que yo diga un concepto táctico, estratégico, cada vez que yo tome una decisión, no me diga que sí a todo”      “Si me dice sí a todo, no me convence. Si tiene argumentos para decir: ‘Profe, por ahí no es, creo que es por este otro lado’ y tiene los argumentos necesarios para poder convencerme a mí, pues mucho mejor”, describió.            Luis Fernando Suárez tendrá su equipo completo de trabajo este jueves. foto: Alonso Tenorio       Es decir, Suárez no quiere esos asistentes que acomodan conos, reparten chalecos y se quedan solo con los que les dicen que demuestren que son un técnico a su altura.      “Si hay un perfil de asistente para mí es que lógicamente sepa de fútbol, de metodologías nuevas, que trabaje en grupo, que sea leal; pero lo más importante es que tenga los conceptos tan claros que me pueda convencer de que estoy equivocado”, comentó.           Aportes      Para Róger Flores, exjugador y técnico nacional, la visión de un asistente en una selección tiene que ir muy de la mano con la del técnico y encaminando a un proceso a futuro      Il Capitano fue asistente del colombiano Francisco Maturana cuando dirigió a la Sele en 1999 y tiene claro que a pesar de dar un aporte o confrontar al técnico, la palabra final siempre es del entrenador.      “Yo a Maturana le decía un montón de cosas, lo confrontaba a veces, incluso, y lo que él me decía es que yo tenía que cambiar la mentalidad del jugador, pero él no conocía el medio. Una vez le metieron una patada descarada y fuerte a Paulo Wanchope y yo le dije que se parara fuerte de una.      “Me decía que no fomentara eso, que eso no era fútbol y fue unas de las cosas que luego hablamos, le expliqué que acá el fútbol no lo ven como en Sudamérica. Al final el que toma la determinación de todo siempre es el técnico”, recordó de su experiencia.      Por la experiencia con selecciones menores, Flores se iría con Vladimir como asistente, pues no está tan seguro que Centeno se adapte a ser el segundo al mando y no la cabeza del grupo.      “Tal vez Vladimir, que le gusta más el tema de la formación y ese estilo, sería idóneo, Wálter ya estuvo en primera división y tiene otra mentalidad, quiere proyectos para él y desarrollarlos. No sé si pasar de ser un técnico campeón a ser asistente le sonará bien”, comentó Flores.   \n"
     ]
    }
   ],
   "source": [
    "corpus = soup.find('div', id='article-content')\n",
    "print(corpus)\n",
    "\n",
    "#cleancorpus = corpus.find_all('div', class_=\"container-fluid-recomend\")\n",
    "#x = 0\n",
    "#for i in cleancorpus:\n",
    "#    print(i)\n",
    "#    i.clear()\n",
    "#    x=+1\n",
    "#Foto: rafael pacheco\n",
    "#Lea tambien ....Luis Fernando saurez es uno de los que llama jugadores....\n"
   ]
  },
  {
   "cell_type": "code",
   "execution_count": 25,
   "metadata": {
    "scrolled": true
   },
   "outputs": [
    {
     "name": "stderr",
     "output_type": "stream",
     "text": [
      "[nltk_data] Downloading package stopwords to\n",
      "[nltk_data]     C:\\Users\\ferca\\AppData\\Roaming\\nltk_data...\n",
      "[nltk_data]   Unzipping corpora\\stopwords.zip.\n"
     ]
    },
    {
     "data": {
      "text/plain": [
       "True"
      ]
     },
     "execution_count": 25,
     "metadata": {},
     "output_type": "execute_result"
    }
   ],
   "source": [
    "from nltk.corpus import stopwords\n",
    "nltk.download('stopwords') "
   ]
  },
  {
   "cell_type": "code",
   "execution_count": 56,
   "metadata": {},
   "outputs": [
    {
     "name": "stdout",
     "output_type": "stream",
     "text": [
      "['Wálter', 'Centeno', 'o', 'Vladimir', 'Quesada', 'podrían', 'aparecerse', 'este', 'jueves', 'como', 'técnico', 'de', 'Luis', 'Fernando', 'Suárez', '.', 'Foto', ':', 'Rafael', 'Pacheco', 'Este', 'jueves', 'el', 'cuerpo', 'técnico', 'de', 'la', 'selección', 'nacional', ',', 'el', 'cual', 'encabeza', 'ahora', 'el', 'colombiano', 'Luis', 'Fernando', 'Suárez', ',', 'estará', 'completo', 'cuando', 'se', 'dé', 'a', 'conocer', 'por', 'parte', 'de', 'la', 'Fedefútbol', 'su', 'conformación', '.', 'Junto', 'al', 'cafetero', 'se', 'oficializará', 'la', 'llegada', 'de', 'sus', 'compatriotas', 'John', 'Jairo', 'Bodmen', 'como', 'asistente', 'técnico', 'e', 'Iván', 'Niño', 'como', 'preparador', 'físico', ',', 'pero', 'en', 'esta', 'lista', 'aún', 'hay', 'un', 'nombre', 'que', 'no', 'se', 'conoce', '.', 'Suárez', 'tendrá', 'otro', 'asistente', 'que', 'será', 'tico', ',', 'uno', 'de', 'los', 'encargados', 'de', 'ambientar', 'a', 'su', 'jefe', 'y', 'darle', 'información', 'sobre', 'los', 'jugadores', 'costarricenses', ',', 'tarea', 'de', 'bastante', 'importancia', '.', 'La', 'Teja', 'sabe', 'que', 'los', 'que', 'suenan', 'con', 'más', 'fuerza', 'son', 'dos', 'técnicos', 'con', 'experiencia', 'y', 'que', 'hasta', 'fueron', 'campeones', 'con', 'el', 'Saprissa', ',', 'hablamos', 'de', 'Wálter', 'Centeno', 'y', 'Vladimir', 'Quesada', '.', 'Con', 'ambos', 'Suárez', 'ya', 'se', 'reunió', '.', 'También', 'están', 'entre', 'los', 'candidatos', 'Harold', 'Wallace', ',', 'técnico', 'de', 'la', 'selección', 'sub-17', ',', 'al', 'ser', 'empleado', 'de', 'la', 'Fedefútbol', 'y', 'otros', 'medios', 'señalan', 'a', 'Gilberto', '“', 'Tuma', '”', 'Martínez', ',', 'extécnico', 'del', 'Municipal', 'Grecia', '.', 'La', 'lista', 'de', 'los', 'candidatos', 'la', 'montó', 'la', 'Fedefútbol', 'y', 'se', 'la', 'dio', 'al', 'entrenador', 'para', 'que', 'haga', 'su', 'elección', '.', '“', 'Hemos', 'elaborado', 'una', 'lista', 'con', 'nombres', 'que', 'consideramos', 'pueden', 'ser', 'tomados', 'en', 'cuenta', 'como', 'asistentes', '.', 'Esa', 'lista', 'el', 'profesor', 'la', 'tiene', 'en', 'sus', 'manos', 'y', 'se', 'reunirá', 'con', 'ellos', ',', 'para', 'ver', 'el', 'perfil', 'de', 'compatibilidad', ',', 'sistema', 'de', 'juego', 'e', 'inmediatez', 'que', 'tengan', ',', 'pero', 'será', 'él', 'quien', 'tomará', 'la', 'decisión', '.', 'En', 'este', 'proceso', 'será', 'asistido', 'por', 'Carlos', 'Watson', '”', ',', 'dijo', 'Rodolfo', 'Villalobos', 'el', 'viernes', 'pasado', '.', 'El', 'perfil', 'Los', 'perfiles', 'que', 'más', 'gustan', 'son', 'el', 'de', 'Paté', 'y', 'el', 'de', 'Vla', ',', 'porque', 'además', 'de', 'contar', 'con', 'experiencia', ',', 'manejan', 'procesos', 'con', 'jugadores', 'jóvenes', 'para', 'un', 'recambio', 'generacional', '.', 'También', 'calzan', 'con', 'la', 'descripción', 'que', 'hizo', 'Suárez', 'en', 'la', 'conferencia', 'del', 'viernes', 'pasado', 'sobre', 'las', 'características', 'que', 'debe', 'contar', 'su', 'asistente', '.', '“', 'Lo', 'primero', 'que', 'le', 'digo', 'a', 'mis', 'asistentes', 'es', 'que', 'espero', 'que', 'cada', 'vez', 'que', 'yo', 'diga', 'un', 'concepto', 'táctico', ',', 'estratégico', ',', 'cada', 'vez', 'que', 'yo', 'tome', 'una', 'decisión', ',', 'no', 'me', 'diga', 'que', 'sí', 'a', 'todo', '”', '“', 'Si', 'me', 'dice', 'sí', 'a', 'todo', ',', 'no', 'me', 'convence', '.', 'Si', 'tiene', 'argumentos', 'para', 'decir', ':', '‘', 'Profe', ',', 'por', 'ahí', 'no', 'es', ',', 'creo', 'que', 'es', 'por', 'este', 'otro', 'lado', '’', 'y', 'tiene', 'los', 'argumentos', 'necesarios', 'para', 'poder', 'convencerme', 'a', 'mí', ',', 'pues', 'mucho', 'mejor', '”', ',', 'describió', '.', 'Luis', 'Fernando', 'Suárez', 'tendrá', 'su', 'equipo', 'completo', 'de', 'trabajo', 'este', 'jueves', '.', 'foto', ':', 'Alonso', 'Tenorio', 'Es', 'decir', ',', 'Suárez', 'no', 'quiere', 'esos', 'asistentes', 'que', 'acomodan', 'conos', ',', 'reparten', 'chalecos', 'y', 'se', 'quedan', 'solo', 'con', 'los', 'que', 'les', 'dicen', 'que', 'demuestren', 'que', 'son', 'un', 'técnico', 'a', 'su', 'altura', '.', '“', 'Si', 'hay', 'un', 'perfil', 'de', 'asistente', 'para', 'mí', 'es', 'que', 'lógicamente', 'sepa', 'de', 'fútbol', ',', 'de', 'metodologías', 'nuevas', ',', 'que', 'trabaje', 'en', 'grupo', ',', 'que', 'sea', 'leal', ';', 'pero', 'lo', 'más', 'importante', 'es', 'que', 'tenga', 'los', 'conceptos', 'tan', 'claros', 'que', 'me', 'pueda', 'convencer', 'de', 'que', 'estoy', 'equivocado', '”', ',', 'comentó', '.', 'Aportes', 'Para', 'Róger', 'Flores', ',', 'exjugador', 'y', 'técnico', 'nacional', ',', 'la', 'visión', 'de', 'un', 'asistente', 'en', 'una', 'selección', 'tiene', 'que', 'ir', 'muy', 'de', 'la', 'mano', 'con', 'la', 'del', 'técnico', 'y', 'encaminando', 'a', 'un', 'proceso', 'a', 'futuro', 'Il', 'Capitano', 'fue', 'asistente', 'del', 'colombiano', 'Francisco', 'Maturana', 'cuando', 'dirigió', 'a', 'la', 'Sele', 'en', '1999', 'y', 'tiene', 'claro', 'que', 'a', 'pesar', 'de', 'dar', 'un', 'aporte', 'o', 'confrontar', 'al', 'técnico', ',', 'la', 'palabra', 'final', 'siempre', 'es', 'del', 'entrenador', '.', '“', 'Yo', 'a', 'Maturana', 'le', 'decía', 'un', 'montón', 'de', 'cosas', ',', 'lo', 'confrontaba', 'a', 'veces', ',', 'incluso', ',', 'y', 'lo', 'que', 'él', 'me', 'decía', 'es', 'que', 'yo', 'tenía', 'que', 'cambiar', 'la', 'mentalidad', 'del', 'jugador', ',', 'pero', 'él', 'no', 'conocía', 'el', 'medio', '.', 'Una', 'vez', 'le', 'metieron', 'una', 'patada', 'descarada', 'y', 'fuerte', 'a', 'Paulo', 'Wanchope', 'y', 'yo', 'le', 'dije', 'que', 'se', 'parara', 'fuerte', 'de', 'una', '.', '“', 'Me', 'decía', 'que', 'no', 'fomentara', 'eso', ',', 'que', 'eso', 'no', 'era', 'fútbol', 'y', 'fue', 'unas', 'de', 'las', 'cosas', 'que', 'luego', 'hablamos', ',', 'le', 'expliqué', 'que', 'acá', 'el', 'fútbol', 'no', 'lo', 'ven', 'como', 'en', 'Sudamérica', '.', 'Al', 'final', 'el', 'que', 'toma', 'la', 'determinación', 'de', 'todo', 'siempre', 'es', 'el', 'técnico', '”', ',', 'recordó', 'de', 'su', 'experiencia', '.', 'Por', 'la', 'experiencia', 'con', 'selecciones', 'menores', ',', 'Flores', 'se', 'iría', 'con', 'Vladimir', 'como', 'asistente', ',', 'pues', 'no', 'está', 'tan', 'seguro', 'que', 'Centeno', 'se', 'adapte', 'a', 'ser', 'el', 'segundo', 'al', 'mando', 'y', 'no', 'la', 'cabeza', 'del', 'grupo', '.', '“', 'Tal', 'vez', 'Vladimir', ',', 'que', 'le', 'gusta', 'más', 'el', 'tema', 'de', 'la', 'formación', 'y', 'ese', 'estilo', ',', 'sería', 'idóneo', ',', 'Wálter', 'ya', 'estuvo', 'en', 'primera', 'división', 'y', 'tiene', 'otra', 'mentalidad', ',', 'quiere', 'proyectos', 'para', 'él', 'y', 'desarrollarlos', '.', 'No', 'sé', 'si', 'pasar', 'de', 'ser', 'un', 'técnico', 'campeón', 'a', 'ser', 'asistente', 'le', 'sonará', 'bien', '”', ',', 'comentó', 'Flores', '.']\n"
     ]
    }
   ],
   "source": [
    "tokens = nltk.word_tokenize(corpus)\n",
    "print(tokens)"
   ]
  },
  {
   "cell_type": "code",
   "execution_count": 72,
   "metadata": {},
   "outputs": [
    {
     "name": "stdout",
     "output_type": "stream",
     "text": [
      "['foto', ':', 'rafael', 'pacheco', 'este', 'jueves', 'el', 'cuerpo', 'técnico', 'de', 'la', 'selección', 'nacional', ',', 'el', 'cual', 'encabeza', 'ahora', 'el', 'colombiano', 'luis', 'fernando', 'suárez', ',', 'estará', 'completo', 'cuando', 'se', 'dé', 'a', 'conocer', 'por', 'parte', 'de', 'la', 'fedefútbol', 'su', 'conformación', '.']\n",
      "['foto', ':', 'alonso', 'tenorio', 'es', 'decir', ',', 'suárez', 'no', 'quiere', 'esos', 'asistentes', 'que', 'acomodan', 'conos', ',', 'reparten', 'chalecos', 'y', 'se', 'quedan', 'solo', 'con', 'los', 'que', 'les', 'dicen', 'que', 'demuestren', 'que', 'son', 'un', 'técnico', 'a', 'su', 'altura', '.']\n"
     ]
    }
   ],
   "source": [
    "tokenito = nltk.sent_tokenize(corpus.lower())\n",
    "\n",
    "temp = \"\"\n",
    "\n",
    "for i in tokenito:\n",
    "    if \"foto:\" in i:\n",
    "        temp = word_tokenize(i)\n",
    "        print(temp)"
   ]
  },
  {
   "cell_type": "code",
   "execution_count": 77,
   "metadata": {},
   "outputs": [
    {
     "name": "stdout",
     "output_type": "stream",
     "text": [
      "foto\n",
      ":\n",
      "alonso\n",
      "tenorio\n",
      "es\n",
      "decir\n",
      ",\n",
      "suárez\n",
      "no\n",
      "quiere\n",
      "esos\n",
      "asistentes\n",
      "que\n",
      "acomodan\n",
      "conos\n",
      ",\n",
      "reparten\n",
      "chalecos\n",
      "y\n",
      "se\n",
      "quedan\n",
      "solo\n",
      "con\n",
      "los\n",
      "que\n",
      "les\n",
      "dicen\n",
      "que\n",
      "demuestren\n",
      "que\n",
      "son\n",
      "un\n",
      "técnico\n",
      "a\n",
      "su\n",
      "altura\n",
      ".\n"
     ]
    }
   ],
   "source": [
    "count = 0\n",
    "for i in temp:\n",
    "    print(i)\n",
    "    if i == \"foto\" and i != \"es\":\n",
    "        i.pop(count)\n",
    "        count =+ 1\n",
    "    elif i == \"es\":\n",
    "        count = 0"
   ]
  },
  {
   "cell_type": "code",
   "execution_count": null,
   "metadata": {},
   "outputs": [],
   "source": []
  }
 ],
 "metadata": {
  "kernelspec": {
   "display_name": "Python 3",
   "language": "python",
   "name": "python3"
  },
  "language_info": {
   "codemirror_mode": {
    "name": "ipython",
    "version": 3
   },
   "file_extension": ".py",
   "mimetype": "text/x-python",
   "name": "python",
   "nbconvert_exporter": "python",
   "pygments_lexer": "ipython3",
   "version": "3.8.5"
  }
 },
 "nbformat": 4,
 "nbformat_minor": 4
}

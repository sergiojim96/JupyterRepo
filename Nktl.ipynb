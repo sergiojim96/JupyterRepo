{
 "cells": [
  {
   "cell_type": "code",
   "execution_count": 1,
   "metadata": {},
   "outputs": [],
   "source": [
    "import requests\n",
    "from bs4 import BeautifulSoup"
   ]
  },
  {
   "cell_type": "code",
   "execution_count": 2,
   "metadata": {
    "scrolled": true
   },
   "outputs": [],
   "source": [
    "import nltk\n",
    "from nltk import tokenize\n",
    "from nltk import word_tokenize\n",
    "from nltk import sent_tokenize\n",
    "\n",
    "#Corpus = soup <div id=\"article-content\">\n",
    "#tok_corp = word_tokenize(Corpus)\n",
    "#tok_corp"
   ]
  },
  {
   "cell_type": "code",
   "execution_count": 3,
   "metadata": {},
   "outputs": [],
   "source": [
    "req = requests.get(\"https://www.lateja.cr/deportes/dos-tecnicos-campeones-con-saprissa-son-las/7XWKEDMBVZH3PLSXAFHKPTN3GQ/story/\").content\n",
    "soup = BeautifulSoup(req, 'lxml')\n",
    "article = soup.find('article')  ## not a real thing"
   ]
  },
  {
   "cell_type": "code",
   "execution_count": 4,
   "metadata": {},
   "outputs": [
    {
     "data": {
      "text/plain": [
       "'Dos técnicos campeones con Saprissa son las opciones para ser el asistente de Suárez'"
      ]
     },
     "execution_count": 4,
     "metadata": {},
     "output_type": "execute_result"
    }
   ],
   "source": [
    "soup = BeautifulSoup(req, 'lxml')\n",
    "title = soup.find('div', class_='headline-hed-last').text\n",
    "title"
   ]
  },
  {
   "cell_type": "markdown",
   "metadata": {
    "tags": []
   },
   "source": [
    "author = soup.find('span', class_='author').text\n",
    "author"
   ]
  },
  {
   "cell_type": "code",
   "execution_count": 5,
   "metadata": {
    "collapsed": true
   },
   "outputs": [
    {
     "name": "stdout",
     "output_type": "stream",
     "text": [
      "          Wálter Centeno o Vladimir Quesada podrían aparecerse este jueves como técnico de Luis Fernando Suárez. Foto: Rafael Pacheco        Este jueves el cuerpo técnico de la selección nacional, el cual encabeza ahora el colombiano Luis Fernando Suárez, estará completo cuando se dé a conocer por parte de la Fedefútbol su conformación.      Junto al cafetero se oficializará la llegada de sus compatriotas John Jairo Bodmen como asistente técnico e Iván Niño como preparador físico, pero en esta lista aún hay un nombre que no se conoce.      Suárez tendrá otro asistente que será tico, uno de los encargados de ambientar a su jefe y darle información sobre los jugadores costarricenses, tarea de bastante importancia.      La Teja sabe que los que suenan con más fuerza son dos técnicos con experiencia y que hasta fueron campeones con el Saprissa, hablamos de Wálter Centeno y Vladimir Quesada. Con ambos Suárez ya se reunió.      También están entre los candidatos Harold Wallace, técnico de la selección sub-17, al ser empleado de la Fedefútbol y otros medios señalan a Gilberto “Tuma” Martínez, extécnico del Municipal Grecia.      La lista de los candidatos la montó la Fedefútbol y se la dio al entrenador para que haga su elección.      “Hemos elaborado una lista con nombres que consideramos pueden ser tomados en cuenta como asistentes. Esa lista el profesor la tiene en sus manos y se reunirá con ellos, para ver el perfil de compatibilidad, sistema de juego e inmediatez que tengan, pero será él quien tomará la decisión. En este proceso será asistido por Carlos Watson”, dijo Rodolfo Villalobos el viernes pasado.        LEA TAMBIÉN Luis Fernando Suárez es de los que llama a jugadores sin tener minutos con sus clubes         El perfil      Los perfiles que más gustan son el de Paté y el de Vla, porque además de contar con experiencia, manejan procesos con jugadores jóvenes para un recambio generacional.      También calzan con la descripción que hizo Suárez en la conferencia del viernes pasado sobre las características que debe contar su asistente.      “Lo primero que le digo a mis asistentes es que espero que cada vez que yo diga un concepto táctico, estratégico, cada vez que yo tome una decisión, no me diga que sí a todo”      “Si me dice sí a todo, no me convence. Si tiene argumentos para decir: ‘Profe, por ahí no es, creo que es por este otro lado’ y tiene los argumentos necesarios para poder convencerme a mí, pues mucho mejor”, describió.            Luis Fernando Suárez tendrá su equipo completo de trabajo este jueves. foto: Alonso Tenorio       Es decir, Suárez no quiere esos asistentes que acomodan conos, reparten chalecos y se quedan solo con los que les dicen que demuestren que son un técnico a su altura.      “Si hay un perfil de asistente para mí es que lógicamente sepa de fútbol, de metodologías nuevas, que trabaje en grupo, que sea leal; pero lo más importante es que tenga los conceptos tan claros que me pueda convencer de que estoy equivocado”, comentó.        LEA TAMBIÉN Mayron George queda fuera de la Sele debido al covid-19         Aportes      Para Róger Flores, exjugador y técnico nacional, la visión de un asistente en una selección tiene que ir muy de la mano con la del técnico y encaminando a un proceso a futuro      Il Capitano fue asistente del colombiano Francisco Maturana cuando dirigió a la Sele en 1999 y tiene claro que a pesar de dar un aporte o confrontar al técnico, la palabra final siempre es del entrenador.      “Yo a Maturana le decía un montón de cosas, lo confrontaba a veces, incluso, y lo que él me decía es que yo tenía que cambiar la mentalidad del jugador, pero él no conocía el medio. Una vez le metieron una patada descarada y fuerte a Paulo Wanchope y yo le dije que se parara fuerte de una.      “Me decía que no fomentara eso, que eso no era fútbol y fue unas de las cosas que luego hablamos, le expliqué que acá el fútbol no lo ven como en Sudamérica. Al final el que toma la determinación de todo siempre es el técnico”, recordó de su experiencia.      Por la experiencia con selecciones menores, Flores se iría con Vladimir como asistente, pues no está tan seguro que Centeno se adapte a ser el segundo al mando y no la cabeza del grupo.      “Tal vez Vladimir, que le gusta más el tema de la formación y ese estilo, sería idóneo, Wálter ya estuvo en primera división y tiene otra mentalidad, quiere proyectos para él y desarrollarlos. No sé si pasar de ser un técnico campeón a ser asistente le sonará bien”, comentó Flores.   \n",
      "<div class=\"container-fluid-recomend\"> <div class=\"border-intersitial-top\"></div> <div class=\"col-12\"> <h3>LEA TAMBIÉN</h3> <p><a class=\"item-track\" data-action=\"interstitial\" data-category=\"click-tracking\" data-label=\"https://www.lateja.cr/deportes/luis-fernando-suarez-tecnico-de-la-sele-tenemos/PJY4FQSLEZBSTI4ZBTMP6CGXJA/story/\" href=\"https://www.lateja.cr/deportes/luis-fernando-suarez-tecnico-de-la-sele-tenemos/PJY4FQSLEZBSTI4ZBTMP6CGXJA/story/\">Luis Fernando Suárez es de los que llama a jugadores sin tener minutos con sus clubes</a></p> <div class=\"border-intersitial-bottom\"></div> </div> </div>\n",
      "<div class=\"container-fluid-recomend\"> <div class=\"border-intersitial-top\"></div> <div class=\"col-12\"> <h3>LEA TAMBIÉN</h3> <p><a class=\"item-track\" data-action=\"interstitial\" data-category=\"click-tracking\" data-label=\"https://www.lateja.cr/deportes/mayron-george-queda-fuera-de-la-sele-debido-al/QJD4XMMSQRCSJJLZJPQYWTR7CQ/story/\" href=\"https://www.lateja.cr/deportes/mayron-george-queda-fuera-de-la-sele-debido-al/QJD4XMMSQRCSJJLZJPQYWTR7CQ/story/\">Mayron George queda fuera de la Sele debido al covid-19</a></p> <div class=\"border-intersitial-bottom\"></div> </div> </div>\n"
     ]
    }
   ],
   "source": [
    "corpus = soup.find('div', id='article-content')\n",
    "print(corpus.text)\n",
    "\n",
    "#Foto: rafael pacheco\n",
    "#Lea tambien ....Luis Fernando saurez es uno de los que llama jugadores....\n",
    "\n",
    "#Lea tambien ....Luis Fernando saurez es uno de los que llama jugadores....\n",
    "cleancorpus = corpus.find_all('div', class_=\"container-fluid-recomend\")\n",
    "\n",
    "x = 0\n",
    "for i in cleancorpus:\n",
    "    print(i)\n",
    "    i.clear()#i.div.decompose()\n",
    "    x=+1"
   ]
  },
  {
   "cell_type": "code",
   "execution_count": 6,
   "metadata": {},
   "outputs": [],
   "source": [
    "tokens = nltk.word_tokenize(corpus.text)"
   ]
  },
  {
   "cell_type": "code",
   "execution_count": 7,
   "metadata": {},
   "outputs": [],
   "source": [
    "tokenito = nltk.sent_tokenize(corpus.text.lower())\n",
    "\n",
    "temp = \"\"\n",
    "\n",
    "corpus_tem=\"\"\n",
    "\n",
    "\n",
    "for i in tokenito:\n",
    "    \n",
    "    \n",
    "    if \"foto:\" in i: \n",
    "        text_tokens=(word_tokenize(i)[4:]) # elimina los primeros 4 tokens de la lista or \"#\" in i or........ i.#\"%,{}[]\" i.replace('')\n",
    "        \n",
    "        final_text=\"\" # realizamos un str temp \n",
    "        \n",
    "        for tk in text_tokens: \n",
    "            final_text += tk+ \" \" #unimos cada palabra de la lista a un str\n",
    "        \n",
    "        corpus_tem+=final_text #agregamos el str final a corpus\n",
    "        \n",
    "        \n",
    "        \n",
    "    else:\n",
    "        corpus_tem += i + \" \" # si no esta foto solo agrega la oracion al corpus."
   ]
  },
  {
   "cell_type": "code",
   "execution_count": 8,
   "metadata": {
    "collapsed": true
   },
   "outputs": [
    {
     "data": {
      "text/plain": [
       "'wálter centeno o vladimir quesada podrían aparecerse este jueves como técnico de luis fernando suárez. este jueves el cuerpo técnico de la selección nacional , el cual encabeza ahora el colombiano luis fernando suárez , estará completo cuando se dé a conocer por parte de la fedefútbol su conformación . junto al cafetero se oficializará la llegada de sus compatriotas john jairo bodmen como asistente técnico e iván niño como preparador físico, pero en esta lista aún hay un nombre que no se conoce. suárez tendrá otro asistente que será tico, uno de los encargados de ambientar a su jefe y darle información sobre los jugadores costarricenses, tarea de bastante importancia. la teja sabe que los que suenan con más fuerza son dos técnicos con experiencia y que hasta fueron campeones con el saprissa, hablamos de wálter centeno y vladimir quesada. con ambos suárez ya se reunió. también están entre los candidatos harold wallace, técnico de la selección sub-17, al ser empleado de la fedefútbol y otros medios señalan a gilberto “tuma” martínez, extécnico del municipal grecia. la lista de los candidatos la montó la fedefútbol y se la dio al entrenador para que haga su elección. “hemos elaborado una lista con nombres que consideramos pueden ser tomados en cuenta como asistentes. esa lista el profesor la tiene en sus manos y se reunirá con ellos, para ver el perfil de compatibilidad, sistema de juego e inmediatez que tengan, pero será él quien tomará la decisión. en este proceso será asistido por carlos watson”, dijo rodolfo villalobos el viernes pasado. el perfil      los perfiles que más gustan son el de paté y el de vla, porque además de contar con experiencia, manejan procesos con jugadores jóvenes para un recambio generacional. también calzan con la descripción que hizo suárez en la conferencia del viernes pasado sobre las características que debe contar su asistente. “lo primero que le digo a mis asistentes es que espero que cada vez que yo diga un concepto táctico, estratégico, cada vez que yo tome una decisión, no me diga que sí a todo”      “si me dice sí a todo, no me convence. si tiene argumentos para decir: ‘profe, por ahí no es, creo que es por este otro lado’ y tiene los argumentos necesarios para poder convencerme a mí, pues mucho mejor”, describió. luis fernando suárez tendrá su equipo completo de trabajo este jueves. es decir , suárez no quiere esos asistentes que acomodan conos , reparten chalecos y se quedan solo con los que les dicen que demuestren que son un técnico a su altura . “si hay un perfil de asistente para mí es que lógicamente sepa de fútbol, de metodologías nuevas, que trabaje en grupo, que sea leal; pero lo más importante es que tenga los conceptos tan claros que me pueda convencer de que estoy equivocado”, comentó. aportes      para róger flores, exjugador y técnico nacional, la visión de un asistente en una selección tiene que ir muy de la mano con la del técnico y encaminando a un proceso a futuro      il capitano fue asistente del colombiano francisco maturana cuando dirigió a la sele en 1999 y tiene claro que a pesar de dar un aporte o confrontar al técnico, la palabra final siempre es del entrenador. “yo a maturana le decía un montón de cosas, lo confrontaba a veces, incluso, y lo que él me decía es que yo tenía que cambiar la mentalidad del jugador, pero él no conocía el medio. una vez le metieron una patada descarada y fuerte a paulo wanchope y yo le dije que se parara fuerte de una. “me decía que no fomentara eso, que eso no era fútbol y fue unas de las cosas que luego hablamos, le expliqué que acá el fútbol no lo ven como en sudamérica. al final el que toma la determinación de todo siempre es el técnico”, recordó de su experiencia. por la experiencia con selecciones menores, flores se iría con vladimir como asistente, pues no está tan seguro que centeno se adapte a ser el segundo al mando y no la cabeza del grupo. “tal vez vladimir, que le gusta más el tema de la formación y ese estilo, sería idóneo, wálter ya estuvo en primera división y tiene otra mentalidad, quiere proyectos para él y desarrollarlos. no sé si pasar de ser un técnico campeón a ser asistente le sonará bien”, comentó flores.'"
      ]
     },
     "execution_count": 8,
     "metadata": {},
     "output_type": "execute_result"
    }
   ],
   "source": [
    "corpus_tem.strip()"
   ]
  },
  {
   "cell_type": "code",
   "execution_count": 9,
   "metadata": {
    "collapsed": true
   },
   "outputs": [
    {
     "data": {
      "text/plain": [
       "'                                     Dos técnicos campeones con Saprissa son las opciones para ser el asistente de Suárez - La Teja                      \\n\\n                       Secciones   Toggle navigation \\xa0     Deportes Farándula Galerías Internacionales Nacional Sucesos El Novelón                          Reciba notificaciones de La Nación ¿Desea activar las notificaciones en el escritorio?     Si No, gracias      Ingresar     Ver impreso Recibir boletines Descargar aplicaciones            \\xa0 MI CUENTA        Mis beneficios   Recibir boletines     Ver impreso   Descargar aplicaciones               SALIR                    \\xa0 MI CUENTA        Mis beneficios   Recibir boletines     Ver impreso   Descargar aplicaciones               SALIR                               Inicio     Deportes   Farándula   Galerías   Internacionales   Nacional   Sucesos   El Novelón    Negocios      Todo Busco   El Empleo   Parque Viva   Yuplón   Fussio   Printea        Publicaciones      El Financiero   La Teja   Perfil        Productos GN      Grupo Nación       Planes de suscripción   Anúnciese   Estados Financieros   Condiciones de uso   Políticas de privacidad                                                                    Deportes Dos técnicos campeones con Saprissa son las opciones para ser el asistente de Suárez Wálter Cénteno y Vladimir Quesada suenan fuerte                       Share on Email       Share on G+       Share on Twitter       Share on Facebook             Share on Facebook      Share on Twitter      Share via Email      Share on Whatsapp            Sergio Alvarado.30 junio            Wálter Centeno o Vladimir Quesada podrían aparecerse este jueves como técnico de Luis Fernando Suárez. Foto: Rafael Pacheco        Este jueves el cuerpo técnico de la selección nacional, el cual encabeza ahora el colombiano Luis Fernando Suárez, estará completo cuando se dé a conocer por parte de la Fedefútbol su conformación.      Junto al cafetero se oficializará la llegada de sus compatriotas John Jairo Bodmen como asistente técnico e Iván Niño como preparador físico, pero en esta lista aún hay un nombre que no se conoce.      Suárez tendrá otro asistente que será tico, uno de los encargados de ambientar a su jefe y darle información sobre los jugadores costarricenses, tarea de bastante importancia.      La Teja sabe que los que suenan con más fuerza son dos técnicos con experiencia y que hasta fueron campeones con el Saprissa, hablamos de Wálter Centeno y Vladimir Quesada. Con ambos Suárez ya se reunió.      También están entre los candidatos Harold Wallace, técnico de la selección sub-17, al ser empleado de la Fedefútbol y otros medios señalan a Gilberto “Tuma” Martínez, extécnico del Municipal Grecia.      La lista de los candidatos la montó la Fedefútbol y se la dio al entrenador para que haga su elección.      “Hemos elaborado una lista con nombres que consideramos pueden ser tomados en cuenta como asistentes. Esa lista el profesor la tiene en sus manos y se reunirá con ellos, para ver el perfil de compatibilidad, sistema de juego e inmediatez que tengan, pero será él quien tomará la decisión. En este proceso será asistido por Carlos Watson”, dijo Rodolfo Villalobos el viernes pasado.           El perfil      Los perfiles que más gustan son el de Paté y el de Vla, porque además de contar con experiencia, manejan procesos con jugadores jóvenes para un recambio generacional.      También calzan con la descripción que hizo Suárez en la conferencia del viernes pasado sobre las características que debe contar su asistente.      “Lo primero que le digo a mis asistentes es que espero que cada vez que yo diga un concepto táctico, estratégico, cada vez que yo tome una decisión, no me diga que sí a todo”      “Si me dice sí a todo, no me convence. Si tiene argumentos para decir: ‘Profe, por ahí no es, creo que es por este otro lado’ y tiene los argumentos necesarios para poder convencerme a mí, pues mucho mejor”, describió.            Luis Fernando Suárez tendrá su equipo completo de trabajo este jueves. foto: Alonso Tenorio       Es decir, Suárez no quiere esos asistentes que acomodan conos, reparten chalecos y se quedan solo con los que les dicen que demuestren que son un técnico a su altura.      “Si hay un perfil de asistente para mí es que lógicamente sepa de fútbol, de metodologías nuevas, que trabaje en grupo, que sea leal; pero lo más importante es que tenga los conceptos tan claros que me pueda convencer de que estoy equivocado”, comentó.           Aportes      Para Róger Flores, exjugador y técnico nacional, la visión de un asistente en una selección tiene que ir muy de la mano con la del técnico y encaminando a un proceso a futuro      Il Capitano fue asistente del colombiano Francisco Maturana cuando dirigió a la Sele en 1999 y tiene claro que a pesar de dar un aporte o confrontar al técnico, la palabra final siempre es del entrenador.      “Yo a Maturana le decía un montón de cosas, lo confrontaba a veces, incluso, y lo que él me decía es que yo tenía que cambiar la mentalidad del jugador, pero él no conocía el medio. Una vez le metieron una patada descarada y fuerte a Paulo Wanchope y yo le dije que se parara fuerte de una.      “Me decía que no fomentara eso, que eso no era fútbol y fue unas de las cosas que luego hablamos, le expliqué que acá el fútbol no lo ven como en Sudamérica. Al final el que toma la determinación de todo siempre es el técnico”, recordó de su experiencia.      Por la experiencia con selecciones menores, Flores se iría con Vladimir como asistente, pues no está tan seguro que Centeno se adapte a ser el segundo al mando y no la cabeza del grupo.      “Tal vez Vladimir, que le gusta más el tema de la formación y ese estilo, sería idóneo, Wálter ya estuvo en primera división y tiene otra mentalidad, quiere proyectos para él y desarrollarlos. No sé si pasar de ser un técnico campeón a ser asistente le sonará bien”, comentó Flores.     \\xa0 Luis Fernando Suárez, Wálter Centeno, Vladimir Quesada, Selección Costa Rica, Asistente técnico, Saprissa        Reciba el boletín:  El nerdo del fútbol Noticias de última hora, en tiempo real     Registrarse   Deseo recibir comunicaciones             ¡Gracias!   Su correo se ha registrado correctamente.          Error               Share on Email       Share on G+       Share on Twitter       Share on Facebook             Share on Facebook      Share on Twitter      Share via Email      Share on Whatsapp                    Sergio Alvarado     Periodista de La Teja, especializado en deportes. Graduado de la Universidad Internacional de las Américas.   \\xa0          LE RECOMENDAMOS                            Share on Email       Share on G+       Share on Twitter       Share on Facebook             Share on Facebook      Share on Twitter      Share via Email                                SÍGANOS AQUÍ        Facebook   Twitter   Instagram        LO MÁS LEÍDO        1 (Video) Árbitro tico Ricardo Montero debutó en la Copa Oro con tremendo papelón     2 Profesora que sobrevivió de milagro a un choque busca testigos del accidente     3 Charro Henry Jiménez se “metió a la cama” con Melissa Mora     4 (Video) Cebollín se encarga de romper la rutina en Casa Presidencial     5 Chineada le cumple un sueño al mecánico que la tiene como nueva         Completa estos pasos y quedaras participando:   1.Completa la trivia Cuál es el personaje de La Teja?   Armando Broncas  Chespirito  Superman    2.Registra los datos   Tico  Extranjero    Cédula:        Teléfono :        Código de la portada:        3.Reglamento.  Ver reglamento  Ver políticas de privacidad    He leído y aceptado(El reglamento y las políticas)   Registrar      × Activación su código       Cerrar             Reciba el boletín:       Registrarse    Deseo recibir comunicaciones          ¡Gracias! Su correo se ha registrado correctamente.      Error                                                                                                                                Ver edición impresa   Suscribirme a La Teja                     © Todos los derechos reservados, cualquier uso requiere autorización expresa y por escrito de Grupo Nación GN S.A.         Anúnciese   Noticias Grupo Nación   Condiciones de uso   Políticas de privacidad   Estados financieros                                                                                    Close                 '"
      ]
     },
     "execution_count": 9,
     "metadata": {},
     "output_type": "execute_result"
    }
   ],
   "source": [
    "soup.text"
   ]
  },
  {
   "cell_type": "code",
   "execution_count": 10,
   "metadata": {
    "collapsed": true
   },
   "outputs": [
    {
     "ename": "ModuleNotFoundError",
     "evalue": "No module named 'textblob'",
     "output_type": "error",
     "traceback": [
      "\u001b[0;31m---------------------------------------------------------------------------\u001b[0m",
      "\u001b[0;31mModuleNotFoundError\u001b[0m                       Traceback (most recent call last)",
      "\u001b[0;32m<ipython-input-10-287a8df9b77b>\u001b[0m in \u001b[0;36m<module>\u001b[0;34m\u001b[0m\n\u001b[1;32m      2\u001b[0m \u001b[0;32mimport\u001b[0m \u001b[0mpickle\u001b[0m \u001b[0;31m#Importante\u001b[0m\u001b[0;34m\u001b[0m\u001b[0;34m\u001b[0m\u001b[0m\n\u001b[1;32m      3\u001b[0m \u001b[0;32mimport\u001b[0m \u001b[0mpandas\u001b[0m \u001b[0;32mas\u001b[0m \u001b[0mpd\u001b[0m \u001b[0;31m#Importante\u001b[0m\u001b[0;34m\u001b[0m\u001b[0;34m\u001b[0m\u001b[0m\n\u001b[0;32m----> 4\u001b[0;31m \u001b[0;32mfrom\u001b[0m \u001b[0mtextblob\u001b[0m \u001b[0;32mimport\u001b[0m \u001b[0mTextBlob\u001b[0m \u001b[0;31m#Importante lo vemos luego\u001b[0m\u001b[0;34m\u001b[0m\u001b[0;34m\u001b[0m\u001b[0m\n\u001b[0m\u001b[1;32m      5\u001b[0m \u001b[0;32mimport\u001b[0m \u001b[0mgensim\u001b[0m \u001b[0;31m#Importante lo vemos luego\u001b[0m\u001b[0;34m\u001b[0m\u001b[0;34m\u001b[0m\u001b[0m\n\u001b[1;32m      6\u001b[0m \u001b[0;32mimport\u001b[0m \u001b[0mnltk\u001b[0m \u001b[0;31m#basicas\u001b[0m\u001b[0;34m\u001b[0m\u001b[0;34m\u001b[0m\u001b[0m\n",
      "\u001b[0;31mModuleNotFoundError\u001b[0m: No module named 'textblob'"
     ]
    }
   ],
   "source": [
    "from nltk.tokenize import sent_tokenize, word_tokenize #basicas\n",
    "import pickle #Importante\n",
    "import pandas as pd #Importante\n",
    "from textblob import TextBlob #Importante lo vemos luego\n",
    "import gensim #Importante lo vemos luego\n",
    "import nltk #basicas\n",
    "import re #basicas\n",
    "import string #basicas\n",
    "\n",
    "#Otras\n",
    "from sqlalchemy import create_engine\n",
    "from collections import OrderedDict \n",
    "from spellchecker import SpellChecker\n",
    "from autocorrect import Speller\n",
    "import pixiedust\n",
    "\n",
    "#Las bibliotecas \"ModuleNotFoundError\" hay que instalarlas."
   ]
  },
  {
   "cell_type": "code",
   "execution_count": 11,
   "metadata": {
    "scrolled": true
   },
   "outputs": [
    {
     "name": "stderr",
     "output_type": "stream",
     "text": [
      "[nltk_data] Downloading package stopwords to\n",
      "[nltk_data]     /Users/sebastianvegar/nltk_data...\n",
      "[nltk_data]   Package stopwords is already up-to-date!\n"
     ]
    },
    {
     "data": {
      "text/plain": [
       "True"
      ]
     },
     "execution_count": 11,
     "metadata": {},
     "output_type": "execute_result"
    }
   ],
   "source": [
    "from nltk.corpus import stopwords \n",
    "nltk.download('stopwords') "
   ]
  },
  {
   "cell_type": "code",
   "execution_count": 12,
   "metadata": {},
   "outputs": [],
   "source": [
    "#analisis visual, se le agregan probailidad de inutil sea la informacion... un analisis mas rapido.... dependiendo de las considencia aunmenta\n",
    "        \n"
   ]
  },
  {
   "cell_type": "markdown",
   "metadata": {},
   "source": [
    "## Crawling"
   ]
  },
  {
   "cell_type": "markdown",
   "metadata": {},
   "source": [
    "Links:\n",
    "\n",
    "1.https://www.lateja.cr/deportes/dos-tecnicos-campeones-con-saprissa-son-las/7XWKEDMBVZH3PLSXAFHKPTN3GQ/story/\n",
    "2.https://www.lateja.cr/deportes/wilmer-lopez-va-por-el-bicampeonato-de-las-leonas/BQV6XK6E2BF23BLWYLVBFRONVE/story/\n",
    "3.https://www.lateja.cr/deportes/sale-ronald-la-bala-gomez-y-entra-gilberto-tuma/2KI2W5KY2BGSRLGZMXBRQWUO5A/story/\n",
    "4.https://www.lateja.cr/deportes/portero-patrick-pemberton-ataja-los-anos-y-todavia/GE747TW6WNHXNOCDFONIYSBGGU/story/\n",
    "5.https://www.lateja.cr/deportes/saprissa-fogueara-15-chamacos-en-torneo-de-segunda/DHOEF6K5O5AH5M4DRCLFIN57W4/story/\n",
    "6.https://www.lateja.cr/deportes/ronald-la-bala-gomez-sera-el-asistente-tecnico-de/IKYEDRQVGVF5PGZNE7UJNHVZ6I/story/\n",
    "7.https://www.lateja.cr/deportes/tecnicos-de-la-sele-sobre-ronald-gomez-tiene-mucho/JIV5PINWRRCN7F42T7VEHKISYU/story/\n",
    "8.https://www.lateja.cr/deportes/jugadores-espueludos-fueron-los-llamados-a-la-copa/QH27QL7HFRFCFFEEEGWTIRKGZM/story/\n",
    "9.https://www.lateja.cr/deportes/opinion-del-brumoso-hoy-cumple-anos-el-club-al-que/7KMNZIMSSFH5JEQKFN4HOUUHWA/story/\n",
    "10.https://www.lateja.cr/deportes/portera-noelia-bermudez-vuelve-a-alajuelense/SL6JS72BGFGSPNGRBBKUTP3XGI/story/"
   ]
  },
  {
   "cell_type": "code",
   "execution_count": 13,
   "metadata": {},
   "outputs": [],
   "source": [
    "links = [\n",
    "\"https://www.lateja.cr/deportes/dos-tecnicos-campeones-con-saprissa-son-las/7XWKEDMBVZH3PLSXAFHKPTN3GQ/story/\", \n",
    "\"https://www.lateja.cr/deportes/wilmer-lopez-va-por-el-bicampeonato-de-las-leonas/BQV6XK6E2BF23BLWYLVBFRONVE/story/\",\n",
    "\"https://www.lateja.cr/deportes/sale-ronald-la-bala-gomez-y-entra-gilberto-tuma/2KI2W5KY2BGSRLGZMXBRQWUO5A/story/\",\n",
    "\"https://www.lateja.cr/deportes/portero-patrick-pemberton-ataja-los-anos-y-todavia/GE747TW6WNHXNOCDFONIYSBGGU/story/\",\n",
    "\"https://www.lateja.cr/deportes/saprissa-fogueara-15-chamacos-en-torneo-de-segunda/DHOEF6K5O5AH5M4DRCLFIN57W4/story/\",\n",
    "\"https://www.lateja.cr/deportes/ronald-la-bala-gomez-sera-el-asistente-tecnico-de/IKYEDRQVGVF5PGZNE7UJNHVZ6I/story/\",\n",
    "\"https://www.lateja.cr/deportes/tecnicos-de-la-sele-sobre-ronald-gomez-tiene-mucho/JIV5PINWRRCN7F42T7VEHKISYU/story/\",\n",
    "\"https://www.lateja.cr/deportes/jugadores-espueludos-fueron-los-llamados-a-la-copa/QH27QL7HFRFCFFEEEGWTIRKGZM/story/\",\n",
    "\"https://www.lateja.cr/deportes/opinion-del-brumoso-hoy-cumple-anos-el-club-al-que/7KMNZIMSSFH5JEQKFN4HOUUHWA/story/\",\n",
    "\"https://www.lateja.cr/deportes/portera-noelia-bermudez-vuelve-a-alajuelense/SL6JS72BGFGSPNGRBBKUTP3XGI/story/\",\n",
    "]"
   ]
  },
  {
   "cell_type": "code",
   "execution_count": 14,
   "metadata": {},
   "outputs": [],
   "source": [
    "requests_links=[]\n",
    "\n",
    "for lnk in links:\n",
    "    requests_links.append(requests.get(lnk))"
   ]
  },
  {
   "cell_type": "code",
   "execution_count": 15,
   "metadata": {},
   "outputs": [
    {
     "data": {
      "text/plain": [
       "[<Response [200]>,\n",
       " <Response [200]>,\n",
       " <Response [200]>,\n",
       " <Response [200]>,\n",
       " <Response [200]>,\n",
       " <Response [200]>,\n",
       " <Response [200]>,\n",
       " <Response [200]>,\n",
       " <Response [200]>,\n",
       " <Response [200]>]"
      ]
     },
     "execution_count": 15,
     "metadata": {},
     "output_type": "execute_result"
    }
   ],
   "source": [
    "requests_links #objeto response, 1.tenemos la informacion, 2.la informacion obtenida ha sido bloqueda"
   ]
  },
  {
   "cell_type": "code",
   "execution_count": 16,
   "metadata": {},
   "outputs": [],
   "source": [
    "titulos_L=[]\n",
    "articulo_L=[]"
   ]
  },
  {
   "cell_type": "code",
   "execution_count": 142,
   "metadata": {},
   "outputs": [],
   "source": [
    "titulos_L=[]\n",
    "articulo_L=[]\n",
    "\n",
    "for resps in requests_links:\n",
    "    soup = BeautifulSoup(resps.text, 'lxml')\n",
    "    title = soup.find('div', class_='headline-hed-last').text\n",
    "    titulos_L.append(title)\n",
    "    \n",
    "    corpus = soup.find('div', id='article-content') \n",
    "    cleancorpus = corpus.find_all('div', class_=\"container-fluid-recomend\")\n",
    "    x = 0\n",
    "    for i in cleancorpus:\n",
    "        i.clear()#i.div.decompose()\n",
    "        x=+1\n",
    "    articulo_L.append(corpus.text)"
   ]
  },
  {
   "cell_type": "code",
   "execution_count": 18,
   "metadata": {
    "collapsed": true
   },
   "outputs": [
    {
     "data": {
      "text/plain": [
       "['Dos técnicos campeones con Saprissa son las opciones para ser el asistente de Suárez',\n",
       " 'Wílmer López va por el bicampeonato de las leonas con la confianza renovada',\n",
       " 'Sale Ronald “la Bala” Gómez y entra Gilberto “Tuma” Martínez en Barrio México ',\n",
       " 'Portero Patrick Pemberton ataja los años y todavía no piensa en el retiro',\n",
       " 'Saprissa fogueará 15 chamacos en torneo de segunda con Uruguay de Coronado',\n",
       " 'Rónald “la Bala” Gómez será el asistente técnico de Luis Fernando Suárez',\n",
       " 'Técnico de la Sele sobre Rónald Gómez: “Tiene mucho para darle al país”',\n",
       " 'Jugadores espueludos fueron los llamados a la Copa Oro',\n",
       " 'Opinión del brumoso: Hoy cumple años el club al que no le hacen falta títulos para ser grande',\n",
       " '(Video) Portera Noelia Bermúdez vuelve a Alajuelense: “Nunca dejé de seguir al equipo”']"
      ]
     },
     "execution_count": 18,
     "metadata": {},
     "output_type": "execute_result"
    }
   ],
   "source": [
    "titulos_L"
   ]
  },
  {
   "cell_type": "code",
   "execution_count": 19,
   "metadata": {
    "collapsed": true
   },
   "outputs": [
    {
     "name": "stdout",
     "output_type": "stream",
     "text": [
      "wálter centeno o vladimir quesada podrían aparecerse este jueves como técnico de luis fernando suárez. foto: rafael pacheco        este jueves el cuerpo técnico de la selección nacional, el cual encabeza ahora el colombiano luis fernando suárez, estará completo cuando se dé a conocer por parte de la fedefútbol su conformación.      junto al cafetero se oficializará la llegada de sus compatriotas john jairo bodmen como asistente técnico e iván niño como preparador físico, pero en esta lista aún hay un nombre que no se conoce.      suárez tendrá otro asistente que será tico, uno de los encargados de ambientar a su jefe y darle información sobre los jugadores costarricenses, tarea de bastante importancia.      la teja sabe que los que suenan con más fuerza son dos técnicos con experiencia y que hasta fueron campeones con el saprissa, hablamos de wálter centeno y vladimir quesada. con ambos suárez ya se reunió.      también están entre los candidatos harold wallace, técnico de la selección sub-17, al ser empleado de la fedefútbol y otros medios señalan a gilberto “tuma” martínez, extécnico del municipal grecia.      la lista de los candidatos la montó la fedefútbol y se la dio al entrenador para que haga su elección.      “hemos elaborado una lista con nombres que consideramos pueden ser tomados en cuenta como asistentes. esa lista el profesor la tiene en sus manos y se reunirá con ellos, para ver el perfil de compatibilidad, sistema de juego e inmediatez que tengan, pero será él quien tomará la decisión. en este proceso será asistido por carlos watson”, dijo rodolfo villalobos el viernes pasado.           el perfil      los perfiles que más gustan son el de paté y el de vla, porque además de contar con experiencia, manejan procesos con jugadores jóvenes para un recambio generacional.      también calzan con la descripción que hizo suárez en la conferencia del viernes pasado sobre las características que debe contar su asistente.      “lo primero que le digo a mis asistentes es que espero que cada vez que yo diga un concepto táctico, estratégico, cada vez que yo tome una decisión, no me diga que sí a todo”      “si me dice sí a todo, no me convence. si tiene argumentos para decir: ‘profe, por ahí no es, creo que es por este otro lado’ y tiene los argumentos necesarios para poder convencerme a mí, pues mucho mejor”, describió.            luis fernando suárez tendrá su equipo completo de trabajo este jueves. foto: alonso tenorio       es decir, suárez no quiere esos asistentes que acomodan conos, reparten chalecos y se quedan solo con los que les dicen que demuestren que son un técnico a su altura.      “si hay un perfil de asistente para mí es que lógicamente sepa de fútbol, de metodologías nuevas, que trabaje en grupo, que sea leal; pero lo más importante es que tenga los conceptos tan claros que me pueda convencer de que estoy equivocado”, comentó.           aportes      para róger flores, exjugador y técnico nacional, la visión de un asistente en una selección tiene que ir muy de la mano con la del técnico y encaminando a un proceso a futuro      il capitano fue asistente del colombiano francisco maturana cuando dirigió a la sele en 1999 y tiene claro que a pesar de dar un aporte o confrontar al técnico, la palabra final siempre es del entrenador.      “yo a maturana le decía un montón de cosas, lo confrontaba a veces, incluso, y lo que él me decía es que yo tenía que cambiar la mentalidad del jugador, pero él no conocía el medio. una vez le metieron una patada descarada y fuerte a paulo wanchope y yo le dije que se parara fuerte de una.      “me decía que no fomentara eso, que eso no era fútbol y fue unas de las cosas que luego hablamos, le expliqué que acá el fútbol no lo ven como en sudamérica. al final el que toma la determinación de todo siempre es el técnico”, recordó de su experiencia.      por la experiencia con selecciones menores, flores se iría con vladimir como asistente, pues no está tan seguro que centeno se adapte a ser el segundo al mando y no la cabeza del grupo.      “tal vez vladimir, que le gusta más el tema de la formación y ese estilo, sería idóneo, wálter ya estuvo en primera división y tiene otra mentalidad, quiere proyectos para él y desarrollarlos. no sé si pasar de ser un técnico campeón a ser asistente le sonará bien”, comentó flores.\n",
      "las leonas de la mano de wílmer lópez llegaron al título el semestre anterior. foto: rafael pacheco        durante casi todo el torneo pasado, wílmer lópez estuvo en la mira de muchos aficionados que no lo creían como el idóneo para dirigir al equipo femenino de liga deportiva alajuelense.      al final el tiempo le dio la razón al pato, quien demostró que puede ser ídolo de distintas maneras. el exjugador alzó el título de campeón con las leonas, corona que deberán defender desde este sábado cuando las rojinegras vuelvan a la cancha ante dimás escazú.      ganar el título el torneo anterior da confianza a su trabajo, la cual siempre tuvo de parte de la directiva, que lo sostuvo a pesar de las críticas, pero tiene clarísimo que el reto que le avecina ahora es más fuerte.      “hay que exigirle a las muchachas que rindan, que cumplan, que vayan por todo y en la liga no puede ser la excepción, más ahora que ya lo conseguimos, la gente va a estar esperando cada vez más de la institución, máxime por los refuerzos que amarramos, son cosas que nos obligan a hacerlo aún mejor en este torneo”, comentó lópez a la teja.      para este semestre las leonas se reforzaron con la portera noelia bermúdez, la delantera estadounidense jennie lakip, la volante panameña natalia mills y la volante tica de 17 años maría paula arce, fichaje que se anunció este viernes.           “es muy bonito tener una planilla competitiva, de buenas jugadoras, porque se la complican al entrenador, yo sé entonces que sea cual sea la que escoja, tiene calidad, el beneficio será directamente para la institución. la competencia interna es la que más exige a la jugadora para ser tomada en cuenta y rendir partido a partido”, añadió el pato.      tranquilidad            el pató lópez le pagó con un campeonato la confianza a fernando ocampo. foto: rafael pacheco       wílmer dice que se enteró de que otros entrenadores mandaron su currículum al club, pensando que pronto se lo iban a volar, pero ni eso lo hizo perder la confianza. para él su carrera como entrenador en general ha tenido cosas muy positivas.      “si usted cree que como entrenador no lo van a criticar, se equivocó de profesión. yo me di cuenta de colegas entrenadores que llamaron a ofrecerse al club, a decir que ellos estaban disponibles por si me despedían, diciendo que a uno le faltaba experiencia, cosas antiéticas, pero se dieron.      “en eso tengo que agradecer a la dirigencia el apoyo a mi persona, es parte de las cosas que se viven en el fútbol, ¿quién no quiere ser entrenador en liga deportiva alajuelense de cualquier categoría?”.      wílmer tiene apenas siete meses en el fútbol femenino y ya tiene un campeonato, con o sin críticas, ahí está el título.      “a mí (las críticas) no me molestaron, el aficionado solo quiere resultados positivos y no mide a veces otras cosas. cuando dirigí el equipo masculino tenía una planilla que si clasificaba había que darle un premio, era con ciertas limitaciones y el paso mío lo aproveché para debutar jugadores que hoy lucen como protagonistas en el fútbol nacional. la gente lo que ve son resultados, nada más.      “la gente tampoco recuerda mi paso por alajuela junior (equipo manudo de segunda división) que era un equipo de jugadores jóvenes y el objetivo era proyectarlos, el caso de ronald matarrita, juan pablo vargas, josé guillermo ortíz, francisco rodríguez, kevin ruiz, anthony lópez, una camada de jugadores a los que le dimos oportunidad de desarrollarse” comentó.      desde este sábado el pato va por otro título más, porque a como ha sido su carrera, es un león que no se sacia con nada.\n",
      "martínez está feliz por llegar a un club donde acatan sus indicaciones. prensa barrio méxico.       gilberto martínez es el nuevo técnico de barrio méxico, luego del paso fugaz de ronald “la bala” gómez por el club josefino.      la bala había asumido el puesto, que ahora le quedó al tuma, el 2 de junio de este año, pero ronald fue elegido por luis fernando suárez, el pasado jueves, para ser asistente en la selección nacional.      martínez, por su parte, regresa a un banquillo luego de haber renunciado al municipal grecia, de la primera división, el 24 de marzo de este año.       el tuma dice estar contento por liderar un equipo con un proyecto serio y que piensa en grande.      “es gente que sabe de fútbol y lo más importante, es un grupo fantástico, con mucho calor humano, los jugadores, la dirigencia. hoy (viernes) comenzamos los entrenamientos y ya conocía a algunos jugadores, como el portero bryan morales, que es una gran persona y el resto también, es un grupo muy lindo”, manifestó el tuma.      el exdefensa dijo que hasta después del próximo lunes puede decir por cuánto tiempo se vinculó al club, pero sí afirmó que el exjugador carlos hernández será su asistente, geonnathan fernández el preparador físico y mike goñi el entrenador de porteros.           experiencia      el exjugador del brescia italiano destacó que la responsabilidad en barrio méxico es la misma que la de dirigir a un equipo de primera.      “hay objetivos muy claros que alcanzar y en este caso la institución te brinda las condiciones para lograr el ascenso.      “me encontré con un grupo que respeta las decisiones del entrenador, ninguno se cree titular y que quieren luchar por la titularidad. siento un grupo sano, que es lo ideal, eso lo viví como jugador y primero dios y me vaya bien”.      el torneo de la segunda división inicia el 8 de agosto.\n",
      "el lunes anterior, patrick se incorporó de lleno a los entrenamientos. facebook.       el experimentado portero patrick pemberton decidió que aún no es tiempo de colgar los guantes, ya que defenderá la portería de carmelita en el próximo torneo de la liga de ascenso      el guardameta, de 39 años, regresa al cuadro de la barriada alajuelense (estuvo en el 2004-05) como uno de los principales refuerzos del equipo en su objetivo de regresar a la primera división.      él dice que está con toda la pata, por lo que la palabra retiro no le pasa por la mente.      “me retiraría a los 41 años, esperando en dios finalizar mi contrato en primera división. creo que el fútbol ha cambiado demasiado y es más dinámico, por lo que se cuentan con ciertas facilidades que en otros momentos los jugadores profesionales no tenían.           “ahora se puede complementar el trabajo en la cancha con gimnasio, consumo de proteínas y el descanso, factores que ayudan a alargar nuestro rendimiento y el tiempo que permanezcamos en el fútbol”, manifestó.      patrick jugará con carmelita durante dos años y guarda un especial cariño por el club alajuelense, pues allí comenzó a dar sus primeros pasos como guardameta. contó que las negociaciones para volver al club se dieron en términos muy amigables y sin mucho mate.      “la negociación fue muy rápida, muy clara, no hubo muchos rodeos, tuve la dicha de conversar con la junta directiva y me presentaron el proyecto y obviamente no lo dudé, es un proyecto interesante y también hubo buena voluntad de parte de consultants.            el arquero llegó al club verdolaga por dos años. facebook.       “me siento pleno, contento, agradecido con dios, con la vida y con el fútbol por la oportunidad y de saber que sigo formando parte de proyectos importantes y eso es muestra de que el torneo que hice en consultants sirvió para que otros clubes se volvieran a fijar en mí”, comentó.      además de su brete, pemberton es entrenador de porteros del centro de alto rendimiento twelve, de joel campbell y de la academia fútbol consultants edson soto.           ruda misión      pemberton llegó al club carmelo en compañía de otros jugadores colmilludos como christian lagos, rafa núñez y kevin vega con una clara misión: llevar al equipo al ascenso, luego de quedarse en el camino en el torneo anterior ante puntarenas fc.      “llego a aportar seguridad, confianza en la portería, liderazgo. somos varios compañeros que fuimos líderes en otros clubes y llevamos esa voz de mando, que en todo equipo se necesita, no será fácil, pero todos estamos en la misma sintonía.      “ya pude conversar con los compañeros que estuvieron el semestre anterior y ellos me dijeron que hubo detalles que no supieron manejar y para eso está este servidor y los demás compañeros, para ayudar a solucionar esos detalles”, expresó.      “me siento pleno, contento, agradecido con dios, con la vida y con el fútbol por la oportunidad, de saber que sigo formando parte de proyectos importantes”. patrick pemberton, portero.      el arquero se ha acoplado muy bien a los primeros entrenamientos, dirigidos por el entrenador colombiano gonzalo soto.      “estamos en pretemporada, haciendo una mezcla de trabajo físico-táctico y poco a poco viendo lo que el cuerpo técnico quiere, preparando la metodología para el inicio del torneo.      “la verdad es que llego a un club que reúne condiciones similares a equipos de primera división, tiene un complejo, su propia cancha (el estadio rafael bolaños), uniformes de calidad y un sinfín de cosas que los jugadores necesitan. sabemos que conforme avance el torneo, el recorrido será más difícil, pero los jugadores estamos en la misma sintonía, vamos a hacer un gran equipo, una gran familia”, destacó.               view this post on instagram            a post shared by パトリックペンバートンバーナード (@ppemberton01)\n",
      "el equipo lechero no está en venta. cortesía.       el deportivo saprissa asumirá la administración deportiva del uruguay de coronado.      una fuente allegada a la teja informó que los morados se acercaron al club lechero hace seis meses, para firmar un convenio deportivo y dejó claro que el equipo no está en venta.      “esta es una alianza deportiva que beneficiará a ambas partes, saprissa aportará al cuerpo técnico y jugadores y el resto lo asumirá uruguay.      “esta alianza tiene feliz a los socios y a la comunidad en general, porque la pandemia afectó a los equipos y con el descenso, el equipo también ha tenido problemas económicos y este convenio le quitará un peso de encima al equipo”, manifestó.           saprissa aportará al cuerpo técnico, encabezado por cristian salomón y 15 jugadores de las divisiones menores y algunos de ellos hasta ya sumaron minutos en el torneo anterior, como atim rooper, jeiner ballestero, samuel maroto y keymark davis.      “hace un mes convocaron a los socios para explicarles el proyecto, pero aún no estaba firmado el convenio. hoy (ayer viernes) hay asamblea de socios donde se les presentará el detalle del proyecto”, afirmó la fuente, quien pidió el anonimato.\n",
      "rónald gómez será el asistente número dos del técnico de la selección nacional, luis fernando suárez.            rónald gómez será el asistente. fotografía: nuestro diario.       según supo la teja, gómez será confirmado este mediodía en la conferencia de prensa donde también se dará a conocer la lista definitiva de 23 futbolistas que jugarán la copa de oro.      días antes se especulaba sobre la posibilidad de que figuras como wálter centeno, vladimir quesada o gilberto martínez asumieran ese puesto, pero la bala les ganó a todos.\n",
      "suárez ya trabaja con su cuerpo técnico de cara a la copa oro. alonso tenorio.       luis fernando suárez, técnico de la selección nacional, completó el equipo de trabajo que lo ayudará en la copa oro y en las eliminatorias mundialistas con la incorporación de rónald, “la bala” gómez como uno de sus asistentes.      además de gómez, las otras personas de confianza del técnico serán el colombiano john jairo bodmer (asistente) y el preparador físico, iván niño.      suárez explicó que con gómez bastaron unas cuantas palabras para darse cuenta de que era el mejor candidato.      “por esa conducta, forma de ser, me mostró de su capacidad como entrenador, de lo que sabe; lo que más me llamó la atención fue el sentido de pertenencia que tiene con el país.           rónald gómez fue presentado como asistente técnico de la sele       “cuando uno está fuera del país, ama el país, rónald tiene mucho para darle al país, tiene ganas y optamos por estar con él”, explicó el dt.      por otro lado, rónald no cabía de la contentera de que fuera escogido para trabajar con el colombiano.      “para mí es un gusto estar trabajando para mi país, agradecer al cuerpo técnico que ha confiado en mi persona y desde el primer día me di cuenta de que tenemos un gran profesional, que nos va a llevar a grandes éxitos”, expresó la bala.       luis fernando suárez, costa rica, selección, rónald gómez\n",
      "estos son tres de los rostros para ejemplificar a los espueludos. john durán       el técnico de la selección nacional, luis fernando suárez, presentó la lista de jugadores que irán a la copa oro, que se disputará del 12 de julio al 1 de agosto.      la lista es una herencia que le dejó carlos watson, director de selecciones nacionales, con 60 jugadores que quedaron inscritos en concacaf y de la que tenía que sacar los 23 futbolistas para el torneo.      desde el lunes suárez estaba trabajando con un grupo del que quedaron fuera alexis gamboa, de alajuelense; randall leal, del nashville de la mls; keyner brown y jefferson brenes de herediano y mayron george, del pau fc de francia, este último por covid-19.      “llevó un equipo de estos porque ustedes saben, yo no conozco totalmente el medio, estoy haciendo un curso acelerado y en esta semana he tenido mucho conocimiento de los jugadores.      “creo que la copa es el momento preciso para saber de ellos, no hay posibilidad después de esto en el que tengamos la oportunidad de juntarnos casi un mes, de ninguna manera es peligroso. la eliminatoria arranca en setiembre, creo que hay tiempo necesario como para ver el grupo. además que los jugadores vean que es lo que nos gusta jugar a nosotros”, explicó suárez.      la copa de oro será de hecho el único momento que tendrá el técnico antes del arranque de la eliminatoria para catar 2022 cuando se viaje el 1 de setiembre a panamá.      porteros: leonel moreira, esteban alvarado y patrick sequeira.      defensores: keysher fuller, yael lópez, giancarlo gonzález, kendall waston, francisco calvo, óscar duarte, ronald matarrita y bryan oviedo.      volantes: david guzmán, yeltsin tejeda, allan cruz, celso borges, alonso martínez, bryan ruiz, johan venegas, jimmy marín y ariel lassiter.      delanteros: joel campbell, josé guillermo ortiz y ariel rodríguez.            esta es la lista de jugadores convocados a la copa oro. twitter. fedefútbol.\n",
      "hoy es un día especial, hoy está cumpliendo años el decano del fútbol, el equipo de mis amores, el glorioso club sport cartaginés.      esperé este jueves con ansias, como si fuera mi cumpleaños, les voy a contar porqué.      el lunes el club a la venta un kit conmemorativo, hizo solo 115, no porque creyera que no se iban a vender, sino porque son los años que cumple el equipo. querían hacer algo exclusivo y vaya que lo lograron.      sin duda yo tenía que ser uno de esos 115 y apenas los pusieron a la venta, aparté el mío, y solo me tocaba esperar a que fuera 1 de julio.      el miércoles me acosté tan emocionado como cuando estaba chiquitillo y mi mamá me decía que al día siguiente íbamos para el parque diversiones.      el kit lo empezaban a repartir a las 9 a. m. y para disimular un toque mi emoción fui a las 10.      y es que no solo iba a ir por mi kit, de paso iba a darle una vueltica al fello meza, mi segundo hogar, ese lugar tan hermoso al que no entro desde febrero del 2020 por culpa del maldito coronavirus.      del kit solo les puedo decir una cosa: ¡es precioso!            solo vean que hermosura, hasta duele sacarlo de la caja.        mis expectativas se quedaron cortas, cuidaron cada detalle, desde la caja en el que viene es de colección. el banderín es hermoso, las medias son tan lindas que las usaré solo el 1 de julio de cada año. claramente escribí esto con las medias puestas.      además, viene una carta de agradecimiento del presidente del club, don leonardo vargas. ¡un detallazo! como respuesta solo puedo decirle que aquí estaremos siempre, en las buenas, en las malas y en las peores, un brumoso nunca arruga.            la carta además autentifica los productos.        ahora sí, hablemos de la chema. como todas las del cartaginés, es simplemente hermosa. tenemos la dicha de tener un color elegante, todo lo azul es bonito.      sí, en la manga dice 95 como el año que ganamos la concacaf, pero qué me importa a mí cuál es el año correcto, si es 94 (año al que corresponde el torneo) o 95 (año en el que lo ganamos), la cuestión es que tenemos ese título que nos mete entre los más grandes de la región.      durante toda la semana pensé en escribir una columna que describiera por qué soy cartaginés, inicié varias, pero ninguna describía el orgullo que siento de apoyar a mi equipo.      por eso decidí narrar cómo fue mi mañana del 1 de julio del 2021. esto es el cartaginés, un equipo que sin necesidad de tantos títulos es grande, que me llena de alegría y me convierte en un niño.      ¡felicidades, querido equipo!            hasta la cajita es de colección.             este detalle me sorprendió, cuidado y no fue lo que más me gustó. la chema trae una calcomanía que es tan bonita que todavía no sé dónde pegarla.\n",
      "la portera jugó con las actuales campeonas en el 2019. prensa alajuelense.       la portera noelia bermúdez volvió a alajuelense luego de su paso por españa. este jueves el club informó que la guardameta jugará con las campeonas nacionales por los próximos tres años.      bermúdez se vistió por primera vez de rojinegra en el 2019, luego de estar en el saprissa.      el año pasado, el deportivo abanca de españa anunció que la tica jugaría con ellos durante un año, con opción a extender su contrato, sin embargo, no renovaron su ligamen.           un jueves muy feliz      la sancarleña manifestó que este jueves fue un día muy especial para ella.      “desde que me desperté venía visualizando a lo que venía, lo que quería disfrutar al volver. ya pude entrenar con el grupo y estoy muy feliz.      “nunca dejé de seguir al equipo, los horarios de los juegos eran complicados, a veces eran a las tres de la mañana de españa y pude ver las dificultares que sufrieron y todo lo que se logró con el campeonato. esto nos tiene que servir de motivación para lograr el bicampeonato”, añadió.      la portera dijo que su paso por el país ibérico la hizo ser mejor persona y profesional.           (video) noelia bermúdez vuelve a alajuelense       “de la primera vez volví siendo otra completamente, como portera, como persona, competir a un alto nivel te abre la mente de muchas maneras y el roce internacional que le genera a una, semana a semana es enorme. la liga ha cambiado mucho y en españa es a lo que nos tenemos que fijar acá, más cuando la temporada que viene es cien por ciento profesional”, afirmó.       noelia bermúdez, alajuelense\n"
     ]
    }
   ],
   "source": [
    "for a in articulo_L:\n",
    "    print(a.lower().strip())"
   ]
  },
  {
   "cell_type": "code",
   "execution_count": 20,
   "metadata": {
    "collapsed": true
   },
   "outputs": [
    {
     "ename": "SyntaxError",
     "evalue": "invalid syntax (<ipython-input-20-e6ce55caebcd>, line 1)",
     "output_type": "error",
     "traceback": [
      "\u001b[0;36m  File \u001b[0;32m\"<ipython-input-20-e6ce55caebcd>\"\u001b[0;36m, line \u001b[0;32m1\u001b[0m\n\u001b[0;31m    1.tokeniza_sent, se pasa a un string.strip()+\" \".\u001b[0m\n\u001b[0m      ^\u001b[0m\n\u001b[0;31mSyntaxError\u001b[0m\u001b[0;31m:\u001b[0m invalid syntax\n"
     ]
    }
   ],
   "source": [
    "1.tokeniza_sent, se pasa a un string.strip()+\" \"."
   ]
  },
  {
   "cell_type": "code",
   "execution_count": 26,
   "metadata": {},
   "outputs": [
    {
     "name": "stdout",
     "output_type": "stream",
     "text": [
      "['Dos técnicos campeones con Saprissa son las opciones para ser el asistente de Suárez', 'Wílmer López va por el bicampeonato de las leonas con la confianza renovada', 'Sale Ronald “la Bala” Gómez y entra Gilberto “Tuma” Martínez en Barrio México ', 'Portero Patrick Pemberton ataja los años y todavía no piensa en el retiro', 'Saprissa fogueará 15 chamacos en torneo de segunda con Uruguay de Coronado', 'Rónald “la Bala” Gómez será el asistente técnico de Luis Fernando Suárez', 'Técnico de la Sele sobre Rónald Gómez: “Tiene mucho para darle al país”', 'Jugadores espueludos fueron los llamados a la Copa Oro', 'Opinión del brumoso: Hoy cumple años el club al que no le hacen falta títulos para ser grande', '(Video) Portera Noelia Bermúdez vuelve a Alajuelense: “Nunca dejé de seguir al equipo”']\n"
     ]
    }
   ],
   "source": [
    "import string\n",
    "print(titulos_L)"
   ]
  },
  {
   "cell_type": "markdown",
   "metadata": {},
   "source": [
    "## Make Spider"
   ]
  },
  {
   "cell_type": "code",
   "execution_count": 137,
   "metadata": {},
   "outputs": [],
   "source": [
    "req = requests.get(\"https://www.lateja.cr/deportes/\")\n",
    "corpus = BeautifulSoup(req.text, 'lxml')"
   ]
  },
  {
   "cell_type": "markdown",
   "metadata": {},
   "source": [
    "#### How to post a Scroll_Down and get the resutl to beautiful soup?/ Dessarrollo"
   ]
  },
  {
   "cell_type": "code",
   "execution_count": 138,
   "metadata": {},
   "outputs": [],
   "source": [
    "results_sets=corpus.find_all('div', class_='result-listing')"
   ]
  },
  {
   "cell_type": "code",
   "execution_count": 153,
   "metadata": {},
   "outputs": [],
   "source": [
    "links=[]\n",
    "for result_set in results_sets:\n",
    "    links+=result_set.find_all('a', href=True)\n"
   ]
  },
  {
   "cell_type": "code",
   "execution_count": 155,
   "metadata": {},
   "outputs": [
    {
     "name": "stdout",
     "output_type": "stream",
     "text": [
      "1 https://www.lateja.cr/deportes/chineada-le-cumple-un-sueno-al-mecanico-que-la/T3QH2PLPYZGYJLTADKTXGCUF2U/story/\n",
      "2 https://www.lateja.cr/deportes/video-arbitro-tico-ricardo-montero-debuto-en-la/EQ54CIQ6UNC6PNRALDLHMERN2E/story/\n",
      "3 https://www.lateja.cr/deportes/argentina-consiguio-un-maracanazo-en-la-copa/SQC2CSV47FASHF2UXPSAQE25YQ/story/\n",
      "4 https://www.lateja.cr/deportes/ninguno-pudo-con-los-cachorros-del-herediano-en/22IUTKZZXNAZ3OOC4JRQFPYRJY/story/\n",
      "5 https://www.lateja.cr/deportes/covid-19-se-paseo-en-la-pretemporada-de/LBH6WAGQZRE6LP2FTCRYBMECBU/story/\n",
      "6 https://www.lateja.cr/deportes/inglaterra-italia-una-final-de-euro-imperial-en/6BQIFIDWCJCDXPV2CEZTRA47BU/story/\n",
      "7 https://www.lateja.cr/deportes/tom-cruise-ya-eligio-equipo-en-la-final-de-la/XUIPA4EYSNCHZJ72MERPHRRMYM/story/\n",
      "8 https://www.lateja.cr/deportes/mexicano-rafael-loredo-se-comera-la-bronca-de/RWYXMXRGSZHEZFB5BFO6LIBBLE/story/\n",
      "9 https://www.lateja.cr/deportes/sele-va-a-copa-oro-con-un-tecnico-con-credibilidad/EJAOSASVKBAB7I5W3JXPPNQ3LE/story/\n",
      "10 https://www.lateja.cr/deportes/moradas-pasan-del-enojo-a-la-frustracion-tras/RHV5JRGKNFENLJXC63VPK4KB2Q/story/\n"
     ]
    }
   ],
   "source": [
    "count=1;\n",
    "links_article=[]\n",
    "for i in links:\n",
    "    if i.has_attr('href') and \"story\" in i['href'] and \"https://www.lateja.cr/\"+i['href'] not in links_article :\n",
    "        print(count,\"https://www.lateja.cr\"+i['href'])\n",
    "        links_article.append(\"https://www.lateja.cr/\"+i['href'])\n",
    "        count+=1"
   ]
  },
  {
   "cell_type": "code",
   "execution_count": 154,
   "metadata": {},
   "outputs": [
    {
     "name": "stdout",
     "output_type": "stream",
     "text": [
      "/deportes/chineada-le-cumple-un-sueno-al-mecanico-que-la/T3QH2PLPYZGYJLTADKTXGCUF2U/story/\n",
      "/deportes/chineada-le-cumple-un-sueno-al-mecanico-que-la/T3QH2PLPYZGYJLTADKTXGCUF2U/story/\n",
      "/autores/franklin-arroyo/\n",
      "/deportes/video-arbitro-tico-ricardo-montero-debuto-en-la/EQ54CIQ6UNC6PNRALDLHMERN2E/story/\n",
      "/deportes/video-arbitro-tico-ricardo-montero-debuto-en-la/EQ54CIQ6UNC6PNRALDLHMERN2E/story/\n",
      "/autores/redaccion-lt/\n",
      "/deportes/argentina-consiguio-un-maracanazo-en-la-copa/SQC2CSV47FASHF2UXPSAQE25YQ/story/\n",
      "/deportes/argentina-consiguio-un-maracanazo-en-la-copa/SQC2CSV47FASHF2UXPSAQE25YQ/story/\n",
      "/autores/afp/\n",
      "/deportes/ninguno-pudo-con-los-cachorros-del-herediano-en/22IUTKZZXNAZ3OOC4JRQFPYRJY/story/\n",
      "/deportes/ninguno-pudo-con-los-cachorros-del-herediano-en/22IUTKZZXNAZ3OOC4JRQFPYRJY/story/\n",
      "/deportes/covid-19-se-paseo-en-la-pretemporada-de/LBH6WAGQZRE6LP2FTCRYBMECBU/story/\n",
      "/deportes/covid-19-se-paseo-en-la-pretemporada-de/LBH6WAGQZRE6LP2FTCRYBMECBU/story/\n",
      "/deportes/inglaterra-italia-una-final-de-euro-imperial-en/6BQIFIDWCJCDXPV2CEZTRA47BU/story/\n",
      "/deportes/inglaterra-italia-una-final-de-euro-imperial-en/6BQIFIDWCJCDXPV2CEZTRA47BU/story/\n",
      "/autores/afp/\n",
      "/deportes/tom-cruise-ya-eligio-equipo-en-la-final-de-la/XUIPA4EYSNCHZJ72MERPHRRMYM/story/\n",
      "/deportes/tom-cruise-ya-eligio-equipo-en-la-final-de-la/XUIPA4EYSNCHZJ72MERPHRRMYM/story/\n",
      "/autores/afp/\n",
      "/deportes/mexicano-rafael-loredo-se-comera-la-bronca-de/RWYXMXRGSZHEZFB5BFO6LIBBLE/story/\n",
      "/deportes/mexicano-rafael-loredo-se-comera-la-bronca-de/RWYXMXRGSZHEZFB5BFO6LIBBLE/story/\n",
      "/autores/gda/\n",
      "/deportes/sele-va-a-copa-oro-con-un-tecnico-con-credibilidad/EJAOSASVKBAB7I5W3JXPPNQ3LE/story/\n",
      "/deportes/sele-va-a-copa-oro-con-un-tecnico-con-credibilidad/EJAOSASVKBAB7I5W3JXPPNQ3LE/story/\n",
      "/autores/franklin-arroyo/\n",
      "/deportes/moradas-pasan-del-enojo-a-la-frustracion-tras/RHV5JRGKNFENLJXC63VPK4KB2Q/story/\n",
      "/deportes/moradas-pasan-del-enojo-a-la-frustracion-tras/RHV5JRGKNFENLJXC63VPK4KB2Q/story/\n",
      "/autores/sergio-alvarado/\n"
     ]
    }
   ],
   "source": [
    "count=1;\n",
    "links_article=[]\n",
    "for i in links:\n",
    "    if i.has_attr('href'):\n",
    "        print(i['href'])"
   ]
  },
  {
   "cell_type": "code",
   "execution_count": 156,
   "metadata": {},
   "outputs": [],
   "source": [
    "requests_links=[]\n",
    "for lnk in links_article:\n",
    "    requests_links.append(requests.get(lnk))"
   ]
  },
  {
   "cell_type": "code",
   "execution_count": 144,
   "metadata": {},
   "outputs": [],
   "source": [
    "titulos_L=[]\n",
    "articulo_L=[]\n",
    "\n",
    "for resps in requests_links:\n",
    "    soup = BeautifulSoup(resps.text, 'lxml')\n",
    "    title = soup.find('div', class_='headline-hed-last').text\n",
    "    titulos_L.append(title)\n",
    "    \n",
    "    corpus = soup.find('div', id='article-content') \n",
    "    cleancorpus = corpus.find_all('div', class_=\"container-fluid-recomend\")\n",
    "    x = 0\n",
    "    for i in cleancorpus:\n",
    "        i.clear()#i.div.decompose()\n",
    "        x=+1\n",
    "    articulo_L.append(corpus.text)"
   ]
  },
  {
   "cell_type": "code",
   "execution_count": 147,
   "metadata": {},
   "outputs": [
    {
     "data": {
      "text/plain": [
       "['Chineada le cumple un sueño al mecánico que la tiene como nueva',\n",
       " '(Video) Árbitro tico Ricardo Montero debutó en la Copa Oro con tremendo papelón',\n",
       " 'Argentina consiguió un Maracanazo en la Copa América',\n",
       " 'Ninguno pudo con los cachorros del Herediano en gira por México',\n",
       " 'Covid-19 se paseó en la pretemporada de Alajuelense',\n",
       " 'Inglaterra-Italia, una final de Euro imperial en Wembley',\n",
       " 'Tom Cruise ya eligió equipo en la final de la Eurocopa',\n",
       " 'Mexicano Rafael Loredo se comerá la bronca de dirigir a Guatemala en la Copa Oro',\n",
       " 'Sele jaló a Copa Oro con un técnico con credibilidad, pero con jugadores que siguen debiendo',\n",
       " 'Moradas pasan del enojo a la frustración tras perder contra Dimas']"
      ]
     },
     "execution_count": 147,
     "metadata": {},
     "output_type": "execute_result"
    }
   ],
   "source": [
    "titulos_L"
   ]
  },
  {
   "cell_type": "code",
   "execution_count": null,
   "metadata": {},
   "outputs": [],
   "source": [
    "# Los avances de dessarollo\n",
    "# pandas como usar pandas."
   ]
  }
 ],
 "metadata": {
  "kernelspec": {
   "display_name": "Python 3",
   "language": "python",
   "name": "python3"
  },
  "language_info": {
   "codemirror_mode": {
    "name": "ipython",
    "version": 3
   },
   "file_extension": ".py",
   "mimetype": "text/x-python",
   "name": "python",
   "nbconvert_exporter": "python",
   "pygments_lexer": "ipython3",
   "version": "3.8.5"
  }
 },
 "nbformat": 4,
 "nbformat_minor": 4
}
